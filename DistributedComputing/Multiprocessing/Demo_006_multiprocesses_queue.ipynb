{
 "cells": [
  {
   "cell_type": "markdown",
   "metadata": {},
   "source": [
    "Based on **Giancarlo Zaccone: Python Parallel Programming Cookbook, Chapter 3**"
   ]
  },
  {
   "cell_type": "markdown",
   "metadata": {},
   "source": [
    "### Using queue to exchange objects between processes"
   ]
  },
  {
   "cell_type": "markdown",
   "metadata": {},
   "source": [
    "A queue returns a process shared queue, is thread and process safe, and any serializable \n",
    "object (Python serializes an object using the pickable module) can be exchanged through it."
   ]
  },
  {
   "cell_type": "code",
   "execution_count": 1,
   "metadata": {},
   "outputs": [],
   "source": [
    "##Using Queue with multiprocessing\n",
    "\n",
    "import multiprocessing\n",
    "import random\n",
    "import time"
   ]
  },
  {
   "cell_type": "code",
   "execution_count": 2,
   "metadata": {},
   "outputs": [],
   "source": [
    "class producer(multiprocessing.Process):\n",
    "    def __init__(self, queue):\n",
    "        multiprocessing.Process.__init__(self)\n",
    "        self.queue = queue\n",
    "\n",
    "    def run(self) :\n",
    "        # run it for 10 iterations\n",
    "        for i in range(10):\n",
    "            item = random.randint(0, 256)\n",
    "            # put this new item into the queue\n",
    "            self.queue.put(item) \n",
    "            print (\"Iteration:{}\".format(i))\n",
    "            print (\"Process Producer : item %d appended to queue %s\"% (item,self.name))\n",
    "            time.sleep(1)\n",
    "            print (\"The size of queue is %s\"% self.queue.qsize())\n"
   ]
  },
  {
   "cell_type": "code",
   "execution_count": 3,
   "metadata": {},
   "outputs": [],
   "source": [
    "class consumer(multiprocessing.Process):\n",
    "    def __init__(self, queue):\n",
    "        multiprocessing.Process.__init__(self)\n",
    "        self.queue = queue\n",
    "\n",
    "    def run(self):\n",
    "        # create an infinite loop and consume from the queue when it is not empty\n",
    "        while True:\n",
    "            if (self.queue.empty()):\n",
    "                print(\"the queue is empty\")\n",
    "                # leave the infinite loop\n",
    "                break\n",
    "            else :\n",
    "                time.sleep(2)\n",
    "                # remove the the oldest item from the queue\n",
    "                item = self.queue.get()\n",
    "                print ('Process Consumer : item %d popped from by %s \\n'% (item, self.name))\n",
    "                time.sleep(1)"
   ]
  },
  {
   "cell_type": "code",
   "execution_count": 4,
   "metadata": {},
   "outputs": [],
   "source": [
    "queue = multiprocessing.Queue()\n",
    "process_producer = producer(queue)\n",
    "process_consumer = consumer(queue)\n"
   ]
  },
  {
   "cell_type": "code",
   "execution_count": 5,
   "metadata": {},
   "outputs": [
    {
     "name": "stdout",
     "output_type": "stream",
     "text": [
      "Iteration:0\n",
      "Process Producer : item 54 appended to queue producer-1\n",
      "The size of queue is 1\n",
      "Iteration:1\n",
      "Process Producer : item 37 appended to queue producer-1\n",
      "Process Consumer : item 54 popped from by consumer-2 \n",
      "\n",
      "The size of queue is 1\n",
      "Iteration:2\n",
      "Process Producer : item 95 appended to queue producer-1\n",
      "The size of queue is 2\n",
      "Iteration:3\n",
      "Process Producer : item 110 appended to queue producer-1\n",
      "The size of queue is 3\n",
      "Iteration:4\n",
      "Process Producer : item 126 appended to queue producer-1\n",
      "Process Consumer : item 37 popped from by consumer-2 \n",
      "\n",
      "The size of queue is 3\n",
      "Iteration:5\n",
      "Process Producer : item 10 appended to queue producer-1\n",
      "The size of queue is 4\n",
      "Iteration:6\n",
      "Process Producer : item 104 appended to queue producer-1\n",
      "The size of queue is 5\n",
      "Iteration:7\n",
      "Process Producer : item 193 appended to queue producer-1\n",
      "Process Consumer : item 95 popped from by consumer-2 \n",
      "\n",
      "The size of queue is 5\n",
      "Iteration:8\n",
      "Process Producer : item 97 appended to queue producer-1\n",
      "The size of queue is 6\n",
      "Iteration:9\n",
      "Process Producer : item 101 appended to queue producer-1\n",
      "The size of queue is 7\n",
      "Process Consumer : item 110 popped from by consumer-2 \n",
      "\n",
      "Process Consumer : item 126 popped from by consumer-2 \n",
      "\n",
      "Process Consumer : item 10 popped from by consumer-2 \n",
      "\n",
      "Process Consumer : item 104 popped from by consumer-2 \n",
      "\n",
      "Process Consumer : item 193 popped from by consumer-2 \n",
      "\n",
      "Process Consumer : item 97 popped from by consumer-2 \n",
      "\n",
      "Process Consumer : item 101 popped from by consumer-2 \n",
      "\n",
      "the queue is empty\n"
     ]
    }
   ],
   "source": [
    "process_producer.start()\n",
    "process_consumer.start()\n"
   ]
  },
  {
   "cell_type": "code",
   "execution_count": 6,
   "metadata": {},
   "outputs": [
    {
     "data": {
      "text/plain": [
       "<consumer(consumer-2, started)>"
      ]
     },
     "execution_count": 6,
     "metadata": {},
     "output_type": "execute_result"
    }
   ],
   "source": [
    "process_consumer"
   ]
  },
  {
   "cell_type": "code",
   "execution_count": 8,
   "metadata": {},
   "outputs": [
    {
     "data": {
      "text/plain": [
       "<producer(producer-1, stopped)>"
      ]
     },
     "execution_count": 8,
     "metadata": {},
     "output_type": "execute_result"
    }
   ],
   "source": [
    "process_producer"
   ]
  },
  {
   "cell_type": "code",
   "execution_count": 9,
   "metadata": {},
   "outputs": [],
   "source": [
    "# it will wait till the processes are done\n",
    "process_producer.join()\n",
    "process_consumer.join()\n"
   ]
  },
  {
   "cell_type": "code",
   "execution_count": null,
   "metadata": {},
   "outputs": [],
   "source": []
  }
 ],
 "metadata": {
  "kernelspec": {
   "display_name": "Environment (conda_python3)",
   "language": "python",
   "name": "conda_python3"
  },
  "language_info": {
   "codemirror_mode": {
    "name": "ipython",
    "version": 3
   },
   "file_extension": ".py",
   "mimetype": "text/x-python",
   "name": "python",
   "nbconvert_exporter": "python",
   "pygments_lexer": "ipython3",
   "version": "3.6.5"
  }
 },
 "nbformat": 4,
 "nbformat_minor": 2
}
