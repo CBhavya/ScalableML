{
 "cells": [
  {
   "cell_type": "markdown",
   "metadata": {},
   "source": [
    "Based on **Giancarlo Zaccone: Python Parallel Programming Cookbook, Chapter 3**"
   ]
  },
  {
   "cell_type": "markdown",
   "metadata": {},
   "source": [
    "### How to kill a process"
   ]
  },
  {
   "cell_type": "markdown",
   "metadata": {},
   "source": [
    "It's possible to kill a process immediately using the **terminate()** method. \n",
    "\n",
    "Also, we use the **is_alive()** method to keep track of whether the process is alive or not."
   ]
  },
  {
   "cell_type": "code",
   "execution_count": 2,
   "metadata": {},
   "outputs": [],
   "source": [
    "#kill a Process\n",
    "\n",
    "import multiprocessing\n",
    "import time\n",
    "\n",
    "def foo():\n",
    "    print ('Starting function')\n",
    "    time.sleep(0.1)\n",
    "    print ('Finished function')"
   ]
  },
  {
   "cell_type": "code",
   "execution_count": 3,
   "metadata": {},
   "outputs": [
    {
     "name": "stdout",
     "output_type": "stream",
     "text": [
      "Process before execution: <Process(Process-2, initial)> False\n",
      "Process running: <Process(Process-2, started)> True\n",
      "Process terminated: <Process(Process-2, started)> True\n",
      "Process joined: <Process(Process-2, stopped[SIGTERM])> False\n",
      "Process exit code: -15\n"
     ]
    }
   ],
   "source": [
    "p = multiprocessing.Process(target=foo)\n",
    "print ('Process before execution:', p, p.is_alive())\n",
    "\n",
    "p.start()\n",
    "print ('Process running:', p, p.is_alive())\n",
    "\n",
    "p.terminate()\n",
    "print ('Process terminated:', p, p.is_alive())\n",
    "\n",
    "p.join()\n",
    "print ('Process joined:', p, p.is_alive())\n",
    "\n",
    "print ('Process exit code:', p.exitcode)\n"
   ]
  },
  {
   "cell_type": "markdown",
   "metadata": {},
   "source": [
    "Finally, we verify the status code when the process is finished (p.exitcode), and read the attribute of the \n",
    "ExitCode process. The possible values of ExitCode are, as follows:\n",
    "\n",
    "* == 0: This means that no error was produced\n",
    "* \\> 0: This means that the process had an error and exited that code\n",
    "* < 0: This means that the process was killed with a signal of -1 * ExitCode\n",
    "\n",
    "For our example, the output value of the ExitCode code is equal to -15. The negative value \n",
    "-15 indicates that the child was terminated by an interrupt signal identified by the number 15"
   ]
  },
  {
   "cell_type": "code",
   "execution_count": null,
   "metadata": {},
   "outputs": [],
   "source": []
  }
 ],
 "metadata": {
  "kernelspec": {
   "display_name": "Environment (conda_python3)",
   "language": "python",
   "name": "conda_python3"
  },
  "language_info": {
   "codemirror_mode": {
    "name": "ipython",
    "version": 3
   },
   "file_extension": ".py",
   "mimetype": "text/x-python",
   "name": "python",
   "nbconvert_exporter": "python",
   "pygments_lexer": "ipython3",
   "version": "3.6.5"
  }
 },
 "nbformat": 4,
 "nbformat_minor": 2
}
