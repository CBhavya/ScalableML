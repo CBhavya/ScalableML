{
 "cells": [
  {
   "cell_type": "markdown",
   "metadata": {},
   "source": [
    "Based on **Francesco Pierfederici: Distributed Computing with Python, Chapter 3**"
   ]
  },
  {
   "cell_type": "markdown",
   "metadata": {},
   "source": [
    "### Context managers"
   ]
  },
  {
   "cell_type": "code",
   "execution_count": 1,
   "metadata": {},
   "outputs": [],
   "source": [
    "import concurrent.futures as cf"
   ]
  },
  {
   "cell_type": "code",
   "execution_count": 2,
   "metadata": {},
   "outputs": [],
   "source": [
    "def fib(n):\n",
    "    if n <= 2:\n",
    "        return 1\n",
    "    elif n == 0:\n",
    "        return 0\n",
    "    elif n < 0:\n",
    "        raise Exception('fib(n) is undefined for n < 0')\n",
    "        return fib(n - 1) + fib(n - 2)"
   ]
  },
  {
   "cell_type": "markdown",
   "metadata": {},
   "source": [
    "**Executor objects can also be used as context managers** \n",
    "\n",
    "In those cases, there is an implicit blocking call made to the Executor shutdown method on the context manager's exit. \n",
    "\n",
    "This means that if we were to access the results list, we would **get integers rather than Future instances once the context \n",
    "manager exits.**"
   ]
  },
  {
   "cell_type": "code",
   "execution_count": 3,
   "metadata": {},
   "outputs": [
    {
     "name": "stdout",
     "output_type": "stream",
     "text": [
      "<generator object _chain_from_iterable_of_lists at 0x7fd688227308>\n"
     ]
    }
   ],
   "source": [
    "workernum=1\n",
    "fibnum=38\n",
    "with cf.ProcessPoolExecutor(max_workers=workernum) as pool:\n",
    "            results = pool.map(fib, [fibnum] * workernum)\n",
    "            print(results)"
   ]
  },
  {
   "cell_type": "markdown",
   "metadata": {},
   "source": [
    "We can make a **one-line modification** to our process-based parallel code and \n",
    "**switch to using threads instead**; simply replace ProcessPoolExecutor with \n",
    "ThreadPoolExecutor. \n",
    "\n",
    "For a quick example, change the\n",
    "\n",
    "with cf. ProcessPoolExecutor (max_workers=args.n) as pool:\n",
    "\n",
    "line with this one:\n",
    "\n",
    "with cf.ThreadPoolExecutor(max_workers=args.n) as pool:"
   ]
  },
  {
   "cell_type": "code",
   "execution_count": 4,
   "metadata": {},
   "outputs": [
    {
     "name": "stdout",
     "output_type": "stream",
     "text": [
      "<generator object Executor.map.<locals>.result_iterator at 0x7fd688268ba0>\n"
     ]
    }
   ],
   "source": [
    "threadnum=1\n",
    "fibnum=38\n",
    "with cf.ThreadPoolExecutor(max_workers=threadnum) as pool:\n",
    "    results = pool.map(fib, [fibnum] * workernum)\n",
    "    print(results)"
   ]
  },
  {
   "cell_type": "code",
   "execution_count": null,
   "metadata": {},
   "outputs": [],
   "source": []
  }
 ],
 "metadata": {
  "kernelspec": {
   "display_name": "Environment (conda_python3)",
   "language": "python",
   "name": "conda_python3"
  },
  "language_info": {
   "codemirror_mode": {
    "name": "ipython",
    "version": 3
   },
   "file_extension": ".py",
   "mimetype": "text/x-python",
   "name": "python",
   "nbconvert_exporter": "python",
   "pygments_lexer": "ipython3",
   "version": "3.6.5"
  }
 },
 "nbformat": 4,
 "nbformat_minor": 2
}
