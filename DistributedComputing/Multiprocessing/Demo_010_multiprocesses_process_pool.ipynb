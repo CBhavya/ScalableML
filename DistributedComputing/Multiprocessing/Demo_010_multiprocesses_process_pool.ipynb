{
 "cells": [
  {
   "cell_type": "markdown",
   "metadata": {},
   "source": [
    "Based on **Giancarlo Zaccone: Python Parallel Programming Cookbook, Chapter 3**"
   ]
  },
  {
   "cell_type": "markdown",
   "metadata": {},
   "source": [
    "### How to use a process pool"
   ]
  },
  {
   "cell_type": "markdown",
   "metadata": {},
   "source": [
    "The multiprocessing library provides the Pool class for simple parallel processing tasks. The \n",
    "Pool class has the following methods:\n",
    "\n",
    "* **apply()**: It **blocks** until the result is ready.\n",
    "* **apply_async()**: This is a variant of the apply() method, which returns a result \n",
    "object. It is an asynchronous operation that will **not lock the main thread** until all the \n",
    "child classes are executed.\n",
    "* **map()**: This is the parallel equivalent of the map() built-in function. It **blocks** until \n",
    "the result is ready, this method chops the iterable data in a number of chunks that \n",
    "submits to the process pool as separate tasks.\n",
    "* **map_async()**: This is a variant of the map() method, which returns a result object. \n",
    "If a callback is specified, then it should be callable, which accepts a single argument. \n",
    "When the result becomes ready, a callback is applied to it (unless the call failed). A \n",
    "callback should be completed immediately; otherwise, the thread that handles the \n",
    "results will get blocked."
   ]
  },
  {
   "cell_type": "code",
   "execution_count": 1,
   "metadata": {},
   "outputs": [],
   "source": [
    "#Using a Process Pool\n",
    "import multiprocessing\n",
    "\n",
    "def function_square(data):\n",
    "    result = data*data\n",
    "    return result\n"
   ]
  },
  {
   "cell_type": "code",
   "execution_count": 2,
   "metadata": {},
   "outputs": [],
   "source": [
    "inputs = list(range(0,100))"
   ]
  },
  {
   "cell_type": "code",
   "execution_count": 3,
   "metadata": {},
   "outputs": [],
   "source": [
    "#The total number of parallel processes is four:\n",
    "pool = multiprocessing.Pool(processes=4)"
   ]
  },
  {
   "cell_type": "code",
   "execution_count": 4,
   "metadata": {},
   "outputs": [],
   "source": [
    "# The multiprocessing.Pool method applies function_square to the input element to perform a simple calculation. \n",
    "# The pool.map method submits to the process pool as separate tasks\n",
    "# The result of the calculation is stored in pool_outputs\n",
    "pool_outputs = pool.map(function_square, inputs)\n"
   ]
  },
  {
   "cell_type": "markdown",
   "metadata": {},
   "source": [
    "The result of the pool.map() method is equivalent to Python's built-in function map(), except that the processes run parallelly."
   ]
  },
  {
   "cell_type": "code",
   "execution_count": 5,
   "metadata": {},
   "outputs": [],
   "source": [
    "pool.close()"
   ]
  },
  {
   "cell_type": "code",
   "execution_count": 6,
   "metadata": {},
   "outputs": [],
   "source": [
    "pool.join()"
   ]
  },
  {
   "cell_type": "code",
   "execution_count": 8,
   "metadata": {},
   "outputs": [
    {
     "name": "stdout",
     "output_type": "stream",
     "text": [
      "Pool: [0, 1, 4, 9, 16, 25, 36, 49, 64, 81, 100, 121, 144, 169, 196, 225, 256, 289, 324, 361, 400, 441, 484, 529, 576, 625, 676, 729, 784, 841, 900, 961, 1024, 1089, 1156, 1225, 1296, 1369, 1444, 1521, 1600, 1681, 1764, 1849, 1936, 2025, 2116, 2209, 2304, 2401, 2500, 2601, 2704, 2809, 2916, 3025, 3136, 3249, 3364, 3481, 3600, 3721, 3844, 3969, 4096, 4225, 4356, 4489, 4624, 4761, 4900, 5041, 5184, 5329, 5476, 5625, 5776, 5929, 6084, 6241, 6400, 6561, 6724, 6889, 7056, 7225, 7396, 7569, 7744, 7921, 8100, 8281, 8464, 8649, 8836, 9025, 9216, 9409, 9604, 9801]\n"
     ]
    }
   ],
   "source": [
    "print ('Pool:', pool_outputs)"
   ]
  },
  {
   "cell_type": "code",
   "execution_count": null,
   "metadata": {},
   "outputs": [],
   "source": []
  }
 ],
 "metadata": {
  "kernelspec": {
   "display_name": "Environment (conda_python3)",
   "language": "python",
   "name": "conda_python3"
  },
  "language_info": {
   "codemirror_mode": {
    "name": "ipython",
    "version": 3
   },
   "file_extension": ".py",
   "mimetype": "text/x-python",
   "name": "python",
   "nbconvert_exporter": "python",
   "pygments_lexer": "ipython3",
   "version": "3.6.5"
  }
 },
 "nbformat": 4,
 "nbformat_minor": 2
}
