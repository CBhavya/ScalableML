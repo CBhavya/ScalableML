{
 "cells": [
  {
   "cell_type": "markdown",
   "metadata": {},
   "source": [
    "Based on **Francesco Pierfederici: Distributed Computing with Python, Chapter 3**"
   ]
  },
  {
   "cell_type": "markdown",
   "metadata": {},
   "source": [
    "### Multiprocess queues\n",
    "When using multiple processes, the issue that comes up is **how to exchange data \n",
    "between the workers**. \n",
    "\n",
    "The multiprocessing module offers a mechanism to do that \n",
    "in the form of **queues and pipes**. \n",
    "\n",
    "The **multiprocessing.Queue** class is modeled after the queue.Queue class with the \n",
    "additional twist that **items stored in the multiprocessing queue need to be pickable**.\n"
   ]
  },
  {
   "cell_type": "code",
   "execution_count": 1,
   "metadata": {},
   "outputs": [],
   "source": [
    "def fib(n):\n",
    "    if n <= 2:\n",
    "        return 1\n",
    "    elif n == 0:\n",
    "        return 0\n",
    "    elif n < 0:\n",
    "        raise Exception('fib(n) is undefined for n < 0')\n",
    "    return fib(n - 1) + fib(n - 2)"
   ]
  },
  {
   "cell_type": "code",
   "execution_count": 2,
   "metadata": {},
   "outputs": [],
   "source": [
    "def worker(inq, outq): #input queue for the task (fib function and its argument), output queue for the results (integer)\n",
    "    while True:\n",
    "        data = inq.get()\n",
    "        if data is None:\n",
    "            return\n",
    "        fn, arg = data\n",
    "        outq.put(fn(arg))"
   ]
  },
  {
   "cell_type": "markdown",
   "metadata": {},
   "source": [
    "We use a **two-queue architecture**, whereby **one queue \n",
    "holds the tasks to be performed** (in this case, the function to be called and its only \n",
    "argument), while the **other queue holds the results** (simple integers in this example)."
   ]
  },
  {
   "cell_type": "code",
   "execution_count": 3,
   "metadata": {},
   "outputs": [],
   "source": [
    "import multiprocessing as mp\n",
    "\n",
    "workernum=4\n",
    "fibnum=34\n",
    "\n",
    "# We open two multiprocessing queues:\n",
    "tasks = mp.Queue()\n",
    "results = mp.Queue()\n",
    "\n",
    "for i in range(workernum):\n",
    "    tasks.put((fib, fibnum))"
   ]
  },
  {
   "cell_type": "code",
   "execution_count": 4,
   "metadata": {},
   "outputs": [],
   "source": [
    "for i in range(workernum):\n",
    "        mp.Process(target=worker, args=(tasks, results)).start()"
   ]
  },
  {
   "cell_type": "code",
   "execution_count": 5,
   "metadata": {},
   "outputs": [
    {
     "name": "stdout",
     "output_type": "stream",
     "text": [
      "5702887\n",
      "5702887\n",
      "5702887\n",
      "5702887\n"
     ]
    }
   ],
   "source": [
    "for i in range(workernum):\n",
    "        print(results.get())"
   ]
  },
  {
   "cell_type": "code",
   "execution_count": 6,
   "metadata": {},
   "outputs": [],
   "source": [
    "for i in range(workernum):\n",
    "        tasks.put(None)"
   ]
  },
  {
   "cell_type": "markdown",
   "metadata": {},
   "source": [
    "As we did previously, we use a sentinel value (None) in the task queue to signal that \n",
    "the worker processes should quit. The worker process is a simple multiprocessing.\n",
    "Process instance whose target is the worker function and whose behavior is the one \n",
    "that we just described."
   ]
  },
  {
   "cell_type": "markdown",
   "metadata": {},
   "source": [
    "Another piece of technology that might be worth investigating is **Cython**, a Python-like language to create C modules that is extremely popular and actively developed. Cython has excellent support for OpenMP, a directive-based API for C, \n",
    "C++, and Fortran, that allows programmers to easily multithread their code."
   ]
  },
  {
   "cell_type": "code",
   "execution_count": null,
   "metadata": {},
   "outputs": [],
   "source": []
  }
 ],
 "metadata": {
  "kernelspec": {
   "display_name": "Environment (conda_python3)",
   "language": "python",
   "name": "conda_python3"
  },
  "language_info": {
   "codemirror_mode": {
    "name": "ipython",
    "version": 3
   },
   "file_extension": ".py",
   "mimetype": "text/x-python",
   "name": "python",
   "nbconvert_exporter": "python",
   "pygments_lexer": "ipython3",
   "version": "3.6.5"
  }
 },
 "nbformat": 4,
 "nbformat_minor": 2
}
