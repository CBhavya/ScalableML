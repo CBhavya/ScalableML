{
 "cells": [
  {
   "cell_type": "markdown",
   "metadata": {},
   "source": [
    "Based on **Francesco Pierfederici: Distributed Computing with Python, Chapter 3**"
   ]
  },
  {
   "cell_type": "markdown",
   "metadata": {},
   "source": [
    "# Multiple processes\n",
    "Traditionally, the way Python programmers have worked around the GIL and its \n",
    "effect on CPU-bound threads has been to **use multiple processes instead of multiple \n",
    "threads**. \n",
    "\n",
    "This approach (multiprocessing) has some **disadvantages**: \n",
    "having to launch multiple instances of the Python interpreter with all the \n",
    "**startup time and memory usage penalties** that this implies"
   ]
  },
  {
   "cell_type": "code",
   "execution_count": 1,
   "metadata": {},
   "outputs": [],
   "source": [
    "#We start by importing the modules we need from the Standard Library (that is, threading, queue, and urllib.request).\n",
    "\n",
    "from time import time"
   ]
  },
  {
   "cell_type": "code",
   "execution_count": 2,
   "metadata": {},
   "outputs": [
    {
     "data": {
      "text/plain": [
       "4"
      ]
     },
     "execution_count": 2,
     "metadata": {},
     "output_type": "execute_result"
    }
   ],
   "source": [
    "import psutil\n",
    "psutil.cpu_count(logical=False)"
   ]
  },
  {
   "cell_type": "code",
   "execution_count": 3,
   "metadata": {},
   "outputs": [
    {
     "data": {
      "text/plain": [
       "4"
      ]
     },
     "execution_count": 3,
     "metadata": {},
     "output_type": "execute_result"
    }
   ],
   "source": [
    "psutil.cpu_count(logical=True)"
   ]
  },
  {
   "cell_type": "markdown",
   "metadata": {},
   "source": [
    "Using **multiple processes to execute tasks in parallel has some nice properties.** \n",
    "\n",
    "Multiple processes have their **own memory space** and they also allow us to **(more) easily transition from a single-machine \n",
    "architecture to a distributed application**, where one would have to use multiple \n",
    "processes (on different machines) anyway."
   ]
  },
  {
   "cell_type": "markdown",
   "metadata": {},
   "source": [
    "There are two main modules in the Python Standard Library that we can use to \n",
    "implement process-based parallelism, and both of them are truly excellent. One is \n",
    "called **multiprocessing** and the other is **concurrent.futures**. \n",
    "\n",
    "The concurrent.futures module is built on top of multiprocessing and the threading module and \n",
    "provides a powerful high-level interface to them."
   ]
  },
  {
   "cell_type": "markdown",
   "metadata": {},
   "source": [
    "### Example for concurrent.futures multiprocessing"
   ]
  },
  {
   "cell_type": "code",
   "execution_count": 4,
   "metadata": {},
   "outputs": [],
   "source": [
    "import concurrent.futures as cf"
   ]
  },
  {
   "cell_type": "code",
   "execution_count": 5,
   "metadata": {},
   "outputs": [],
   "source": [
    "def fib(n):\n",
    "    if n <= 2:\n",
    "        return 1\n",
    "    elif n == 0:\n",
    "        return 0\n",
    "    elif n < 0:\n",
    "        raise Exception('fib(n) is undefined for n < 0')\n",
    "        return fib(n - 1) + fib(n - 2)"
   ]
  },
  {
   "cell_type": "code",
   "execution_count": 6,
   "metadata": {},
   "outputs": [
    {
     "data": {
      "text/plain": [
       "[34, 34, 34, 34]"
      ]
     },
     "execution_count": 6,
     "metadata": {},
     "output_type": "execute_result"
    }
   ],
   "source": [
    "fibnum=34\n",
    "workernum=4\n",
    "[fibnum] * workernum"
   ]
  },
  {
   "cell_type": "code",
   "execution_count": 7,
   "metadata": {},
   "outputs": [],
   "source": [
    "def runprocesses(workernum,fibnum):\n",
    "    t0 = time();\n",
    "    \n",
    "    with cf.ProcessPoolExecutor(max_workers=workernum) as pool:\n",
    "            results = pool.map(fib, [fibnum] * workernum) #run the fib function on each element of [34,34,34,34] in a parallel way\n",
    "    \n",
    "    dt = time() - t0; \n",
    "    print(dt)"
   ]
  },
  {
   "cell_type": "markdown",
   "metadata": {},
   "source": [
    "We used the **ProcessPoolExecutor** class exported by concurrent.futures. \n",
    "\n",
    "This is one of the two main classes exported by \n",
    "the module, the other being **ThreadPoolExecutor**, which is used to create a **pool of \n",
    "threads**, instead of a **pool of processes**."
   ]
  },
  {
   "cell_type": "code",
   "execution_count": 8,
   "metadata": {},
   "outputs": [
    {
     "name": "stdout",
     "output_type": "stream",
     "text": [
      "0.009010553359985352\n",
      "0.008515596389770508\n",
      "0.010818719863891602\n",
      "0.013442516326904297\n",
      "***************\n",
      "0.02607274055480957\n",
      "0.05191349983215332\n",
      "0.10563778877258301\n"
     ]
    }
   ],
   "source": [
    "runprocesses(1,34)\n",
    "runprocesses(2,34)\n",
    "runprocesses(3,34)\n",
    "runprocesses(4,34)\n",
    "print('***************')\n",
    "runprocesses(8,34)\n",
    "runprocesses(16,34)\n",
    "runprocesses(32,34)\n"
   ]
  },
  {
   "cell_type": "markdown",
   "metadata": {},
   "source": [
    "Both, **ProcessPoolExecutor and ThreadPoolExecutor have the same API**: they have three main \n",
    "methods, which are as follows:\n",
    "\n",
    "• **submit(f, *args, **kwargs)**: This is used to schedule an **asynchronous \n",
    "call** to f(*args, **kwargs) and return a **Future instance as a result** \n",
    "placeholder.\n",
    "\n",
    "• **map(f, *arglist, timeout=None)**: This is the equivalent \n",
    "to the built-in map(f, *arglist) method. It returns a **list of Future objects** \n",
    "rather than a list of actual results, as map would do."
   ]
  },
  {
   "cell_type": "markdown",
   "metadata": {},
   "source": [
    "The third method, **shutdown(wait=True)** is used to **free the resources** used by the Executor object as soon as all currently scheduled functions are done. \n",
    "\n",
    "It waits (if wait=True) until that happens. "
   ]
  },
  {
   "cell_type": "markdown",
   "metadata": {},
   "source": [
    "A **Future instance** is a **placeholder** for the **result of an asynchronous call**. We can check \n",
    "whether the call is still running, whether or not it raised an exception, and so on.  \n",
    "\n",
    "We call a Future instance result() method to access (with an optional timeout) its value once it is ready."
   ]
  },
  {
   "cell_type": "code",
   "execution_count": 9,
   "metadata": {},
   "outputs": [],
   "source": [
    "from concurrent.futures import ProcessPoolExecutor"
   ]
  },
  {
   "cell_type": "code",
   "execution_count": 10,
   "metadata": {},
   "outputs": [
    {
     "data": {
      "text/plain": [
       "True"
      ]
     },
     "execution_count": 10,
     "metadata": {},
     "output_type": "execute_result"
    }
   ],
   "source": [
    "pool = ProcessPoolExecutor(max_workers=1)\n",
    "fut = pool.submit(fib, 38)\n",
    "fut.running()"
   ]
  },
  {
   "cell_type": "code",
   "execution_count": 11,
   "metadata": {},
   "outputs": [
    {
     "data": {
      "text/plain": [
       "True"
      ]
     },
     "execution_count": 11,
     "metadata": {},
     "output_type": "execute_result"
    }
   ],
   "source": [
    "fut.done()"
   ]
  },
  {
   "cell_type": "markdown",
   "metadata": {},
   "source": [
    "We saw how to use the concurrent.futures package to create a worker pool (using the ProcessPoolExecutor class) and submit \n",
    "work to it (pool.submit(fib, 38)). As we expect, submit returns a Future object \n",
    "(fut in the preceding code), which is a placeholder for a result that is not yet available."
   ]
  },
  {
   "cell_type": "code",
   "execution_count": null,
   "metadata": {},
   "outputs": [],
   "source": []
  }
 ],
 "metadata": {
  "kernelspec": {
   "display_name": "Environment (conda_python3)",
   "language": "python",
   "name": "conda_python3"
  },
  "language_info": {
   "codemirror_mode": {
    "name": "ipython",
    "version": 3
   },
   "file_extension": ".py",
   "mimetype": "text/x-python",
   "name": "python",
   "nbconvert_exporter": "python",
   "pygments_lexer": "ipython3",
   "version": "3.6.5"
  }
 },
 "nbformat": 4,
 "nbformat_minor": 2
}
