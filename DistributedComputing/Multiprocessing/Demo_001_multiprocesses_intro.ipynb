{
 "cells": [
  {
   "cell_type": "markdown",
   "metadata": {},
   "source": [
    "Based on **Giancarlo Zaccone: Python Parallel Programming Cookbook, Chapter 3**"
   ]
  },
  {
   "cell_type": "markdown",
   "metadata": {},
   "source": [
    "# Multiple processes\n",
    "Traditionally, the way Python programmers have worked around the GIL and its \n",
    "effect on CPU-bound threads has been to **use multiple processes instead of multiple \n",
    "threads**. \n",
    "\n",
    "This approach (multiprocessing) has some **disadvantages**: \n",
    "having to launch multiple instances of the Python interpreter with all the \n",
    "**startup time and memory usage penalties** that this implies"
   ]
  },
  {
   "cell_type": "markdown",
   "metadata": {},
   "source": [
    "The Python multiprocessing library, which is part of the standard library of the language, \n",
    "implements the shared memory programming paradigm, that is, the programming of a system \n",
    "that consists of one or more processors that have access to a common memory."
   ]
  },
  {
   "cell_type": "markdown",
   "metadata": {},
   "source": [
    "### How to spawn a process"
   ]
  },
  {
   "cell_type": "markdown",
   "metadata": {},
   "source": [
    "The term \"spawn\" means the creation of a process by a parent process. \n",
    "\n",
    "The parent process can of course continue its execution asynchronously or wait until the child process ends its \n",
    "execution. \n",
    "\n",
    "The multiprocessing library of Python allows the spawning of a process through the following steps:\n",
    "\n",
    "* Build the object process.\n",
    "* Call its start() method. This method starts the process's activity.\n",
    "* Call its join()method. It waits until the process has completed its work and exited"
   ]
  },
  {
   "cell_type": "code",
   "execution_count": 1,
   "metadata": {},
   "outputs": [],
   "source": [
    "#Spawn a Process\n",
    "import multiprocessing\n",
    "\n",
    "def function(i):\n",
    "    print ('called function in process: %s' %i)\n",
    "    return"
   ]
  },
  {
   "cell_type": "code",
   "execution_count": 2,
   "metadata": {},
   "outputs": [
    {
     "name": "stdout",
     "output_type": "stream",
     "text": [
      "called function in process: 0\n",
      "called function in process: 1\n",
      "called function in process: 2\n",
      "called function in process: 3\n",
      "called function in process: 4\n"
     ]
    }
   ],
   "source": [
    "\n",
    "Process_jobs = []\n",
    "for i in range(5):\n",
    "    p = multiprocessing.Process(target=function, args=(i,))\n",
    "    Process_jobs.append(p)\n",
    "    p.start()\n",
    "    p.join()\n",
    "\n"
   ]
  },
  {
   "cell_type": "markdown",
   "metadata": {},
   "source": [
    "Without p.join(), the child process will sit idle and not be terminated, and then, you must \n",
    "manually kill it."
   ]
  },
  {
   "cell_type": "code",
   "execution_count": null,
   "metadata": {},
   "outputs": [],
   "source": []
  }
 ],
 "metadata": {
  "kernelspec": {
   "display_name": "Environment (conda_python3)",
   "language": "python",
   "name": "conda_python3"
  },
  "language_info": {
   "codemirror_mode": {
    "name": "ipython",
    "version": 3
   },
   "file_extension": ".py",
   "mimetype": "text/x-python",
   "name": "python",
   "nbconvert_exporter": "python",
   "pygments_lexer": "ipython3",
   "version": "3.6.5"
  }
 },
 "nbformat": 4,
 "nbformat_minor": 2
}
