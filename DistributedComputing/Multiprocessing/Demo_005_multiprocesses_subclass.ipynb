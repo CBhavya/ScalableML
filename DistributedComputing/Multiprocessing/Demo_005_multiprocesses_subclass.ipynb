{
 "cells": [
  {
   "cell_type": "markdown",
   "metadata": {},
   "source": [
    "Based on **Giancarlo Zaccone: Python Parallel Programming Cookbook, Chapter 3**"
   ]
  },
  {
   "cell_type": "markdown",
   "metadata": {},
   "source": [
    "### How to use a process in a subclass"
   ]
  },
  {
   "cell_type": "markdown",
   "metadata": {},
   "source": [
    "To implement a custom subclass and process, we must:\n",
    "\n",
    "* Define a new subclass of the Process class\n",
    "* Override the \\__init__(self [,args]) method to add additional arguments\n",
    "* Override the run(self [,args]) method to implement what Process should when it is started\n",
    "\n",
    "\n",
    "Once you have created the new Process subclass, you can create an instance of it and then \n",
    "start by invoking the start() method, which will in turn call the run() method."
   ]
  },
  {
   "cell_type": "code",
   "execution_count": 1,
   "metadata": {},
   "outputs": [],
   "source": [
    "#Using a process in a subclass\n",
    "import multiprocessing"
   ]
  },
  {
   "cell_type": "code",
   "execution_count": 2,
   "metadata": {},
   "outputs": [],
   "source": [
    "# We need to define a class that extends the Process class and overrides its run() method.\n",
    "class MyProcess(multiprocessing.Process):\n",
    "\n",
    "    def run(self):\n",
    "        print ('called run method in %s' %self.name)\n",
    "        return\n"
   ]
  },
  {
   "cell_type": "code",
   "execution_count": 3,
   "metadata": {},
   "outputs": [
    {
     "name": "stdout",
     "output_type": "stream",
     "text": [
      "called run method in MyProcess-1\n",
      "called run method in MyProcess-2\n",
      "called run method in MyProcess-3\n",
      "called run method in MyProcess-4\n",
      "called run method in MyProcess-5\n"
     ]
    }
   ],
   "source": [
    "jobs = []\n",
    "\n",
    "for i in range(5):\n",
    "    p = MyProcess()\n",
    "    jobs.append(p)\n",
    "    p.start()\n",
    "    p.join()\n"
   ]
  },
  {
   "cell_type": "code",
   "execution_count": 4,
   "metadata": {},
   "outputs": [
    {
     "data": {
      "text/plain": [
       "[<MyProcess(MyProcess-1, stopped)>,\n",
       " <MyProcess(MyProcess-2, stopped)>,\n",
       " <MyProcess(MyProcess-3, stopped)>,\n",
       " <MyProcess(MyProcess-4, stopped)>,\n",
       " <MyProcess(MyProcess-5, stopped)>]"
      ]
     },
     "execution_count": 4,
     "metadata": {},
     "output_type": "execute_result"
    }
   ],
   "source": [
    "jobs"
   ]
  },
  {
   "cell_type": "code",
   "execution_count": 5,
   "metadata": {},
   "outputs": [
    {
     "data": {
      "text/plain": [
       "0"
      ]
     },
     "execution_count": 5,
     "metadata": {},
     "output_type": "execute_result"
    }
   ],
   "source": [
    "jobs[0].exitcode"
   ]
  },
  {
   "cell_type": "code",
   "execution_count": 6,
   "metadata": {},
   "outputs": [
    {
     "data": {
      "text/plain": [
       "False"
      ]
     },
     "execution_count": 6,
     "metadata": {},
     "output_type": "execute_result"
    }
   ],
   "source": [
    "jobs[0].is_alive()"
   ]
  },
  {
   "cell_type": "code",
   "execution_count": null,
   "metadata": {},
   "outputs": [],
   "source": []
  }
 ],
 "metadata": {
  "kernelspec": {
   "display_name": "Environment (conda_python3)",
   "language": "python",
   "name": "conda_python3"
  },
  "language_info": {
   "codemirror_mode": {
    "name": "ipython",
    "version": 3
   },
   "file_extension": ".py",
   "mimetype": "text/x-python",
   "name": "python",
   "nbconvert_exporter": "python",
   "pygments_lexer": "ipython3",
   "version": "3.6.5"
  }
 },
 "nbformat": 4,
 "nbformat_minor": 2
}
