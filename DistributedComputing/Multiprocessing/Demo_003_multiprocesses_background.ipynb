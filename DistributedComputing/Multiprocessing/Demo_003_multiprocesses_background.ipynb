{
 "cells": [
  {
   "cell_type": "markdown",
   "metadata": {},
   "source": [
    "Based on **Giancarlo Zaccone: Python Parallel Programming Cookbook, Chapter 3**"
   ]
  },
  {
   "cell_type": "markdown",
   "metadata": {},
   "source": [
    "### How to run a process in the background -- Daemons"
   ]
  },
  {
   "cell_type": "markdown",
   "metadata": {},
   "source": [
    "Running a process in background is a typical mode of execution of laborious processes \n",
    "that do not require your presence or intervention, and this course may be concurrent to the \n",
    "execution of other programs. The Python multiprocessing module allows us, through the \n",
    "daemonic option, to run background processes."
   ]
  },
  {
   "cell_type": "markdown",
   "metadata": {},
   "source": [
    "* The processes in the no-background mode have an output \n",
    "\n",
    "* The processes in the background mode (daemonic process) ends automatically after the main program ends to avoid the persistence of running processes"
   ]
  },
  {
   "cell_type": "code",
   "execution_count": 13,
   "metadata": {},
   "outputs": [],
   "source": [
    "import multiprocessing\n",
    "import time"
   ]
  },
  {
   "cell_type": "code",
   "execution_count": 14,
   "metadata": {},
   "outputs": [],
   "source": [
    "def foo():\n",
    "    name = multiprocessing.current_process().name\n",
    "    print (\"Starting %s \\n\" %name)\n",
    "    time.sleep(3)\n",
    "    print (\"Exiting %s \\n\" %name)\n"
   ]
  },
  {
   "cell_type": "code",
   "execution_count": 15,
   "metadata": {},
   "outputs": [],
   "source": [
    "background_process = multiprocessing.Process(name='background_process',target=foo)\n",
    "background_process.daemon = True    "
   ]
  },
  {
   "cell_type": "code",
   "execution_count": 16,
   "metadata": {},
   "outputs": [],
   "source": [
    "NO_background_process = multiprocessing.Process(name='NO_background_process',target=foo)\n",
    "NO_background_process.daemon = False"
   ]
  },
  {
   "cell_type": "code",
   "execution_count": 17,
   "metadata": {},
   "outputs": [
    {
     "name": "stdout",
     "output_type": "stream",
     "text": [
      "Starting background_process \n",
      "Starting NO_background_process \n",
      "\n",
      "\n",
      "Exiting background_process \n",
      "Exiting NO_background_process \n",
      "\n",
      "\n"
     ]
    }
   ],
   "source": [
    "background_process.start()\n",
    "NO_background_process.start()\n"
   ]
  },
  {
   "cell_type": "code",
   "execution_count": 18,
   "metadata": {},
   "outputs": [
    {
     "data": {
      "text/plain": [
       "<Process(background_process, stopped daemon)>"
      ]
     },
     "execution_count": 18,
     "metadata": {},
     "output_type": "execute_result"
    }
   ],
   "source": [
    "background_process"
   ]
  },
  {
   "cell_type": "code",
   "execution_count": 19,
   "metadata": {},
   "outputs": [
    {
     "data": {
      "text/plain": [
       "<Process(NO_background_process, stopped)>"
      ]
     },
     "execution_count": 19,
     "metadata": {},
     "output_type": "execute_result"
    }
   ],
   "source": [
    "NO_background_process"
   ]
  },
  {
   "cell_type": "code",
   "execution_count": null,
   "metadata": {},
   "outputs": [],
   "source": []
  }
 ],
 "metadata": {
  "kernelspec": {
   "display_name": "Environment (conda_python3)",
   "language": "python",
   "name": "conda_python3"
  },
  "language_info": {
   "codemirror_mode": {
    "name": "ipython",
    "version": 3
   },
   "file_extension": ".py",
   "mimetype": "text/x-python",
   "name": "python",
   "nbconvert_exporter": "python",
   "pygments_lexer": "ipython3",
   "version": "3.6.5"
  }
 },
 "nbformat": 4,
 "nbformat_minor": 2
}
