{
 "cells": [
  {
   "cell_type": "markdown",
   "metadata": {},
   "source": [
    "Based on **Francesco Pierfederici: Distributed Computing with Python, Chapter 3**"
   ]
  },
  {
   "cell_type": "markdown",
   "metadata": {},
   "source": [
    "### Somtimes threads can hurt performance"
   ]
  },
  {
   "cell_type": "code",
   "execution_count": 1,
   "metadata": {},
   "outputs": [],
   "source": [
    "from time import time\n",
    "from threading import Thread"
   ]
  },
  {
   "cell_type": "code",
   "execution_count": 2,
   "metadata": {},
   "outputs": [],
   "source": [
    "def fib(n):\n",
    "    if n <= 2:\n",
    "        return 1\n",
    "    elif n == 0:\n",
    "        return 0\n",
    "    elif n < 0:\n",
    "        raise Exception('fib(n) is undefined for n < 0')\n",
    "    return fib(n - 1) + fib(n - 2)\n"
   ]
  },
  {
   "cell_type": "code",
   "execution_count": 3,
   "metadata": {},
   "outputs": [
    {
     "data": {
      "text/plain": [
       "5"
      ]
     },
     "execution_count": 3,
     "metadata": {},
     "output_type": "execute_result"
    }
   ],
   "source": [
    "fib(5)"
   ]
  },
  {
   "cell_type": "code",
   "execution_count": 4,
   "metadata": {},
   "outputs": [],
   "source": [
    "# calculate the \"fibnum\" Fibonacci number threadnum times independently on different threads!\n",
    "\n",
    "def runthreads(threadnum,fibnum):\n",
    "    t0 = time();\n",
    "    for i in range(threadnum):\n",
    "            t = Thread(target=fib, args=(fibnum, )) #spawn a new thread\n",
    "            t.start()\n",
    "    dt = time() - t0; \n",
    "    print(dt) # time neaded to claculate threadnum Fibonacci numbers"
   ]
  },
  {
   "cell_type": "code",
   "execution_count": 5,
   "metadata": {},
   "outputs": [
    {
     "name": "stdout",
     "output_type": "stream",
     "text": [
      "0.005505561828613281\n",
      "0.0312960147857666\n",
      "0.04142189025878906\n",
      "0.15059971809387207\n",
      "0.3381540775299072\n"
     ]
    }
   ],
   "source": [
    "\n",
    "runthreads(1,34)\n",
    "runthreads(2,34)\n",
    "runthreads(3,34)\n",
    "runthreads(4,34)\n",
    "runthreads(8,34)"
   ]
  },
  {
   "cell_type": "markdown",
   "metadata": {},
   "source": [
    "Interesting! Increasing the number of parallel computations just increases the execution time.\n",
    "\n",
    "**Clearly, something is not quite right**, as we would have expected the threads \n",
    "to run in parallel (again, on a quad-core machine)."
   ]
  },
  {
   "cell_type": "markdown",
   "metadata": {},
   "source": [
    "It turns out that there is something not obvious going on deep inside the Python \n",
    "interpreter that is affecting our CPU-bound threads. \n",
    "\n",
    "That thing is called **Global Interpreter Lock (GIL)**. \n",
    "\n",
    "As the name implies, the **GIL is a global lock** that is used, \n",
    "mostly, to **keep reference counting sane** (remember when we talked about that a little \n",
    "while ago?). The consequence of the GIL is that even though Python threads are real \n",
    "OS-native threads, **only one of them can be active at any given point in time**.\n",
    "\n",
    "This has led some to say that the **Python interpreter is a single-threaded interpreter**, \n",
    "which is not quite true. However, this statement is also, conceptually at least, not \n",
    "completely wrong either. \n",
    "\n",
    "The situation we just witnessed is very **similar to the \n",
    "behavior we observed when writing coroutines**. In that case, in fact, only one piece \n",
    "of code could run at any given point in time. \n",
    "\n",
    "Things just work, meaning **we get the \n",
    "parallelism that we expect, when one coroutine or thread waits for I/O and another \n",
    "one takes over the CPU**. Things do not work as well in terms of performance speedups, \n",
    "when one task needs the CPU for a long time, as is the case with CPU-bound tasks as \n",
    "in the Fibonacci example."
   ]
  },
  {
   "cell_type": "markdown",
   "metadata": {},
   "source": [
    "**Not all Python interpreters have the GIL; Jython, for instance, does not.**"
   ]
  }
 ],
 "metadata": {
  "kernelspec": {
   "display_name": "Environment (conda_python3)",
   "language": "python",
   "name": "conda_python3"
  },
  "language_info": {
   "codemirror_mode": {
    "name": "ipython",
    "version": 3
   },
   "file_extension": ".py",
   "mimetype": "text/x-python",
   "name": "python",
   "nbconvert_exporter": "python",
   "pygments_lexer": "ipython3",
   "version": "3.6.5"
  }
 },
 "nbformat": 4,
 "nbformat_minor": 2
}
