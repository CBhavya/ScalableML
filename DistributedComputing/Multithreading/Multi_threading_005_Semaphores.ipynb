{
 "cells": [
  {
   "cell_type": "markdown",
   "metadata": {},
   "source": [
    "**Based on Zaccone: Python Parallel Programming Cookbook** "
   ]
  },
  {
   "cell_type": "markdown",
   "metadata": {},
   "source": [
    "### Thread synchronization with semaphores"
   ]
  },
  {
   "cell_type": "markdown",
   "metadata": {},
   "source": [
    "a semaphore is an abstract data type managed by the operating system, used to synchronize the access by multiple threads to shared resources and data"
   ]
  },
  {
   "cell_type": "markdown",
   "metadata": {},
   "source": [
    "the operation of a semaphore is based on the two functions acquire() and release()"
   ]
  },
  {
   "cell_type": "markdown",
   "metadata": {},
   "source": [
    "The next code describes the problem, where we have two threads, producer() and \n",
    "consumer() that share a common resource, which is the item. The task of producer() is \n",
    "to generate the item while the consumer() thread's task is to use the item produced.\n",
    "If the item has not yet produced the consumer() thread, it has to wait. As soon as the item is \n",
    "produced, the producer() thread notifies the consumer that the resource should be used."
   ]
  },
  {
   "cell_type": "code",
   "execution_count": 4,
   "metadata": {},
   "outputs": [
    {
     "name": "stdout",
     "output_type": "stream",
     "text": [
      "We will do five iterations:\n",
      "consumer is waiting.\n",
      "producer notify : producted item number 653\n",
      "Consumer notify : consumed item number 653 \n",
      "We will do five iterations:\n",
      "consumer is waiting.\n",
      "producer notify : producted item number 92\n",
      "Consumer notify : consumed item number 92 \n",
      "We will do five iterations:\n",
      "consumer is waiting.\n",
      "producer notify : producted item number 561\n",
      "Consumer notify : consumed item number 561 \n",
      "We will do five iterations:\n",
      "consumer is waiting.\n",
      "producer notify : producted item number 238\n",
      "Consumer notify : consumed item number 238 \n",
      "We will do five iterations:\n",
      "consumer is waiting.\n",
      "producer notify : producted item number 488\n",
      "Consumer notify : consumed item number 488 \n",
      "program terminated\n"
     ]
    }
   ],
   "source": [
    "###Using a Semaphore to synchronize threads\n",
    "\n",
    "import threading\n",
    "import time\n",
    "import random\n",
    "\n",
    "\n",
    "##The optional argument gives the initial value for the internal counter;\n",
    "##it defaults to 1.\n",
    "##If the value given is less than 0, ValueError is raised.\n",
    "\n",
    "#Initializing a semaphore to 0, we obtain a so-called semaphore event whose sole purpose is \n",
    "#to synchronize the computation of two or more threads\n",
    "semaphore = threading.Semaphore(0)\n",
    "\n",
    "def consumer():\n",
    "    print (\"consumer is waiting.\")\n",
    "    ##Acquire a semaphore\n",
    "    \n",
    "    #If the semaphore's counter is equal to 0, it blocks the condition's acquire() method until it \n",
    "    #gets notified by a different thread. \n",
    "    #If the semaphore's counter is greater than 0, it decrements the value.\n",
    "\n",
    "    semaphore.acquire()\n",
    "    ##The consumer have access to the shared resource\n",
    "    print (\"Consumer notify : consumed item number %s \" %item)\n",
    "\n",
    "\n",
    "def producer():\n",
    "    global item\n",
    "    time.sleep(3)\n",
    "    ##create a random item\n",
    "    item = random.randint(0,1000)\n",
    "    print (\"producer notify : producted item number %s\" %item)\n",
    "    \n",
    "    ##Release a semaphore, incrementing the internal counter by one.\n",
    "    ##When it was zero on entry and another thread is waiting for it\n",
    "    ##to become larger than zero again, wake up that thread.\n",
    "    \n",
    "    # The thread created the item and after that frees the resource:\n",
    "    semaphore.release()\n",
    "\n",
    "\n",
    "#Main program\n",
    "if __name__ == '__main__':\n",
    "    for i in range (0,5) :\n",
    "        print(\"We will do five iterations:\")\n",
    "        t1 = threading.Thread(target=producer)\n",
    "        t2 = threading.Thread(target=consumer)\n",
    "        t1.start()\n",
    "        t2.start()\n",
    "        t1.join()\n",
    "        t2.join()\n",
    "    print (\"program terminated\")\n",
    "\n",
    "        \n"
   ]
  },
  {
   "cell_type": "code",
   "execution_count": null,
   "metadata": {},
   "outputs": [],
   "source": []
  }
 ],
 "metadata": {
  "kernelspec": {
   "display_name": "Environment (conda_python3)",
   "language": "python",
   "name": "conda_python3"
  },
  "language_info": {
   "codemirror_mode": {
    "name": "ipython",
    "version": 3
   },
   "file_extension": ".py",
   "mimetype": "text/x-python",
   "name": "python",
   "nbconvert_exporter": "python",
   "pygments_lexer": "ipython3",
   "version": "3.6.5"
  }
 },
 "nbformat": 4,
 "nbformat_minor": 2
}
