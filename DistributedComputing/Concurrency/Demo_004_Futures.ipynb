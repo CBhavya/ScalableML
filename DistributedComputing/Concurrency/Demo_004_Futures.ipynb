{
 "cells": [
  {
   "cell_type": "markdown",
   "metadata": {},
   "source": [
    "**Based on Lanaro: Python High Performance**"
   ]
  },
  {
   "cell_type": "markdown",
   "metadata": {},
   "source": [
    "# Futures"
   ]
  },
  {
   "cell_type": "markdown",
   "metadata": {},
   "source": [
    "Futures are a more convenient pattern that can be used to keep track of the results of\n",
    "asynchronous calls. In the preceding code, we saw that rather than returning values, we\n",
    "accept callbacks and pass the results when they are ready. It is interesting to note that, so\n",
    "far, there is no easy way to track the status of the resource"
   ]
  },
  {
   "cell_type": "markdown",
   "metadata": {},
   "source": [
    "A future is an abstraction that helps us keep track of the requested resources and that we\n",
    "are waiting to become available. In Python, you can find a future implementation in the\n",
    "**concurrent.futures.Future** class. A Future instance can be created by calling its\n",
    "constructor with no arguments:"
   ]
  },
  {
   "cell_type": "code",
   "execution_count": 1,
   "metadata": {},
   "outputs": [],
   "source": [
    "from concurrent.futures import Future\n",
    "import threading"
   ]
  },
  {
   "cell_type": "code",
   "execution_count": 2,
   "metadata": {},
   "outputs": [],
   "source": [
    "fut = Future()"
   ]
  },
  {
   "cell_type": "code",
   "execution_count": 3,
   "metadata": {},
   "outputs": [
    {
     "name": "stdout",
     "output_type": "stream",
     "text": [
      "<Future at 0x7f5a1c537ac8 state=pending>\n"
     ]
    }
   ],
   "source": [
    "print(fut)"
   ]
  },
  {
   "cell_type": "code",
   "execution_count": 4,
   "metadata": {},
   "outputs": [],
   "source": [
    "fut.set_result(\"Hello\")"
   ]
  },
  {
   "cell_type": "code",
   "execution_count": 5,
   "metadata": {},
   "outputs": [
    {
     "name": "stdout",
     "output_type": "stream",
     "text": [
      "<Future at 0x7f5a1c537ac8 state=finished returned str>\n"
     ]
    }
   ],
   "source": [
    "print(fut)"
   ]
  },
  {
   "cell_type": "code",
   "execution_count": 6,
   "metadata": {},
   "outputs": [
    {
     "data": {
      "text/plain": [
       "'Hello'"
      ]
     },
     "execution_count": 6,
     "metadata": {},
     "output_type": "execute_result"
    }
   ],
   "source": [
    "fut.result()"
   ]
  },
  {
   "cell_type": "markdown",
   "metadata": {},
   "source": [
    "You can see that once we set the result, the Future will report that the task is finished and\n",
    "can be accessed using the Future.result method. It is also possible to subscribe a callback\n",
    "to a future so that, as soon as the result is available, the callback is executed. To attach a\n",
    "callback, it is sufficient to pass a function to the Future.add_done_callback method"
   ]
  },
  {
   "cell_type": "code",
   "execution_count": 7,
   "metadata": {},
   "outputs": [],
   "source": [
    "fut = Future()\n",
    "fut.add_done_callback(lambda future: print(\"The result is: \" + future.result(),flush=True))"
   ]
  },
  {
   "cell_type": "code",
   "execution_count": 8,
   "metadata": {},
   "outputs": [
    {
     "name": "stdout",
     "output_type": "stream",
     "text": [
      "The result is: Hello\n"
     ]
    }
   ],
   "source": [
    "fut.set_result(\"Hello\")"
   ]
  },
  {
   "cell_type": "markdown",
   "metadata": {},
   "source": [
    "To get a grasp on how futures can be used in practice, we will adapt the network_request_async function to use futures. \n",
    "\n",
    "The idea is that, this time, instead of returning nothing, we return a Future that will keep track of the result for us.\n"
   ]
  },
  {
   "cell_type": "code",
   "execution_count": 9,
   "metadata": {},
   "outputs": [],
   "source": [
    "def network_request_async(number):\n",
    "        future = Future()\n",
    "        result = {\"success\": True, \"result\": number ** 2}\n",
    "        timer = threading.Timer(5.0, lambda: future.set_result(result))\n",
    "        timer.start()\n",
    "        return future"
   ]
  },
  {
   "cell_type": "code",
   "execution_count": 10,
   "metadata": {},
   "outputs": [],
   "source": [
    "fut1 = network_request_async(2)\n",
    "fut2 = network_request_async(3)\n",
    "fut3 = network_request_async(4)"
   ]
  },
  {
   "cell_type": "code",
   "execution_count": 11,
   "metadata": {},
   "outputs": [
    {
     "name": "stdout",
     "output_type": "stream",
     "text": [
      "{'success': True, 'result': 4}\n",
      "{'success': True, 'result': 9}\n",
      "{'success': True, 'result': 16}\n"
     ]
    }
   ],
   "source": [
    "print(fut1.result())\n",
    "print(fut2.result())\n",
    "print(fut3.result())"
   ]
  },
  {
   "cell_type": "markdown",
   "metadata": {},
   "source": [
    "Example: \n",
    "From a function calling an asyncronuous function that gives back a future object as a result.\n",
    "Then calling a callback function (on_done_future) when the future object gets the results    "
   ]
  },
  {
   "cell_type": "code",
   "execution_count": 12,
   "metadata": {},
   "outputs": [],
   "source": [
    "def fetch_square(number):\n",
    "        fut = network_request_async(number)\n",
    "\n",
    "        def on_done_future(future):\n",
    "            response = future.result()\n",
    "            if response[\"success\"]:\n",
    "                print(\"Result is: {}\".format(response[\"result\"]))\n",
    "    \n",
    "        fut.add_done_callback(on_done_future)"
   ]
  },
  {
   "cell_type": "code",
   "execution_count": 13,
   "metadata": {},
   "outputs": [
    {
     "name": "stdout",
     "output_type": "stream",
     "text": [
      "Result is: 4\n",
      "Result is: 9\n",
      "Result is: 16\n"
     ]
    }
   ],
   "source": [
    "fetch_square(2)\n",
    "fetch_square(3)\n",
    "fetch_square(4)"
   ]
  },
  {
   "cell_type": "code",
   "execution_count": null,
   "metadata": {},
   "outputs": [],
   "source": []
  }
 ],
 "metadata": {
  "kernelspec": {
   "display_name": "Environment (conda_python3)",
   "language": "python",
   "name": "conda_python3"
  },
  "language_info": {
   "codemirror_mode": {
    "name": "ipython",
    "version": 3
   },
   "file_extension": ".py",
   "mimetype": "text/x-python",
   "name": "python",
   "nbconvert_exporter": "python",
   "pygments_lexer": "ipython3",
   "version": "3.6.5"
  }
 },
 "nbformat": 4,
 "nbformat_minor": 2
}
