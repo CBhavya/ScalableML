{
 "cells": [
  {
   "cell_type": "markdown",
   "metadata": {},
   "source": [
    "**Based on Lanaro: Python High Performance**"
   ]
  },
  {
   "cell_type": "markdown",
   "metadata": {},
   "source": [
    "### Event loops\n",
    "So far, we have implemented parallelism using OS threads. However, in many\n",
    "asynchronous frameworks, the coordination of concurrent tasks is managed by an event\n",
    "loop."
   ]
  },
  {
   "cell_type": "markdown",
   "metadata": {},
   "source": [
    "The idea behind an event loop is to continuously monitor the status of the various resources\n",
    "(for example, network connections and database queries) and trigger the execution of\n",
    "callbacks when events take place (for example, when a resource is ready or when a timer\n",
    "expires)."
   ]
  },
  {
   "cell_type": "markdown",
   "metadata": {},
   "source": [
    "As a first example, we will implement a thread-free version of threading.Timer. We can\n",
    "define a Timer class that will take a timeout and implement the Timer.done method\n",
    "that returns True if the timer has expired:"
   ]
  },
  {
   "cell_type": "code",
   "execution_count": 1,
   "metadata": {},
   "outputs": [],
   "source": [
    "import time"
   ]
  },
  {
   "cell_type": "code",
   "execution_count": 2,
   "metadata": {},
   "outputs": [],
   "source": [
    "class Timer:\n",
    "        def __init__(self, timeout):\n",
    "            self.timeout = timeout\n",
    "            self.start = time.time()\n",
    "    \n",
    "        def done(self):\n",
    "            return time.time() - self.start > self.timeout"
   ]
  },
  {
   "cell_type": "code",
   "execution_count": 3,
   "metadata": {},
   "outputs": [
    {
     "name": "stdout",
     "output_type": "stream",
     "text": [
      "Timer is done!\n"
     ]
    }
   ],
   "source": [
    "timer = Timer(1.0)\n",
    "\n",
    "while True:\n",
    "    if timer.done():\n",
    "        print(\"Timer is done!\")\n",
    "        break\n",
    "    #here you could run anything you want. It wull not be blocked."
   ]
  },
  {
   "cell_type": "code",
   "execution_count": null,
   "metadata": {},
   "outputs": [],
   "source": []
  }
 ],
 "metadata": {
  "kernelspec": {
   "display_name": "Environment (conda_python3)",
   "language": "python",
   "name": "conda_python3"
  },
  "language_info": {
   "codemirror_mode": {
    "name": "ipython",
    "version": 3
   },
   "file_extension": ".py",
   "mimetype": "text/x-python",
   "name": "python",
   "nbconvert_exporter": "python",
   "pygments_lexer": "ipython3",
   "version": "3.6.5"
  }
 },
 "nbformat": 4,
 "nbformat_minor": 2
}
