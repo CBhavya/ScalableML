{
 "cells": [
  {
   "cell_type": "markdown",
   "metadata": {},
   "source": [
    "**Based on Zaccone: Python Parallel Programming Cookbook** "
   ]
  },
  {
   "cell_type": "markdown",
   "metadata": {},
   "source": [
    "A thread is an **independent execution flow that can be executed parallelly** and concurrently \n",
    "with other threads in the system. \n",
    "\n",
    "Multiple **threads can share data** and resources.\n",
    "\n",
    "The states of execution of a thread are generally called ready, running, and blocked.\n",
    "\n",
    "Multithreaded programming prefers a communication method between threads using the \n",
    "space of shared information."
   ]
  },
  {
   "cell_type": "markdown",
   "metadata": {},
   "source": [
    "Python manages a thread via the **threading package** that is provided by the Python \n",
    "standard library. \n",
    "\n",
    "This module provides some usef features that make the threading-based approach a whole lot easier\n",
    "The major components of the threading module are:\n",
    "\n",
    "* The thread object\n",
    "* The Lock object\n",
    "* The RLock object\n",
    "* The semaphore object\n",
    "* The condition object\n",
    "* The event object"
   ]
  },
  {
   "cell_type": "markdown",
   "metadata": {},
   "source": [
    "### How to define a thread"
   ]
  },
  {
   "cell_type": "markdown",
   "metadata": {},
   "source": [
    "Let's see how to define a thread with the threading module"
   ]
  },
  {
   "cell_type": "markdown",
   "metadata": {},
   "source": [
    "The simplest way to use a thread is to instantiate it with a target function and then call the \n",
    "start() method to let it begin its work. \n",
    "\n",
    "The Python module threading has the **Thread() method** that is used to **run processes and functions in a different thread**:\n",
    "\n",
    "**class threading.Thread(target=None,name=None,args=(),kwargs={})**\n",
    "\n",
    "* target: This is the function that is to be executed when you start a thread activity\n",
    "\n",
    "* name: This is the name of the thread\n",
    "\n",
    "* args: This is the tuple of arguments that are to be passed to a target\n",
    "\n",
    "* kwargs: This is the dictionary of keyword arguments that are to be used for the target function"
   ]
  },
  {
   "cell_type": "code",
   "execution_count": 5,
   "metadata": {},
   "outputs": [
    {
     "name": "stdout",
     "output_type": "stream",
     "text": [
      "function called by thread 0\n",
      "\n",
      "function called by thread 1\n",
      "\n",
      "function called by thread 2\n",
      "\n",
      "function called by thread 3\n",
      "\n",
      "function called by thread 4\n",
      "\n"
     ]
    }
   ],
   "source": [
    "#import the threading module\n",
    "import threading \n",
    "\n",
    "# define functions that will be run on different threads\n",
    "def function(i):\n",
    "    print (\"function called by thread %i\\n\"  %i)\n",
    "    return\n",
    "\n",
    "threads = []\n",
    "for i in range(5):\n",
    "    # instantiate a thread, using the Thread object with a target function called function. \n",
    "    # We also pass an argument to the function\n",
    "    t = threading.Thread(target=function , args=(i,))\n",
    "    \n",
    "    threads.append(t)\n",
    "    \n",
    "    #The thread does not start running until the start() method is called:\n",
    "    t.start()\n",
    "    \n",
    "    # the join() makes the calling thread wait until the thread has finished the execution:\n",
    "    t.join()"
   ]
  },
  {
   "cell_type": "markdown",
   "metadata": {},
   "source": [
    "### Naming the threads to determine which thread is running.\n",
    "\n",
    "**threading.currentThread().getName()** can get the name of the current thread"
   ]
  },
  {
   "cell_type": "code",
   "execution_count": 6,
   "metadata": {},
   "outputs": [
    {
     "name": "stdout",
     "output_type": "stream",
     "text": [
      "first_function is Starting \n",
      "\n",
      "second_function is Starting \n",
      "\n",
      "third_function is Starting \n",
      "\n",
      "first_function is Exiting \n",
      "third_function is Exiting \n",
      "\n",
      "second_function is Exiting \n",
      "\n",
      "\n"
     ]
    }
   ],
   "source": [
    "import threading\n",
    "import time\n",
    "\n",
    "def first_function():\n",
    "    print (threading.currentThread().getName()+str(' is Starting \\n'))\n",
    "    time.sleep(2)\n",
    "    print (threading.currentThread().getName()+str( ' is Exiting \\n'))\n",
    "    return\n",
    "\n",
    "def second_function():\n",
    "    print (threading.currentThread().getName()+str(' is Starting \\n'))\n",
    "    time.sleep(2)\n",
    "    print (threading.currentThread().getName()+str( ' is Exiting \\n'))\n",
    "    return\n",
    "\n",
    "def third_function():\n",
    "    print (threading.currentThread().getName()+str(' is Starting \\n'))\n",
    "    time.sleep(2)\n",
    "    print (threading.currentThread().getName()+str( ' is Exiting \\n'))\n",
    "    return\n",
    "\n",
    "#We instantiate a thread with a target function. Also, we also give names to the threads:\n",
    "t1 = threading.Thread(name='first_function', target=first_function)\n",
    "t2 = threading.Thread(name='second_function', target=second_function)\n",
    "t3 = threading.Thread(name='third_function',target=third_function) \n",
    "\n",
    "t1.start()\n",
    "t2.start()\n",
    "t3.start()"
   ]
  },
  {
   "cell_type": "markdown",
   "metadata": {},
   "source": [
    "### How to use a thread in a subclass"
   ]
  },
  {
   "cell_type": "code",
   "execution_count": null,
   "metadata": {},
   "outputs": [],
   "source": []
  }
 ],
 "metadata": {
  "kernelspec": {
   "display_name": "Environment (conda_python3)",
   "language": "python",
   "name": "conda_python3"
  },
  "language_info": {
   "codemirror_mode": {
    "name": "ipython",
    "version": 3
   },
   "file_extension": ".py",
   "mimetype": "text/x-python",
   "name": "python",
   "nbconvert_exporter": "python",
   "pygments_lexer": "ipython3",
   "version": "3.6.5"
  }
 },
 "nbformat": 4,
 "nbformat_minor": 2
}
