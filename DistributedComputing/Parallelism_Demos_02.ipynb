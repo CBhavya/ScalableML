{
 "cells": [
  {
   "cell_type": "markdown",
   "metadata": {},
   "source": [
    "Based on **Francesco Pierfederici: Distributed Computing with Python, Chapter 3**"
   ]
  },
  {
   "cell_type": "markdown",
   "metadata": {},
   "source": [
    "### Parallelism in Python"
   ]
  },
  {
   "cell_type": "markdown",
   "metadata": {},
   "source": [
    "Here we will look at **parallel programming** in more detail and see what facilities Python offers us to **make our code use more than one CPU core** at the time \n",
    "\n",
    "In this demo we will stay in the boundaries of a **single machine**. We will discuss **distributed systems later**. \n",
    "\n",
    "The main goal here will be **speed for CPU-intensive problems, and responsiveness for I/O-intensive code.**"
   ]
  },
  {
   "cell_type": "markdown",
   "metadata": {},
   "source": [
    "Let's start by writing a simple program that makes use of **multiple threads to \n",
    "download data** from the Web. "
   ]
  },
  {
   "cell_type": "code",
   "execution_count": 1,
   "metadata": {},
   "outputs": [],
   "source": [
    "#We start by importing the modules we need from the Standard Library (that is, threading, queue, and urllib.request).\n",
    "\n",
    "from time import time\n",
    "from threading import Thread\n",
    "from queue import Queue\n",
    "import urllib.request"
   ]
  },
  {
   "cell_type": "markdown",
   "metadata": {},
   "source": [
    "Here is a list of links that we want to download parallel."
   ]
  },
  {
   "cell_type": "code",
   "execution_count": 2,
   "metadata": {},
   "outputs": [],
   "source": [
    "links=[]\n",
    "links.append('https://www.stats.govt.nz/assets/Uploads/Annual-enterprise-survey/Annual-enterprise-survey-2017-financial-year-provisional/Download-data/annual-enterprise-survey-2017-financial-year-provisional-size-bands-csv.csv')\n",
    "links.append('https://www.stats.govt.nz/assets/Uploads/Household-living-costs-price-indexes/Household-living-costs-price-indexes-September-2018-quarter/Download-data/household-living-costs-price-indexes-sep18qtr-time-series-indexes.csv')\n",
    "links.append('https://www.stats.govt.nz/assets/Uploads/Annual-enterprise-survey/Annual-enterprise-survey-2017-financial-year-provisional/Download-data/annual-enterprise-survey-2017-financial-year-provisional-csv.csv')"
   ]
  },
  {
   "cell_type": "code",
   "execution_count": 3,
   "metadata": {},
   "outputs": [
    {
     "name": "stdout",
     "output_type": "stream",
     "text": [
      "['https://www.stats.govt.nz/assets/Uploads/Annual-enterprise-survey/Annual-enterprise-survey-2017-financial-year-provisional/Download-data/annual-enterprise-survey-2017-financial-year-provisional-size-bands-csv.csv', 'https://www.stats.govt.nz/assets/Uploads/Household-living-costs-price-indexes/Household-living-costs-price-indexes-September-2018-quarter/Download-data/household-living-costs-price-indexes-sep18qtr-time-series-indexes.csv', 'https://www.stats.govt.nz/assets/Uploads/Annual-enterprise-survey/Annual-enterprise-survey-2017-financial-year-provisional/Download-data/annual-enterprise-survey-2017-financial-year-provisional-csv.csv']\n"
     ]
    }
   ],
   "source": [
    "print(links)"
   ]
  },
  {
   "cell_type": "markdown",
   "metadata": {},
   "source": [
    "Define a function \"get_content\" that downloads the content of \"act_url\" link, and outputs is to the \"outq\" Queue."
   ]
  },
  {
   "cell_type": "code",
   "execution_count": 4,
   "metadata": {},
   "outputs": [],
   "source": [
    "def get_content(act_url, outq):\n",
    "    with urllib.request.urlopen(act_url) as res:\n",
    "        body = res.read()\n",
    "    outq.put((act_url, body)) #put the (act_url, body) tupple to the outq queue"
   ]
  },
  {
   "cell_type": "markdown",
   "metadata": {},
   "source": [
    "Define a **thread-safe** queue (that is, an instance of Queue from the Python queue module)\n",
    "We call this queue \"outputq\". \n",
    "\n",
    "It will **hold the data produced by the various threads** that downloaded the contents of the the websites. \n"
   ]
  },
  {
   "cell_type": "code",
   "execution_count": 5,
   "metadata": {},
   "outputs": [],
   "source": [
    "outputq = Queue()"
   ]
  },
  {
   "cell_type": "markdown",
   "metadata": {},
   "source": [
    "Once we have the output queue, we then **spawn a new worker thread for each website link**. \n",
    "\n",
    "**Each worker thread simply runs the get_content function**, with the actual link and the output queue as arguments.\n"
   ]
  },
  {
   "cell_type": "code",
   "execution_count": 6,
   "metadata": {},
   "outputs": [],
   "source": [
    "for link in links:\n",
    "        # spawn a new thread \"t\" that will run the \"get_content\" function with \"kwargs\" arguments\n",
    "        t = Thread(target=get_content,\n",
    "                   kwargs={'act_url': link,\n",
    "                           'outq': outputq})\n",
    "        t.daemon = True\n",
    "        t.start() # start the thread"
   ]
  },
  {
   "cell_type": "markdown",
   "metadata": {},
   "source": [
    "A thread can be flagged as a daemon flag: If it is a daemon, then it will allow the main program to exit, \n",
    "i.e. the main program doesn't need to wait till all child threads are finished."
   ]
  },
  {
   "cell_type": "markdown",
   "metadata": {},
   "source": [
    "The main difficulty in using threads to perform actions in parallel is that\n",
    "**we cannot tell when a given thread will read or write any data shared with other threads.**"
   ]
  },
  {
   "cell_type": "markdown",
   "metadata": {},
   "source": [
    "One way out of synchronization problems like these is the use of **locks**: so that only one thread can write at a given time.\n",
    "\n",
    "The Queue class helps in threaded programming when **information must be exchanged safely between multiple threads**. \n",
    "The Queue class in this module **implements all the required locking semantics**.\n",
    "\n",
    "Thread-safe queues are a very convenient example of lock-based data structures that we can use \n",
    "to organize data access.\n",
    "\n",
    "Since **each thread writes to the same output queue**, we might just as well **monitor \n",
    "that queue to know when results are ready** and it is time to quit. "
   ]
  },
  {
   "cell_type": "markdown",
   "metadata": {},
   "source": [
    "Here, we do that by simply fetching one result from the queue per link (the loop over links)\n",
    "\n",
    "and by waiting for the queue to join (outputq.join()), \n",
    "\n",
    "which will happen when all the results have been fetched (more precisely, when each get() method is followed by a call to task_done()). \n",
    "\n",
    "This way, **we are sure that our program does not quit prematurely**."
   ]
  },
  {
   "cell_type": "markdown",
   "metadata": {},
   "source": [
    "**Queue.task_done()**: Indicate that a formerly enqueued task is complete. \n",
    "\n",
    "For each **get()** used to fetch a task, a subsequent call to **task_done()** tells the queue that the processing on the task is complete.\n",
    "\n",
    "**Queue.join()**: Blocks until all items in the queue have been gotten and processed.\n",
    "\n",
    "The **count of unfinished tasks** **goes up** whenever an item is added to the queue. The count **goes down** whenever a consumer thread calls **task_done()** to indicate that the item was retrieved and all work on it is complete. When the count of unfinished tasks drops to zero, **join() unblocks**."
   ]
  },
  {
   "cell_type": "code",
   "execution_count": 7,
   "metadata": {},
   "outputs": [
    {
     "name": "stdout",
     "output_type": "stream",
     "text": [
      "https://www.stats.govt.nz/assets/Uploads/Household-living-costs-price-indexes/Household-living-costs-price-indexes-September-2018-quarter/Download-data/household-living-costs-price-indexes-sep18qtr-time-series-indexes.csv b'hlpi_name,series_ref,quarter,hlpi,nzhec,nzhec_name,nzhec_short,level,index,change.q,change.a\\r\\nAll ho'\n",
      "https://www.stats.govt.nz/assets/Uploads/Annual-enterprise-survey/Annual-enterprise-survey-2017-financial-year-provisional/Download-data/annual-enterprise-survey-2017-financial-year-provisional-size-bands-csv.csv b'year,industry_code_ANZSIC,industry_name_ANZSIC,rme_size_grp,variable,value,unit\\r\\n2011,A,\"Agriculture'\n",
      "https://www.stats.govt.nz/assets/Uploads/Annual-enterprise-survey/Annual-enterprise-survey-2017-financial-year-provisional/Download-data/annual-enterprise-survey-2017-financial-year-provisional-csv.csv b'Year,Industry_aggregation_NZSIOC,Industry_code_NZSIOC,Industry_name_NZSIOC,Units,Variable_code,Varia'\n"
     ]
    }
   ],
   "source": [
    "for _ in links:\n",
    "    link, body = outputq.get()\n",
    "    print(link, body[:100])\n",
    "    outputq.task_done() #signals when a thread is done\n",
    "outputq.join() #unblocks when all tasks are complete in the queue."
   ]
  },
  {
   "cell_type": "markdown",
   "metadata": {},
   "source": [
    "### Example without using threads:"
   ]
  },
  {
   "cell_type": "code",
   "execution_count": 8,
   "metadata": {},
   "outputs": [
    {
     "name": "stdout",
     "output_type": "stream",
     "text": [
      "0.7048904895782471\n"
     ]
    }
   ],
   "source": [
    "# no threads\n",
    "q = Queue()\n",
    "t0 = time(); [get_content(p, q) for p in links]; dt = time() - t0; print(dt)"
   ]
  },
  {
   "cell_type": "markdown",
   "metadata": {},
   "source": [
    "### Example with threads:"
   ]
  },
  {
   "cell_type": "code",
   "execution_count": 9,
   "metadata": {},
   "outputs": [
    {
     "name": "stdout",
     "output_type": "stream",
     "text": [
      "0.34225893020629883\n"
     ]
    }
   ],
   "source": [
    "# threads can help!\n",
    "\n",
    "t0 = time();\n",
    "\n",
    "for link in links:\n",
    "        t = Thread(target=get_content,\n",
    "                   kwargs={'act_url': link,\n",
    "                           'outq': outputq})\n",
    "        t.daemon = True\n",
    "        t.start()\n",
    "        \n",
    "for _ in links:\n",
    "    link, body = outputq.get()\n",
    "    #print(link, body[:100])\n",
    "    outputq.task_done() #signals when a thread is done\n",
    "outputq.join()\n",
    "\n",
    "dt = time() - t0; print(dt)"
   ]
  },
  {
   "cell_type": "markdown",
   "metadata": {},
   "source": [
    "### Somtimes threads can hurt performance"
   ]
  },
  {
   "cell_type": "code",
   "execution_count": 10,
   "metadata": {},
   "outputs": [],
   "source": [
    "def fib(n):\n",
    "    if n <= 2:\n",
    "        return 1\n",
    "    elif n == 0:\n",
    "        return 0\n",
    "    elif n < 0:\n",
    "        raise Exception('fib(n) is undefined for n < 0')\n",
    "    return fib(n - 1) + fib(n - 2)\n"
   ]
  },
  {
   "cell_type": "code",
   "execution_count": 11,
   "metadata": {},
   "outputs": [
    {
     "data": {
      "text/plain": [
       "5"
      ]
     },
     "execution_count": 11,
     "metadata": {},
     "output_type": "execute_result"
    }
   ],
   "source": [
    "fib(5)"
   ]
  },
  {
   "cell_type": "code",
   "execution_count": 12,
   "metadata": {},
   "outputs": [],
   "source": [
    "# calculate the \"fibnum\" Fibonacci number threadnum times independently on different threads!\n",
    "\n",
    "def runthreads(threadnum,fibnum):\n",
    "    t0 = time();\n",
    "    for i in range(threadnum):\n",
    "            t = Thread(target=fib, args=(fibnum, )) #spawn a new thread\n",
    "            t.start()\n",
    "    dt = time() - t0; \n",
    "    print(dt) # time neaded to claculate threadnum Fibonacci numbers"
   ]
  },
  {
   "cell_type": "code",
   "execution_count": 13,
   "metadata": {},
   "outputs": [
    {
     "name": "stdout",
     "output_type": "stream",
     "text": [
      "0.005433559417724609\n",
      "0.062355756759643555\n",
      "0.10884261131286621\n",
      "0.28424906730651855\n",
      "0.33549046516418457\n"
     ]
    }
   ],
   "source": [
    "\n",
    "runthreads(1,34)\n",
    "runthreads(2,34)\n",
    "runthreads(3,34)\n",
    "runthreads(4,34)\n",
    "runthreads(8,34)"
   ]
  },
  {
   "cell_type": "markdown",
   "metadata": {},
   "source": [
    "Interesting! Increasing the number of parallel computations just increases the execution time.\n",
    "\n",
    "**Clearly, something is not quite right**, as we would have expected the threads \n",
    "to run in parallel (again, on a quad-core machine)."
   ]
  },
  {
   "cell_type": "markdown",
   "metadata": {},
   "source": [
    "It turns out that there is something not obvious going on deep inside the Python \n",
    "interpreter that is affecting our CPU-bound threads. \n",
    "\n",
    "That thing is called **Global Interpreter Lock (GIL)**. \n",
    "\n",
    "As the name implies, the **GIL is a global lock** that is used, \n",
    "mostly, to **keep reference counting sane** (remember when we talked about that a little \n",
    "while ago?). The consequence of the GIL is that even though Python threads are real \n",
    "OS-native threads, **only one of them can be active at any given point in time**.\n",
    "\n",
    "This has led some to say that the **Python interpreter is a single-threaded interpreter**, \n",
    "which is not quite true. However, this statement is also, conceptually at least, not \n",
    "completely wrong either. \n",
    "\n",
    "The situation we just witnessed is very **similar to the \n",
    "behavior we observed when writing coroutines**. In that case, in fact, only one piece \n",
    "of code could run at any given point in time. \n",
    "\n",
    "Things just work, meaning **we get the \n",
    "parallelism that we expect, when one coroutine or thread waits for I/O and another \n",
    "one takes over the CPU**. Things do not work as well in terms of performance speedups, \n",
    "when one task needs the CPU for a long time, as is the case with CPU-bound tasks as \n",
    "in the Fibonacci example."
   ]
  },
  {
   "cell_type": "markdown",
   "metadata": {},
   "source": [
    "**Not all Python interpreters have the GIL; Jython, for instance, does not.**"
   ]
  },
  {
   "cell_type": "markdown",
   "metadata": {},
   "source": [
    "# Multiple processes\n",
    "Traditionally, the way Python programmers have worked around the GIL and its \n",
    "effect on CPU-bound threads has been to **use multiple processes instead of multiple \n",
    "threads**. \n",
    "\n",
    "This approach (multiprocessing) has some **disadvantages**: \n",
    "having to launch multiple instances of the Python interpreter with all the \n",
    "**startup time and memory usage penalties** that this implies"
   ]
  },
  {
   "cell_type": "code",
   "execution_count": 14,
   "metadata": {},
   "outputs": [
    {
     "data": {
      "text/plain": [
       "4"
      ]
     },
     "execution_count": 14,
     "metadata": {},
     "output_type": "execute_result"
    }
   ],
   "source": [
    "import psutil\n",
    "psutil.cpu_count(logical=False)"
   ]
  },
  {
   "cell_type": "code",
   "execution_count": 15,
   "metadata": {},
   "outputs": [
    {
     "data": {
      "text/plain": [
       "4"
      ]
     },
     "execution_count": 15,
     "metadata": {},
     "output_type": "execute_result"
    }
   ],
   "source": [
    "psutil.cpu_count(logical=True)"
   ]
  },
  {
   "cell_type": "markdown",
   "metadata": {},
   "source": [
    "Using **multiple processes to execute tasks in parallel has some nice properties.** \n",
    "\n",
    "Multiple processes have their **own memory space** and they also allow us to **(more) easily transition from a single-machine \n",
    "architecture to a distributed application**, where one would have to use multiple \n",
    "processes (on different machines) anyway."
   ]
  },
  {
   "cell_type": "markdown",
   "metadata": {},
   "source": [
    "There are two main modules in the Python Standard Library that we can use to \n",
    "implement process-based parallelism, and both of them are truly excellent. One is \n",
    "called **multiprocessing** and the other is **concurrent.futures**. \n",
    "\n",
    "The concurrent.futures module is built on top of multiprocessing and the threading module and \n",
    "provides a powerful high-level interface to them."
   ]
  },
  {
   "cell_type": "markdown",
   "metadata": {},
   "source": [
    "### Example for concurrent.futures multiprocessing"
   ]
  },
  {
   "cell_type": "code",
   "execution_count": 16,
   "metadata": {},
   "outputs": [],
   "source": [
    "import concurrent.futures as cf"
   ]
  },
  {
   "cell_type": "code",
   "execution_count": 17,
   "metadata": {},
   "outputs": [
    {
     "name": "stderr",
     "output_type": "stream",
     "text": [
      "Exception in thread Thread-14:\n",
      "Traceback (most recent call last):\n",
      "  File \"/home/ubuntu/anaconda3/envs/python3/lib/python3.6/threading.py\", line 916, in _bootstrap_inner\n",
      "    self.run()\n",
      "  File \"/home/ubuntu/anaconda3/envs/python3/lib/python3.6/threading.py\", line 864, in run\n",
      "    self._target(*self._args, **self._kwargs)\n",
      "  File \"<ipython-input-10-85033b0a92e0>\", line 8, in fib\n",
      "    return fib(n - 1) + fib(n - 2)\n",
      "  File \"<ipython-input-10-85033b0a92e0>\", line 8, in fib\n",
      "    return fib(n - 1) + fib(n - 2)\n",
      "  File \"<ipython-input-10-85033b0a92e0>\", line 8, in fib\n",
      "    return fib(n - 1) + fib(n - 2)\n",
      "  [Previous line repeated 16 more times]\n",
      "TypeError: unsupported operand type(s) for +: 'int' and 'NoneType'\n",
      "\n",
      "Exception in thread Thread-27:\n",
      "Traceback (most recent call last):\n",
      "  File \"/home/ubuntu/anaconda3/envs/python3/lib/python3.6/threading.py\", line 916, in _bootstrap_inner\n",
      "    self.run()\n",
      "  File \"/home/ubuntu/anaconda3/envs/python3/lib/python3.6/threading.py\", line 864, in run\n",
      "    self._target(*self._args, **self._kwargs)\n",
      "  File \"<ipython-input-10-85033b0a92e0>\", line 8, in fib\n",
      "    return fib(n - 1) + fib(n - 2)\n",
      "  File \"<ipython-input-10-85033b0a92e0>\", line 8, in fib\n",
      "    return fib(n - 1) + fib(n - 2)\n",
      "  File \"<ipython-input-10-85033b0a92e0>\", line 8, in fib\n",
      "    return fib(n - 1) + fib(n - 2)\n",
      "  [Previous line repeated 16 more times]\n",
      "TypeError: unsupported operand type(s) for +: 'NoneType' and 'NoneType'\n",
      "\n",
      "Exception in thread Thread-10:\n",
      "Traceback (most recent call last):\n",
      "  File \"/home/ubuntu/anaconda3/envs/python3/lib/python3.6/threading.py\", line 916, in _bootstrap_inner\n",
      "    self.run()\n",
      "  File \"/home/ubuntu/anaconda3/envs/python3/lib/python3.6/threading.py\", line 864, in run\n",
      "    self._target(*self._args, **self._kwargs)\n",
      "  File \"<ipython-input-10-85033b0a92e0>\", line 8, in fib\n",
      "    return fib(n - 1) + fib(n - 2)\n",
      "  File \"<ipython-input-10-85033b0a92e0>\", line 8, in fib\n",
      "    return fib(n - 1) + fib(n - 2)\n",
      "  File \"<ipython-input-10-85033b0a92e0>\", line 8, in fib\n",
      "    return fib(n - 1) + fib(n - 2)\n",
      "  [Previous line repeated 17 more times]\n",
      "TypeError: unsupported operand type(s) for +: 'int' and 'NoneType'\n",
      "\n",
      "Exception in thread Thread-25:\n",
      "Traceback (most recent call last):\n",
      "  File \"/home/ubuntu/anaconda3/envs/python3/lib/python3.6/threading.py\", line 916, in _bootstrap_inner\n",
      "    self.run()\n",
      "  File \"/home/ubuntu/anaconda3/envs/python3/lib/python3.6/threading.py\", line 864, in run\n",
      "    self._target(*self._args, **self._kwargs)\n",
      "  File \"<ipython-input-10-85033b0a92e0>\", line 8, in fib\n",
      "    return fib(n - 1) + fib(n - 2)\n",
      "  File \"<ipython-input-10-85033b0a92e0>\", line 8, in fib\n",
      "    return fib(n - 1) + fib(n - 2)\n",
      "  File \"<ipython-input-10-85033b0a92e0>\", line 8, in fib\n",
      "    return fib(n - 1) + fib(n - 2)\n",
      "  [Previous line repeated 15 more times]\n",
      "TypeError: unsupported operand type(s) for +: 'int' and 'NoneType'\n",
      "\n",
      "Exception in thread Thread-11:\n",
      "Traceback (most recent call last):\n",
      "  File \"/home/ubuntu/anaconda3/envs/python3/lib/python3.6/threading.py\", line 916, in _bootstrap_inner\n",
      "    self.run()\n",
      "  File \"/home/ubuntu/anaconda3/envs/python3/lib/python3.6/threading.py\", line 864, in run\n",
      "    self._target(*self._args, **self._kwargs)\n",
      "  File \"<ipython-input-10-85033b0a92e0>\", line 8, in fib\n",
      "    return fib(n - 1) + fib(n - 2)\n",
      "  File \"<ipython-input-10-85033b0a92e0>\", line 8, in fib\n",
      "    return fib(n - 1) + fib(n - 2)\n",
      "  File \"<ipython-input-10-85033b0a92e0>\", line 8, in fib\n",
      "    return fib(n - 1) + fib(n - 2)\n",
      "  [Previous line repeated 19 more times]\n",
      "TypeError: unsupported operand type(s) for +: 'NoneType' and 'int'\n",
      "\n",
      "Exception in thread Thread-21:\n",
      "Traceback (most recent call last):\n",
      "  File \"/home/ubuntu/anaconda3/envs/python3/lib/python3.6/threading.py\", line 916, in _bootstrap_inner\n",
      "    self.run()\n",
      "  File \"/home/ubuntu/anaconda3/envs/python3/lib/python3.6/threading.py\", line 864, in run\n",
      "    self._target(*self._args, **self._kwargs)\n",
      "  File \"<ipython-input-10-85033b0a92e0>\", line 8, in fib\n",
      "    return fib(n - 1) + fib(n - 2)\n",
      "  File \"<ipython-input-10-85033b0a92e0>\", line 8, in fib\n",
      "    return fib(n - 1) + fib(n - 2)\n",
      "  File \"<ipython-input-10-85033b0a92e0>\", line 8, in fib\n",
      "    return fib(n - 1) + fib(n - 2)\n",
      "  [Previous line repeated 20 more times]\n",
      "TypeError: unsupported operand type(s) for +: 'int' and 'NoneType'\n",
      "\n",
      "Exception in thread Thread-17:\n",
      "Traceback (most recent call last):\n",
      "  File \"/home/ubuntu/anaconda3/envs/python3/lib/python3.6/threading.py\", line 916, in _bootstrap_inner\n",
      "    self.run()\n",
      "  File \"/home/ubuntu/anaconda3/envs/python3/lib/python3.6/threading.py\", line 864, in run\n",
      "    self._target(*self._args, **self._kwargs)\n",
      "  File \"<ipython-input-10-85033b0a92e0>\", line 8, in fib\n",
      "    return fib(n - 1) + fib(n - 2)\n",
      "  File \"<ipython-input-10-85033b0a92e0>\", line 8, in fib\n",
      "    return fib(n - 1) + fib(n - 2)\n",
      "  File \"<ipython-input-10-85033b0a92e0>\", line 8, in fib\n",
      "    return fib(n - 1) + fib(n - 2)\n",
      "  [Previous line repeated 14 more times]\n",
      "TypeError: unsupported operand type(s) for +: 'NoneType' and 'NoneType'\n",
      "\n",
      "Exception in thread Thread-16:\n",
      "Traceback (most recent call last):\n",
      "  File \"/home/ubuntu/anaconda3/envs/python3/lib/python3.6/threading.py\", line 916, in _bootstrap_inner\n",
      "    self.run()\n",
      "  File \"/home/ubuntu/anaconda3/envs/python3/lib/python3.6/threading.py\", line 864, in run\n",
      "    self._target(*self._args, **self._kwargs)\n",
      "  File \"<ipython-input-10-85033b0a92e0>\", line 8, in fib\n",
      "    return fib(n - 1) + fib(n - 2)\n",
      "  File \"<ipython-input-10-85033b0a92e0>\", line 8, in fib\n",
      "    return fib(n - 1) + fib(n - 2)\n",
      "  File \"<ipython-input-10-85033b0a92e0>\", line 8, in fib\n",
      "    return fib(n - 1) + fib(n - 2)\n",
      "  [Previous line repeated 17 more times]\n",
      "TypeError: unsupported operand type(s) for +: 'int' and 'NoneType'\n",
      "\n",
      "Exception in thread Thread-24:\n",
      "Traceback (most recent call last):\n",
      "  File \"/home/ubuntu/anaconda3/envs/python3/lib/python3.6/threading.py\", line 916, in _bootstrap_inner\n",
      "    self.run()\n",
      "  File \"/home/ubuntu/anaconda3/envs/python3/lib/python3.6/threading.py\", line 864, in run\n",
      "    self._target(*self._args, **self._kwargs)\n",
      "  File \"<ipython-input-10-85033b0a92e0>\", line 8, in fib\n",
      "    return fib(n - 1) + fib(n - 2)\n",
      "  File \"<ipython-input-10-85033b0a92e0>\", line 8, in fib\n",
      "    return fib(n - 1) + fib(n - 2)\n",
      "  File \"<ipython-input-10-85033b0a92e0>\", line 8, in fib\n",
      "    return fib(n - 1) + fib(n - 2)\n",
      "  [Previous line repeated 17 more times]\n",
      "TypeError: unsupported operand type(s) for +: 'int' and 'NoneType'\n",
      "\n",
      "Exception in thread Thread-23:\n",
      "Traceback (most recent call last):\n",
      "  File \"/home/ubuntu/anaconda3/envs/python3/lib/python3.6/threading.py\", line 916, in _bootstrap_inner\n",
      "    self.run()\n",
      "  File \"/home/ubuntu/anaconda3/envs/python3/lib/python3.6/threading.py\", line 864, in run\n",
      "    self._target(*self._args, **self._kwargs)\n",
      "  File \"<ipython-input-10-85033b0a92e0>\", line 8, in fib\n",
      "    return fib(n - 1) + fib(n - 2)\n",
      "  File \"<ipython-input-10-85033b0a92e0>\", line 8, in fib\n",
      "    return fib(n - 1) + fib(n - 2)\n",
      "  File \"<ipython-input-10-85033b0a92e0>\", line 8, in fib\n",
      "    return fib(n - 1) + fib(n - 2)\n",
      "  [Previous line repeated 21 more times]\n",
      "TypeError: unsupported operand type(s) for +: 'int' and 'NoneType'\n",
      "\n",
      "Exception in thread Thread-20:\n",
      "Traceback (most recent call last):\n",
      "  File \"/home/ubuntu/anaconda3/envs/python3/lib/python3.6/threading.py\", line 916, in _bootstrap_inner\n",
      "    self.run()\n",
      "  File \"/home/ubuntu/anaconda3/envs/python3/lib/python3.6/threading.py\", line 864, in run\n",
      "    self._target(*self._args, **self._kwargs)\n",
      "  File \"<ipython-input-10-85033b0a92e0>\", line 8, in fib\n",
      "    return fib(n - 1) + fib(n - 2)\n",
      "  File \"<ipython-input-10-85033b0a92e0>\", line 8, in fib\n",
      "    return fib(n - 1) + fib(n - 2)\n",
      "  File \"<ipython-input-10-85033b0a92e0>\", line 8, in fib\n",
      "    return fib(n - 1) + fib(n - 2)\n",
      "  [Previous line repeated 11 more times]\n",
      "TypeError: unsupported operand type(s) for +: 'int' and 'NoneType'\n",
      "\n",
      "Exception in thread Thread-22:\n",
      "Traceback (most recent call last):\n",
      "  File \"/home/ubuntu/anaconda3/envs/python3/lib/python3.6/threading.py\", line 916, in _bootstrap_inner\n",
      "    self.run()\n",
      "  File \"/home/ubuntu/anaconda3/envs/python3/lib/python3.6/threading.py\", line 864, in run\n",
      "    self._target(*self._args, **self._kwargs)\n",
      "  File \"<ipython-input-10-85033b0a92e0>\", line 8, in fib\n",
      "    return fib(n - 1) + fib(n - 2)\n",
      "  File \"<ipython-input-10-85033b0a92e0>\", line 8, in fib\n",
      "    return fib(n - 1) + fib(n - 2)\n",
      "  File \"<ipython-input-10-85033b0a92e0>\", line 8, in fib\n",
      "    return fib(n - 1) + fib(n - 2)\n",
      "  [Previous line repeated 17 more times]\n",
      "TypeError: unsupported operand type(s) for +: 'int' and 'NoneType'\n",
      "\n",
      "Exception in thread Thread-19:\n",
      "Traceback (most recent call last):\n",
      "  File \"/home/ubuntu/anaconda3/envs/python3/lib/python3.6/threading.py\", line 916, in _bootstrap_inner\n",
      "    self.run()\n",
      "  File \"/home/ubuntu/anaconda3/envs/python3/lib/python3.6/threading.py\", line 864, in run\n",
      "    self._target(*self._args, **self._kwargs)\n",
      "  File \"<ipython-input-10-85033b0a92e0>\", line 8, in fib\n",
      "    return fib(n - 1) + fib(n - 2)\n",
      "  File \"<ipython-input-10-85033b0a92e0>\", line 8, in fib\n",
      "    return fib(n - 1) + fib(n - 2)\n",
      "  File \"<ipython-input-10-85033b0a92e0>\", line 8, in fib\n",
      "    return fib(n - 1) + fib(n - 2)\n",
      "  [Previous line repeated 19 more times]\n",
      "TypeError: unsupported operand type(s) for +: 'int' and 'NoneType'\n",
      "\n",
      "Exception in thread Thread-15:\n",
      "Traceback (most recent call last):\n",
      "  File \"/home/ubuntu/anaconda3/envs/python3/lib/python3.6/threading.py\", line 916, in _bootstrap_inner\n",
      "    self.run()\n",
      "  File \"/home/ubuntu/anaconda3/envs/python3/lib/python3.6/threading.py\", line 864, in run\n",
      "    self._target(*self._args, **self._kwargs)\n",
      "  File \"<ipython-input-10-85033b0a92e0>\", line 8, in fib\n",
      "    return fib(n - 1) + fib(n - 2)\n",
      "  File \"<ipython-input-10-85033b0a92e0>\", line 8, in fib\n",
      "    return fib(n - 1) + fib(n - 2)\n",
      "  File \"<ipython-input-10-85033b0a92e0>\", line 8, in fib\n",
      "    return fib(n - 1) + fib(n - 2)\n",
      "  [Previous line repeated 16 more times]\n",
      "TypeError: unsupported operand type(s) for +: 'int' and 'NoneType'\n",
      "\n",
      "Exception in thread Thread-12:\n",
      "Traceback (most recent call last):\n",
      "  File \"/home/ubuntu/anaconda3/envs/python3/lib/python3.6/threading.py\", line 916, in _bootstrap_inner\n",
      "    self.run()\n",
      "  File \"/home/ubuntu/anaconda3/envs/python3/lib/python3.6/threading.py\", line 864, in run\n",
      "    self._target(*self._args, **self._kwargs)\n",
      "  File \"<ipython-input-10-85033b0a92e0>\", line 8, in fib\n",
      "    return fib(n - 1) + fib(n - 2)\n",
      "  File \"<ipython-input-10-85033b0a92e0>\", line 8, in fib\n",
      "    return fib(n - 1) + fib(n - 2)\n",
      "  File \"<ipython-input-10-85033b0a92e0>\", line 8, in fib\n",
      "    return fib(n - 1) + fib(n - 2)\n",
      "  [Previous line repeated 17 more times]\n",
      "TypeError: unsupported operand type(s) for +: 'int' and 'NoneType'\n",
      "\n",
      "Exception in thread Thread-18:\n",
      "Traceback (most recent call last):\n",
      "  File \"/home/ubuntu/anaconda3/envs/python3/lib/python3.6/threading.py\", line 916, in _bootstrap_inner\n",
      "    self.run()\n",
      "  File \"/home/ubuntu/anaconda3/envs/python3/lib/python3.6/threading.py\", line 864, in run\n",
      "    self._target(*self._args, **self._kwargs)\n",
      "  File \"<ipython-input-10-85033b0a92e0>\", line 8, in fib\n",
      "    return fib(n - 1) + fib(n - 2)\n",
      "  File \"<ipython-input-10-85033b0a92e0>\", line 8, in fib\n",
      "    return fib(n - 1) + fib(n - 2)\n",
      "  File \"<ipython-input-10-85033b0a92e0>\", line 8, in fib\n",
      "    return fib(n - 1) + fib(n - 2)\n",
      "  [Previous line repeated 18 more times]\n",
      "TypeError: unsupported operand type(s) for +: 'int' and 'NoneType'\n",
      "\n",
      "Exception in thread Thread-26:\n",
      "Traceback (most recent call last):\n",
      "  File \"/home/ubuntu/anaconda3/envs/python3/lib/python3.6/threading.py\", line 916, in _bootstrap_inner\n",
      "    self.run()\n",
      "  File \"/home/ubuntu/anaconda3/envs/python3/lib/python3.6/threading.py\", line 864, in run\n",
      "    self._target(*self._args, **self._kwargs)\n",
      "  File \"<ipython-input-10-85033b0a92e0>\", line 8, in fib\n",
      "    return fib(n - 1) + fib(n - 2)\n",
      "  File \"<ipython-input-10-85033b0a92e0>\", line 8, in fib\n",
      "    return fib(n - 1) + fib(n - 2)\n",
      "  File \"<ipython-input-10-85033b0a92e0>\", line 8, in fib\n",
      "    return fib(n - 1) + fib(n - 2)\n",
      "  [Previous line repeated 18 more times]\n",
      "TypeError: unsupported operand type(s) for +: 'int' and 'NoneType'\n",
      "\n",
      "Exception in thread Thread-13:\n",
      "Traceback (most recent call last):\n",
      "  File \"/home/ubuntu/anaconda3/envs/python3/lib/python3.6/threading.py\", line 916, in _bootstrap_inner\n",
      "    self.run()\n",
      "  File \"/home/ubuntu/anaconda3/envs/python3/lib/python3.6/threading.py\", line 864, in run\n",
      "    self._target(*self._args, **self._kwargs)\n",
      "  File \"<ipython-input-10-85033b0a92e0>\", line 8, in fib\n",
      "    return fib(n - 1) + fib(n - 2)\n",
      "  File \"<ipython-input-10-85033b0a92e0>\", line 8, in fib\n",
      "    return fib(n - 1) + fib(n - 2)\n",
      "  File \"<ipython-input-10-85033b0a92e0>\", line 8, in fib\n",
      "    return fib(n - 1) + fib(n - 2)\n",
      "  [Previous line repeated 18 more times]\n",
      "TypeError: unsupported operand type(s) for +: 'int' and 'NoneType'\n",
      "\n"
     ]
    }
   ],
   "source": [
    "def fib(n):\n",
    "    if n <= 2:\n",
    "        return 1\n",
    "    elif n == 0:\n",
    "        return 0\n",
    "    elif n < 0:\n",
    "        raise Exception('fib(n) is undefined for n < 0')\n",
    "        return fib(n - 1) + fib(n - 2)"
   ]
  },
  {
   "cell_type": "code",
   "execution_count": 18,
   "metadata": {},
   "outputs": [
    {
     "data": {
      "text/plain": [
       "[34, 34, 34, 34]"
      ]
     },
     "execution_count": 18,
     "metadata": {},
     "output_type": "execute_result"
    }
   ],
   "source": [
    "fibnum=34\n",
    "workernum=4\n",
    "[fibnum] * workernum"
   ]
  },
  {
   "cell_type": "code",
   "execution_count": 19,
   "metadata": {},
   "outputs": [],
   "source": [
    "def runprocesses(workernum,fibnum):\n",
    "    t0 = time();\n",
    "    \n",
    "    with cf.ProcessPoolExecutor(max_workers=workernum) as pool:\n",
    "            results = pool.map(fib, [fibnum] * workernum) #run the fib function on each element of [34,34,34,34] in a parallel way\n",
    "    \n",
    "    dt = time() - t0; \n",
    "    print(dt)"
   ]
  },
  {
   "cell_type": "markdown",
   "metadata": {},
   "source": [
    "We used the **ProcessPoolExecutor** class exported by concurrent.futures. \n",
    "\n",
    "This is one of the two main classes exported by \n",
    "the module, the other being **ThreadPoolExecutor**, which is used to create a **pool of \n",
    "threads**, instead of a **pool of processes**."
   ]
  },
  {
   "cell_type": "code",
   "execution_count": 20,
   "metadata": {},
   "outputs": [
    {
     "name": "stdout",
     "output_type": "stream",
     "text": [
      "0.010954141616821289\n",
      "0.011400461196899414\n",
      "0.015639305114746094\n",
      "0.020844459533691406\n",
      "***************\n",
      "0.038100481033325195\n",
      "0.08728265762329102\n",
      "0.16221284866333008\n"
     ]
    }
   ],
   "source": [
    "runprocesses(1,34)\n",
    "runprocesses(2,34)\n",
    "runprocesses(3,34)\n",
    "runprocesses(4,34)\n",
    "print('***************')\n",
    "runprocesses(8,34)\n",
    "runprocesses(16,34)\n",
    "runprocesses(32,34)\n"
   ]
  },
  {
   "cell_type": "markdown",
   "metadata": {},
   "source": [
    "Both, **ProcessPoolExecutor and ThreadPoolExecutor have the same API**: they have three main \n",
    "methods, which are as follows:\n",
    "\n",
    "• **submit(f, *args, **kwargs)**: This is used to schedule an **asynchronous \n",
    "call** to f(*args, **kwargs) and return a **Future instance as a result** \n",
    "placeholder.\n",
    "\n",
    "• **map(f, *arglist, timeout=None)**: This is the equivalent \n",
    "to the built-in map(f, *arglist) method. It returns a **list of Future objects** \n",
    "rather than a list of actual results, as map would do."
   ]
  },
  {
   "cell_type": "markdown",
   "metadata": {},
   "source": [
    "The third method, **shutdown(wait=True)** is used to **free the resources** used by the Executor object as soon as all currently scheduled functions are done. \n",
    "\n",
    "It waits (if wait=True) until that happens. "
   ]
  },
  {
   "cell_type": "markdown",
   "metadata": {},
   "source": [
    "A **Future instance** is a **placeholder** for the **result of an asynchronous call**. We can check \n",
    "whether the call is still running, whether or not it raised an exception, and so on.  \n",
    "\n",
    "We call a Future instance result() method to access (with an optional timeout) its value once it is ready."
   ]
  },
  {
   "cell_type": "code",
   "execution_count": 21,
   "metadata": {},
   "outputs": [],
   "source": [
    "from concurrent.futures import ProcessPoolExecutor"
   ]
  },
  {
   "cell_type": "code",
   "execution_count": 22,
   "metadata": {},
   "outputs": [
    {
     "data": {
      "text/plain": [
       "True"
      ]
     },
     "execution_count": 22,
     "metadata": {},
     "output_type": "execute_result"
    }
   ],
   "source": [
    "pool = ProcessPoolExecutor(max_workers=1)\n",
    "fut = pool.submit(fib, 38)\n",
    "fut.running()"
   ]
  },
  {
   "cell_type": "code",
   "execution_count": 23,
   "metadata": {},
   "outputs": [
    {
     "data": {
      "text/plain": [
       "True"
      ]
     },
     "execution_count": 23,
     "metadata": {},
     "output_type": "execute_result"
    }
   ],
   "source": [
    "fut.done()"
   ]
  },
  {
   "cell_type": "markdown",
   "metadata": {},
   "source": [
    "We saw how to use the concurrent.futures package to create a worker pool (using the ProcessPoolExecutor class) and submit \n",
    "work to it (pool.submit(fib, 38)). As we expect, submit returns a Future object \n",
    "(fut in the preceding code), which is a placeholder for a result that is not yet available."
   ]
  },
  {
   "cell_type": "markdown",
   "metadata": {},
   "source": [
    "### Context managers"
   ]
  },
  {
   "cell_type": "markdown",
   "metadata": {},
   "source": [
    "**Executor objects can also be used as context managers** \n",
    "\n",
    "In those cases, there is an implicit blocking call made to the Executor shutdown method on the context manager's exit. \n",
    "\n",
    "This means that if we were to access the results list, we would **get integers rather than Future instances once the context \n",
    "manager exits.**"
   ]
  },
  {
   "cell_type": "code",
   "execution_count": 24,
   "metadata": {},
   "outputs": [
    {
     "name": "stdout",
     "output_type": "stream",
     "text": [
      "<generator object _chain_from_iterable_of_lists at 0x7f617404eba0>\n"
     ]
    }
   ],
   "source": [
    "workernum=1\n",
    "fibnum=38\n",
    "with cf.ProcessPoolExecutor(max_workers=workernum) as pool:\n",
    "            results = pool.map(fib, [fibnum] * workernum)\n",
    "            print(results)"
   ]
  },
  {
   "cell_type": "markdown",
   "metadata": {},
   "source": [
    "We can make a **one-line modification** to our process-based parallel code and \n",
    "**switch to using threads instead**; simply replace ProcessPoolExecutor with \n",
    "ThreadPoolExecutor. \n",
    "\n",
    "For a quick example, change the\n",
    "\n",
    "with cf. ProcessPoolExecutor (max_workers=args.n) as pool:\n",
    "\n",
    "line with this one:\n",
    "\n",
    "with cf.ThreadPoolExecutor(max_workers=args.n) as pool:"
   ]
  },
  {
   "cell_type": "code",
   "execution_count": 25,
   "metadata": {},
   "outputs": [
    {
     "name": "stdout",
     "output_type": "stream",
     "text": [
      "<generator object Executor.map.<locals>.result_iterator at 0x7f617404ee60>\n"
     ]
    }
   ],
   "source": [
    "threadnum=1\n",
    "fibnum=38\n",
    "with cf.ThreadPoolExecutor(max_workers=threadnum) as pool:\n",
    "    results = pool.map(fib, [fibnum] * workernum)\n",
    "    print(results)"
   ]
  },
  {
   "cell_type": "markdown",
   "metadata": {},
   "source": [
    "### Multiprocess queues\n",
    "When using multiple processes, the issue that comes up is **how to exchange data \n",
    "between the workers**. \n",
    "\n",
    "The multiprocessing module offers a mechanism to do that \n",
    "in the form of **queues and pipes**. \n",
    "\n",
    "The **multiprocessing.Queue** class is modeled after the queue.Queue class with the \n",
    "additional twist that **items stored in the multiprocessing queue need to be pickable**.\n"
   ]
  },
  {
   "cell_type": "code",
   "execution_count": 28,
   "metadata": {},
   "outputs": [],
   "source": [
    "def fib(n):\n",
    "    if n <= 2:\n",
    "        return 1\n",
    "    elif n == 0:\n",
    "        return 0\n",
    "    elif n < 0:\n",
    "        raise Exception('fib(n) is undefined for n < 0')\n",
    "    return fib(n - 1) + fib(n - 2)"
   ]
  },
  {
   "cell_type": "code",
   "execution_count": 29,
   "metadata": {},
   "outputs": [],
   "source": [
    "def worker(inq, outq): #input queue for the task (fib function and its argument), output queue for the results (integer)\n",
    "    while True:\n",
    "        data = inq.get()\n",
    "        if data is None:\n",
    "            return\n",
    "        fn, arg = data\n",
    "        outq.put(fn(arg))"
   ]
  },
  {
   "cell_type": "markdown",
   "metadata": {},
   "source": [
    "We use a **two-queue architecture**, whereby **one queue \n",
    "holds the tasks to be performed** (in this case, the function to be called and its only \n",
    "argument), while the **other queue holds the results** (simple integers in this example)."
   ]
  },
  {
   "cell_type": "code",
   "execution_count": 30,
   "metadata": {},
   "outputs": [],
   "source": [
    "import multiprocessing as mp\n",
    "\n",
    "workernum=4\n",
    "fibnum=34\n",
    "\n",
    "# We open two multiprocessing queues:\n",
    "tasks = mp.Queue()\n",
    "results = mp.Queue()\n",
    "\n",
    "for i in range(workernum):\n",
    "    tasks.put((fib, fibnum))"
   ]
  },
  {
   "cell_type": "code",
   "execution_count": 31,
   "metadata": {},
   "outputs": [],
   "source": [
    "for i in range(workernum):\n",
    "        mp.Process(target=worker, args=(tasks, results)).start()"
   ]
  },
  {
   "cell_type": "code",
   "execution_count": 32,
   "metadata": {},
   "outputs": [
    {
     "name": "stdout",
     "output_type": "stream",
     "text": [
      "5702887\n",
      "5702887\n",
      "5702887\n",
      "5702887\n"
     ]
    }
   ],
   "source": [
    "for i in range(workernum):\n",
    "        print(results.get())"
   ]
  },
  {
   "cell_type": "code",
   "execution_count": 33,
   "metadata": {},
   "outputs": [],
   "source": [
    "for i in range(workernum):\n",
    "        tasks.put(None)"
   ]
  },
  {
   "cell_type": "markdown",
   "metadata": {},
   "source": [
    "As we did previously, we use a sentinel value (None) in the task queue to signal that \n",
    "the worker processes should quit. The worker process is a simple multiprocessing.\n",
    "Process instance whose target is the worker function and whose behavior is the one \n",
    "that we just described."
   ]
  },
  {
   "cell_type": "markdown",
   "metadata": {},
   "source": [
    "Another piece of technology that might be worth investigating is **Cython**, a Python-like language to create C modules that is extremely popular and actively developed. Cython has excellent support for OpenMP, a directive-based API for C, \n",
    "C++, and Fortran, that allows programmers to easily multithread their code."
   ]
  },
  {
   "cell_type": "code",
   "execution_count": null,
   "metadata": {},
   "outputs": [],
   "source": []
  }
 ],
 "metadata": {
  "kernelspec": {
   "display_name": "Environment (conda_python3)",
   "language": "python",
   "name": "conda_python3"
  },
  "language_info": {
   "codemirror_mode": {
    "name": "ipython",
    "version": 3
   },
   "file_extension": ".py",
   "mimetype": "text/x-python",
   "name": "python",
   "nbconvert_exporter": "python",
   "pygments_lexer": "ipython3",
   "version": "3.6.5"
  }
 },
 "nbformat": 4,
 "nbformat_minor": 2
}
