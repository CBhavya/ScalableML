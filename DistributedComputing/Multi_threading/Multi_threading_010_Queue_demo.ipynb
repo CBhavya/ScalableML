{
 "cells": [
  {
   "cell_type": "markdown",
   "metadata": {},
   "source": [
    "Based on **Francesco Pierfederici: Distributed Computing with Python, Chapter 3**"
   ]
  },
  {
   "cell_type": "markdown",
   "metadata": {},
   "source": [
    "### Parallelism in Python"
   ]
  },
  {
   "cell_type": "markdown",
   "metadata": {},
   "source": [
    "Here we will look at **parallel programming** in more detail and see what facilities Python offers us to **make our code use more than one CPU core** at the time \n",
    "\n",
    "In this demo we will stay in the boundaries of a **single machine**. We will discuss **distributed systems later**. \n",
    "\n",
    "The main goal here will be **speed for CPU-intensive problems, and responsiveness for I/O-intensive code.**"
   ]
  },
  {
   "cell_type": "markdown",
   "metadata": {},
   "source": [
    "Let's start by writing a simple program that makes use of **multiple threads to \n",
    "download data** from the Web. "
   ]
  },
  {
   "cell_type": "code",
   "execution_count": 1,
   "metadata": {},
   "outputs": [],
   "source": [
    "#We start by importing the modules we need from the Standard Library (that is, threading, queue, and urllib.request).\n",
    "\n",
    "from time import time\n",
    "from threading import Thread\n",
    "from queue import Queue\n",
    "import urllib.request"
   ]
  },
  {
   "cell_type": "markdown",
   "metadata": {},
   "source": [
    "Here is a list of links that we want to download parallel."
   ]
  },
  {
   "cell_type": "code",
   "execution_count": 2,
   "metadata": {},
   "outputs": [],
   "source": [
    "links=[]\n",
    "links.append('https://www.stats.govt.nz/assets/Uploads/Annual-enterprise-survey/Annual-enterprise-survey-2017-financial-year-provisional/Download-data/annual-enterprise-survey-2017-financial-year-provisional-size-bands-csv.csv')\n",
    "links.append('https://www.stats.govt.nz/assets/Uploads/Household-living-costs-price-indexes/Household-living-costs-price-indexes-September-2018-quarter/Download-data/household-living-costs-price-indexes-sep18qtr-time-series-indexes.csv')\n",
    "links.append('https://www.stats.govt.nz/assets/Uploads/Annual-enterprise-survey/Annual-enterprise-survey-2017-financial-year-provisional/Download-data/annual-enterprise-survey-2017-financial-year-provisional-csv.csv')"
   ]
  },
  {
   "cell_type": "code",
   "execution_count": 3,
   "metadata": {},
   "outputs": [
    {
     "name": "stdout",
     "output_type": "stream",
     "text": [
      "https://www.stats.govt.nz/assets/Uploads/Annual-enterprise-survey/Annual-enterprise-survey-2017-financial-year-provisional/Download-data/annual-enterprise-survey-2017-financial-year-provisional-size-bands-csv.csv\n",
      "https://www.stats.govt.nz/assets/Uploads/Household-living-costs-price-indexes/Household-living-costs-price-indexes-September-2018-quarter/Download-data/household-living-costs-price-indexes-sep18qtr-time-series-indexes.csv\n",
      "https://www.stats.govt.nz/assets/Uploads/Annual-enterprise-survey/Annual-enterprise-survey-2017-financial-year-provisional/Download-data/annual-enterprise-survey-2017-financial-year-provisional-csv.csv\n"
     ]
    }
   ],
   "source": [
    "for link in links: print(link)"
   ]
  },
  {
   "cell_type": "markdown",
   "metadata": {},
   "source": [
    "Define a function \"get_content\" that downloads the content of \"act_url\" link, and outputs is to the \"outq\" Queue."
   ]
  },
  {
   "cell_type": "code",
   "execution_count": 4,
   "metadata": {},
   "outputs": [],
   "source": [
    "def get_content(act_url, outq):\n",
    "    with urllib.request.urlopen(act_url) as res:\n",
    "        body = res.read()\n",
    "    outq.put((act_url, body)) #put the (act_url, body) tupple to the outq queue"
   ]
  },
  {
   "cell_type": "markdown",
   "metadata": {},
   "source": [
    "Define a **thread-safe** queue (that is, an instance of Queue from the Python queue module).\n",
    "\n",
    "We call this queue \"outputq\". \n",
    "\n",
    "It will **hold the data produced by the various threads** that downloaded the contents of the the websites. \n"
   ]
  },
  {
   "cell_type": "code",
   "execution_count": 5,
   "metadata": {},
   "outputs": [],
   "source": [
    "outputq = Queue()"
   ]
  },
  {
   "cell_type": "markdown",
   "metadata": {},
   "source": [
    "Once we have the output queue, we then **spawn a new worker thread for each website link**. \n",
    "\n",
    "**Each worker thread simply runs the get_content function**, with the actual link and the output queue as arguments.\n"
   ]
  },
  {
   "cell_type": "code",
   "execution_count": 6,
   "metadata": {},
   "outputs": [],
   "source": [
    "for link in links:\n",
    "        # spawn a new thread \"t\" that will run the \"get_content\" function with \"kwargs\" arguments\n",
    "        t = Thread(target=get_content,\n",
    "                   kwargs={'act_url': link,\n",
    "                           'outq': outputq})\n",
    "        t.daemon = True\n",
    "        t.start() # start the thread"
   ]
  },
  {
   "cell_type": "markdown",
   "metadata": {},
   "source": [
    "A thread can be flagged as a daemon flag: If it is a daemon, then it will allow the main program to exit, \n",
    "i.e. the main program doesn't need to wait till all child threads are finished."
   ]
  },
  {
   "cell_type": "markdown",
   "metadata": {},
   "source": [
    "The main difficulty in using threads to perform actions in parallel is that\n",
    "**we cannot tell when a given thread will read or write any data shared with other threads.**"
   ]
  },
  {
   "cell_type": "markdown",
   "metadata": {},
   "source": [
    "One way out of synchronization problems like these is the use of **locks**: so that only one thread can write at a given time.\n",
    "\n",
    "The Queue class helps in threaded programming when **information must be exchanged safely between multiple threads**. \n",
    "The Queue class in this module **implements all the required locking semantics**.\n",
    "\n",
    "Thread-safe queues are a very convenient example of lock-based data structures that we can use \n",
    "to organize data access.\n",
    "\n",
    "Since **each thread writes to the same output queue**, we might just as well **monitor \n",
    "that queue to know when results are ready** and it is time to quit. "
   ]
  },
  {
   "cell_type": "markdown",
   "metadata": {},
   "source": [
    "Here, we do that by simply fetching one result from the queue per link (the loop over links)\n",
    "\n",
    "and by waiting for the queue to join (outputq.join()), \n",
    "\n",
    "which will happen when all the results have been fetched (more precisely, when each get() method is followed by a call to task_done()). \n",
    "\n",
    "This way, **we are sure that our program does not quit prematurely**."
   ]
  },
  {
   "cell_type": "markdown",
   "metadata": {},
   "source": [
    "**Queue.task_done()**: Indicate that a formerly enqueued task is complete. \n",
    "\n",
    "For each **get()** used to fetch a task, a subsequent call to **task_done()** tells the queue that the processing on the task is complete.\n",
    "\n",
    "**Queue.join()**: Blocks until all items in the queue have been gotten and processed.\n",
    "\n",
    "The **count of unfinished tasks** **goes up** whenever an item is added to the queue. The count **goes down** whenever a consumer thread calls **task_done()** to indicate that the item was retrieved and all work on it is complete. When the count of unfinished tasks drops to zero, **join() unblocks**."
   ]
  },
  {
   "cell_type": "code",
   "execution_count": 7,
   "metadata": {},
   "outputs": [
    {
     "name": "stdout",
     "output_type": "stream",
     "text": [
      "https://www.stats.govt.nz/assets/Uploads/Annual-enterprise-survey/Annual-enterprise-survey-2017-financial-year-provisional/Download-data/annual-enterprise-survey-2017-financial-year-provisional-csv.csv b'Year,Industry_aggregation_NZSIOC,Industry_code_NZSIOC,Industry_name_NZSIOC,Units,Variable_code,Varia'\n",
      "***\n",
      "https://www.stats.govt.nz/assets/Uploads/Annual-enterprise-survey/Annual-enterprise-survey-2017-financial-year-provisional/Download-data/annual-enterprise-survey-2017-financial-year-provisional-size-bands-csv.csv b'year,industry_code_ANZSIC,industry_name_ANZSIC,rme_size_grp,variable,value,unit\\r\\n2011,A,\"Agriculture'\n",
      "***\n",
      "https://www.stats.govt.nz/assets/Uploads/Household-living-costs-price-indexes/Household-living-costs-price-indexes-September-2018-quarter/Download-data/household-living-costs-price-indexes-sep18qtr-time-series-indexes.csv b'hlpi_name,series_ref,quarter,hlpi,nzhec,nzhec_name,nzhec_short,level,index,change.q,change.a\\r\\nAll ho'\n",
      "***\n"
     ]
    }
   ],
   "source": [
    "for _ in links:\n",
    "    link, body = outputq.get()\n",
    "    print(link, body[:100])\n",
    "    print('***')\n",
    "    outputq.task_done() #signals when a thread is done\n",
    "outputq.join() #unblocks when all tasks are complete in the queue."
   ]
  },
  {
   "cell_type": "markdown",
   "metadata": {},
   "source": [
    "### Example without using threads:"
   ]
  },
  {
   "cell_type": "code",
   "execution_count": 10,
   "metadata": {},
   "outputs": [
    {
     "name": "stdout",
     "output_type": "stream",
     "text": [
      "0.75335693359375\n"
     ]
    }
   ],
   "source": [
    "# no threads\n",
    "q = Queue()\n",
    "t0 = time(); [get_content(p, q) for p in links]; dt = time() - t0; print(dt)"
   ]
  },
  {
   "cell_type": "markdown",
   "metadata": {},
   "source": [
    "### Example with threads:"
   ]
  },
  {
   "cell_type": "code",
   "execution_count": 11,
   "metadata": {},
   "outputs": [
    {
     "name": "stdout",
     "output_type": "stream",
     "text": [
      "0.3000946044921875\n"
     ]
    }
   ],
   "source": [
    "# threads can help!\n",
    "\n",
    "t0 = time();\n",
    "\n",
    "for link in links:\n",
    "        t = Thread(target=get_content,\n",
    "                   kwargs={'act_url': link,\n",
    "                           'outq': outputq})\n",
    "        t.daemon = True\n",
    "        t.start()\n",
    "        \n",
    "for _ in links:\n",
    "    link, body = outputq.get()\n",
    "    #print(link, body[:100])\n",
    "    outputq.task_done() #signals when a thread is done\n",
    "outputq.join()\n",
    "\n",
    "dt = time() - t0; print(dt)"
   ]
  },
  {
   "cell_type": "code",
   "execution_count": null,
   "metadata": {},
   "outputs": [],
   "source": []
  }
 ],
 "metadata": {
  "kernelspec": {
   "display_name": "Environment (conda_python3)",
   "language": "python",
   "name": "conda_python3"
  },
  "language_info": {
   "codemirror_mode": {
    "name": "ipython",
    "version": 3
   },
   "file_extension": ".py",
   "mimetype": "text/x-python",
   "name": "python",
   "nbconvert_exporter": "python",
   "pygments_lexer": "ipython3",
   "version": "3.6.5"
  }
 },
 "nbformat": 4,
 "nbformat_minor": 2
}
