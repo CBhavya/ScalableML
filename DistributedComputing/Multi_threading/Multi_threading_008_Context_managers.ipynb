{
 "cells": [
  {
   "cell_type": "markdown",
   "metadata": {},
   "source": [
    "**Based on Zaccone: Python Parallel Programming Cookbook** "
   ]
  },
  {
   "cell_type": "markdown",
   "metadata": {},
   "source": [
    "### Threads using the with statement "
   ]
  },
  {
   "cell_type": "markdown",
   "metadata": {},
   "source": [
    "with the help of the **with** statement, you can allocate and release some resource exactly where you need it; for \n",
    "this reason, the with statement is called a **context manager**. \n",
    "\n",
    "In the threading module, all the objects provided by the **acquire()** and **release()** methods may be used in a with \n",
    "statement block."
   ]
  },
  {
   "cell_type": "markdown",
   "metadata": {},
   "source": [
    "In tensorflow, this is how we can replace the close() method with context managers for a session:\n",
    "\n",
    "\\# Using the `close()` method. <br>\n",
    "sess = tf.Session() <br>\n",
    "sess.run(...) <br>\n",
    "sess.close() <br>\n",
    "\n",
    "\\# Using the `context manager`. <br>\n",
    "with tf.Session() as sess: <br>\n",
    "&nbsp;&nbsp;&nbsp;&nbsp;&nbsp;&nbsp; sess.run(...) <br>"
   ]
  },
  {
   "cell_type": "markdown",
   "metadata": {},
   "source": [
    "The following objects can be used as context managers for a with statement:\n",
    "* Lock\n",
    "* RLock\n",
    "* Condition\n",
    "* Semaphore"
   ]
  },
  {
   "cell_type": "markdown",
   "metadata": {},
   "source": [
    "This example shows the basic use of the with statement. We have a set with the most \n",
    "important synchronization primitives. So, we test them by calling each one with the with \n",
    "statement:"
   ]
  },
  {
   "cell_type": "code",
   "execution_count": 1,
   "metadata": {},
   "outputs": [],
   "source": [
    "import threading\n",
    "import logging"
   ]
  },
  {
   "cell_type": "code",
   "execution_count": 2,
   "metadata": {},
   "outputs": [],
   "source": [
    "#This embeds the thread name in every log message using the formatter code's %(threadName)s statement. \n",
    "#The logging module is thread-safe, so the messages from different threads are kept distinct in the output.\n",
    "\n",
    "logging.basicConfig(level=logging.DEBUG, format='(%(threadName)-10s) %(message)s',)"
   ]
  },
  {
   "cell_type": "code",
   "execution_count": 3,
   "metadata": {},
   "outputs": [],
   "source": [
    "def threading_with(statement):\n",
    "    # We don't need to use statement.acquire() and then statement.release()\n",
    "    # the with statement will automatically do it for us.\n",
    "    with statement:\n",
    "        logging.debug('%s acquired via with'  %statement)\n"
   ]
  },
  {
   "cell_type": "code",
   "execution_count": 4,
   "metadata": {},
   "outputs": [],
   "source": [
    "def threading_not_with(statement):\n",
    "    statement.acquire()\n",
    "    try:\n",
    "        logging.debug('%s acquired directly' %statement )\n",
    "    finally:\n",
    "        statement.release()\n"
   ]
  },
  {
   "cell_type": "code",
   "execution_count": 5,
   "metadata": {},
   "outputs": [],
   "source": [
    "#let's create a test battery\n",
    "lock = threading.Lock()\n",
    "rlock = threading.RLock()\n",
    "condition = threading.Condition()\n",
    "mutex = threading.Semaphore(1)\n",
    "threading_synchronization_list = [lock ,rlock , condition , mutex]\n"
   ]
  },
  {
   "cell_type": "code",
   "execution_count": 6,
   "metadata": {},
   "outputs": [
    {
     "name": "stderr",
     "output_type": "stream",
     "text": [
      "(Thread-4  ) <locked _thread.lock object at 0x7f4af82c3288> acquired via with\n",
      "(Thread-5  ) <locked _thread.lock object at 0x7f4af82c3288> acquired directly\n",
      "(Thread-6  ) <locked _thread.RLock object owner=139959621117696 count=1 at 0x7f4af8b1a5a0> acquired via with\n",
      "(Thread-7  ) <locked _thread.RLock object owner=139959629510400 count=1 at 0x7f4af8b1a5a0> acquired directly\n",
      "(Thread-8  ) <Condition(<locked _thread.RLock object owner=139959629510400 count=1 at 0x7f4af8b1a510>, 0)> acquired via with\n",
      "(Thread-9  ) <Condition(<locked _thread.RLock object owner=139959621117696 count=1 at 0x7f4af8b1a510>, 0)> acquired directly\n",
      "(Thread-10 ) <threading.Semaphore object at 0x7f4af82c4160> acquired via with\n",
      "(Thread-11 ) <threading.Semaphore object at 0x7f4af82c4160> acquired directly\n"
     ]
    }
   ],
   "source": [
    "#in the for cycle we call the threading_with e threading_no_with function\n",
    "for statement in threading_synchronization_list :\n",
    "    t1 = threading.Thread(target=threading_with, args=(statement,))\n",
    "    t2 = threading.Thread(target=threading_not_with, args=(statement,))\n",
    "    t1.start()\n",
    "    t2.start()\n",
    "    t1.join()\n",
    "    t2.join()\n"
   ]
  },
  {
   "cell_type": "code",
   "execution_count": null,
   "metadata": {},
   "outputs": [],
   "source": []
  },
  {
   "cell_type": "code",
   "execution_count": null,
   "metadata": {},
   "outputs": [],
   "source": []
  }
 ],
 "metadata": {
  "kernelspec": {
   "display_name": "Environment (conda_python3)",
   "language": "python",
   "name": "conda_python3"
  },
  "language_info": {
   "codemirror_mode": {
    "name": "ipython",
    "version": 3
   },
   "file_extension": ".py",
   "mimetype": "text/x-python",
   "name": "python",
   "nbconvert_exporter": "python",
   "pygments_lexer": "ipython3",
   "version": "3.6.5"
  }
 },
 "nbformat": 4,
 "nbformat_minor": 2
}
