{
 "cells": [
  {
   "cell_type": "markdown",
   "metadata": {},
   "source": [
    "**Based on Zaccone: Python Parallel Programming Cookbook** "
   ]
  },
  {
   "cell_type": "markdown",
   "metadata": {},
   "source": [
    "### Thread synchronization with a condition"
   ]
  },
  {
   "cell_type": "markdown",
   "metadata": {},
   "source": [
    "A condition identifies a change of state in the application. This is a synchronization \n",
    "mechanism where a thread waits for a specific condition and another thread notifies that this \n",
    "condition has taken place. Once the condition takes place, the thread acquires the lock to get \n",
    "exclusive access to the shared resource."
   ]
  },
  {
   "cell_type": "markdown",
   "metadata": {},
   "source": [
    "A good way to illustrate this mechanism is by looking again at a producer/consumer problem:\n",
    "\n",
    "* The class **producer** writes to a buffer as long as it is not full\n",
    "\n",
    "* The class **producer** will notify the consumer that the buffer is not empty, \n",
    "\n",
    "* the class **consumer** takes the data from the buffer (eliminating them from the latter), as long as the buffer is not empty. \n",
    "\n",
    "* while the **consumer** will report to the producer that the buffer is not full."
   ]
  },
  {
   "cell_type": "code",
   "execution_count": 1,
   "metadata": {},
   "outputs": [],
   "source": [
    "# import Condition!\n",
    "from threading import Thread, Condition\n",
    "import time\n",
    "\n",
    "items = []\n",
    "condition = Condition()\n"
   ]
  },
  {
   "cell_type": "code",
   "execution_count": 2,
   "metadata": {},
   "outputs": [],
   "source": [
    "class consumer(Thread):\n",
    "    def __init__(self):\n",
    "        Thread.__init__(self)\n",
    "\n",
    "    def consume(self):\n",
    "        global condition\n",
    "        global items\n",
    "        \n",
    "        # The class consumer acquires the shared resource that is modeled through the list items[]:\n",
    "        condition.acquire()\n",
    "        \n",
    "        #If the length of the list is equal to 0, the consumer is placed in a waiting state:\n",
    "        if len(items) == 0:\n",
    "            condition.wait()\n",
    "            print(\"Consumer notify : no item to consume\")\n",
    "            \n",
    "        #Otherwise, it makes a pop operation from the items list:\n",
    "        items.pop()\n",
    "        print(\"Consumer notify : consumed 1 item\")\n",
    "        print(\"Consumer notify : items to consume are \"+ str(len(items)))\n",
    "        \n",
    "        #The consumer's state is notified to the producer and the shared resource is released:\n",
    "        condition.notify()\n",
    "        condition.release()\n",
    "\n",
    "    def run(self):\n",
    "        # run 10 iterations\n",
    "        for i in range(0,10):\n",
    "            time.sleep(3)\n",
    "            self.consume()\n"
   ]
  },
  {
   "cell_type": "code",
   "execution_count": 3,
   "metadata": {},
   "outputs": [],
   "source": [
    "class producer(Thread):\n",
    "    def __init__(self):\n",
    "        Thread.__init__(self)\n",
    "\n",
    "    def produce(self):\n",
    "        global condition\n",
    "        global items\n",
    "\n",
    "        # The class producer acquires the shared resource and then it verifies that the list is completely \n",
    "        # full (in our example, we place the maximum number of items, 10, that can be contained in \n",
    "        # the items list). \n",
    "        # If the list is full, then the producer is placed in the wait state until the list is  consumed:\n",
    "        \n",
    "        condition.acquire()\n",
    "        if len(items) == 10:\n",
    "            condition.wait()\n",
    "            print(\"Producer notify : items producted are \" + str(len(items)))\n",
    "            print(\"Producer notify : stop the production!!\")\n",
    "        items.append(1)\n",
    "        print(\"Producer notify : total items producted \" + str(len(items)))\n",
    "        condition.notify()\n",
    "        condition.release()\n",
    "\n",
    "    def run(self):\n",
    "        # run 10 iterations\n",
    "        for i in range(0,20):\n",
    "            time.sleep(1)\n",
    "            self.produce()\n",
    "\n"
   ]
  },
  {
   "cell_type": "code",
   "execution_count": 4,
   "metadata": {},
   "outputs": [
    {
     "name": "stdout",
     "output_type": "stream",
     "text": [
      "Producer notify : total items producted 1\n",
      "Producer notify : total items producted 2\n",
      "Producer notify : total items producted 3\n",
      "Consumer notify : consumed 1 item\n",
      "Consumer notify : items to consume are 2\n",
      "Producer notify : total items producted 3\n",
      "Producer notify : total items producted 4\n",
      "Consumer notify : consumed 1 item\n",
      "Consumer notify : items to consume are 3\n",
      "Producer notify : total items producted 4\n",
      "Producer notify : total items producted 5\n",
      "Producer notify : total items producted 6\n",
      "Consumer notify : consumed 1 item\n",
      "Consumer notify : items to consume are 5\n",
      "Producer notify : total items producted 6\n",
      "Producer notify : total items producted 7\n",
      "Producer notify : total items producted 8\n",
      "Consumer notify : consumed 1 item\n",
      "Consumer notify : items to consume are 7\n",
      "Producer notify : total items producted 8\n",
      "Producer notify : total items producted 9\n",
      "Producer notify : total items producted 10\n",
      "Consumer notify : consumed 1 item\n",
      "Consumer notify : items to consume are 9\n",
      "Producer notify : total items producted 10\n",
      "Consumer notify : consumed 1 item\n",
      "Consumer notify : items to consume are 9\n",
      "Producer notify : items producted are 9\n",
      "Producer notify : stop the production!!\n",
      "Producer notify : total items producted 10\n",
      "Consumer notify : consumed 1 item\n",
      "Consumer notify : items to consume are 9\n",
      "Producer notify : items producted are 9\n",
      "Producer notify : stop the production!!\n",
      "Producer notify : total items producted 10\n",
      "Consumer notify : consumed 1 item\n",
      "Consumer notify : items to consume are 9\n",
      "Producer notify : items producted are 9\n",
      "Producer notify : stop the production!!\n",
      "Producer notify : total items producted 10\n",
      "Consumer notify : consumed 1 item\n",
      "Consumer notify : items to consume are 9\n",
      "Producer notify : items producted are 9\n",
      "Producer notify : stop the production!!\n",
      "Producer notify : total items producted 10\n",
      "Consumer notify : consumed 1 item\n",
      "Consumer notify : items to consume are 9\n",
      "Producer notify : items producted are 9\n",
      "Producer notify : stop the production!!\n",
      "Producer notify : total items producted 10\n"
     ]
    }
   ],
   "source": [
    "producer = producer()\n",
    "consumer = consumer()\n",
    "producer.start()\n",
    "consumer.start()\n",
    "producer.join()\n",
    "consumer.join()\n"
   ]
  },
  {
   "cell_type": "code",
   "execution_count": null,
   "metadata": {},
   "outputs": [],
   "source": []
  },
  {
   "cell_type": "code",
   "execution_count": null,
   "metadata": {},
   "outputs": [],
   "source": []
  }
 ],
 "metadata": {
  "kernelspec": {
   "display_name": "Environment (conda_python3)",
   "language": "python",
   "name": "conda_python3"
  },
  "language_info": {
   "codemirror_mode": {
    "name": "ipython",
    "version": 3
   },
   "file_extension": ".py",
   "mimetype": "text/x-python",
   "name": "python",
   "nbconvert_exporter": "python",
   "pygments_lexer": "ipython3",
   "version": "3.6.5"
  }
 },
 "nbformat": 4,
 "nbformat_minor": 2
}
