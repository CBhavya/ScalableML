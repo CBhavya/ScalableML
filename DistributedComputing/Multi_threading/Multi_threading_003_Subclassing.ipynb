{
 "cells": [
  {
   "cell_type": "markdown",
   "metadata": {},
   "source": [
    "**Based on Zaccone: Python Parallel Programming Cookbook** "
   ]
  },
  {
   "cell_type": "markdown",
   "metadata": {},
   "source": [
    "### How to use a thread in a subclass"
   ]
  },
  {
   "cell_type": "markdown",
   "metadata": {},
   "source": [
    "To **implement a new thread using the threading module**, you have to do the following:\n",
    "\n",
    "* Define a new subclass of the Thread class\n",
    "\n",
    "* Override the _init__(self [,args]) method to add additional arguments\n",
    "\n",
    "* Then, you need to override the run(self [,args]) method to implement what the thread should do when it is started\n",
    "\n",
    "Once you have created the new Thread subclass, you can create an instance of it and then \n",
    "**start a new thread by invoking the start() method, which will, in turn, call the run() method**."
   ]
  },
  {
   "cell_type": "markdown",
   "metadata": {},
   "source": [
    "To implement a thread in a subclass, we define the myThread class. It has two methods that must be overridden with the thread's arguments"
   ]
  },
  {
   "cell_type": "code",
   "execution_count": 1,
   "metadata": {},
   "outputs": [
    {
     "name": "stdout",
     "output_type": "stream",
     "text": [
      "Main Process Started\n",
      "Thread Starting\n",
      "\n",
      "Hello from the thread!\n",
      "\n",
      "...waiting to complete...\n",
      "Hello from the thread!\n",
      "\n",
      "Hello from the thread!\n",
      "\n",
      "Hello from the thread!\n",
      "\n",
      "Hello from the thread!\n",
      "\n",
      "Thread Ended\n",
      "\n",
      "Main Process Ended\n"
     ]
    }
   ],
   "source": [
    "## To use threads you need import Thread using the following code:\n",
    "from threading import Thread\n",
    "\n",
    "##Also we use the sleep function to make the thread \"sleep\" \n",
    "from time import sleep\n",
    "\n",
    "## To create a thread in Python you'll want to make your class work as a thread.\n",
    "## For this, you should subclass your class from the Thread class\n",
    "class myThread(Thread):\n",
    "    def __init__(self):\n",
    "        Thread.__init__(self)\n",
    "        self.message = \"Hello from the thread!\\n\"\n",
    "\n",
    "##this method thod prints only the message \n",
    "    def print_message(self):\n",
    "        print (self.message)\n",
    "\n",
    "##The run method prints 5 times the message \n",
    "    def run(self):\n",
    "        print (\"Thread Starting\\n\")\n",
    "        x=0\n",
    "        while (x < 5):\n",
    "            self.print_message()\n",
    "            sleep(2)\n",
    "            x += 1\n",
    "        print (\"Thread Ended\\n\")\n",
    "\n",
    "#start the main process\n",
    "print (\"Main Process Started\")\n",
    "\n",
    "# create an instance of the HelloWorld class\n",
    "hello_Python = myThread()\n",
    "\n",
    "# print the message...starting the thread\n",
    "hello_Python.start()\n",
    "\n",
    "\n",
    "# Wait for the thread to complete \n",
    "print(\"...waiting to complete...\")\n",
    "hello_Python.join()\n",
    "\n",
    "#end the main process\n",
    "print (\"Main Process Ended\")\n"
   ]
  },
  {
   "cell_type": "markdown",
   "metadata": {},
   "source": [
    "Here is another example for subclassing the threading.Thread class:"
   ]
  },
  {
   "cell_type": "code",
   "execution_count": 2,
   "metadata": {},
   "outputs": [
    {
     "name": "stdout",
     "output_type": "stream",
     "text": [
      "Starting Thread-1\n",
      "Counter:1, Thread-1  is going to sleep\n",
      "Starting Thread-2\n",
      "Counter:2, Thread-2  is going to sleep\n",
      "Thread-1: Tue Jan 22 14:44:34 2019Thread-2: Tue Jan 22 14:44:34 2019\n",
      "Counter:1, Thread-2  is going to sleep\n",
      "\n",
      "Exiting Thread-1\n",
      "Thread-2: Tue Jan 22 14:44:37 2019\n",
      "Exiting Thread-2\n",
      "Exiting Main Thread\n"
     ]
    }
   ],
   "source": [
    "import threading\n",
    "import time\n",
    "\n",
    "\n",
    "#Each thread is represented by a class that extends the Thread class and overrides its run() method. \n",
    "#Then, this method becomes the starting point of the thread.\n",
    "\n",
    "class myThread (threading.Thread):\n",
    "    # Let us overide the __init__ method:\n",
    "    def __init__(self, threadID, name, counter):\n",
    "        threading.Thread.__init__(self)\n",
    "        self.threadID = threadID\n",
    "        self.name = name\n",
    "        self.counter = counter\n",
    "        \n",
    "    # Let us overide the run method:    \n",
    "    def run(self):\n",
    "        print (\"Starting \" + self.name)\n",
    "        print_time(self.name, self.counter, 3)\n",
    "        print (\"Exiting \" + self.name)\n",
    "\n",
    "def print_time(threadName, counter, delay):\n",
    "    while counter:\n",
    "        print(\"Counter:{}, {}  is going to sleep\".format(counter,threadName))    \n",
    "        time.sleep(delay)\n",
    "        print (\"%s: %s\" %(threadName, time.ctime(time.time())))\n",
    "        counter -= 1\n",
    "\n",
    "# Create new threads\n",
    "thread1 = myThread(threadID=1, name=\"Thread-1\", counter=1)\n",
    "thread2 = myThread(threadID=2, name=\"Thread-2\", counter=2)\n",
    "\n",
    "# Start new Threads\n",
    "thread1.start()\n",
    "thread2.start()\n",
    "\n",
    "# Wait for all threads to complete \n",
    "thread1.join()\n",
    "thread2.join()\n",
    "\n",
    "print (\"Exiting Main Thread\")\n",
    "\n",
    "\n",
    "\n",
    "\n",
    "  "
   ]
  },
  {
   "cell_type": "code",
   "execution_count": null,
   "metadata": {},
   "outputs": [],
   "source": []
  }
 ],
 "metadata": {
  "kernelspec": {
   "display_name": "Environment (conda_python3)",
   "language": "python",
   "name": "conda_python3"
  },
  "language_info": {
   "codemirror_mode": {
    "name": "ipython",
    "version": 3
   },
   "file_extension": ".py",
   "mimetype": "text/x-python",
   "name": "python",
   "nbconvert_exporter": "python",
   "pygments_lexer": "ipython3",
   "version": "3.6.5"
  }
 },
 "nbformat": 4,
 "nbformat_minor": 2
}
