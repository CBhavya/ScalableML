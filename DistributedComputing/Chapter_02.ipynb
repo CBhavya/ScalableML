{
 "cells": [
  {
   "cell_type": "markdown",
   "metadata": {},
   "source": [
    "# Iterators"
   ]
  },
  {
   "cell_type": "markdown",
   "metadata": {},
   "source": [
    "Most Python programmers are familiar with the concept of iterating some sort of \n",
    "collection (for example, strings, lists, tuples, file objects, and so on):\n"
   ]
  },
  {
   "cell_type": "code",
   "execution_count": 1,
   "metadata": {},
   "outputs": [
    {
     "name": "stdout",
     "output_type": "stream",
     "text": [
      "0\n",
      "1\n",
      "2\n"
     ]
    }
   ],
   "source": [
    "for i in range(3):\n",
    "    print(i)"
   ]
  },
  {
   "cell_type": "code",
   "execution_count": 2,
   "metadata": {},
   "outputs": [
    {
     "name": "stdout",
     "output_type": "stream",
     "text": [
      "Hello\n",
      "World!\n",
      "How are you doing today?\n",
      ":-)\n",
      "\n",
      "\n"
     ]
    }
   ],
   "source": [
    "for line in open('hello_world.txt'):\n",
    "...     print(line, end='')"
   ]
  },
  {
   "cell_type": "markdown",
   "metadata": {},
   "source": [
    "The reason why we can iterate all sorts of objects and not just lists or strings is the \n",
    "iteration protocol. The iteration protocol defines a standard interface for iteration: \n",
    "an object that implements __iter__ and __next__ (or __iter__ and next in Python \n",
    "2.x) is an iterator and, as the name suggests, can be iterated over, as shown in the \n",
    "following code snippet"
   ]
  },
  {
   "cell_type": "code",
   "execution_count": 4,
   "metadata": {},
   "outputs": [],
   "source": [
    "class MyIterator(object):\n",
    "    def __init__(self, xs):\n",
    "        self.xs = xs\n",
    "\n",
    "    def __iter__(self):\n",
    "        return self\n",
    "\n",
    "    def __next__(self):\n",
    "        if self.xs:\n",
    "            return self.xs.pop(0)\n",
    "        else:\n",
    "            raise StopIteration"
   ]
  },
  {
   "cell_type": "code",
   "execution_count": 6,
   "metadata": {},
   "outputs": [
    {
     "name": "stdout",
     "output_type": "stream",
     "text": [
      "a\n",
      "b\n",
      "c\n"
     ]
    }
   ],
   "source": [
    "for i in MyIterator(['a', 'b', 'c']):\n",
    "    print(i)"
   ]
  },
  {
   "cell_type": "markdown",
   "metadata": {},
   "source": [
    "\\__iter__   returns the object we iterate, and the \\__next__ method returns the individual \n",
    "elements of the sequence one by one."
   ]
  },
  {
   "cell_type": "markdown",
   "metadata": {},
   "source": [
    "To better see how the protocol works, we can unroll the loop manually as the \n",
    "following piece of code shows:\n"
   ]
  },
  {
   "cell_type": "code",
   "execution_count": 10,
   "metadata": {},
   "outputs": [
    {
     "name": "stdout",
     "output_type": "stream",
     "text": [
      "3\n",
      "4\n"
     ]
    }
   ],
   "source": [
    "itrtr = MyIterator([3, 4, 5, 6])\n",
    "\n",
    "print(next(itrtr))\n",
    "print(next(itrtr))"
   ]
  },
  {
   "cell_type": "markdown",
   "metadata": {},
   "source": [
    "Once the sequence is exhausted, next() throws a StopIteration \n",
    "exception. The for loop in Python, for instance, uses the same mechanism; it calls \n",
    "next() on its iterator and catches the StopIteration exception to know when to stop."
   ]
  },
  {
   "cell_type": "code",
   "execution_count": 11,
   "metadata": {},
   "outputs": [
    {
     "name": "stdout",
     "output_type": "stream",
     "text": [
      "5\n",
      "6\n"
     ]
    },
    {
     "ename": "StopIteration",
     "evalue": "",
     "output_type": "error",
     "traceback": [
      "\u001b[0;31m---------------------------------------------------------------------------\u001b[0m",
      "\u001b[0;31mStopIteration\u001b[0m                             Traceback (most recent call last)",
      "\u001b[0;32m<ipython-input-11-ece17268861b>\u001b[0m in \u001b[0;36m<module>\u001b[0;34m()\u001b[0m\n\u001b[1;32m      1\u001b[0m \u001b[0mprint\u001b[0m\u001b[0;34m(\u001b[0m\u001b[0mnext\u001b[0m\u001b[0;34m(\u001b[0m\u001b[0mitrtr\u001b[0m\u001b[0;34m)\u001b[0m\u001b[0;34m)\u001b[0m\u001b[0;34m\u001b[0m\u001b[0m\n\u001b[1;32m      2\u001b[0m \u001b[0mprint\u001b[0m\u001b[0;34m(\u001b[0m\u001b[0mnext\u001b[0m\u001b[0;34m(\u001b[0m\u001b[0mitrtr\u001b[0m\u001b[0;34m)\u001b[0m\u001b[0;34m)\u001b[0m\u001b[0;34m\u001b[0m\u001b[0m\n\u001b[0;32m----> 3\u001b[0;31m \u001b[0mprint\u001b[0m\u001b[0;34m(\u001b[0m\u001b[0mnext\u001b[0m\u001b[0;34m(\u001b[0m\u001b[0mitrtr\u001b[0m\u001b[0;34m)\u001b[0m\u001b[0;34m)\u001b[0m\u001b[0;34m\u001b[0m\u001b[0m\n\u001b[0m",
      "\u001b[0;32m<ipython-input-4-b67cbc99a635>\u001b[0m in \u001b[0;36m__next__\u001b[0;34m(self)\u001b[0m\n\u001b[1;32m     10\u001b[0m             \u001b[0;32mreturn\u001b[0m \u001b[0mself\u001b[0m\u001b[0;34m.\u001b[0m\u001b[0mxs\u001b[0m\u001b[0;34m.\u001b[0m\u001b[0mpop\u001b[0m\u001b[0;34m(\u001b[0m\u001b[0;36m0\u001b[0m\u001b[0;34m)\u001b[0m\u001b[0;34m\u001b[0m\u001b[0m\n\u001b[1;32m     11\u001b[0m         \u001b[0;32melse\u001b[0m\u001b[0;34m:\u001b[0m\u001b[0;34m\u001b[0m\u001b[0m\n\u001b[0;32m---> 12\u001b[0;31m             \u001b[0;32mraise\u001b[0m \u001b[0mStopIteration\u001b[0m\u001b[0;34m\u001b[0m\u001b[0m\n\u001b[0m",
      "\u001b[0;31mStopIteration\u001b[0m: "
     ]
    }
   ],
   "source": [
    "print(next(itrtr))\n",
    "print(next(itrtr))\n",
    "print(next(itrtr))"
   ]
  },
  {
   "cell_type": "markdown",
   "metadata": {},
   "source": [
    "# Generators"
   ]
  },
  {
   "cell_type": "markdown",
   "metadata": {},
   "source": [
    "A generator is simply a callable that generates a sequence of results rather than \n",
    "returning a result. This is achieved by yielding (by way of using the yield keyword) \n",
    "the individual values rather then returning them, as we can see in the following \n",
    "example (generators.py):\n"
   ]
  },
  {
   "cell_type": "code",
   "execution_count": 14,
   "metadata": {},
   "outputs": [
    {
     "name": "stdout",
     "output_type": "stream",
     "text": [
      "2\n",
      "1\n",
      "0\n"
     ]
    }
   ],
   "source": [
    "def mygenerator(n):\n",
    "    while n:\n",
    "        n -= 1\n",
    "        yield n\n",
    "\n",
    "for i in mygenerator(3):\n",
    "    print(i)"
   ]
  },
  {
   "cell_type": "markdown",
   "metadata": {},
   "source": [
    "It is the simple presence of yield that makes mygenerator a generator and not a \n",
    "simple function. The interesting behavior in the preceding code is that calling the \n",
    "generator function does not start the generation of the sequence at all; it just creates \n",
    "a generator object, as the following example shows:"
   ]
  },
  {
   "cell_type": "code",
   "execution_count": 16,
   "metadata": {},
   "outputs": [],
   "source": [
    "g=mygenerator(2)"
   ]
  },
  {
   "cell_type": "code",
   "execution_count": 17,
   "metadata": {},
   "outputs": [
    {
     "data": {
      "text/plain": [
       "1"
      ]
     },
     "execution_count": 17,
     "metadata": {},
     "output_type": "execute_result"
    }
   ],
   "source": [
    "next(g)"
   ]
  },
  {
   "cell_type": "code",
   "execution_count": 18,
   "metadata": {},
   "outputs": [
    {
     "data": {
      "text/plain": [
       "0"
      ]
     },
     "execution_count": 18,
     "metadata": {},
     "output_type": "execute_result"
    }
   ],
   "source": [
    "next(g)"
   ]
  },
  {
   "cell_type": "code",
   "execution_count": 19,
   "metadata": {},
   "outputs": [
    {
     "ename": "StopIteration",
     "evalue": "",
     "output_type": "error",
     "traceback": [
      "\u001b[0;31m---------------------------------------------------------------------------\u001b[0m",
      "\u001b[0;31mStopIteration\u001b[0m                             Traceback (most recent call last)",
      "\u001b[0;32m<ipython-input-19-e734f8aca5ac>\u001b[0m in \u001b[0;36m<module>\u001b[0;34m()\u001b[0m\n\u001b[0;32m----> 1\u001b[0;31m \u001b[0mnext\u001b[0m\u001b[0;34m(\u001b[0m\u001b[0mg\u001b[0m\u001b[0;34m)\u001b[0m\u001b[0;34m\u001b[0m\u001b[0m\n\u001b[0m",
      "\u001b[0;31mStopIteration\u001b[0m: "
     ]
    }
   ],
   "source": [
    "next(g)"
   ]
  },
  {
   "cell_type": "markdown",
   "metadata": {},
   "source": [
    "Each next() call produces a value from the generated sequence until the sequence \n",
    "is empty, and that is when we get the StopIteration exception instead. This is the \n",
    "same behavior that we saw when we looked at iterators. Essentially, generators  \n",
    "are a simple way to write iterators without the need for defining classes with their \n",
    "\\__iter__ and \\__next__ methods.\n",
    "\n",
    "As a side note, you should keep in mind that generators are one-shot operations; it is \n",
    "not possible to iterate the generated sequence more than once. To do that, you have \n",
    "to call the generator function again."
   ]
  },
  {
   "cell_type": "markdown",
   "metadata": {},
   "source": [
    "# Corutines "
   ]
  },
  {
   "cell_type": "markdown",
   "metadata": {},
   "source": [
    "The same yield expression used in generator functions to produce a sequence  \n",
    "of values can be used on the right-hand side of an assignment to consume values. \n",
    "This allows the creation of coroutines."
   ]
  },
  {
   "cell_type": "markdown",
   "metadata": {},
   "source": [
    "A coroutine is simply a type of function  \n",
    "that can suspend and resume its execution at well-defined locations in its code  \n",
    "(via yield expressions).\n",
    "\n",
    "It is important to keep in mind that coroutines, despite being implemented as \n",
    "enhanced generators, are not conceptually generators themselves. The reason is  \n",
    "that coroutines are not associated with iteration."
   ]
  },
  {
   "cell_type": "markdown",
   "metadata": {},
   "source": [
    "### Let's create some coroutines and see how we can use them. \n",
    "\n",
    "There are three main  constructs in coroutines, which are stated as follows:\n",
    "\n",
    "• yield(): This is used to suspend the execution of the coroutine <br>\n",
    "• send(): This is used to pass data to a coroutine (and hence resume its \n",
    "execution) <br>\n",
    "• close(): This is used to terminate a coroutine <br>"
   ]
  },
  {
   "cell_type": "code",
   "execution_count": 21,
   "metadata": {},
   "outputs": [],
   "source": [
    "def complain_about(substring):\n",
    "    print('Please talk to me!')\n",
    "    try:\n",
    "        while True:\n",
    "            text = (yield)\n",
    "            if substring in text:\n",
    "                print('Oh no: I found a %s again!'\n",
    "                      % (substring))\n",
    "    except GeneratorExit:\n",
    "        print('Ok, ok: I am quitting.')"
   ]
  },
  {
   "cell_type": "markdown",
   "metadata": {},
   "source": [
    "We start off by defining our coroutine; it is just a function (we called it complain_about) that takes a single argument: a string. \n",
    "\n",
    "After printing a message, it enters an infinite loop enclosed in a try except clause. \n",
    "\n",
    "This means that the only way to exit the loop is via an exception. \n",
    "\n",
    "We are particularly interested in a very specific exception: GeneratorExit. When we catch one of these, we simply clean up and quit.\n",
    "\n",
    "The body of the loop itself is pretty simple; we use a yield expression to fetch data (somehow) and store it in the variable text. Then, we simply check whether substring is in text, and if so, we whine a bit."
   ]
  },
  {
   "cell_type": "code",
   "execution_count": 29,
   "metadata": {},
   "outputs": [],
   "source": [
    "c = complain_about('Machine Learning')"
   ]
  },
  {
   "cell_type": "code",
   "execution_count": 30,
   "metadata": {},
   "outputs": [
    {
     "name": "stdout",
     "output_type": "stream",
     "text": [
      "Please talk to me!\n"
     ]
    }
   ],
   "source": [
    "next(c)"
   ]
  },
  {
   "cell_type": "code",
   "execution_count": 31,
   "metadata": {},
   "outputs": [],
   "source": [
    "c.send('Test data')"
   ]
  },
  {
   "cell_type": "code",
   "execution_count": 32,
   "metadata": {},
   "outputs": [],
   "source": [
    "c.send('Some more random text')"
   ]
  },
  {
   "cell_type": "code",
   "execution_count": 33,
   "metadata": {},
   "outputs": [
    {
     "name": "stdout",
     "output_type": "stream",
     "text": [
      "Oh no: I found a Machine Learning again!\n"
     ]
    }
   ],
   "source": [
    "c.send('I love Machine Learning because it is cool!')"
   ]
  },
  {
   "cell_type": "code",
   "execution_count": 34,
   "metadata": {},
   "outputs": [],
   "source": [
    "c.send('Hello')"
   ]
  },
  {
   "cell_type": "code",
   "execution_count": 35,
   "metadata": {},
   "outputs": [
    {
     "ename": "TypeError",
     "evalue": "argument of type 'NoneType' is not iterable",
     "output_type": "error",
     "traceback": [
      "\u001b[0;31m---------------------------------------------------------------------------\u001b[0m",
      "\u001b[0;31mTypeError\u001b[0m                                 Traceback (most recent call last)",
      "\u001b[0;32m<ipython-input-35-e846efec376d>\u001b[0m in \u001b[0;36m<module>\u001b[0;34m()\u001b[0m\n\u001b[0;32m----> 1\u001b[0;31m \u001b[0mnext\u001b[0m\u001b[0;34m(\u001b[0m\u001b[0mc\u001b[0m\u001b[0;34m)\u001b[0m\u001b[0;34m\u001b[0m\u001b[0m\n\u001b[0m",
      "\u001b[0;32m<ipython-input-21-a2287d9c7654>\u001b[0m in \u001b[0;36mcomplain_about\u001b[0;34m(substring)\u001b[0m\n\u001b[1;32m      4\u001b[0m         \u001b[0;32mwhile\u001b[0m \u001b[0;32mTrue\u001b[0m\u001b[0;34m:\u001b[0m\u001b[0;34m\u001b[0m\u001b[0m\n\u001b[1;32m      5\u001b[0m             \u001b[0mtext\u001b[0m \u001b[0;34m=\u001b[0m \u001b[0;34m(\u001b[0m\u001b[0;32myield\u001b[0m\u001b[0;34m)\u001b[0m\u001b[0;34m\u001b[0m\u001b[0m\n\u001b[0;32m----> 6\u001b[0;31m             \u001b[0;32mif\u001b[0m \u001b[0msubstring\u001b[0m \u001b[0;32min\u001b[0m \u001b[0mtext\u001b[0m\u001b[0;34m:\u001b[0m\u001b[0;34m\u001b[0m\u001b[0m\n\u001b[0m\u001b[1;32m      7\u001b[0m                 print('Oh no: I found a %s again!'\n\u001b[1;32m      8\u001b[0m                       % (substring))\n",
      "\u001b[0;31mTypeError\u001b[0m: argument of type 'NoneType' is not iterable"
     ]
    }
   ],
   "source": [
    "next(c)"
   ]
  },
  {
   "cell_type": "markdown",
   "metadata": {},
   "source": [
    "The execution of complain_about('Machine Learning') creates the coroutine, but nothing else \n",
    "seems to happen. \n",
    "\n",
    "In order to use the newly created coroutine, we need to call next() \n",
    "on it, just like we had to do with generators. In fact, we see that it is only after calling \n",
    "next() that we get Please talk to me! printed on the screen.\n",
    "\n",
    "At this point, the coroutine has reached the text = (yield) line, which means  \n",
    "that it suspends its execution. The control goes back to the interpreter so that we \n",
    "can send data to the coroutine itself. We do that using the its send() method."
   ]
  },
  {
   "cell_type": "markdown",
   "metadata": {},
   "source": [
    "We can stop the coroutine by calling its close() method, which results in a \n",
    "GeneratorExit exception being risen inside the coroutine. The only thing that a \n",
    "coroutine is allowed to do at this point is catch the exception, do some cleaning up, \n",
    "and exit. The following snippet shows how to close the coroutine:"
   ]
  },
  {
   "cell_type": "code",
   "execution_count": 36,
   "metadata": {},
   "outputs": [],
   "source": [
    "c.close()"
   ]
  },
  {
   "cell_type": "markdown",
   "metadata": {},
   "source": [
    "### Decorators"
   ]
  },
  {
   "cell_type": "markdown",
   "metadata": {},
   "source": [
    "When using coroutines, most people find having to call next() on the coroutine \n",
    "rather annoying and end up using a decorator to avoid the extra call, as the following \n",
    "example shows:"
   ]
  },
  {
   "cell_type": "code",
   "execution_count": 38,
   "metadata": {},
   "outputs": [],
   "source": [
    "def coroutine(fn):\n",
    "    def wrapper(*args, **kwargs):\n",
    "        c = fn(*args, **kwargs)\n",
    "        next(c)\n",
    "        return c\n",
    "    return wrapper"
   ]
  },
  {
   "cell_type": "code",
   "execution_count": 39,
   "metadata": {},
   "outputs": [],
   "source": [
    "@coroutine\n",
    "def complain_about2(substring):\n",
    "    print('Please talk to me!')\n",
    "    while True:\n",
    "        text = (yield)\n",
    "        if substring in text:\n",
    "            print('Oh no: I found a %s again!'% (substring))\n",
    "            "
   ]
  },
  {
   "cell_type": "code",
   "execution_count": 40,
   "metadata": {},
   "outputs": [
    {
     "name": "stdout",
     "output_type": "stream",
     "text": [
      "Please talk to me!\n"
     ]
    }
   ],
   "source": [
    "c = complain_about2('JavaScript')"
   ]
  },
  {
   "cell_type": "code",
   "execution_count": 41,
   "metadata": {},
   "outputs": [
    {
     "name": "stdout",
     "output_type": "stream",
     "text": [
      "Oh no: I found a JavaScript again!\n"
     ]
    }
   ],
   "source": [
    "c.send('Test data with JavaScript somewhere in it')"
   ]
  },
  {
   "cell_type": "code",
   "execution_count": 42,
   "metadata": {},
   "outputs": [],
   "source": [
    "c.send('Hello')"
   ]
  },
  {
   "cell_type": "code",
   "execution_count": 43,
   "metadata": {},
   "outputs": [],
   "source": [
    "c.close()"
   ]
  },
  {
   "cell_type": "markdown",
   "metadata": {},
   "source": [
    "Coroutines can be arranged in rather complex hierarchies, with one coroutine sending \n",
    "data to multiple other ones and getting data from multiple sources as well"
   ]
  },
  {
   "cell_type": "markdown",
   "metadata": {},
   "source": [
    "# An asynchronous example"
   ]
  },
  {
   "cell_type": "markdown",
   "metadata": {},
   "source": [
    "To keep things simple but still interesting, let's write a tool that, given a text file, will \n",
    "count the occurrences of a given word"
   ]
  },
  {
   "cell_type": "code",
   "execution_count": 61,
   "metadata": {},
   "outputs": [],
   "source": [
    "# !time(!grep -io love pg2600.txt | wc -l)"
   ]
  },
  {
   "cell_type": "code",
   "execution_count": 62,
   "metadata": {},
   "outputs": [],
   "source": [
    "def coroutine(fn):\n",
    "    def wrapper(*args, **kwargs):\n",
    "        c = fn(*args, **kwargs)\n",
    "        next(c)\n",
    "        return c\n",
    "    return wrapper"
   ]
  },
  {
   "cell_type": "code",
   "execution_count": 73,
   "metadata": {},
   "outputs": [],
   "source": [
    "#Reading the file line by line (done by the cat function)\n",
    "\n",
    "#The first function, cat, acts as the data source for the whole program; it reads the \n",
    "#file line by line and sends each line to grep (child.send(line)). If we want a \n",
    "#case-insensitive match, then we simply make line lowercase; otherwise, we pass it \n",
    "#unchanged.\n",
    "\n",
    "def cat(f, case_insensitive, child):\n",
    "    if case_insensitive:\n",
    "        line_processor = lambda l: l.lower()\n",
    "    else:\n",
    "        line_processor = lambda l: l\n",
    "\n",
    "    for line in f:\n",
    "        child.send(line_processor(line))"
   ]
  },
  {
   "cell_type": "code",
   "execution_count": 64,
   "metadata": {},
   "outputs": [],
   "source": [
    "#Counting the occurrences of substring in each line\n",
    "\n",
    "#The grep command is our first coroutine. In it, we enter an infinite loop where we \n",
    "#keep receiving data (text = (yield)), count the occurrences of substring in \n",
    "#text, and send that number of occurrences to the next coroutine (count in our case): \n",
    "#child.send(text.count(substring))).\n",
    "\n",
    "@coroutine\n",
    "def grep(substring, case_insensitive, child):\n",
    "    if case_insensitive:\n",
    "        substring = substring.lower()\n",
    "    while True:\n",
    "        text = (yield)\n",
    "        child.send(text.count(substring))"
   ]
  },
  {
   "cell_type": "code",
   "execution_count": 72,
   "metadata": {},
   "outputs": [],
   "source": [
    "#Adding up all the numbers and printing out the total\n",
    "\n",
    "#The count coroutine keeps a running total, n, of the numbers it receives, (n += \n",
    "#(yield)), from grep. It catches the GeneratorExit exception sent to each coroutine \n",
    "#when they are closed (which in our case happens automatically when we reach the \n",
    "#end of the file) to know when to print out substring and n\n",
    "\n",
    "@coroutine\n",
    "def count(substring):\n",
    "    n = 0\n",
    "    try:\n",
    "        while True:\n",
    "            n += (yield)\n",
    "    except GeneratorExit:\n",
    "        print(substring, n)"
   ]
  },
  {
   "cell_type": "code",
   "execution_count": 77,
   "metadata": {},
   "outputs": [
    {
     "name": "stdout",
     "output_type": "stream",
     "text": [
      "love 677\n"
     ]
    }
   ],
   "source": [
    "cat(f=open('pg2600.txt'), case_insensitive=True, child=grep(substring='love', case_insensitive=True, child=count('love')))"
   ]
  },
  {
   "cell_type": "markdown",
   "metadata": {},
   "source": [
    "Things become interesting when we start organizing coroutines into complex  \n",
    "graphs. For instance, we might want to count the concurrence of multiple words  \n",
    "in the input file."
   ]
  },
  {
   "cell_type": "code",
   "execution_count": 78,
   "metadata": {},
   "outputs": [],
   "source": [
    "def coroutine(fn):\n",
    "    def wrapper(*args, **kwargs):\n",
    "        c = fn(*args, **kwargs)\n",
    "        next(c)\n",
    "        return c\n",
    "    return wrapper\n",
    "\n",
    "def cat(f, case_insensitive, child):\n",
    "    if case_insensitive:\n",
    "        line_processor = lambda l: l.lower()\n",
    "    else:\n",
    "        line_processor = lambda l: l\n",
    "\n",
    "    for line in f:\n",
    "        child.send(line_processor(line))\n",
    "\n",
    "@coroutine\n",
    "def grep(substring, case_insensitive, child):\n",
    "    if case_insensitive:\n",
    "        substring = substring.lower()\n",
    "    while True:\n",
    "        text = (yield)\n",
    "        child.send(text.count(substring))\n",
    "\n",
    "@coroutine\n",
    "def count(substring):\n",
    "    n = 0\n",
    "    try:\n",
    "        while True:\n",
    "            n += (yield)\n",
    "    except GeneratorExit:\n",
    "        print(substring, n)\n",
    "\n",
    "@coroutine\n",
    "def fanout(children):\n",
    "    while True:\n",
    "        data = (yield)\n",
    "        for child in children:\n",
    "            child.send(data)"
   ]
  },
  {
   "cell_type": "code",
   "execution_count": 81,
   "metadata": {},
   "outputs": [
    {
     "name": "stdout",
     "output_type": "stream",
     "text": [
      "hate 103\n",
      "love 677\n",
      "hope 158\n"
     ]
    }
   ],
   "source": [
    "cat(f=open('pg2600.txt'), case_insensitive=True, child=fanout(children=[grep(substring=p,case_insensitive=True,child=count(p)) for p in ['love','hate','hope']]))"
   ]
  },
  {
   "cell_type": "markdown",
   "metadata": {},
   "source": [
    "Python 3.4 introduced a new library for asynchronous I/O called asyncio.\n",
    "Python 3.5 introduced true coroutine types via async def and await"
   ]
  },
  {
   "cell_type": "code",
   "execution_count": null,
   "metadata": {},
   "outputs": [],
   "source": []
  }
 ],
 "metadata": {
  "kernelspec": {
   "display_name": "Environment (conda_python3)",
   "language": "python",
   "name": "conda_python3"
  },
  "language_info": {
   "codemirror_mode": {
    "name": "ipython",
    "version": 3
   },
   "file_extension": ".py",
   "mimetype": "text/x-python",
   "name": "python",
   "nbconvert_exporter": "python",
   "pygments_lexer": "ipython3",
   "version": "3.6.5"
  }
 },
 "nbformat": 4,
 "nbformat_minor": 2
}
