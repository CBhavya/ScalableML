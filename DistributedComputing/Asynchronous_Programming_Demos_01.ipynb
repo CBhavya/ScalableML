{
 "cells": [
  {
   "cell_type": "markdown",
   "metadata": {},
   "source": [
    "Based on **Francesco Pierfederici: Distributed Computing with Python, Chapter 2**"
   ]
  },
  {
   "cell_type": "markdown",
   "metadata": {},
   "source": [
    "# Iterators"
   ]
  },
  {
   "cell_type": "markdown",
   "metadata": {},
   "source": [
    "Most Python programmers are familiar with the concept of **iterating some sort of \n",
    "collection** (for example, strings, lists, tuples, ranges, file objects, and so on):\n"
   ]
  },
  {
   "cell_type": "code",
   "execution_count": 1,
   "metadata": {},
   "outputs": [
    {
     "data": {
      "text/plain": [
       "range"
      ]
     },
     "execution_count": 1,
     "metadata": {},
     "output_type": "execute_result"
    }
   ],
   "source": [
    "type(range(3))"
   ]
  },
  {
   "cell_type": "markdown",
   "metadata": {},
   "source": [
    "Iterating over a range:"
   ]
  },
  {
   "cell_type": "code",
   "execution_count": 2,
   "metadata": {},
   "outputs": [
    {
     "name": "stdout",
     "output_type": "stream",
     "text": [
      "0\n",
      "1\n",
      "2\n"
     ]
    }
   ],
   "source": [
    "for i in range(3):\n",
    "    print(i)"
   ]
  },
  {
   "cell_type": "markdown",
   "metadata": {},
   "source": [
    "Iterating over the lines of a text file:"
   ]
  },
  {
   "cell_type": "code",
   "execution_count": 3,
   "metadata": {},
   "outputs": [
    {
     "name": "stdout",
     "output_type": "stream",
     "text": [
      "Hello\n",
      "World!\n",
      "How are you doing today?\n",
      ":-)\n",
      "\n",
      "\n"
     ]
    }
   ],
   "source": [
    "for line in open('data/hello_world.txt'):\n",
    "...     print(line, end='')"
   ]
  },
  {
   "cell_type": "markdown",
   "metadata": {},
   "source": [
    "The reason why we can iterate all sorts of objects and not just lists or strings is the \n",
    "**iteration protocol**. \n",
    "\n",
    "\n",
    "The iteration protocol defines a standard interface for iteration: \n",
    "an object that implements **\\__iter__** and **\\__next__** (or \\__iter__ and next in Python \n",
    "2.x) is an **iterator** and, as the name suggests, can be iterated over, as shown in the \n",
    "following code snippet\n",
    "\n",
    "Sequences ( list, tuple, range), always support the iteration methods.\n"
   ]
  },
  {
   "cell_type": "code",
   "execution_count": 4,
   "metadata": {},
   "outputs": [
    {
     "data": {
      "text/plain": [
       "<method-wrapper '__iter__' of range object at 0x7eff0c607a80>"
      ]
     },
     "execution_count": 4,
     "metadata": {},
     "output_type": "execute_result"
    }
   ],
   "source": [
    "range(3).__iter__"
   ]
  },
  {
   "cell_type": "code",
   "execution_count": 5,
   "metadata": {},
   "outputs": [
    {
     "data": {
      "text/plain": [
       "<method-wrapper '__iter__' of list object at 0x7eff0c60fbc8>"
      ]
     },
     "execution_count": 5,
     "metadata": {},
     "output_type": "execute_result"
    }
   ],
   "source": [
    "['a','b','c'].__iter__"
   ]
  },
  {
   "cell_type": "code",
   "execution_count": 6,
   "metadata": {},
   "outputs": [
    {
     "data": {
      "text/plain": [
       "<method-wrapper '__iter__' of _io.TextIOWrapper object at 0x7eff0c6022d0>"
      ]
     },
     "execution_count": 6,
     "metadata": {},
     "output_type": "execute_result"
    }
   ],
   "source": [
    "tmpfile=open('data/hello_world.txt')\n",
    "tmpfile.__next__\n",
    "tmpfile.__iter__"
   ]
  },
  {
   "cell_type": "markdown",
   "metadata": {},
   "source": [
    "We can define the \\__iter__ and \\__next__ methods for our classes:"
   ]
  },
  {
   "cell_type": "code",
   "execution_count": 7,
   "metadata": {},
   "outputs": [],
   "source": [
    "class MyIterator(object):\n",
    "    def __init__(self, xs):\n",
    "        self.xs = xs\n",
    "\n",
    "    def __iter__(self):\n",
    "        return self\n",
    "\n",
    "    def __next__(self):\n",
    "        if self.xs:\n",
    "            return self.xs.pop(0)\n",
    "        else:\n",
    "            raise StopIteration"
   ]
  },
  {
   "cell_type": "code",
   "execution_count": 8,
   "metadata": {},
   "outputs": [
    {
     "name": "stdout",
     "output_type": "stream",
     "text": [
      "a\n",
      "b\n",
      "c\n"
     ]
    }
   ],
   "source": [
    "for i in MyIterator(['a', 'b', 'c']):\n",
    "    print(i)"
   ]
  },
  {
   "cell_type": "markdown",
   "metadata": {},
   "source": [
    "**\\__iter__**   returns the object we iterate, and the **\\__next__** method returns the individual \n",
    "elements of the sequence one by one."
   ]
  },
  {
   "cell_type": "markdown",
   "metadata": {},
   "source": [
    "To better see how the protocol works, we can unroll the loop manually as the \n",
    "following piece of code shows:\n"
   ]
  },
  {
   "cell_type": "code",
   "execution_count": 9,
   "metadata": {},
   "outputs": [
    {
     "name": "stdout",
     "output_type": "stream",
     "text": [
      "<__main__.MyIterator object at 0x7eff0c5bf668>\n"
     ]
    }
   ],
   "source": [
    "itrtr = MyIterator([3, 4, 5, 6])\n",
    "print(itrtr)"
   ]
  },
  {
   "cell_type": "code",
   "execution_count": 10,
   "metadata": {},
   "outputs": [
    {
     "name": "stdout",
     "output_type": "stream",
     "text": [
      "3\n",
      "4\n"
     ]
    }
   ],
   "source": [
    "print(next(itrtr))\n",
    "print(next(itrtr))"
   ]
  },
  {
   "cell_type": "markdown",
   "metadata": {},
   "source": [
    "Once the sequence is exhausted, next() throws a **StopIteration exception**. \n",
    "\n",
    "The for loop in Python, for instance, uses the same mechanism; it calls \n",
    "next() on its iterator and catches the StopIteration exception to know when to stop."
   ]
  },
  {
   "cell_type": "code",
   "execution_count": 11,
   "metadata": {},
   "outputs": [
    {
     "name": "stdout",
     "output_type": "stream",
     "text": [
      "5\n",
      "6\n"
     ]
    },
    {
     "ename": "StopIteration",
     "evalue": "",
     "output_type": "error",
     "traceback": [
      "\u001b[0;31m---------------------------------------------------------------------------\u001b[0m",
      "\u001b[0;31mStopIteration\u001b[0m                             Traceback (most recent call last)",
      "\u001b[0;32m<ipython-input-11-ece17268861b>\u001b[0m in \u001b[0;36m<module>\u001b[0;34m()\u001b[0m\n\u001b[1;32m      1\u001b[0m \u001b[0mprint\u001b[0m\u001b[0;34m(\u001b[0m\u001b[0mnext\u001b[0m\u001b[0;34m(\u001b[0m\u001b[0mitrtr\u001b[0m\u001b[0;34m)\u001b[0m\u001b[0;34m)\u001b[0m\u001b[0;34m\u001b[0m\u001b[0m\n\u001b[1;32m      2\u001b[0m \u001b[0mprint\u001b[0m\u001b[0;34m(\u001b[0m\u001b[0mnext\u001b[0m\u001b[0;34m(\u001b[0m\u001b[0mitrtr\u001b[0m\u001b[0;34m)\u001b[0m\u001b[0;34m)\u001b[0m\u001b[0;34m\u001b[0m\u001b[0m\n\u001b[0;32m----> 3\u001b[0;31m \u001b[0mprint\u001b[0m\u001b[0;34m(\u001b[0m\u001b[0mnext\u001b[0m\u001b[0;34m(\u001b[0m\u001b[0mitrtr\u001b[0m\u001b[0;34m)\u001b[0m\u001b[0;34m)\u001b[0m\u001b[0;34m\u001b[0m\u001b[0m\n\u001b[0m",
      "\u001b[0;32m<ipython-input-7-b67cbc99a635>\u001b[0m in \u001b[0;36m__next__\u001b[0;34m(self)\u001b[0m\n\u001b[1;32m     10\u001b[0m             \u001b[0;32mreturn\u001b[0m \u001b[0mself\u001b[0m\u001b[0;34m.\u001b[0m\u001b[0mxs\u001b[0m\u001b[0;34m.\u001b[0m\u001b[0mpop\u001b[0m\u001b[0;34m(\u001b[0m\u001b[0;36m0\u001b[0m\u001b[0;34m)\u001b[0m\u001b[0;34m\u001b[0m\u001b[0m\n\u001b[1;32m     11\u001b[0m         \u001b[0;32melse\u001b[0m\u001b[0;34m:\u001b[0m\u001b[0;34m\u001b[0m\u001b[0m\n\u001b[0;32m---> 12\u001b[0;31m             \u001b[0;32mraise\u001b[0m \u001b[0mStopIteration\u001b[0m\u001b[0;34m\u001b[0m\u001b[0m\n\u001b[0m",
      "\u001b[0;31mStopIteration\u001b[0m: "
     ]
    }
   ],
   "source": [
    "print(next(itrtr))\n",
    "print(next(itrtr))\n",
    "print(next(itrtr))"
   ]
  },
  {
   "cell_type": "markdown",
   "metadata": {},
   "source": [
    "# Generators\n",
    "Generators can also be used to iterate over objects."
   ]
  },
  {
   "cell_type": "markdown",
   "metadata": {},
   "source": [
    "A generator is simply a callable function that **generates a sequence of results rather than \n",
    "returning a result**. This is achieved by **yielding** (by way of using the yield keyword) \n",
    "the individual values **rather then returning them**, as we can see in the following \n",
    "example:\n"
   ]
  },
  {
   "cell_type": "code",
   "execution_count": 12,
   "metadata": {},
   "outputs": [],
   "source": [
    "def mygenerator(n):\n",
    "    while n:\n",
    "        n -= 1\n",
    "        yield n # we use yield instead of return"
   ]
  },
  {
   "cell_type": "markdown",
   "metadata": {},
   "source": [
    "Example of using the mygenerator generator:"
   ]
  },
  {
   "cell_type": "code",
   "execution_count": 13,
   "metadata": {},
   "outputs": [
    {
     "name": "stdout",
     "output_type": "stream",
     "text": [
      "2\n",
      "1\n",
      "0\n"
     ]
    }
   ],
   "source": [
    "for i in mygenerator(3):\n",
    "    print(i)"
   ]
  },
  {
   "cell_type": "markdown",
   "metadata": {},
   "source": [
    "It is the simple **presence of yield that makes mygenerator a generator and not a \n",
    "simple function**. \n",
    "\n",
    "The interesting behavior in the preceding code is that calling the \n",
    "generator function **does not start the generation of the sequence** at all; it just creates \n",
    "a generator object, as the following example shows:"
   ]
  },
  {
   "cell_type": "code",
   "execution_count": 14,
   "metadata": {},
   "outputs": [],
   "source": [
    "g=mygenerator(2)"
   ]
  },
  {
   "cell_type": "code",
   "execution_count": 15,
   "metadata": {},
   "outputs": [
    {
     "data": {
      "text/plain": [
       "1"
      ]
     },
     "execution_count": 15,
     "metadata": {},
     "output_type": "execute_result"
    }
   ],
   "source": [
    "next(g)"
   ]
  },
  {
   "cell_type": "code",
   "execution_count": 16,
   "metadata": {},
   "outputs": [
    {
     "data": {
      "text/plain": [
       "0"
      ]
     },
     "execution_count": 16,
     "metadata": {},
     "output_type": "execute_result"
    }
   ],
   "source": [
    "next(g)"
   ]
  },
  {
   "cell_type": "code",
   "execution_count": 17,
   "metadata": {},
   "outputs": [
    {
     "ename": "StopIteration",
     "evalue": "",
     "output_type": "error",
     "traceback": [
      "\u001b[0;31m---------------------------------------------------------------------------\u001b[0m",
      "\u001b[0;31mStopIteration\u001b[0m                             Traceback (most recent call last)",
      "\u001b[0;32m<ipython-input-17-e734f8aca5ac>\u001b[0m in \u001b[0;36m<module>\u001b[0;34m()\u001b[0m\n\u001b[0;32m----> 1\u001b[0;31m \u001b[0mnext\u001b[0m\u001b[0;34m(\u001b[0m\u001b[0mg\u001b[0m\u001b[0;34m)\u001b[0m\u001b[0;34m\u001b[0m\u001b[0m\n\u001b[0m",
      "\u001b[0;31mStopIteration\u001b[0m: "
     ]
    }
   ],
   "source": [
    "next(g)"
   ]
  },
  {
   "cell_type": "markdown",
   "metadata": {},
   "source": [
    "Each **next()** call produces a value from the generated sequence until the sequence \n",
    "is empty, and that is when we get the **StopIteration exception** instead. \n",
    "\n",
    "This is the same behavior that we saw when we looked at iterators. \n",
    "\n",
    "Essentially, generators  are a **simple way to write iterators without the need for defining classes with their \n",
    "\\__iter__ and \\__next__ methods.**\n",
    "\n",
    "As a side note, you should keep in mind that generators are one-shot operations; it is \n",
    "not possible to iterate the generated sequence more than once. To do that, you have \n",
    "to call the generator function again."
   ]
  },
  {
   "cell_type": "markdown",
   "metadata": {},
   "source": [
    "# Coroutines "
   ]
  },
  {
   "cell_type": "markdown",
   "metadata": {},
   "source": [
    "The same yield expression used in generator functions to produce a sequence of values **can be used on the right-hand side of an assignment** to consume values. \n",
    "\n",
    "This allows the creation of **coroutines**."
   ]
  },
  {
   "cell_type": "markdown",
   "metadata": {},
   "source": [
    "A coroutine is simply a type of function that can **suspend and resume its execution at well-defined locations** in its code  via **yield** expressions.\n"
   ]
  },
  {
   "cell_type": "markdown",
   "metadata": {},
   "source": [
    "### Let's create some coroutines and see how we can use them. \n",
    "\n",
    "There are three main  constructs in coroutines, which are stated as follows:\n",
    "\n",
    "• **yield()**: This is used to **suspend the execution** of the coroutine <br>\n",
    "• **send()**: This is used to **pass data to a coroutine** (and hence **resume** its execution) <br>\n",
    "• **close()**: This is used to **terminate** a coroutine <br>"
   ]
  },
  {
   "cell_type": "code",
   "execution_count": 18,
   "metadata": {},
   "outputs": [],
   "source": [
    "def complain_about(substring):\n",
    "    print('Please talk to me!')\n",
    "    try:\n",
    "        while True:\n",
    "            text = (yield)\n",
    "            if substring in text:\n",
    "                print('Oh no: I found a %s again!' % (substring))\n",
    "    except GeneratorExit:\n",
    "        print('Ok, ok: I am quitting.')"
   ]
  },
  {
   "cell_type": "markdown",
   "metadata": {},
   "source": [
    "We start off by defining our coroutine; it is just a function (we called it complain_about) that takes a single argument: a string. \n",
    "\n",
    "After printing a message, it **enters an infinite loop** enclosed in a try except clause. \n",
    "\n",
    "This means that the only way to exit the loop is via an exception. \n",
    "\n",
    "We are particularly interested in a very specific exception: **GeneratorExit**. When we catch one of these, we simply clean up and quit.\n",
    "\n",
    "The body of the loop itself is pretty simple; **we use a yield expression to fetch data** (using the (yield) expression) and store it in the variable \"text\". Then, we simply check whether the \"substring\" variable is in the \"text\" variable, and if so, we whine a bit."
   ]
  },
  {
   "cell_type": "code",
   "execution_count": 19,
   "metadata": {},
   "outputs": [],
   "source": [
    "c = complain_about('Machine Learning')"
   ]
  },
  {
   "cell_type": "markdown",
   "metadata": {},
   "source": [
    "We need to start the c corutine with the **next(c)** command.It will run the \"complain_about\" function **till the first (yield)** command."
   ]
  },
  {
   "cell_type": "markdown",
   "metadata": {},
   "source": [
    "The execution of complain_about('Machine Learning') **creates the coroutine, but nothing else \n",
    "seems to happen**. \n",
    "\n",
    "In order to use the newly created coroutine, **we need to call next() \n",
    "on it**, just like we had to do with generators. \n",
    "\n",
    "In fact, we see that it is only after calling next() that we get \"Please talk to me!\" printed on the screen.\n",
    "\n",
    "At this point, the coroutine has reached the text = (yield) line, which means that it **suspends its execution**. \n",
    "\n",
    "The **control goes back to the interpreter** so that we can send data to the coroutine itself. \n",
    "\n",
    "We do that using the its **send()** method."
   ]
  },
  {
   "cell_type": "code",
   "execution_count": 20,
   "metadata": {},
   "outputs": [
    {
     "name": "stdout",
     "output_type": "stream",
     "text": [
      "Please talk to me!\n"
     ]
    }
   ],
   "source": [
    "next(c) "
   ]
  },
  {
   "cell_type": "code",
   "execution_count": 21,
   "metadata": {},
   "outputs": [],
   "source": [
    "c.send('Test data')"
   ]
  },
  {
   "cell_type": "code",
   "execution_count": 22,
   "metadata": {},
   "outputs": [],
   "source": [
    "c.send('Some more random text')"
   ]
  },
  {
   "cell_type": "code",
   "execution_count": 23,
   "metadata": {},
   "outputs": [
    {
     "name": "stdout",
     "output_type": "stream",
     "text": [
      "Oh no: I found a Machine Learning again!\n"
     ]
    }
   ],
   "source": [
    "c.send('I love Machine Learning because it is so cool!')"
   ]
  },
  {
   "cell_type": "code",
   "execution_count": 24,
   "metadata": {},
   "outputs": [],
   "source": [
    "c.send('Hello')"
   ]
  },
  {
   "cell_type": "markdown",
   "metadata": {},
   "source": [
    "We can use the \"next(c)\" command **only once**:"
   ]
  },
  {
   "cell_type": "code",
   "execution_count": 25,
   "metadata": {},
   "outputs": [
    {
     "ename": "TypeError",
     "evalue": "argument of type 'NoneType' is not iterable",
     "output_type": "error",
     "traceback": [
      "\u001b[0;31m---------------------------------------------------------------------------\u001b[0m",
      "\u001b[0;31mTypeError\u001b[0m                                 Traceback (most recent call last)",
      "\u001b[0;32m<ipython-input-25-e846efec376d>\u001b[0m in \u001b[0;36m<module>\u001b[0;34m()\u001b[0m\n\u001b[0;32m----> 1\u001b[0;31m \u001b[0mnext\u001b[0m\u001b[0;34m(\u001b[0m\u001b[0mc\u001b[0m\u001b[0;34m)\u001b[0m\u001b[0;34m\u001b[0m\u001b[0m\n\u001b[0m",
      "\u001b[0;32m<ipython-input-18-1ee6a87b6c91>\u001b[0m in \u001b[0;36mcomplain_about\u001b[0;34m(substring)\u001b[0m\n\u001b[1;32m      4\u001b[0m         \u001b[0;32mwhile\u001b[0m \u001b[0;32mTrue\u001b[0m\u001b[0;34m:\u001b[0m\u001b[0;34m\u001b[0m\u001b[0m\n\u001b[1;32m      5\u001b[0m             \u001b[0mtext\u001b[0m \u001b[0;34m=\u001b[0m \u001b[0;34m(\u001b[0m\u001b[0;32myield\u001b[0m\u001b[0;34m)\u001b[0m\u001b[0;34m\u001b[0m\u001b[0m\n\u001b[0;32m----> 6\u001b[0;31m             \u001b[0;32mif\u001b[0m \u001b[0msubstring\u001b[0m \u001b[0;32min\u001b[0m \u001b[0mtext\u001b[0m\u001b[0;34m:\u001b[0m\u001b[0;34m\u001b[0m\u001b[0m\n\u001b[0m\u001b[1;32m      7\u001b[0m                 \u001b[0mprint\u001b[0m\u001b[0;34m(\u001b[0m\u001b[0;34m'Oh no: I found a %s again!'\u001b[0m \u001b[0;34m%\u001b[0m \u001b[0;34m(\u001b[0m\u001b[0msubstring\u001b[0m\u001b[0;34m)\u001b[0m\u001b[0;34m)\u001b[0m\u001b[0;34m\u001b[0m\u001b[0m\n\u001b[1;32m      8\u001b[0m     \u001b[0;32mexcept\u001b[0m \u001b[0mGeneratorExit\u001b[0m\u001b[0;34m:\u001b[0m\u001b[0;34m\u001b[0m\u001b[0m\n",
      "\u001b[0;31mTypeError\u001b[0m: argument of type 'NoneType' is not iterable"
     ]
    }
   ],
   "source": [
    "next(c)"
   ]
  },
  {
   "cell_type": "markdown",
   "metadata": {},
   "source": [
    "We can stop the coroutine by calling its **close()** method, which results in a \n",
    "**GeneratorExit exception** being risen inside the coroutine. \n",
    "\n",
    "The only thing that a coroutine is allowed to do at this point is catch the exception, do some cleaning up, \n",
    "and exit. The following snippet shows how to **close the coroutine**:"
   ]
  },
  {
   "cell_type": "code",
   "execution_count": 26,
   "metadata": {},
   "outputs": [],
   "source": [
    "c.close()"
   ]
  },
  {
   "cell_type": "markdown",
   "metadata": {},
   "source": [
    "### Decorators"
   ]
  },
  {
   "cell_type": "markdown",
   "metadata": {},
   "source": [
    "When using coroutines, most people find **having to call next() on the coroutine \n",
    "rather annoying** and end up **using a decorator to avoid the extra call**, as the following \n",
    "example shows:"
   ]
  },
  {
   "cell_type": "code",
   "execution_count": 27,
   "metadata": {},
   "outputs": [],
   "source": [
    "# Let us create a wrapper that will always call the next(c) function for us.\n",
    "def coroutine(fn):\n",
    "    # We will apply the coroutin function to the fn function.\n",
    "    # inside the coroutine function we create another function called wrapper\n",
    "    def wrapper(*args, **kwargs):\n",
    "        c = fn(*args, **kwargs)\n",
    "        next(c)\n",
    "        return c\n",
    "    return wrapper"
   ]
  },
  {
   "cell_type": "markdown",
   "metadata": {},
   "source": [
    "Example of using the decorator:"
   ]
  },
  {
   "cell_type": "code",
   "execution_count": 28,
   "metadata": {},
   "outputs": [],
   "source": [
    "@coroutine\n",
    "def complain_about2(substring):\n",
    "    print('Please talk to me!')\n",
    "    while True:\n",
    "        text = (yield)\n",
    "        if substring in text:\n",
    "            print('Oh no: I found a %s again!'% (substring))\n",
    "            "
   ]
  },
  {
   "cell_type": "markdown",
   "metadata": {},
   "source": [
    "Now we can run this coroutine without starting it with the next statement:"
   ]
  },
  {
   "cell_type": "code",
   "execution_count": 29,
   "metadata": {},
   "outputs": [
    {
     "name": "stdout",
     "output_type": "stream",
     "text": [
      "Please talk to me!\n"
     ]
    }
   ],
   "source": [
    "c = complain_about2('JavaScript')"
   ]
  },
  {
   "cell_type": "code",
   "execution_count": 30,
   "metadata": {},
   "outputs": [
    {
     "name": "stdout",
     "output_type": "stream",
     "text": [
      "Oh no: I found a JavaScript again!\n"
     ]
    }
   ],
   "source": [
    "c.send('Test data with JavaScript somewhere in it')"
   ]
  },
  {
   "cell_type": "code",
   "execution_count": 31,
   "metadata": {},
   "outputs": [],
   "source": [
    "c.send('Hello')"
   ]
  },
  {
   "cell_type": "code",
   "execution_count": 32,
   "metadata": {},
   "outputs": [],
   "source": [
    "c.close()"
   ]
  },
  {
   "cell_type": "markdown",
   "metadata": {},
   "source": [
    "Coroutines can be arranged in rather **complex hierarchies**, with one **coroutine sending \n",
    "data to multiple other ones** and **getting data from multiple sources** as well"
   ]
  },
  {
   "cell_type": "markdown",
   "metadata": {},
   "source": [
    "Since coroutines **can stop there execution** and **wait in a non-blocking wait** till we restart them again, they can be used in **asynchronous programming**:"
   ]
  },
  {
   "cell_type": "markdown",
   "metadata": {},
   "source": [
    "# An asynchronous example"
   ]
  },
  {
   "cell_type": "markdown",
   "metadata": {},
   "source": [
    "To keep things simple but still interesting, let's write a tool that, given a text file, will \n",
    "count the occurrences of a given word"
   ]
  },
  {
   "cell_type": "code",
   "execution_count": 33,
   "metadata": {},
   "outputs": [],
   "source": [
    "# Run the below line in a terminal:\n",
    "# time(grep -io love data/pg2600.txt | wc -l)\n",
    "#\n",
    "# This will count the number of \"love\" work in the data/pg2600.txt file\n",
    "# It will also measure the executation time.\n",
    "# Results:\n"
   ]
  },
  {
   "cell_type": "markdown",
   "metadata": {},
   "source": [
    "677\n",
    "\n",
    "real    0m0.014s <br>\n",
    "user    0m0.008s <br>\n",
    "sys     0m0.004s <br>\n"
   ]
  },
  {
   "cell_type": "markdown",
   "metadata": {},
   "source": [
    "We will solve the word counting problem with coroutines "
   ]
  },
  {
   "cell_type": "code",
   "execution_count": 34,
   "metadata": {},
   "outputs": [],
   "source": [
    "def coroutine(fn):\n",
    "    def wrapper(*args, **kwargs):\n",
    "        c = fn(*args, **kwargs)\n",
    "        next(c)\n",
    "        return c\n",
    "    return wrapper"
   ]
  },
  {
   "cell_type": "code",
   "execution_count": 35,
   "metadata": {},
   "outputs": [],
   "source": [
    "#Reading the file line by line (done by the cat function)\n",
    "\n",
    "#The first function, cat, acts as the data source for the whole program; it reads the \n",
    "#file line by line and sends each line to its child function via child.send(line). \n",
    "# This child function will be the grep() function\n",
    "\n",
    "#If we want a case-insensitive match, then we simply make line lowercase; otherwise, we pass it unchanged.\n",
    "\n",
    "def cat(f, case_insensitive, child):\n",
    "    if case_insensitive:\n",
    "        line_processor = lambda l: l.lower()\n",
    "    else:\n",
    "        line_processor = lambda l: l\n",
    "\n",
    "    for line in f:\n",
    "        child.send(line_processor(line))"
   ]
  },
  {
   "cell_type": "code",
   "execution_count": 36,
   "metadata": {},
   "outputs": [],
   "source": [
    "#Counting the occurrences of substring in each line\n",
    "\n",
    "#The grep function is our first coroutine. \n",
    "\n",
    "#In it, we enter an infinite loop where we keep receiving data (text = (yield)), \n",
    "#count the occurrences of the \"substring\" variable in the \"text\" variable, \n",
    "#and send that number of occurrences to the next coroutine (count in our case)\n",
    "# to count how many times we have seen the \"substring\" variable.\n",
    "\n",
    "#child.send(text.count(substring))).\n",
    "\n",
    "@coroutine\n",
    "def grep(substring, case_insensitive, child):\n",
    "    if case_insensitive:\n",
    "        substring = substring.lower()\n",
    "    while True:\n",
    "        text = (yield)\n",
    "        child.send(text.count(substring))"
   ]
  },
  {
   "cell_type": "code",
   "execution_count": 37,
   "metadata": {},
   "outputs": [],
   "source": [
    "#Adding up all the numbers and printing out the total\n",
    "\n",
    "#The count coroutine keeps a running total, n, of the numbers it receives, \n",
    "#(n += (yield)), from grep. \n",
    "\n",
    "#It catches the GeneratorExit exception sent to each coroutine \n",
    "#when they are closed (which in our case happens automatically when we reach the \n",
    "#end of the file) to know when to print out substring and n\n",
    "\n",
    "@coroutine\n",
    "def count(substring):\n",
    "    n = 0\n",
    "    try:\n",
    "        while True:\n",
    "            n += (yield)\n",
    "    except GeneratorExit:\n",
    "        print(substring, n)"
   ]
  },
  {
   "cell_type": "markdown",
   "metadata": {},
   "source": [
    "This is how we can use these corutines:"
   ]
  },
  {
   "cell_type": "code",
   "execution_count": 38,
   "metadata": {},
   "outputs": [
    {
     "name": "stdout",
     "output_type": "stream",
     "text": [
      "love 677\n"
     ]
    }
   ],
   "source": [
    "cat(f=open('data/pg2600.txt'), case_insensitive=True, child=grep(substring='love', case_insensitive=True, child=count('love')))"
   ]
  },
  {
   "cell_type": "markdown",
   "metadata": {},
   "source": [
    "Things become interesting when we start organizing coroutines into complex  graphs. \n",
    "\n",
    "For instance, we might want to count the concurrence of multiple words in the input file.\n",
    "\n",
    "The below code is an example for this:"
   ]
  },
  {
   "cell_type": "code",
   "execution_count": 39,
   "metadata": {},
   "outputs": [],
   "source": [
    "def coroutine(fn):\n",
    "    def wrapper(*args, **kwargs):\n",
    "        c = fn(*args, **kwargs)\n",
    "        next(c)\n",
    "        return c\n",
    "    return wrapper\n",
    "\n",
    "def cat(f, case_insensitive, child):\n",
    "    if case_insensitive:\n",
    "        line_processor = lambda l: l.lower()\n",
    "    else:\n",
    "        line_processor = lambda l: l\n",
    "\n",
    "    for line in f:\n",
    "        child.send(line_processor(line))\n",
    "\n",
    "@coroutine\n",
    "def grep(substring, case_insensitive, child):\n",
    "    if case_insensitive:\n",
    "        substring = substring.lower()\n",
    "    while True:\n",
    "        text = (yield)\n",
    "        child.send(text.count(substring))\n",
    "\n",
    "@coroutine\n",
    "def count(substring):\n",
    "    n = 0\n",
    "    try:\n",
    "        while True:\n",
    "            n += (yield)\n",
    "    except GeneratorExit:\n",
    "        print(substring, n)\n",
    "\n",
    "@coroutine\n",
    "def fanout(children):\n",
    "    while True:\n",
    "        data = (yield)\n",
    "        for child in children:\n",
    "            child.send(data)"
   ]
  },
  {
   "cell_type": "code",
   "execution_count": 40,
   "metadata": {},
   "outputs": [
    {
     "name": "stdout",
     "output_type": "stream",
     "text": [
      "hate 103\n",
      "love 677\n",
      "hope 158\n"
     ]
    }
   ],
   "source": [
    "cat(f=open('data/pg2600.txt'), case_insensitive=True, child=fanout(children=[grep(substring=p,case_insensitive=True,child=count(p)) for p in ['love','hate','hope']]))"
   ]
  },
  {
   "cell_type": "markdown",
   "metadata": {},
   "source": [
    "### Other tools:\n",
    "Python 3.4 introduced a new library for asynchronous I/O called asyncio.\n",
    "\n",
    "Python 3.5 introduced true coroutine types via async def and await.\n",
    "\n",
    "We will discuss them later."
   ]
  },
  {
   "cell_type": "code",
   "execution_count": null,
   "metadata": {},
   "outputs": [],
   "source": []
  }
 ],
 "metadata": {
  "kernelspec": {
   "display_name": "Environment (conda_python3)",
   "language": "python",
   "name": "conda_python3"
  },
  "language_info": {
   "codemirror_mode": {
    "name": "ipython",
    "version": 3
   },
   "file_extension": ".py",
   "mimetype": "text/x-python",
   "name": "python",
   "nbconvert_exporter": "python",
   "pygments_lexer": "ipython3",
   "version": "3.6.5"
  }
 },
 "nbformat": 4,
 "nbformat_minor": 2
}
