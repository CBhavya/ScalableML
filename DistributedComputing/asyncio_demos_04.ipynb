{
 "cells": [
  {
   "cell_type": "code",
   "execution_count": 1,
   "metadata": {},
   "outputs": [],
   "source": [
    "#!pip install ipykernel ipython --upgrade"
   ]
  },
  {
   "cell_type": "markdown",
   "metadata": {},
   "source": [
    "asyncio doesn't work with tornado > 5.0 yet...\n",
    "See, e.g. https://github.com/jupyter/notebook/issues/3397"
   ]
  },
  {
   "cell_type": "code",
   "execution_count": 2,
   "metadata": {},
   "outputs": [],
   "source": [
    "#!pip install tornado==4.5.3"
   ]
  },
  {
   "cell_type": "markdown",
   "metadata": {},
   "source": [
    "asyncio “provides infrastructure for writing single-threaded concurrent code using coroutines.\n",
    "The asyncio module provides a framework that revolves around the event loop. An event loop basically says “when event A happens, react with function B”."
   ]
  },
  {
   "cell_type": "markdown",
   "metadata": {},
   "source": [
    "When a user loads the web page, the server will check for and call one or more event handlers. Once those event handlers are done, they need to give control back to the event loop. To do this in Python, asyncio uses coroutines."
   ]
  },
  {
   "cell_type": "markdown",
   "metadata": {},
   "source": [
    "A coroutine is a special function that can give up control to its caller without losing its state."
   ]
  },
  {
   "cell_type": "code",
   "execution_count": 1,
   "metadata": {},
   "outputs": [],
   "source": [
    "%autoawait False"
   ]
  },
  {
   "cell_type": "code",
   "execution_count": 2,
   "metadata": {},
   "outputs": [
    {
     "name": "stdout",
     "output_type": "stream",
     "text": [
      "IPython autoawait is `off`, and set to use `asyncio`\n"
     ]
    }
   ],
   "source": [
    "%autoawait"
   ]
  },
  {
   "cell_type": "code",
   "execution_count": 3,
   "metadata": {},
   "outputs": [],
   "source": [
    "import asyncio"
   ]
  },
  {
   "cell_type": "markdown",
   "metadata": {},
   "source": [
    "Examples are here:\n",
    "https://www.blog.pythonlibrary.org/2016/07/26/python-3-an-intro-to-asyncio/"
   ]
  },
  {
   "cell_type": "markdown",
   "metadata": {},
   "source": [
    "To define a coroutine with asyncio, you can use the async def statement:"
   ]
  },
  {
   "cell_type": "code",
   "execution_count": 6,
   "metadata": {},
   "outputs": [
    {
     "data": {
      "text/plain": [
       "<coroutine object hello at 0x7f86411d01a8>"
      ]
     },
     "execution_count": 6,
     "metadata": {},
     "output_type": "execute_result"
    }
   ],
   "source": [
    "async def hello():\n",
    "        print(\"Hello, async!\")\n",
    "\n",
    "coro = hello()\n",
    "coro\n",
    "# Output"
   ]
  },
  {
   "cell_type": "markdown",
   "metadata": {},
   "source": [
    "The asyncio coroutines do not support\n",
    "next, but they can be easily run in the asyncio event loop using the\n",
    "run_until_complete method:"
   ]
  },
  {
   "cell_type": "code",
   "execution_count": 7,
   "metadata": {},
   "outputs": [
    {
     "name": "stdout",
     "output_type": "stream",
     "text": [
      "Hello, async!\n"
     ]
    }
   ],
   "source": [
    "loop = asyncio.get_event_loop()\n",
    "loop.run_until_complete(coro)"
   ]
  },
  {
   "cell_type": "markdown",
   "metadata": {},
   "source": [
    "The asyncio  module provides resources (called awaitables) that can be requested inside\n",
    "coroutines through the await syntax. For example, if we want to wait for a certain time and\n",
    "then execute a statement, we can use the asyncio.sleep function:"
   ]
  },
  {
   "cell_type": "code",
   "execution_count": 8,
   "metadata": {},
   "outputs": [],
   "source": [
    "async def wait_and_print(msg):\n",
    "        await asyncio.sleep(1)\n",
    "        print(\"Message: \", msg)"
   ]
  },
  {
   "cell_type": "code",
   "execution_count": 9,
   "metadata": {},
   "outputs": [],
   "source": [
    "loop = asyncio.get_event_loop()"
   ]
  },
  {
   "cell_type": "code",
   "execution_count": 11,
   "metadata": {},
   "outputs": [
    {
     "name": "stdout",
     "output_type": "stream",
     "text": [
      "Message:  Hello\n"
     ]
    }
   ],
   "source": [
    "loop.run_until_complete(wait_and_print(\"Hello\"))"
   ]
  },
  {
   "cell_type": "markdown",
   "metadata": {},
   "source": [
    "The result is beautiful, clean code. We are writing perfectly functional asynchronous code\n",
    "without all the ugliness of callbacks!"
   ]
  },
  {
   "cell_type": "markdown",
   "metadata": {},
   "source": [
    "You may have noted how await provides a breakpoint for the event loop\n",
    "so that, as it wait for the resource, the event loop can move on and\n",
    "concurrently manage other coroutines"
   ]
  },
  {
   "cell_type": "markdown",
   "metadata": {},
   "source": [
    "Even better, coroutines are also awaitable, and we can use the await statement to chain\n",
    "coroutines asynchronously. In the following example, we rewrite the\n",
    "network_request function, which we defined earlier, by replacing the call to time.sleep\n",
    "with asyncio.sleep:"
   ]
  },
  {
   "cell_type": "code",
   "execution_count": 13,
   "metadata": {},
   "outputs": [],
   "source": [
    "async def network_request(number):\n",
    "         await asyncio.sleep(1.0)\n",
    "         return {\"success\": True, \"result\": number ** 2}"
   ]
  },
  {
   "cell_type": "markdown",
   "metadata": {},
   "source": [
    "We can follow up by reimplementing fetch_square. As you can see, we can await\n",
    "network_request directly without needing additional futures or callbacks."
   ]
  },
  {
   "cell_type": "code",
   "execution_count": 14,
   "metadata": {},
   "outputs": [],
   "source": [
    "async def fetch_square(number):\n",
    "         response = await network_request(number)\n",
    "         if response[\"success\"]:\n",
    "             print(\"Result is: {}\".format(response[\"result\"]))"
   ]
  },
  {
   "cell_type": "markdown",
   "metadata": {},
   "source": [
    "The coroutines can be executed individually using loop.run_until_complete:"
   ]
  },
  {
   "cell_type": "code",
   "execution_count": 17,
   "metadata": {},
   "outputs": [
    {
     "name": "stdout",
     "output_type": "stream",
     "text": [
      "Result is: 4\n",
      "Result is: 9\n",
      "Result is: 16\n"
     ]
    }
   ],
   "source": [
    "loop.run_until_complete(fetch_square(2))\n",
    "loop.run_until_complete(fetch_square(3))\n",
    "loop.run_until_complete(fetch_square(4))"
   ]
  },
  {
   "cell_type": "markdown",
   "metadata": {},
   "source": [
    "Running tasks using run_until_complete is fine for testing and debugging. However,\n",
    "our program will be started with loop.run_forever most of the times, and we will need\n",
    "to submit our tasks while the loop is already running.\n",
    "asyncio provides the ensure_future function, which schedules coroutines (as well as\n",
    "futures) for execution. ensure_future can be used by simply passing the coroutine we\n",
    "want to schedule. The following code will schedule multiple calls to fetch_square that\n",
    "will be executed concurrently:"
   ]
  },
  {
   "cell_type": "code",
   "execution_count": 18,
   "metadata": {},
   "outputs": [
    {
     "data": {
      "text/plain": [
       "<Task pending coro=<fetch_square() running at <ipython-input-14-b131e5135712>:1>>"
      ]
     },
     "execution_count": 18,
     "metadata": {},
     "output_type": "execute_result"
    }
   ],
   "source": [
    "asyncio.ensure_future(fetch_square(2))\n",
    "asyncio.ensure_future(fetch_square(3))\n",
    "asyncio.ensure_future(fetch_square(4))"
   ]
  },
  {
   "cell_type": "code",
   "execution_count": 19,
   "metadata": {},
   "outputs": [
    {
     "name": "stdout",
     "output_type": "stream",
     "text": [
      "Result is: 4\n",
      "Result is: 9\n",
      "Result is: 16\n"
     ]
    },
    {
     "ename": "KeyboardInterrupt",
     "evalue": "",
     "output_type": "error",
     "traceback": [
      "\u001b[0;31m---------------------------------------------------------------------------\u001b[0m",
      "\u001b[0;31mKeyboardInterrupt\u001b[0m                         Traceback (most recent call last)",
      "\u001b[0;32m<ipython-input-19-dff183b847be>\u001b[0m in \u001b[0;36m<module>\u001b[0;34m\u001b[0m\n\u001b[0;32m----> 1\u001b[0;31m \u001b[0mloop\u001b[0m\u001b[0;34m.\u001b[0m\u001b[0mrun_forever\u001b[0m\u001b[0;34m(\u001b[0m\u001b[0;34m)\u001b[0m\u001b[0;34m\u001b[0m\u001b[0m\n\u001b[0m",
      "\u001b[0;32m~/anaconda3/envs/python3/lib/python3.6/asyncio/base_events.py\u001b[0m in \u001b[0;36mrun_forever\u001b[0;34m(self)\u001b[0m\n\u001b[1;32m    420\u001b[0m             \u001b[0mevents\u001b[0m\u001b[0;34m.\u001b[0m\u001b[0m_set_running_loop\u001b[0m\u001b[0;34m(\u001b[0m\u001b[0mself\u001b[0m\u001b[0;34m)\u001b[0m\u001b[0;34m\u001b[0m\u001b[0m\n\u001b[1;32m    421\u001b[0m             \u001b[0;32mwhile\u001b[0m \u001b[0;32mTrue\u001b[0m\u001b[0;34m:\u001b[0m\u001b[0;34m\u001b[0m\u001b[0m\n\u001b[0;32m--> 422\u001b[0;31m                 \u001b[0mself\u001b[0m\u001b[0;34m.\u001b[0m\u001b[0m_run_once\u001b[0m\u001b[0;34m(\u001b[0m\u001b[0;34m)\u001b[0m\u001b[0;34m\u001b[0m\u001b[0m\n\u001b[0m\u001b[1;32m    423\u001b[0m                 \u001b[0;32mif\u001b[0m \u001b[0mself\u001b[0m\u001b[0;34m.\u001b[0m\u001b[0m_stopping\u001b[0m\u001b[0;34m:\u001b[0m\u001b[0;34m\u001b[0m\u001b[0m\n\u001b[1;32m    424\u001b[0m                     \u001b[0;32mbreak\u001b[0m\u001b[0;34m\u001b[0m\u001b[0m\n",
      "\u001b[0;32m~/anaconda3/envs/python3/lib/python3.6/asyncio/base_events.py\u001b[0m in \u001b[0;36m_run_once\u001b[0;34m(self)\u001b[0m\n\u001b[1;32m   1394\u001b[0m                            timeout * 1e3, dt * 1e3)\n\u001b[1;32m   1395\u001b[0m         \u001b[0;32melse\u001b[0m\u001b[0;34m:\u001b[0m\u001b[0;34m\u001b[0m\u001b[0m\n\u001b[0;32m-> 1396\u001b[0;31m             \u001b[0mevent_list\u001b[0m \u001b[0;34m=\u001b[0m \u001b[0mself\u001b[0m\u001b[0;34m.\u001b[0m\u001b[0m_selector\u001b[0m\u001b[0;34m.\u001b[0m\u001b[0mselect\u001b[0m\u001b[0;34m(\u001b[0m\u001b[0mtimeout\u001b[0m\u001b[0;34m)\u001b[0m\u001b[0;34m\u001b[0m\u001b[0m\n\u001b[0m\u001b[1;32m   1397\u001b[0m         \u001b[0mself\u001b[0m\u001b[0;34m.\u001b[0m\u001b[0m_process_events\u001b[0m\u001b[0;34m(\u001b[0m\u001b[0mevent_list\u001b[0m\u001b[0;34m)\u001b[0m\u001b[0;34m\u001b[0m\u001b[0m\n\u001b[1;32m   1398\u001b[0m \u001b[0;34m\u001b[0m\u001b[0m\n",
      "\u001b[0;32m~/anaconda3/envs/python3/lib/python3.6/selectors.py\u001b[0m in \u001b[0;36mselect\u001b[0;34m(self, timeout)\u001b[0m\n\u001b[1;32m    443\u001b[0m             \u001b[0mready\u001b[0m \u001b[0;34m=\u001b[0m \u001b[0;34m[\u001b[0m\u001b[0;34m]\u001b[0m\u001b[0;34m\u001b[0m\u001b[0m\n\u001b[1;32m    444\u001b[0m             \u001b[0;32mtry\u001b[0m\u001b[0;34m:\u001b[0m\u001b[0;34m\u001b[0m\u001b[0m\n\u001b[0;32m--> 445\u001b[0;31m                 \u001b[0mfd_event_list\u001b[0m \u001b[0;34m=\u001b[0m \u001b[0mself\u001b[0m\u001b[0;34m.\u001b[0m\u001b[0m_epoll\u001b[0m\u001b[0;34m.\u001b[0m\u001b[0mpoll\u001b[0m\u001b[0;34m(\u001b[0m\u001b[0mtimeout\u001b[0m\u001b[0;34m,\u001b[0m \u001b[0mmax_ev\u001b[0m\u001b[0;34m)\u001b[0m\u001b[0;34m\u001b[0m\u001b[0m\n\u001b[0m\u001b[1;32m    446\u001b[0m             \u001b[0;32mexcept\u001b[0m \u001b[0mInterruptedError\u001b[0m\u001b[0;34m:\u001b[0m\u001b[0;34m\u001b[0m\u001b[0m\n\u001b[1;32m    447\u001b[0m                 \u001b[0;32mreturn\u001b[0m \u001b[0mready\u001b[0m\u001b[0;34m\u001b[0m\u001b[0m\n",
      "\u001b[0;31mKeyboardInterrupt\u001b[0m: "
     ]
    }
   ],
   "source": [
    "loop.run_forever()"
   ]
  },
  {
   "cell_type": "code",
   "execution_count": null,
   "metadata": {},
   "outputs": [],
   "source": []
  },
  {
   "cell_type": "code",
   "execution_count": 4,
   "metadata": {},
   "outputs": [],
   "source": [
    "import aiohttp\n",
    "import asyncio\n",
    "import async_timeout\n",
    "import os\n",
    " \n",
    " \n",
    "async def download_coroutine(session, url):\n",
    "    with async_timeout.timeout(10):\n",
    "        async with session.get(url) as response:\n",
    "            filename = os.path.basename(url)\n",
    "            with open(filename, 'wb') as f_handle:\n",
    "                while True:\n",
    "                    chunk = await response.content.read(1024)\n",
    "                    if not chunk:\n",
    "                        break\n",
    "                    f_handle.write(chunk)\n",
    "            return await response.release()\n",
    " \n",
    " \n",
    "async def main(loop):\n",
    "    urls = [\"http://www.irs.gov/pub/irs-pdf/f1040.pdf\",\n",
    "        \"http://www.irs.gov/pub/irs-pdf/f1040a.pdf\",\n",
    "        \"http://www.irs.gov/pub/irs-pdf/f1040ez.pdf\",\n",
    "        \"http://www.irs.gov/pub/irs-pdf/f1040es.pdf\",\n",
    "        \"http://www.irs.gov/pub/irs-pdf/f1040sb.pdf\"]\n",
    " \n",
    "    async with aiohttp.ClientSession(loop=loop) as session:\n",
    "        tasks = [download_coroutine(session, url) for url in urls]\n",
    "        await asyncio.gather(*tasks)\n",
    " \n",
    " \n"
   ]
  },
  {
   "cell_type": "code",
   "execution_count": 5,
   "metadata": {},
   "outputs": [],
   "source": [
    "loop = asyncio.get_event_loop()\n",
    "loop.run_until_complete(main(loop))"
   ]
  },
  {
   "cell_type": "markdown",
   "metadata": {},
   "source": [
    "You can also schedule calls to regular functions using the asyncio event loop. The first method we’ll look at is call_soon. The call_soon method will basically call your callback or event handler as soon as it can. It works as a FIFO queue, so if some of the callbacks take a while to run, then the others will be delayed until the previous ones have finished. Let’s look at an example:"
   ]
  },
  {
   "cell_type": "code",
   "execution_count": 6,
   "metadata": {},
   "outputs": [
    {
     "name": "stdout",
     "output_type": "stream",
     "text": [
      "starting event loop\n",
      "Event handler called\n",
      "Event handler called\n",
      "stopping the loop\n",
      "closing event loop\n"
     ]
    }
   ],
   "source": [
    "import asyncio\n",
    "import functools\n",
    " \n",
    " \n",
    "def event_handler(loop, stop=False):\n",
    "    print('Event handler called')\n",
    "    if stop:\n",
    "        print('stopping the loop')\n",
    "        loop.stop()\n",
    " \n",
    " \n",
    "if __name__ == '__main__':\n",
    "    loop = asyncio.get_event_loop()\n",
    "    try:\n",
    "        loop.call_soon(functools.partial(event_handler, loop))\n",
    "        print('starting event loop')\n",
    "        loop.call_soon(functools.partial(event_handler, loop, stop=True))\n",
    " \n",
    "        loop.run_forever()\n",
    "    finally:\n",
    "        print('closing event loop')\n",
    "        loop.close()"
   ]
  },
  {
   "cell_type": "markdown",
   "metadata": {},
   "source": [
    "There is a related function called call_soon_threadsafe. As the name implies, it works the same way as call_soon, but it’s thread-safe."
   ]
  },
  {
   "cell_type": "code",
   "execution_count": 26,
   "metadata": {},
   "outputs": [
    {
     "name": "stdout",
     "output_type": "stream",
     "text": [
      "task creation started\n",
      "This task is taking 2 seconds to complete\n",
      "The task's result was: task finished\n"
     ]
    }
   ],
   "source": [
    "import asyncio\n",
    " \n",
    " \n",
    "async def my_task(seconds):\n",
    "    \"\"\"\n",
    "    A task to do for a number of seconds\n",
    "    \"\"\"\n",
    "    print('This task is taking {} seconds to complete'.format(\n",
    "        seconds))\n",
    "    await asyncio.sleep(seconds)\n",
    "    return 'task finished'\n",
    " \n",
    " \n",
    "if __name__ == '__main__':\n",
    "    my_event_loop = asyncio.get_event_loop()\n",
    "    try:\n",
    "        print('task creation started')\n",
    "        task_obj = my_event_loop.create_task(my_task(seconds=2))\n",
    "        my_event_loop.run_until_complete(task_obj)\n",
    "    finally:\n",
    "        my_event_loop.close()\n",
    " \n",
    "    print(\"The task's result was: {}\".format(task_obj.result()))"
   ]
  },
  {
   "cell_type": "code",
   "execution_count": null,
   "metadata": {},
   "outputs": [],
   "source": []
  }
 ],
 "metadata": {
  "kernelspec": {
   "display_name": "Environment (conda_python3)",
   "language": "python",
   "name": "conda_python3"
  },
  "language_info": {
   "codemirror_mode": {
    "name": "ipython",
    "version": 3
   },
   "file_extension": ".py",
   "mimetype": "text/x-python",
   "name": "python",
   "nbconvert_exporter": "python",
   "pygments_lexer": "ipython3",
   "version": "3.6.5"
  }
 },
 "nbformat": 4,
 "nbformat_minor": 2
}
