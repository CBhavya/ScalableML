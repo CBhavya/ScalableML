{
 "cells": [
  {
   "cell_type": "code",
   "execution_count": null,
   "metadata": {},
   "outputs": [],
   "source": [
    "import random\n",
    "import time\n",
    "from celery import group\n",
    "from mergesort import sort, merge\n"
   ]
  },
  {
   "cell_type": "code",
   "execution_count": null,
   "metadata": {},
   "outputs": [],
   "source": [
    "# Create a list of 1,000,000 elements in random order.\n",
    "sequence = list(range(1000000))\n",
    "random.shuffle(sequence)\n"
   ]
  },
  {
   "cell_type": "code",
   "execution_count": null,
   "metadata": {},
   "outputs": [],
   "source": [
    "\n",
    "t0 = time.time()\n",
    "\n",
    "# Split the sequence in a number of chunks and process those\n",
    "# independently.\n",
    "n = 4\n",
    "l = len(sequence) // n\n",
    "subseqs = [sequence[i * l:(i + 1) * l] for i in range(n - 1)]\n",
    "subseqs.append(sequence[(n - 1) * l:])\n",
    "\n",
    "# Ask the Celery workers to sort each sub-sequence.\n",
    "# Use a group to run the individual independent tasks as a unit of work.\n",
    "partials = group(sort.s(seq) for seq in subseqs)().get()\n",
    "\n",
    "# Merge all the individual sorted sub-lists into our final result.\n",
    "result = partials[0]\n",
    "for partial in partials[1:]:\n",
    "    result = merge(result, partial)\n",
    "\n",
    "dt = time.time() - t0\n",
    "print('Distributed mergesort took %.02fs' % (dt))\n",
    "\n"
   ]
  },
  {
   "cell_type": "code",
   "execution_count": null,
   "metadata": {},
   "outputs": [],
   "source": [
    "# Do the same thing locally and compare the times.\n",
    "t0 = time.time()\n",
    "truth = sort(sequence)\n",
    "dt = time.time() - t0\n",
    "print('Local mergesort took %.02fs' % (dt))\n",
    "\n"
   ]
  },
  {
   "cell_type": "code",
   "execution_count": null,
   "metadata": {},
   "outputs": [],
   "source": [
    "# Final sanity checks.\n",
    "assert result == truth\n",
    "assert result == sorted(sequence)\n"
   ]
  }
 ],
 "metadata": {
  "kernelspec": {
   "display_name": "Environment (conda_python3)",
   "language": "python",
   "name": "conda_python3"
  },
  "language_info": {
   "codemirror_mode": {
    "name": "ipython",
    "version": 3
   },
   "file_extension": ".py",
   "mimetype": "text/x-python",
   "name": "python",
   "nbconvert_exporter": "python",
   "pygments_lexer": "ipython3",
   "version": "3.6.5"
  }
 },
 "nbformat": 4,
 "nbformat_minor": 2
}
