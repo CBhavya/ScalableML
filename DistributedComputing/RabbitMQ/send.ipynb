{
 "cells": [
  {
   "cell_type": "markdown",
   "metadata": {},
   "source": [
    "# Using rabbitmq-server Message Broker with Amazon AWS"
   ]
  },
  {
   "cell_type": "markdown",
   "metadata": {},
   "source": [
    "### Installation"
   ]
  },
  {
   "cell_type": "markdown",
   "metadata": {},
   "source": [
    "check notes on http://kronosapiens.github.io/blog/2015/04/28/rabbitmq-aws.html"
   ]
  },
  {
   "cell_type": "markdown",
   "metadata": {},
   "source": [
    "Install rabbitmq-server server first:\n",
    "sudo apt-get install rabbitmq-server"
   ]
  },
  {
   "cell_type": "markdown",
   "metadata": {},
   "source": [
    "check if the rabbitmq server is up and runnning: sudo rabbitmqctl status"
   ]
  },
  {
   "cell_type": "markdown",
   "metadata": {},
   "source": [
    "RabbitMQ comes with a “guest” user out of the box, but this user is not configured to accept external requests. This would be fine if you were planning on sending and consuming messages locally, but we are not.\n",
    "\n",
    "The easiest way to configure RabbitMQ to accept external requests is to create a new user. Go ahead and run the following. (Feel free to chahnge the myguest username and password to anytihng you like):"
   ]
  },
  {
   "cell_type": "markdown",
   "metadata": {},
   "source": [
    "sudo rabbitmqctl add_user myguest myguestpwd"
   ]
  },
  {
   "cell_type": "markdown",
   "metadata": {},
   "source": [
    "sudo rabbitmqctl set_permissions -p / myguest \".*\" \".*\" \".*\""
   ]
  },
  {
   "cell_type": "markdown",
   "metadata": {},
   "source": [
    "This will create a new user on the RabbitMQ server. We will use this username and password to configure the app-layer instance to send messages to Rabbit.\n",
    "\n",
    "Let’s check to make sure the user was created correctly:"
   ]
  },
  {
   "cell_type": "markdown",
   "metadata": {},
   "source": [
    "sudo rabbitmqctl list_users"
   ]
  },
  {
   "cell_type": "code",
   "execution_count": 3,
   "metadata": {},
   "outputs": [],
   "source": [
    "#!pip install pika"
   ]
  },
  {
   "cell_type": "code",
   "execution_count": 2,
   "metadata": {},
   "outputs": [],
   "source": [
    "import pika"
   ]
  },
  {
   "cell_type": "markdown",
   "metadata": {},
   "source": [
    "### Example for sending message on Localhost "
   ]
  },
  {
   "cell_type": "code",
   "execution_count": 3,
   "metadata": {},
   "outputs": [],
   "source": [
    "connection_local = pika.BlockingConnection(pika.ConnectionParameters('localhost'))\n",
    "channel_local = connection_local.channel()"
   ]
  },
  {
   "cell_type": "code",
   "execution_count": 4,
   "metadata": {},
   "outputs": [
    {
     "name": "stdout",
     "output_type": "stream",
     "text": [
      " [x] Sent 'Hello World!'\n"
     ]
    }
   ],
   "source": [
    "channel_local.basic_publish(exchange='',\n",
    "                      routing_key='hello',\n",
    "                      body='Hello World 1!')\n",
    "print(\" [x] Sent 'Hello World!'\")"
   ]
  },
  {
   "cell_type": "markdown",
   "metadata": {},
   "source": [
    "### Here is another way with setting up credentials"
   ]
  },
  {
   "cell_type": "code",
   "execution_count": 5,
   "metadata": {},
   "outputs": [],
   "source": [
    "credentials = pika.PlainCredentials('myguest', 'myguestpwd')\n",
    "parameters =  pika.ConnectionParameters('localhost', port=5672, credentials=credentials)\n",
    "connection = pika.BlockingConnection(parameters)\n",
    "channel = connection.channel()"
   ]
  },
  {
   "cell_type": "code",
   "execution_count": 6,
   "metadata": {},
   "outputs": [
    {
     "name": "stdout",
     "output_type": "stream",
     "text": [
      " [x] Sent 'Hello World!'\n"
     ]
    }
   ],
   "source": [
    "channel.basic_publish(exchange='',\n",
    "                      routing_key='hello',\n",
    "                      body='Hello World 2!')\n",
    "print(\" [x] Sent 'Hello World!'\")"
   ]
  },
  {
   "cell_type": "markdown",
   "metadata": {},
   "source": [
    "### Example for sending message through web"
   ]
  },
  {
   "cell_type": "markdown",
   "metadata": {},
   "source": [
    "Below I'm using a balance loader (PROD-JOB-844fd7d2202ac4da.elb.us-east-2.amazonaws.com) that I set up on AWS. \n",
    "You should change it to your machine's address"
   ]
  },
  {
   "cell_type": "code",
   "execution_count": 7,
   "metadata": {},
   "outputs": [],
   "source": [
    "credentials = pika.PlainCredentials('myguest', 'myguestpwd')\n",
    "parameters =  pika.ConnectionParameters('PROD-JOB-844fd7d2202ac4da.elb.us-east-2.amazonaws.com', port=5672, credentials=credentials)\n",
    "connection = pika.BlockingConnection(parameters)\n",
    "channel = connection.channel()"
   ]
  },
  {
   "cell_type": "code",
   "execution_count": 8,
   "metadata": {},
   "outputs": [
    {
     "name": "stdout",
     "output_type": "stream",
     "text": [
      " [x] Sent 'Hello World!'\n"
     ]
    }
   ],
   "source": [
    "channel.basic_publish(exchange='',\n",
    "                      routing_key='hello2',\n",
    "                      body='Hello World5!')\n",
    "print(\" [x] Sent 'Hello World!'\")"
   ]
  },
  {
   "cell_type": "code",
   "execution_count": null,
   "metadata": {},
   "outputs": [],
   "source": []
  }
 ],
 "metadata": {
  "kernelspec": {
   "display_name": "Environment (conda_python3)",
   "language": "python",
   "name": "conda_python3"
  },
  "language_info": {
   "codemirror_mode": {
    "name": "ipython",
    "version": 3
   },
   "file_extension": ".py",
   "mimetype": "text/x-python",
   "name": "python",
   "nbconvert_exporter": "python",
   "pygments_lexer": "ipython3",
   "version": "3.6.5"
  }
 },
 "nbformat": 4,
 "nbformat_minor": 2
}
