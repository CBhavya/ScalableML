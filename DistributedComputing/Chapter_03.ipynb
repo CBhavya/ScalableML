{
 "cells": [
  {
   "cell_type": "markdown",
   "metadata": {},
   "source": [
    "### Parallelism in Python"
   ]
  },
  {
   "cell_type": "markdown",
   "metadata": {},
   "source": [
    "we will look at parallel programming in more detail and see which \n",
    "facilities Python offers us to make our code use more than one CPU or CPU core at the \n",
    "time (but always within the boundaries of a single machine). \n",
    "\n",
    "The main goal here will be speed for CPU-intensive problems, and responsiveness for I/O-intensive code."
   ]
  },
  {
   "cell_type": "markdown",
   "metadata": {},
   "source": [
    "Let's start by writing a simple program that makes use of multiple threads to \n",
    "download data from the Web. "
   ]
  },
  {
   "cell_type": "code",
   "execution_count": 57,
   "metadata": {},
   "outputs": [],
   "source": [
    "#We start by importing the modules we need from the Standard Library (that is, threading, queue, and urllib.request).\n",
    "\n",
    "from threading import Thread\n",
    "from queue import Queue\n",
    "import urllib.request"
   ]
  },
  {
   "cell_type": "code",
   "execution_count": 36,
   "metadata": {},
   "outputs": [],
   "source": [
    "links=[]\n",
    "links.append('https://www.stats.govt.nz/assets/Uploads/Annual-enterprise-survey/Annual-enterprise-survey-2017-financial-year-provisional/Download-data/annual-enterprise-survey-2017-financial-year-provisional-size-bands-csv.csv')\n",
    "links.append('https://www.stats.govt.nz/assets/Uploads/Household-living-costs-price-indexes/Household-living-costs-price-indexes-September-2018-quarter/Download-data/household-living-costs-price-indexes-sep18qtr-time-series-indexes.csv')\n",
    "links.append('https://www.stats.govt.nz/assets/Uploads/Annual-enterprise-survey/Annual-enterprise-survey-2017-financial-year-provisional/Download-data/annual-enterprise-survey-2017-financial-year-provisional-csv.csv')"
   ]
  },
  {
   "cell_type": "code",
   "execution_count": 37,
   "metadata": {},
   "outputs": [
    {
     "data": {
      "text/plain": [
       "['https://www.stats.govt.nz/assets/Uploads/Annual-enterprise-survey/Annual-enterprise-survey-2017-financial-year-provisional/Download-data/annual-enterprise-survey-2017-financial-year-provisional-size-bands-csv.csv',\n",
       " 'https://www.stats.govt.nz/assets/Uploads/Household-living-costs-price-indexes/Household-living-costs-price-indexes-September-2018-quarter/Download-data/household-living-costs-price-indexes-sep18qtr-time-series-indexes.csv',\n",
       " 'https://www.stats.govt.nz/assets/Uploads/Annual-enterprise-survey/Annual-enterprise-survey-2017-financial-year-provisional/Download-data/annual-enterprise-survey-2017-financial-year-provisional-csv.csv']"
      ]
     },
     "execution_count": 37,
     "metadata": {},
     "output_type": "execute_result"
    }
   ],
   "source": [
    "links"
   ]
  },
  {
   "cell_type": "code",
   "execution_count": 43,
   "metadata": {},
   "outputs": [],
   "source": [
    "def get_content(act_url, outq):\n",
    "    with urllib.request.urlopen(act_url) as res:\n",
    "        body = res.read()\n",
    "    outq.put((act_url, body))"
   ]
  },
  {
   "cell_type": "code",
   "execution_count": 58,
   "metadata": {},
   "outputs": [],
   "source": [
    "# Define a thread-safe queue (that is, an instance of Queue from the Python queue module)\n",
    "# We call this queue outputq. It will hold the data produced by the various threads that downloaded the contents of the the websites. \n",
    "\n",
    "outputq = Queue()"
   ]
  },
  {
   "cell_type": "code",
   "execution_count": 60,
   "metadata": {},
   "outputs": [],
   "source": [
    "\n",
    "#Once we have the output queue, we then spawn a new worker thread for each website link. \n",
    "#Each worker thread simply runs the get_content function, with the actual link and the output queue as arguments.\n",
    "\n",
    "for link in links:\n",
    "        t = Thread(target=get_content,\n",
    "                   kwargs={'act_url': link,\n",
    "                           'outq': outputq})\n",
    "        t.daemon = True\n",
    "        t.start()"
   ]
  },
  {
   "cell_type": "markdown",
   "metadata": {},
   "source": [
    "Since these threads are just fire and forget threads, we can make them daemons, meaning that the main Python program \n",
    "will not wait for them to quit (join in  thread parlance) before exiting.\n",
    "It is quite important to get this last observation about daemon threads and queues \n",
    "right. The main difficulty in using threads to perform actions in parallel is that we \n",
    "cannot tell when a given thread will read or write any data shared with other threads."
   ]
  },
  {
   "cell_type": "markdown",
   "metadata": {},
   "source": [
    "This can give rise to what is usually called a race condition. This is the situation where \n",
    "on one hand, the correct execution of the system depends on some actions being \n",
    "performed in a given order, and on the other hand, these actions are not guaranteed to \n",
    "happen in the right order, that is, the order envisioned by the programmer.\n",
    "\n",
    "One way out of synchronization problems like these is the use of locks. Thread-safe \n",
    "queues are a very convenient example of lock-based data structures that we can use \n",
    "to organize data access.\n",
    "\n",
    "Since each thread writes to the same output queue, we might just as well monitor \n",
    "that queue to know when results are ready and it is time to quit. \n",
    "\n",
    "Here, we do that by simply fetching one result from the queue per link \n",
    "(the loop over links) and by waiting for the queue to join (outputq.join()), \n",
    "which will happen when all the results have been fetched (more precisely, when each \n",
    "get() method is followed by a call to task_done()). This way, we are sure that our \n",
    "program does not quit prematurely."
   ]
  },
  {
   "cell_type": "code",
   "execution_count": 62,
   "metadata": {},
   "outputs": [
    {
     "name": "stdout",
     "output_type": "stream",
     "text": [
      "https://www.stats.govt.nz/assets/Uploads/Annual-enterprise-survey/Annual-enterprise-survey-2017-financial-year-provisional/Download-data/annual-enterprise-survey-2017-financial-year-provisional-size-bands-csv.csv b'year,industry_code_ANZSIC,industry_name_ANZSIC,rme_size_grp,variable,value,unit\\r\\n2011,A,\"Agriculture'\n",
      "https://www.stats.govt.nz/assets/Uploads/Annual-enterprise-survey/Annual-enterprise-survey-2017-financial-year-provisional/Download-data/annual-enterprise-survey-2017-financial-year-provisional-csv.csv b'Year,Industry_aggregation_NZSIOC,Industry_code_NZSIOC,Industry_name_NZSIOC,Units,Variable_code,Varia'\n",
      "https://www.stats.govt.nz/assets/Uploads/Household-living-costs-price-indexes/Household-living-costs-price-indexes-September-2018-quarter/Download-data/household-living-costs-price-indexes-sep18qtr-time-series-indexes.csv b'hlpi_name,series_ref,quarter,hlpi,nzhec,nzhec_name,nzhec_short,level,index,change.q,change.a\\r\\nAll ho'\n"
     ]
    }
   ],
   "source": [
    "for _ in links:\n",
    "    link, body = outputq.get()\n",
    "    print(link, body[:100])\n",
    "    outputq.task_done()\n",
    "outputq.join()"
   ]
  },
  {
   "cell_type": "code",
   "execution_count": 63,
   "metadata": {},
   "outputs": [
    {
     "name": "stdout",
     "output_type": "stream",
     "text": [
      "3.4219446182250977\n"
     ]
    }
   ],
   "source": [
    "# no threads\n",
    "q = Queue()\n",
    "t0 = time(); [get_content(p, q) for p in links]; dt = time() - t0; print(dt)"
   ]
  },
  {
   "cell_type": "code",
   "execution_count": 65,
   "metadata": {},
   "outputs": [
    {
     "name": "stdout",
     "output_type": "stream",
     "text": [
      "1.395106315612793\n"
     ]
    }
   ],
   "source": [
    "# threads can help!\n",
    "\n",
    "t0 = time();\n",
    "\n",
    "for link in links:\n",
    "        t = Thread(target=get_content,\n",
    "                   kwargs={'act_url': link,\n",
    "                           'outq': outputq})\n",
    "        t.daemon = True\n",
    "        t.start()\n",
    "        \n",
    "for _ in links:\n",
    "    link, body = outputq.get()\n",
    "    #print(link, body[:100])\n",
    "    outputq.task_done()\n",
    "outputq.join()\n",
    "\n",
    "dt = time() - t0; print(dt)"
   ]
  },
  {
   "cell_type": "markdown",
   "metadata": {},
   "source": [
    "### Somtimes threads can hurt performance"
   ]
  },
  {
   "cell_type": "code",
   "execution_count": 66,
   "metadata": {},
   "outputs": [],
   "source": [
    "def fib(n):\n",
    "    if n <= 2:\n",
    "        return 1\n",
    "    elif n == 0:\n",
    "        return 0\n",
    "    elif n < 0:\n",
    "        raise Exception('fib(n) is undefined for n < 0')\n",
    "    return fib(n - 1) + fib(n - 2)\n"
   ]
  },
  {
   "cell_type": "code",
   "execution_count": 67,
   "metadata": {},
   "outputs": [
    {
     "data": {
      "text/plain": [
       "5"
      ]
     },
     "execution_count": 67,
     "metadata": {},
     "output_type": "execute_result"
    }
   ],
   "source": [
    "fib(5)"
   ]
  },
  {
   "cell_type": "code",
   "execution_count": 87,
   "metadata": {},
   "outputs": [],
   "source": [
    "def runthreads(threadnum,fibnum):\n",
    "    t0 = time();\n",
    "    for i in range(threadnum):\n",
    "            t = Thread(target=fib, args=(fibnum, ))\n",
    "            t.start()\n",
    "    dt = time() - t0; \n",
    "    print(dt/threadnum)"
   ]
  },
  {
   "cell_type": "code",
   "execution_count": 88,
   "metadata": {},
   "outputs": [
    {
     "name": "stdout",
     "output_type": "stream",
     "text": [
      "0.005471467971801758\n",
      "0.010702729225158691\n",
      "0.033026933670043945\n",
      "0.0513838529586792\n",
      "0.02851840853691101\n"
     ]
    }
   ],
   "source": [
    "# these numbers should be the same if threads were parallel\n",
    "\n",
    "runthreads(1,34)\n",
    "runthreads(2,34)\n",
    "runthreads(3,34)\n",
    "runthreads(4,34)\n",
    "runthreads(8,34)"
   ]
  },
  {
   "cell_type": "markdown",
   "metadata": {},
   "source": [
    "Interesting! The use of two threads to compute the 34 Fibonacci number in parallel \n",
    "takes twice as much time as using a single thread to do the same computation once. \n",
    "Increasing the number of parallel computations just increases the execution time \n",
    "linearly. Clearly, something is not quite right, as we would have expected the threads \n",
    "to run in parallel (again, on a quad-core machine)."
   ]
  },
  {
   "cell_type": "markdown",
   "metadata": {},
   "source": [
    "It turns out that there is something not obvious going on deep inside the Python \n",
    "interpreter that is affecting our CPU-bound threads. That thing is called Global \n",
    "Interpreter Lock (GIL). As the name implies, the GIL is a global lock that is used, \n",
    "mostly, to keep reference counting sane (remember when we talked about that a little \n",
    "while ago?). The consequence of the GIL is that even though Python threads are real \n",
    "OS-native threads, only one of them can be active at any given point in time.\n",
    "\n",
    "This has led some to say that the Python interpreter is a single-threaded interpreter, \n",
    "which is not quite true. However, this statement is also, conceptually at least, not \n",
    "completely wrong either. \n",
    "\n",
    "The situation we just witnessed is very similar to the \n",
    "behavior we observed when writing coroutines. In that case, in fact, only one piece \n",
    "of code could run at any given point in time. Things just work, meaning we get the \n",
    "parallelism that we expect, when one coroutine or thread waits for I/O and another \n",
    "one takes over the CPU. Things do not work as well in terms of performance speedups, \n",
    "when one task needs the CPU for a long time, as is the case with CPU-bound tasks as \n",
    "in the Fibonacci example."
   ]
  },
  {
   "cell_type": "markdown",
   "metadata": {},
   "source": [
    "Just like with coroutines, using threads in Python is far from being a lost cause. \n",
    "Parallel I/O can give a significant performance boost to our application, both in the \n",
    "case of code using multiple threads or coroutines"
   ]
  },
  {
   "cell_type": "markdown",
   "metadata": {},
   "source": [
    "As a side note, not all Python interpreters have the GIL; Jython, for instance, does not."
   ]
  },
  {
   "cell_type": "markdown",
   "metadata": {},
   "source": [
    "# Multiple processes\n",
    "Traditionally, the way Python programmers have worked around the GIL and its \n",
    "effect on CPU-bound threads has been to use multiple processes instead of multiple \n",
    "threads. This approach (multiprocessing) has some disadvantages, which mostly boil \n",
    "down to having to launch multiple instances of the Python interpreter with all the \n",
    "startup time and memory usage penalties that this implies"
   ]
  },
  {
   "cell_type": "code",
   "execution_count": null,
   "metadata": {},
   "outputs": [],
   "source": []
  }
 ],
 "metadata": {
  "kernelspec": {
   "display_name": "Environment (conda_python3)",
   "language": "python",
   "name": "conda_python3"
  },
  "language_info": {
   "codemirror_mode": {
    "name": "ipython",
    "version": 3
   },
   "file_extension": ".py",
   "mimetype": "text/x-python",
   "name": "python",
   "nbconvert_exporter": "python",
   "pygments_lexer": "ipython3",
   "version": "3.6.5"
  }
 },
 "nbformat": 4,
 "nbformat_minor": 2
}
