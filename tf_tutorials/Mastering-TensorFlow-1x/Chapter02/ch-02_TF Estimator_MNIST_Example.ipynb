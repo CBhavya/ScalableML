{
 "cells": [
  {
   "cell_type": "markdown",
   "metadata": {
    "toc": true
   },
   "source": [
    "<h1>Table of Contents<span class=\"tocSkip\"></span></h1>\n",
    "<div class=\"toc\" style=\"margin-top: 1em;\"><ul class=\"toc-item\"><li><span><a href=\"#TF-Estimator-MNIST-Example\" data-toc-modified-id=\"TF-Estimator-MNIST-Example-1\"><span class=\"toc-item-num\">1&nbsp;&nbsp;</span>TF Estimator MNIST Example</a></span></li><li><span><a href=\"#TF-Slim-MNIST-Example\" data-toc-modified-id=\"TF-Slim-MNIST-Example-2\"><span class=\"toc-item-num\">2&nbsp;&nbsp;</span>TF Slim MNIST Example</a></span></li><li><span><a href=\"#TFLearn-MNIST-Example\" data-toc-modified-id=\"TFLearn-MNIST-Example-3\"><span class=\"toc-item-num\">3&nbsp;&nbsp;</span>TFLearn MNIST Example</a></span></li><li><span><a href=\"#Pretty-Tensor-MNIST-Example\" data-toc-modified-id=\"Pretty-Tensor-MNIST-Example-4\"><span class=\"toc-item-num\">4&nbsp;&nbsp;</span>Pretty Tensor MNIST Example</a></span></li><li><span><a href=\"#Sonnet-MNIST-Example\" data-toc-modified-id=\"Sonnet-MNIST-Example-5\"><span class=\"toc-item-num\">5&nbsp;&nbsp;</span>Sonnet MNIST Example</a></span></li></ul></div>"
   ]
  },
  {
   "cell_type": "markdown",
   "metadata": {},
   "source": [
    "# TF Estimator MNIST Example "
   ]
  },
  {
   "cell_type": "code",
   "execution_count": 1,
   "metadata": {},
   "outputs": [],
   "source": [
    "import os\n",
    "import tensorflow as tf\n",
    "import numpy as np\n",
    "from tensorflow.examples.tutorials.mnist import input_data\n"
   ]
  },
  {
   "cell_type": "code",
   "execution_count": 2,
   "metadata": {},
   "outputs": [
    {
     "name": "stdout",
     "output_type": "stream",
     "text": [
      "WARNING:tensorflow:From <ipython-input-2-ecdb55da78d6>:2: read_data_sets (from tensorflow.contrib.learn.python.learn.datasets.mnist) is deprecated and will be removed in a future version.\n",
      "Instructions for updating:\n",
      "Please use alternatives such as official/mnist/dataset.py from tensorflow/models.\n",
      "WARNING:tensorflow:From /home/ubuntu/anaconda3/envs/tensorflow_p36/lib/python3.6/site-packages/tensorflow/contrib/learn/python/learn/datasets/mnist.py:260: maybe_download (from tensorflow.contrib.learn.python.learn.datasets.base) is deprecated and will be removed in a future version.\n",
      "Instructions for updating:\n",
      "Please write your own downloading logic.\n",
      "WARNING:tensorflow:From /home/ubuntu/anaconda3/envs/tensorflow_p36/lib/python3.6/site-packages/tensorflow/contrib/learn/python/learn/datasets/mnist.py:262: extract_images (from tensorflow.contrib.learn.python.learn.datasets.mnist) is deprecated and will be removed in a future version.\n",
      "Instructions for updating:\n",
      "Please use tf.data to implement this functionality.\n",
      "Extracting ./mnist/train-images-idx3-ubyte.gz\n",
      "WARNING:tensorflow:From /home/ubuntu/anaconda3/envs/tensorflow_p36/lib/python3.6/site-packages/tensorflow/contrib/learn/python/learn/datasets/mnist.py:267: extract_labels (from tensorflow.contrib.learn.python.learn.datasets.mnist) is deprecated and will be removed in a future version.\n",
      "Instructions for updating:\n",
      "Please use tf.data to implement this functionality.\n",
      "Extracting ./mnist/train-labels-idx1-ubyte.gz\n",
      "Extracting ./mnist/t10k-images-idx3-ubyte.gz\n",
      "Extracting ./mnist/t10k-labels-idx1-ubyte.gz\n",
      "WARNING:tensorflow:From /home/ubuntu/anaconda3/envs/tensorflow_p36/lib/python3.6/site-packages/tensorflow/contrib/learn/python/learn/datasets/mnist.py:290: DataSet.__init__ (from tensorflow.contrib.learn.python.learn.datasets.mnist) is deprecated and will be removed in a future version.\n",
      "Instructions for updating:\n",
      "Please use alternatives such as official/mnist/dataset.py from tensorflow/models.\n"
     ]
    }
   ],
   "source": [
    "mnist = input_data.read_data_sets(os.path.join('.', 'mnist'),\n",
    "                                  one_hot=False\n",
    "                                  )\n",
    "x_train = mnist.train.images\n",
    "y_train = mnist.train.labels\n",
    "x_test = mnist.test.images\n",
    "y_test = mnist.test.labels\n"
   ]
  },
  {
   "cell_type": "code",
   "execution_count": 3,
   "metadata": {},
   "outputs": [],
   "source": [
    "n_classes = 10\n",
    "batch_size = 100\n",
    "n_steps = 1000\n",
    "learning_rate = 0.01\n"
   ]
  },
  {
   "cell_type": "code",
   "execution_count": 4,
   "metadata": {},
   "outputs": [],
   "source": [
    "tf.reset_default_graph()\n"
   ]
  },
  {
   "cell_type": "code",
   "execution_count": 5,
   "metadata": {},
   "outputs": [],
   "source": [
    "def model_fn(features, labels, mode):\n",
    "    \"\"\" define the model function\n",
    "    \"\"\"\n",
    "    espec_op = tf.estimator.EstimatorSpec\n",
    "    # features is a dict as per Estimator specifications\n",
    "    x = features['images']\n",
    "    # define the network\n",
    "    layer_1 = tf.layers.dense(x, 32)\n",
    "    layer_2 = tf.layers.dense(layer_1, 32)\n",
    "    logits = tf.layers.dense(layer_2, n_classes)\n",
    "\n",
    "    # define predicted classes\n",
    "    predicted_classes = tf.argmax(logits, axis=1)\n",
    "    if mode == tf.estimator.ModeKeys.PREDICT:\n",
    "        espec = espec_op(mode,\n",
    "                         predictions=predicted_classes\n",
    "                         )\n",
    "    else:\n",
    "        # define loss and optimizer\n",
    "        entropy_op = tf.nn.sparse_softmax_cross_entropy_with_logits\n",
    "        loss_op = tf.reduce_mean(entropy_op(logits=logits,\n",
    "                                            labels=tf.cast(labels,\n",
    "                                                           dtype=tf.int32)\n",
    "                                            )\n",
    "                                 )\n",
    "        optimizer = tf.train.GradientDescentOptimizer(\n",
    "            learning_rate=learning_rate)\n",
    "        train_op = optimizer.minimize(\n",
    "            loss_op, global_step=tf.train.get_global_step())\n",
    "\n",
    "        # define accuracy\n",
    "        accuracy_op = tf.metrics.accuracy(\n",
    "            labels=labels, predictions=predicted_classes)\n",
    "\n",
    "        espec = espec_op(mode=mode,\n",
    "                         predictions=predicted_classes,\n",
    "                         loss=loss_op,\n",
    "                         train_op=train_op,\n",
    "                         eval_metric_ops={'accuracy': accuracy_op}\n",
    "                         )\n",
    "\n",
    "    return espec\n",
    "\n",
    "\n"
   ]
  },
  {
   "cell_type": "code",
   "execution_count": 6,
   "metadata": {},
   "outputs": [
    {
     "name": "stdout",
     "output_type": "stream",
     "text": [
      "INFO:tensorflow:Using default config.\n",
      "WARNING:tensorflow:Using temporary folder as model directory: /tmp/tmpzpp7cwo3\n",
      "INFO:tensorflow:Using config: {'_model_dir': '/tmp/tmpzpp7cwo3', '_tf_random_seed': None, '_save_summary_steps': 100, '_save_checkpoints_steps': None, '_save_checkpoints_secs': 600, '_session_config': allow_soft_placement: true\n",
      "graph_options {\n",
      "  rewrite_options {\n",
      "    meta_optimizer_iterations: ONE\n",
      "  }\n",
      "}\n",
      ", '_keep_checkpoint_max': 5, '_keep_checkpoint_every_n_hours': 10000, '_log_step_count_steps': 100, '_train_distribute': None, '_device_fn': None, '_protocol': None, '_eval_distribute': None, '_experimental_distribute': None, '_service': None, '_cluster_spec': <tensorflow.python.training.server_lib.ClusterSpec object at 0x7f09eaf5f390>, '_task_type': 'worker', '_task_id': 0, '_global_id_in_cluster': 0, '_master': '', '_evaluation_master': '', '_is_chief': True, '_num_ps_replicas': 0, '_num_worker_replicas': 1}\n"
     ]
    }
   ],
   "source": [
    "# create estimator object\n",
    "model = tf.estimator.Estimator(model_fn)\n"
   ]
  },
  {
   "cell_type": "code",
   "execution_count": 7,
   "metadata": {},
   "outputs": [
    {
     "name": "stdout",
     "output_type": "stream",
     "text": [
      "WARNING:tensorflow:From /home/ubuntu/anaconda3/envs/tensorflow_p36/lib/python3.6/site-packages/tensorflow/python/estimator/inputs/queues/feeding_queue_runner.py:62: QueueRunner.__init__ (from tensorflow.python.training.queue_runner_impl) is deprecated and will be removed in a future version.\n",
      "Instructions for updating:\n",
      "To construct input pipelines, use the `tf.data` module.\n",
      "WARNING:tensorflow:From /home/ubuntu/anaconda3/envs/tensorflow_p36/lib/python3.6/site-packages/tensorflow/python/estimator/inputs/queues/feeding_functions.py:500: add_queue_runner (from tensorflow.python.training.queue_runner_impl) is deprecated and will be removed in a future version.\n",
      "Instructions for updating:\n",
      "To construct input pipelines, use the `tf.data` module.\n",
      "INFO:tensorflow:Calling model_fn.\n",
      "INFO:tensorflow:Done calling model_fn.\n",
      "INFO:tensorflow:Create CheckpointSaverHook.\n",
      "INFO:tensorflow:Graph was finalized.\n",
      "INFO:tensorflow:Running local_init_op.\n",
      "INFO:tensorflow:Done running local_init_op.\n",
      "WARNING:tensorflow:From /home/ubuntu/anaconda3/envs/tensorflow_p36/lib/python3.6/site-packages/tensorflow/python/training/monitored_session.py:804: start_queue_runners (from tensorflow.python.training.queue_runner_impl) is deprecated and will be removed in a future version.\n",
      "Instructions for updating:\n",
      "To construct input pipelines, use the `tf.data` module.\n",
      "INFO:tensorflow:Saving checkpoints for 0 into /tmp/tmpzpp7cwo3/model.ckpt.\n",
      "INFO:tensorflow:loss = 2.3743649, step = 0\n",
      "INFO:tensorflow:global_step/sec: 472.691\n",
      "INFO:tensorflow:loss = 1.334875, step = 100 (0.214 sec)\n",
      "INFO:tensorflow:global_step/sec: 524.455\n",
      "INFO:tensorflow:loss = 1.0205415, step = 200 (0.191 sec)\n",
      "INFO:tensorflow:global_step/sec: 530.567\n",
      "INFO:tensorflow:loss = 0.7639195, step = 300 (0.187 sec)\n",
      "INFO:tensorflow:global_step/sec: 525.177\n",
      "INFO:tensorflow:loss = 0.63917464, step = 400 (0.190 sec)\n",
      "INFO:tensorflow:global_step/sec: 529.847\n",
      "INFO:tensorflow:loss = 0.522489, step = 500 (0.189 sec)\n",
      "INFO:tensorflow:global_step/sec: 522.704\n",
      "INFO:tensorflow:loss = 0.5388705, step = 600 (0.191 sec)\n",
      "INFO:tensorflow:global_step/sec: 522.342\n",
      "INFO:tensorflow:loss = 0.4647211, step = 700 (0.191 sec)\n",
      "INFO:tensorflow:global_step/sec: 532.749\n",
      "INFO:tensorflow:loss = 0.38525164, step = 800 (0.189 sec)\n",
      "INFO:tensorflow:global_step/sec: 519.696\n",
      "INFO:tensorflow:loss = 0.33223996, step = 900 (0.192 sec)\n",
      "INFO:tensorflow:Saving checkpoints for 1000 into /tmp/tmpzpp7cwo3/model.ckpt.\n",
      "INFO:tensorflow:Loss for final step: 0.54238343.\n"
     ]
    },
    {
     "data": {
      "text/plain": [
       "<tensorflow.python.estimator.estimator.Estimator at 0x7f09eaf5f0f0>"
      ]
     },
     "execution_count": 7,
     "metadata": {},
     "output_type": "execute_result"
    }
   ],
   "source": [
    "# train the model\n",
    "train_input_fn = tf.estimator.inputs.numpy_input_fn(\n",
    "    x={'images': x_train},\n",
    "    y=y_train,\n",
    "    batch_size=batch_size,\n",
    "    num_epochs=None,\n",
    "    shuffle=True)\n",
    "model.train(train_input_fn, steps=n_steps)\n"
   ]
  },
  {
   "cell_type": "code",
   "execution_count": 8,
   "metadata": {},
   "outputs": [
    {
     "name": "stdout",
     "output_type": "stream",
     "text": [
      "INFO:tensorflow:Calling model_fn.\n",
      "INFO:tensorflow:Done calling model_fn.\n",
      "INFO:tensorflow:Starting evaluation at 2018-10-30-04:51:43\n",
      "INFO:tensorflow:Graph was finalized.\n",
      "INFO:tensorflow:Restoring parameters from /tmp/tmpzpp7cwo3/model.ckpt-1000\n",
      "INFO:tensorflow:Running local_init_op.\n",
      "INFO:tensorflow:Done running local_init_op.\n",
      "INFO:tensorflow:Finished evaluation at 2018-10-30-04:51:43\n",
      "INFO:tensorflow:Saving dict for global step 1000: accuracy = 0.8877, global_step = 1000, loss = 0.40761253\n",
      "INFO:tensorflow:Saving 'checkpoint_path' summary for global step 1000: /tmp/tmpzpp7cwo3/model.ckpt-1000\n"
     ]
    },
    {
     "data": {
      "text/plain": [
       "{'accuracy': 0.8877, 'loss': 0.40761253, 'global_step': 1000}"
      ]
     },
     "execution_count": 8,
     "metadata": {},
     "output_type": "execute_result"
    }
   ],
   "source": [
    "# evaluate the model\n",
    "eval_input_fn = tf.estimator.inputs.numpy_input_fn(\n",
    "    x={'images': x_test},\n",
    "    y=y_test,\n",
    "    batch_size=batch_size,\n",
    "    shuffle=False)\n",
    "model.evaluate(eval_input_fn)"
   ]
  },
  {
   "cell_type": "code",
   "execution_count": null,
   "metadata": {},
   "outputs": [],
   "source": []
  }
 ],
 "metadata": {
  "kernelspec": {
   "display_name": "Environment (conda_tensorflow_p36)",
   "language": "python",
   "name": "conda_tensorflow_p36"
  },
  "language_info": {
   "codemirror_mode": {
    "name": "ipython",
    "version": 3
   },
   "file_extension": ".py",
   "mimetype": "text/x-python",
   "name": "python",
   "nbconvert_exporter": "python",
   "pygments_lexer": "ipython3",
   "version": "3.6.5"
  },
  "toc": {
   "nav_menu": {},
   "number_sections": true,
   "sideBar": true,
   "skip_h1_title": false,
   "toc_cell": true,
   "toc_position": {},
   "toc_section_display": "block",
   "toc_window_display": true
  }
 },
 "nbformat": 4,
 "nbformat_minor": 2
}
