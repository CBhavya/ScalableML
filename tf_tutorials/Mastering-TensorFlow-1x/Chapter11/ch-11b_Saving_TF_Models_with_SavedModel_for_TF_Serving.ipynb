{
 "cells": [
  {
   "cell_type": "markdown",
   "metadata": {
    "toc": true
   },
   "source": [
    "<h1>Table of Contents<span class=\"tocSkip\"></span></h1>\n",
    "<div class=\"toc\" style=\"margin-top: 1em;\"><ul class=\"toc-item\"></ul></div>"
   ]
  },
  {
   "cell_type": "markdown",
   "metadata": {},
   "source": [
    "# Saving TF Models with SavedModel for TF Serving <a class=\"tocSkip\">"
   ]
  },
  {
   "cell_type": "code",
   "execution_count": 1,
   "metadata": {},
   "outputs": [
    {
     "name": "stdout",
     "output_type": "stream",
     "text": [
      "NumPy:1.14.5\n",
      "TensorFlow:1.11.0\n"
     ]
    }
   ],
   "source": [
    "import math\n",
    "import os\n",
    "\n",
    "import numpy as np\n",
    "np.random.seed(123)\n",
    "print(\"NumPy:{}\".format(np.__version__))\n",
    "\n",
    "import tensorflow as tf\n",
    "tf.set_random_seed(123)\n",
    "print(\"TensorFlow:{}\".format(tf.__version__))"
   ]
  },
  {
   "cell_type": "code",
   "execution_count": 2,
   "metadata": {},
   "outputs": [],
   "source": [
    "DATASETSLIB_HOME = '../datasetslib'\n",
    "import sys\n",
    "if not DATASETSLIB_HOME in sys.path:\n",
    "    sys.path.append(DATASETSLIB_HOME)\n",
    "%reload_ext autoreload\n",
    "%autoreload 2\n",
    "import datasetslib\n",
    "\n",
    "from datasetslib import util as dsu\n",
    "datasetslib.datasets_root = os.path.join(os.path.expanduser('~'),'datasets')\n",
    "models_root = os.path.join(os.path.expanduser('~'),'models')"
   ]
  },
  {
   "cell_type": "markdown",
   "metadata": {},
   "source": [
    "# Serving Model in TensorFlow"
   ]
  },
  {
   "cell_type": "markdown",
   "metadata": {},
   "source": [
    "# Saving model with SavedModel"
   ]
  },
  {
   "cell_type": "code",
   "execution_count": 3,
   "metadata": {},
   "outputs": [],
   "source": [
    "# Restart kernel to run the flag setting again\n",
    "#tf.flags.DEFINE_integer('model_version', 1, 'version number of the model.')\n",
    "model_name = 'mnist'\n",
    "model_version = '1'\n",
    "model_dir = os.path.join(models_root,model_name,model_version)"
   ]
  },
  {
   "cell_type": "code",
   "execution_count": 4,
   "metadata": {},
   "outputs": [
    {
     "name": "stdout",
     "output_type": "stream",
     "text": [
      "WARNING:tensorflow:From <ipython-input-4-4377d139c412>:4: read_data_sets (from tensorflow.contrib.learn.python.learn.datasets.mnist) is deprecated and will be removed in a future version.\n",
      "Instructions for updating:\n",
      "Please use alternatives such as official/mnist/dataset.py from tensorflow/models.\n",
      "WARNING:tensorflow:From /home/ubuntu/anaconda3/envs/tensorflow_p36/lib/python3.6/site-packages/tensorflow/contrib/learn/python/learn/datasets/mnist.py:260: maybe_download (from tensorflow.contrib.learn.python.learn.datasets.base) is deprecated and will be removed in a future version.\n",
      "Instructions for updating:\n",
      "Please write your own downloading logic.\n",
      "WARNING:tensorflow:From /home/ubuntu/anaconda3/envs/tensorflow_p36/lib/python3.6/site-packages/tensorflow/contrib/learn/python/learn/datasets/mnist.py:262: extract_images (from tensorflow.contrib.learn.python.learn.datasets.mnist) is deprecated and will be removed in a future version.\n",
      "Instructions for updating:\n",
      "Please use tf.data to implement this functionality.\n",
      "Extracting /home/ubuntu/datasets/mnist/train-images-idx3-ubyte.gz\n",
      "WARNING:tensorflow:From /home/ubuntu/anaconda3/envs/tensorflow_p36/lib/python3.6/site-packages/tensorflow/contrib/learn/python/learn/datasets/mnist.py:267: extract_labels (from tensorflow.contrib.learn.python.learn.datasets.mnist) is deprecated and will be removed in a future version.\n",
      "Instructions for updating:\n",
      "Please use tf.data to implement this functionality.\n",
      "Extracting /home/ubuntu/datasets/mnist/train-labels-idx1-ubyte.gz\n",
      "WARNING:tensorflow:From /home/ubuntu/anaconda3/envs/tensorflow_p36/lib/python3.6/site-packages/tensorflow/contrib/learn/python/learn/datasets/mnist.py:110: dense_to_one_hot (from tensorflow.contrib.learn.python.learn.datasets.mnist) is deprecated and will be removed in a future version.\n",
      "Instructions for updating:\n",
      "Please use tf.one_hot on tensors.\n",
      "Extracting /home/ubuntu/datasets/mnist/t10k-images-idx3-ubyte.gz\n",
      "Extracting /home/ubuntu/datasets/mnist/t10k-labels-idx1-ubyte.gz\n",
      "WARNING:tensorflow:From /home/ubuntu/anaconda3/envs/tensorflow_p36/lib/python3.6/site-packages/tensorflow/contrib/learn/python/learn/datasets/mnist.py:290: DataSet.__init__ (from tensorflow.contrib.learn.python.learn.datasets.mnist) is deprecated and will be removed in a future version.\n",
      "Instructions for updating:\n",
      "Please use alternatives such as official/mnist/dataset.py from tensorflow/models.\n"
     ]
    }
   ],
   "source": [
    "# get the MNIST Data\n",
    "\n",
    "from tensorflow.examples.tutorials.mnist import input_data\n",
    "mnist = input_data.read_data_sets(os.path.join(datasetslib.datasets_root,'mnist'), one_hot=True)\n",
    "\n",
    "x_train = mnist.train.images\n",
    "x_test = mnist.test.images\n",
    "y_train = mnist.train.labels\n",
    "y_test = mnist.test.labels\n",
    "\n",
    "# parameters\n",
    "pixel_size = 28 \n",
    "num_outputs = 10  # 0-9 digits\n",
    "num_inputs = 784  # total pixels"
   ]
  },
  {
   "cell_type": "code",
   "execution_count": 5,
   "metadata": {},
   "outputs": [],
   "source": [
    "def mlp(x, num_inputs, num_outputs,num_layers,num_neurons):\n",
    "    w=[]\n",
    "    b=[]\n",
    "    for i in range(num_layers):\n",
    "        # weights\n",
    "        w.append(tf.Variable(tf.random_normal( \\\n",
    "                              [num_inputs if i==0 else num_neurons[i-1], \\\n",
    "                               num_neurons[i]]), \\\n",
    "                             name=\"w_{0:04d}\".format(i) \\\n",
    "                            ) \\\n",
    "                ) \n",
    "        # biases\n",
    "        b.append(tf.Variable(tf.random_normal( \\\n",
    "                              [num_neurons[i]]), \\\n",
    "                             name=\"b_{0:04d}\".format(i) \\\n",
    "                            ) \\\n",
    "                )                   \n",
    "    w.append(tf.Variable(tf.random_normal(\n",
    "                          [num_neurons[num_layers-1] if num_layers > 0 else num_inputs,\n",
    "                           num_outputs]),name=\"w_out\"))\n",
    "    b.append(tf.Variable(tf.random_normal([num_outputs]),name=\"b_out\"))\n",
    "    \n",
    "    # x is input layer\n",
    "    layer = x\n",
    "    # add hidden layers\n",
    "    for i in range(num_layers):\n",
    "        layer = tf.nn.relu(tf.matmul(layer, w[i]) + b[i])\n",
    "    # add output layer\n",
    "    layer = tf.matmul(layer, w[num_layers]) + b[num_layers]\n",
    "    model = layer\n",
    "    probs = tf.nn.softmax(model)\n",
    "    \n",
    "    return model,probs"
   ]
  },
  {
   "cell_type": "code",
   "execution_count": 6,
   "metadata": {},
   "outputs": [],
   "source": [
    "tf.reset_default_graph()"
   ]
  },
  {
   "cell_type": "code",
   "execution_count": 7,
   "metadata": {},
   "outputs": [],
   "source": [
    "# input images\n",
    "serialized_tf_example = tf.placeholder(tf.string, name='tf_example')\n",
    "feature_configs = {'x': tf.FixedLenFeature(shape=[784], dtype=tf.float32),}\n",
    "tf_example = tf.parse_example(serialized_tf_example, feature_configs)\n",
    "x_p = tf.identity(tf_example['x'], name='x_p')  # use tf.identity() to assign name\n",
    "\n",
    "# target output\n",
    "y_p = tf.placeholder(dtype=tf.float32, name=\"y_p\", shape=[None, num_outputs]) "
   ]
  },
  {
   "cell_type": "code",
   "execution_count": 8,
   "metadata": {},
   "outputs": [
    {
     "name": "stdout",
     "output_type": "stream",
     "text": [
      "WARNING:tensorflow:From <ipython-input-8-0ee2519b2008>:19: softmax_cross_entropy_with_logits (from tensorflow.python.ops.nn_ops) is deprecated and will be removed in a future version.\n",
      "Instructions for updating:\n",
      "\n",
      "Future major versions of TensorFlow will allow gradients to flow\n",
      "into the labels input on backprop by default.\n",
      "\n",
      "See `tf.nn.softmax_cross_entropy_with_logits_v2`.\n",
      "\n",
      "epoch: 0000   loss = 59.730989\n",
      "epoch: 0001   loss = 14.145552\n",
      "epoch: 0002   loss = 8.525061\n",
      "epoch: 0003   loss = 5.947919\n",
      "epoch: 0004   loss = 4.390820\n",
      "epoch: 0005   loss = 3.441660\n",
      "epoch: 0006   loss = 2.671090\n",
      "epoch: 0007   loss = 2.208723\n",
      "epoch: 0008   loss = 1.769823\n",
      "epoch: 0009   loss = 1.467833\n",
      "epoch: 0010   loss = 1.221096\n",
      "epoch: 0011   loss = 1.060124\n",
      "epoch: 0012   loss = 0.887587\n",
      "epoch: 0013   loss = 0.750789\n",
      "epoch: 0014   loss = 0.643013\n",
      "epoch: 0015   loss = 0.539258\n",
      "epoch: 0016   loss = 0.469765\n",
      "epoch: 0017   loss = 0.399119\n",
      "epoch: 0018   loss = 0.329758\n",
      "epoch: 0019   loss = 0.281580\n",
      "epoch: 0020   loss = 0.240632\n",
      "epoch: 0021   loss = 0.204305\n",
      "epoch: 0022   loss = 0.170387\n",
      "epoch: 0023   loss = 0.149727\n",
      "epoch: 0024   loss = 0.125530\n",
      "epoch: 0025   loss = 0.104190\n",
      "epoch: 0026   loss = 0.089950\n",
      "epoch: 0027   loss = 0.078606\n",
      "epoch: 0028   loss = 0.063433\n",
      "epoch: 0029   loss = 0.056759\n",
      "epoch: 0030   loss = 0.048288\n",
      "epoch: 0031   loss = 0.038562\n",
      "epoch: 0032   loss = 0.034748\n",
      "epoch: 0033   loss = 0.031678\n",
      "epoch: 0034   loss = 0.028011\n",
      "epoch: 0035   loss = 0.023259\n",
      "epoch: 0036   loss = 0.018034\n",
      "epoch: 0037   loss = 0.015774\n",
      "epoch: 0038   loss = 0.012112\n",
      "epoch: 0039   loss = 0.012040\n",
      "epoch: 0040   loss = 0.006922\n",
      "epoch: 0041   loss = 0.006163\n",
      "epoch: 0042   loss = 0.006643\n",
      "epoch: 0043   loss = 0.004132\n",
      "epoch: 0044   loss = 0.003487\n",
      "epoch: 0045   loss = 0.003467\n",
      "epoch: 0046   loss = 0.002031\n",
      "epoch: 0047   loss = 0.001662\n",
      "epoch: 0048   loss = 0.000810\n",
      "epoch: 0049   loss = 0.000153\n",
      "accuracy=0.93540001\n",
      "WARNING:tensorflow:From <ipython-input-8-0ee2519b2008>:91: calling SavedModelBuilder.add_meta_graph_and_variables (from tensorflow.python.saved_model.builder_impl) with legacy_init_op is deprecated and will be removed in a future version.\n",
      "Instructions for updating:\n",
      "Pass your op to the equivalent parameter main_op instead.\n",
      "INFO:tensorflow:No assets to save.\n",
      "INFO:tensorflow:No assets to write.\n",
      "INFO:tensorflow:SavedModel written to: /home/ubuntu/models/mnist/1/saved_model.pb\n",
      "Run following command:\n",
      "tensorflow_model_server --model_name=mnist --model_base_path=/home/ubuntu/models/mnist\n"
     ]
    }
   ],
   "source": [
    "num_layers = 2\n",
    "num_neurons = []\n",
    "for i in range(num_layers):\n",
    "    num_neurons.append(256)\n",
    "    \n",
    "learning_rate = 0.01\n",
    "n_epochs = 50\n",
    "batch_size = 100\n",
    "n_batches = mnist.train.num_examples//batch_size\n",
    "\n",
    "model,probs = mlp(x=x_p, \n",
    "            num_inputs=num_inputs, \n",
    "            num_outputs=num_outputs, \n",
    "            num_layers=num_layers, \n",
    "            num_neurons=num_neurons)\n",
    "\n",
    "# loss function\n",
    "#loss = tf.reduce_mean(-tf.reduce_sum(y * tf.log(model), axis=1))\n",
    "loss = tf.reduce_mean(tf.nn.softmax_cross_entropy_with_logits(logits=model, labels=y_p))\n",
    "# optimizer function\n",
    "optimizer = tf.train.GradientDescentOptimizer(learning_rate=learning_rate)\n",
    "\n",
    "train_op = optimizer.minimize(loss)\n",
    "\n",
    "predictions_check = tf.equal(tf.argmax(probs,1), tf.argmax(y_p,1))\n",
    "accuracy_function = tf.reduce_mean(tf.cast(predictions_check, tf.float32))\n",
    "\n",
    "values, indices = tf.nn.top_k(probs, 10)\n",
    "table = tf.contrib.lookup.index_to_string_table_from_tensor(\n",
    "  tf.constant([str(i) for i in range(10)]))\n",
    "prediction_classes = table.lookup(tf.to_int64(indices))\n",
    "\n",
    "with tf.Session() as tfs:\n",
    "    tfs.run(tf.global_variables_initializer())\n",
    "    for epoch in range(n_epochs):\n",
    "        epoch_loss = 0.0\n",
    "        for batch in range(n_batches):\n",
    "            x_batch, y_batch = mnist.train.next_batch(batch_size)\n",
    "            _,batch_loss = tfs.run([train_op,loss], feed_dict={x_p: x_batch, y_p: y_batch})\n",
    "            epoch_loss += batch_loss \n",
    "        average_loss = epoch_loss / n_batches\n",
    "        print(\"epoch: {0:04d}   loss = {1:0.6f}\".format(epoch,average_loss))\n",
    "    accuracy_score = tfs.run(accuracy_function, feed_dict={x_p: x_test, y_p: y_test })\n",
    "    print(\"accuracy={0:.8f}\".format(accuracy_score))\n",
    "\n",
    "    # save the model\n",
    "    \n",
    "    # definitions for saving the models\n",
    "    builder = tf.saved_model.builder.SavedModelBuilder(model_dir)\n",
    "\n",
    "    # build signature_def_map\n",
    "\n",
    "    classification_inputs = tf.saved_model.utils.build_tensor_info(\n",
    "      serialized_tf_example)\n",
    "    classification_outputs_classes = tf.saved_model.utils.build_tensor_info(\n",
    "      prediction_classes)\n",
    "    classification_outputs_scores = tf.saved_model.utils.build_tensor_info(values)\n",
    "\n",
    "    classification_signature = (\n",
    "      tf.saved_model.signature_def_utils.build_signature_def(\n",
    "          inputs={\n",
    "              tf.saved_model.signature_constants.CLASSIFY_INPUTS:\n",
    "                  classification_inputs\n",
    "          },\n",
    "          outputs={\n",
    "              tf.saved_model.signature_constants.CLASSIFY_OUTPUT_CLASSES:\n",
    "                  classification_outputs_classes,\n",
    "              tf.saved_model.signature_constants.CLASSIFY_OUTPUT_SCORES:\n",
    "                  classification_outputs_scores\n",
    "          },\n",
    "          method_name=tf.saved_model.signature_constants.CLASSIFY_METHOD_NAME))\n",
    "\n",
    "    tensor_info_x = tf.saved_model.utils.build_tensor_info(x_p)\n",
    "    tensor_info_y = tf.saved_model.utils.build_tensor_info(probs)\n",
    "\n",
    "    prediction_signature = (\n",
    "          tf.saved_model.signature_def_utils.build_signature_def(\n",
    "              inputs={'inputs': tensor_info_x},\n",
    "              outputs={'outputs': tensor_info_y},\n",
    "              method_name=tf.saved_model.signature_constants.PREDICT_METHOD_NAME))\n",
    "\n",
    "    legacy_init_op = tf.group(tf.tables_initializer(), name='legacy_init_op')\n",
    "    builder.add_meta_graph_and_variables(\n",
    "      tfs, [tf.saved_model.tag_constants.SERVING],\n",
    "      signature_def_map={\n",
    "          'predict_images':\n",
    "              prediction_signature,\n",
    "          tf.saved_model.signature_constants.DEFAULT_SERVING_SIGNATURE_DEF_KEY:\n",
    "              classification_signature,\n",
    "      },\n",
    "      legacy_init_op=legacy_init_op)\n",
    "    \n",
    "    builder.save()\n",
    "\n",
    "print('Run following command:')\n",
    "print('tensorflow_model_server --model_name=mnist --model_base_path={}'\n",
    "      .format(os.path.join(models_root,model_name)))"
   ]
  },
  {
   "cell_type": "code",
   "execution_count": null,
   "metadata": {},
   "outputs": [],
   "source": []
  }
 ],
 "metadata": {
  "kernelspec": {
   "display_name": "Environment (conda_tensorflow_p36)",
   "language": "python",
   "name": "conda_tensorflow_p36"
  },
  "language_info": {
   "codemirror_mode": {
    "name": "ipython",
    "version": 3
   },
   "file_extension": ".py",
   "mimetype": "text/x-python",
   "name": "python",
   "nbconvert_exporter": "python",
   "pygments_lexer": "ipython3",
   "version": "3.6.5"
  },
  "toc": {
   "nav_menu": {},
   "number_sections": true,
   "sideBar": true,
   "skip_h1_title": true,
   "toc_cell": true,
   "toc_position": {},
   "toc_section_display": "block",
   "toc_window_display": true
  }
 },
 "nbformat": 4,
 "nbformat_minor": 2
}
