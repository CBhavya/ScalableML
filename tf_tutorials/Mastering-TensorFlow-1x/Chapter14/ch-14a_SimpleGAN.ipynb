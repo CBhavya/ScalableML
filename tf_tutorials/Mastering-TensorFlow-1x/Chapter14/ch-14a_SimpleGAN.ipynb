{
 "cells": [
  {
   "cell_type": "markdown",
   "metadata": {
    "toc": true
   },
   "source": [
    "<h1>Table of Contents<span class=\"tocSkip\"></span></h1>\n",
    "<div class=\"toc\" style=\"margin-top: 1em;\"><ul class=\"toc-item\"></ul></div>"
   ]
  },
  {
   "cell_type": "markdown",
   "metadata": {},
   "source": [
    "# Generative Adversarial Networks <a class=\"tocSkip\">"
   ]
  },
  {
   "cell_type": "code",
   "execution_count": 1,
   "metadata": {},
   "outputs": [
    {
     "name": "stdout",
     "output_type": "stream",
     "text": [
      "NumPy:1.14.5\n",
      "Pandas:0.22.0\n",
      "Matplotlib:2.2.2\n",
      "TensorFlow:1.11.0\n",
      "Keras:2.2.4\n"
     ]
    },
    {
     "name": "stderr",
     "output_type": "stream",
     "text": [
      "Using TensorFlow backend.\n"
     ]
    }
   ],
   "source": [
    "import os\n",
    "\n",
    "import numpy as np\n",
    "np.random.seed(123)\n",
    "print(\"NumPy:{}\".format(np.__version__))\n",
    "\n",
    "import pandas as pd\n",
    "print(\"Pandas:{}\".format(pd.__version__))\n",
    "\n",
    "import matplotlib as mpl\n",
    "import matplotlib.pyplot as plt\n",
    "from matplotlib.pylab import rcParams\n",
    "rcParams['figure.figsize']=15,10\n",
    "print(\"Matplotlib:{}\".format(mpl.__version__))\n",
    "\n",
    "import tensorflow as tf\n",
    "tf.set_random_seed(123)\n",
    "print(\"TensorFlow:{}\".format(tf.__version__))\n",
    "\n",
    "import keras\n",
    "print(\"Keras:{}\".format(keras.__version__))"
   ]
  },
  {
   "cell_type": "code",
   "execution_count": 2,
   "metadata": {},
   "outputs": [],
   "source": [
    "DATASETSLIB_HOME = '../datasetslib'\n",
    "import sys\n",
    "if not DATASETSLIB_HOME in sys.path:\n",
    "    sys.path.append(DATASETSLIB_HOME)\n",
    "%reload_ext autoreload\n",
    "%autoreload 2\n",
    "import datasetslib\n",
    "\n",
    "from datasetslib import util as dsu\n",
    "datasetslib.datasets_root = os.path.join(os.path.expanduser('~'),'datasets')"
   ]
  },
  {
   "cell_type": "markdown",
   "metadata": {},
   "source": [
    "# Get the MNIST data"
   ]
  },
  {
   "cell_type": "code",
   "execution_count": 3,
   "metadata": {},
   "outputs": [
    {
     "name": "stdout",
     "output_type": "stream",
     "text": [
      "WARNING:tensorflow:From <ipython-input-3-5cbdad85eff8>:2: read_data_sets (from tensorflow.contrib.learn.python.learn.datasets.mnist) is deprecated and will be removed in a future version.\n",
      "Instructions for updating:\n",
      "Please use alternatives such as official/mnist/dataset.py from tensorflow/models.\n",
      "WARNING:tensorflow:From /home/ubuntu/anaconda3/envs/tensorflow_p36/lib/python3.6/site-packages/tensorflow/contrib/learn/python/learn/datasets/mnist.py:260: maybe_download (from tensorflow.contrib.learn.python.learn.datasets.base) is deprecated and will be removed in a future version.\n",
      "Instructions for updating:\n",
      "Please write your own downloading logic.\n",
      "WARNING:tensorflow:From /home/ubuntu/anaconda3/envs/tensorflow_p36/lib/python3.6/site-packages/tensorflow/contrib/learn/python/learn/datasets/mnist.py:262: extract_images (from tensorflow.contrib.learn.python.learn.datasets.mnist) is deprecated and will be removed in a future version.\n",
      "Instructions for updating:\n",
      "Please use tf.data to implement this functionality.\n",
      "Extracting /home/ubuntu/datasets/mnist/train-images-idx3-ubyte.gz\n",
      "WARNING:tensorflow:From /home/ubuntu/anaconda3/envs/tensorflow_p36/lib/python3.6/site-packages/tensorflow/contrib/learn/python/learn/datasets/mnist.py:267: extract_labels (from tensorflow.contrib.learn.python.learn.datasets.mnist) is deprecated and will be removed in a future version.\n",
      "Instructions for updating:\n",
      "Please use tf.data to implement this functionality.\n",
      "Extracting /home/ubuntu/datasets/mnist/train-labels-idx1-ubyte.gz\n",
      "Extracting /home/ubuntu/datasets/mnist/t10k-images-idx3-ubyte.gz\n",
      "Extracting /home/ubuntu/datasets/mnist/t10k-labels-idx1-ubyte.gz\n",
      "WARNING:tensorflow:From /home/ubuntu/anaconda3/envs/tensorflow_p36/lib/python3.6/site-packages/tensorflow/contrib/learn/python/learn/datasets/mnist.py:290: DataSet.__init__ (from tensorflow.contrib.learn.python.learn.datasets.mnist) is deprecated and will be removed in a future version.\n",
      "Instructions for updating:\n",
      "Please use alternatives such as official/mnist/dataset.py from tensorflow/models.\n"
     ]
    }
   ],
   "source": [
    "from tensorflow.examples.tutorials.mnist import input_data\n",
    "mnist = input_data.read_data_sets(os.path.join(datasetslib.datasets_root,'mnist'), one_hot=False)\n",
    "\n",
    "x_train = mnist.train.images\n",
    "x_test = mnist.test.images\n",
    "y_train = mnist.train.labels\n",
    "y_test = mnist.test.labels\n",
    "\n",
    "pixel_size = 28\n",
    "\n",
    "def norm(x):\n",
    "    return (x-0.5)/0.5"
   ]
  },
  {
   "cell_type": "code",
   "execution_count": 4,
   "metadata": {},
   "outputs": [],
   "source": [
    "n_z = 256\n",
    "z_test = np.random.uniform(-1.0,1.0,size=[8,n_z])"
   ]
  },
  {
   "cell_type": "code",
   "execution_count": 5,
   "metadata": {},
   "outputs": [],
   "source": [
    "# Function to display the images and labels\n",
    "def display_images(images):\n",
    "    for i in range(images.shape[0]):\n",
    "        plt.subplot(1, 8, i + 1)\n",
    "        plt.imshow(images[i])\n",
    "        plt.axis('off')\n",
    "    plt.tight_layout()\n",
    "    plt.show()"
   ]
  },
  {
   "cell_type": "markdown",
   "metadata": {},
   "source": [
    "# Simple GAN in TensorFlow"
   ]
  },
  {
   "cell_type": "code",
   "execution_count": 6,
   "metadata": {},
   "outputs": [],
   "source": [
    "tf.reset_default_graph()\n",
    "keras.backend.clear_session()"
   ]
  },
  {
   "cell_type": "code",
   "execution_count": 7,
   "metadata": {},
   "outputs": [],
   "source": [
    "# graph hyperparameters\n",
    "g_learning_rate = 0.00001\n",
    "d_learning_rate = 0.01\n",
    "\n",
    "n_x = 784  # number of pixels in the MNIST image as number of inputs\n",
    "\n",
    "# number of hidden layers for generator and discriminator\n",
    "g_n_layers = 3\n",
    "d_n_layers = 1\n",
    "# neurons in each hidden layer\n",
    "g_n_neurons = [256, 512, 1024]\n",
    "d_n_neurons = [256]\n",
    "\n",
    "# define parameter ditionary\n",
    "d_params = {}\n",
    "g_params = {}\n",
    "\n",
    "activation = tf.nn.leaky_relu\n",
    "w_initializer = tf.glorot_uniform_initializer\n",
    "b_initializer = tf.zeros_initializer\n",
    "\n",
    "# define generator\n",
    "\n",
    "z_p = tf.placeholder(dtype=tf.float32, name='z_p', shape=[None, n_z])\n",
    "\n",
    "layer = z_p\n",
    "\n",
    "# add generator network weights, biases and layers\n",
    "with tf.variable_scope('g'):\n",
    "    for i in range(0, g_n_layers):\n",
    "        w_name = 'w_{0:04d}'.format(i)\n",
    "        g_params[w_name] = tf.get_variable(\n",
    "            name=w_name,\n",
    "            shape=[n_z if i == 0 else g_n_neurons[i - 1], g_n_neurons[i]],\n",
    "            initializer=w_initializer())\n",
    "\n",
    "        b_name = 'b_{0:04d}'.format(i)\n",
    "        g_params[b_name] = tf.get_variable(\n",
    "            name=b_name, shape=[g_n_neurons[i]], initializer=b_initializer())\n",
    "\n",
    "        layer = activation(\n",
    "            tf.matmul(layer, g_params[w_name]) + g_params[b_name])\n",
    "\n",
    "    #output (logit) layer\n",
    "    i = g_n_layers\n",
    "    w_name = 'w_{0:04d}'.format(i)\n",
    "    g_params[w_name] = tf.get_variable(\n",
    "        name=w_name,\n",
    "        shape=[g_n_neurons[i - 1], n_x],\n",
    "        initializer=w_initializer())\n",
    "\n",
    "    b_name = 'b_{0:04d}'.format(i)\n",
    "    g_params[b_name] = tf.get_variable(\n",
    "        name=b_name, shape=[n_x], initializer=b_initializer())\n",
    "\n",
    "    g_logit = tf.matmul(layer, g_params[w_name]) + g_params[b_name]\n",
    "    g_model = tf.nn.tanh(g_logit)\n",
    "\n",
    "# define discriminator(s)\n",
    "\n",
    "# add discriminator network weights, biases\n",
    "\n",
    "with tf.variable_scope('d'):\n",
    "    for i in range(0, d_n_layers):\n",
    "        w_name = 'w_{0:04d}'.format(i)\n",
    "        d_params[w_name] = tf.get_variable(\n",
    "            name=w_name,\n",
    "            shape=[n_x if i == 0 else d_n_neurons[i - 1], d_n_neurons[i]],\n",
    "            initializer=w_initializer())\n",
    "\n",
    "        b_name = 'b_{0:04d}'.format(i)\n",
    "        d_params[b_name] = tf.get_variable(\n",
    "            name=b_name, shape=[d_n_neurons[i]], initializer=b_initializer())\n",
    "\n",
    "    #output (logit) layer\n",
    "    i = d_n_layers\n",
    "    w_name = 'w_{0:04d}'.format(i)\n",
    "    d_params[w_name] = tf.get_variable(\n",
    "        name=w_name, shape=[d_n_neurons[i - 1], 1], initializer=w_initializer())\n",
    "\n",
    "    b_name = 'b_{0:04d}'.format(i)\n",
    "    d_params[b_name] = tf.get_variable(\n",
    "        name=b_name, shape=[1], initializer=b_initializer())\n",
    "\n",
    "# define discriminator_real\n",
    "\n",
    "# input real images\n",
    "x_p = tf.placeholder(dtype=tf.float32, name='x_p', shape=[None, n_x])\n",
    "\n",
    "layer = x_p\n",
    "\n",
    "with tf.variable_scope('d'):\n",
    "    for i in range(0, d_n_layers):\n",
    "        w_name = 'w_{0:04d}'.format(i)\n",
    "        b_name = 'b_{0:04d}'.format(i)\n",
    "\n",
    "        layer = activation(\n",
    "            tf.matmul(layer, d_params[w_name]) + d_params[b_name])\n",
    "        layer = tf.nn.dropout(layer,0.7)\n",
    "    #output (logit) layer\n",
    "    i = d_n_layers\n",
    "    w_name = 'w_{0:04d}'.format(i)\n",
    "    b_name = 'b_{0:04d}'.format(i)\n",
    "    d_logit_real = tf.matmul(layer, d_params[w_name]) + d_params[b_name]\n",
    "    d_model_real = tf.nn.sigmoid(d_logit_real)\n",
    "\n",
    "# define discriminator_fake\n",
    "\n",
    "# input generated fake images\n",
    "z = g_model\n",
    "\n",
    "layer = z\n",
    "\n",
    "with tf.variable_scope('d'):\n",
    "    for i in range(0, d_n_layers):\n",
    "        w_name = 'w_{0:04d}'.format(i)\n",
    "        b_name = 'b_{0:04d}'.format(i)\n",
    "\n",
    "        layer = activation(\n",
    "            tf.matmul(layer, d_params[w_name]) + d_params[b_name])\n",
    "        layer = tf.nn.dropout(layer,0.7)\n",
    "    #output (logit) layer\n",
    "    i = d_n_layers\n",
    "    w_name = 'w_{0:04d}'.format(i)\n",
    "    b_name = 'b_{0:04d}'.format(i)\n",
    "\n",
    "    d_logit_fake = tf.matmul(layer, d_params[w_name]) + d_params[b_name]\n",
    "    d_model_fake = tf.nn.sigmoid(d_logit_fake)\n",
    "\n",
    "g_loss = -tf.reduce_mean(tf.log(d_model_fake))\n",
    "d_loss = -tf.reduce_mean(tf.log(d_model_real) + tf.log(1 - d_model_fake))\n",
    "\n",
    "g_optimizer = tf.train.AdamOptimizer(g_learning_rate)\n",
    "d_optimizer = tf.train.GradientDescentOptimizer(d_learning_rate)\n",
    "\n",
    "g_train_op = g_optimizer.minimize(g_loss, var_list=list(g_params.values()))\n",
    "d_train_op = d_optimizer.minimize(d_loss, var_list=list(d_params.values()))"
   ]
  },
  {
   "cell_type": "code",
   "execution_count": 9,
   "metadata": {},
   "outputs": [
    {
     "name": "stdout",
     "output_type": "stream",
     "text": [
      "epoch: 0000   d_loss = 0.370248  g_loss = 1.429678\n"
     ]
    },
    {
     "data": {
      "image/png": "[encoded data removed]",
      "text/plain": [
       "<Figure size 432x288 with 8 Axes>"
      ]
     },
     "metadata": {},
     "output_type": "display_data"
    },
    {
     "name": "stdout",
     "output_type": "stream",
     "text": [
      "epoch: 0005   d_loss = 0.080950  g_loss = 3.672329\n"
     ]
    },
    {
     "data": {
      "image/png": "[encoded data removed]",
      "text/plain": [
       "<Figure size 432x288 with 8 Axes>"
      ]
     },
     "metadata": {},
     "output_type": "display_data"
    },
    {
     "name": "stdout",
     "output_type": "stream",
     "text": [
      "epoch: 0010   d_loss = 0.241091  g_loss = 3.310563\n"
     ]
    },
    {
     "data": {
      "image/png": "[encoded data removed]",
      "text/plain": [
       "<Figure size 432x288 with 8 Axes>"
      ]
     },
     "metadata": {},
     "output_type": "display_data"
    },
    {
     "name": "stdout",
     "output_type": "stream",
     "text": [
      "epoch: 0015   d_loss = 0.408463  g_loss = 3.116854\n"
     ]
    },
    {
     "data": {
      "image/png": "[encoded data removed]",
      "text/plain": [
       "<Figure size 432x288 with 8 Axes>"
      ]
     },
     "metadata": {},
     "output_type": "display_data"
    },
    {
     "name": "stdout",
     "output_type": "stream",
     "text": [
      "epoch: 0020   d_loss = 0.457079  g_loss = 3.089253\n"
     ]
    },
    {
     "data": {
      "image/png": "[encoded data removed]",
      "text/plain": [
       "<Figure size 432x288 with 8 Axes>"
      ]
     },
     "metadata": {},
     "output_type": "display_data"
    },
    {
     "name": "stdout",
     "output_type": "stream",
     "text": [
      "epoch: 0025   d_loss = 0.442043  g_loss = 2.970250\n"
     ]
    },
    {
     "data": {
      "image/png": "[encoded data removed]",
      "text/plain": [
       "<Figure size 432x288 with 8 Axes>"
      ]
     },
     "metadata": {},
     "output_type": "display_data"
    },
    {
     "ename": "KeyboardInterrupt",
     "evalue": "",
     "output_type": "error",
     "traceback": [
      "\u001b[0;31m---------------------------------------------------------------------------\u001b[0m",
      "\u001b[0;31mKeyboardInterrupt\u001b[0m                         Traceback (most recent call last)",
      "\u001b[0;32m<ipython-input-9-946c32085f62>\u001b[0m in \u001b[0;36m<module>\u001b[0;34m()\u001b[0m\n\u001b[1;32m     17\u001b[0m             \u001b[0mz_batch\u001b[0m \u001b[0;34m=\u001b[0m \u001b[0mnp\u001b[0m\u001b[0;34m.\u001b[0m\u001b[0mrandom\u001b[0m\u001b[0;34m.\u001b[0m\u001b[0muniform\u001b[0m\u001b[0;34m(\u001b[0m\u001b[0;34m-\u001b[0m\u001b[0;36m1.0\u001b[0m\u001b[0;34m,\u001b[0m\u001b[0;36m1.0\u001b[0m\u001b[0;34m,\u001b[0m\u001b[0msize\u001b[0m\u001b[0;34m=\u001b[0m\u001b[0;34m[\u001b[0m\u001b[0mbatch_size\u001b[0m\u001b[0;34m,\u001b[0m\u001b[0mn_z\u001b[0m\u001b[0;34m]\u001b[0m\u001b[0;34m)\u001b[0m\u001b[0;34m\u001b[0m\u001b[0m\n\u001b[1;32m     18\u001b[0m             \u001b[0mfeed_dict\u001b[0m \u001b[0;34m=\u001b[0m \u001b[0;34m{\u001b[0m\u001b[0mx_p\u001b[0m\u001b[0;34m:\u001b[0m \u001b[0mx_batch\u001b[0m\u001b[0;34m,\u001b[0m\u001b[0mz_p\u001b[0m\u001b[0;34m:\u001b[0m \u001b[0mz_batch\u001b[0m\u001b[0;34m}\u001b[0m\u001b[0;34m\u001b[0m\u001b[0m\n\u001b[0;32m---> 19\u001b[0;31m             \u001b[0m_\u001b[0m\u001b[0;34m,\u001b[0m\u001b[0mbatch_d_loss\u001b[0m \u001b[0;34m=\u001b[0m \u001b[0mtfs\u001b[0m\u001b[0;34m.\u001b[0m\u001b[0mrun\u001b[0m\u001b[0;34m(\u001b[0m\u001b[0;34m[\u001b[0m\u001b[0md_train_op\u001b[0m\u001b[0;34m,\u001b[0m\u001b[0md_loss\u001b[0m\u001b[0;34m]\u001b[0m\u001b[0;34m,\u001b[0m \u001b[0mfeed_dict\u001b[0m\u001b[0;34m=\u001b[0m\u001b[0mfeed_dict\u001b[0m\u001b[0;34m)\u001b[0m\u001b[0;34m\u001b[0m\u001b[0m\n\u001b[0m\u001b[1;32m     20\u001b[0m \u001b[0;34m\u001b[0m\u001b[0m\n\u001b[1;32m     21\u001b[0m             \u001b[0mz_batch\u001b[0m \u001b[0;34m=\u001b[0m \u001b[0mnp\u001b[0m\u001b[0;34m.\u001b[0m\u001b[0mrandom\u001b[0m\u001b[0;34m.\u001b[0m\u001b[0muniform\u001b[0m\u001b[0;34m(\u001b[0m\u001b[0;34m-\u001b[0m\u001b[0;36m1.0\u001b[0m\u001b[0;34m,\u001b[0m\u001b[0;36m1.0\u001b[0m\u001b[0;34m,\u001b[0m\u001b[0msize\u001b[0m\u001b[0;34m=\u001b[0m\u001b[0;34m[\u001b[0m\u001b[0mbatch_size\u001b[0m\u001b[0;34m,\u001b[0m\u001b[0mn_z\u001b[0m\u001b[0;34m]\u001b[0m\u001b[0;34m)\u001b[0m\u001b[0;34m\u001b[0m\u001b[0m\n",
      "\u001b[0;32m~/anaconda3/envs/tensorflow_p36/lib/python3.6/site-packages/tensorflow/python/client/session.py\u001b[0m in \u001b[0;36mrun\u001b[0;34m(self, fetches, feed_dict, options, run_metadata)\u001b[0m\n\u001b[1;32m    885\u001b[0m     \u001b[0;32mtry\u001b[0m\u001b[0;34m:\u001b[0m\u001b[0;34m\u001b[0m\u001b[0m\n\u001b[1;32m    886\u001b[0m       result = self._run(None, fetches, feed_dict, options_ptr,\n\u001b[0;32m--> 887\u001b[0;31m                          run_metadata_ptr)\n\u001b[0m\u001b[1;32m    888\u001b[0m       \u001b[0;32mif\u001b[0m \u001b[0mrun_metadata\u001b[0m\u001b[0;34m:\u001b[0m\u001b[0;34m\u001b[0m\u001b[0m\n\u001b[1;32m    889\u001b[0m         \u001b[0mproto_data\u001b[0m \u001b[0;34m=\u001b[0m \u001b[0mtf_session\u001b[0m\u001b[0;34m.\u001b[0m\u001b[0mTF_GetBuffer\u001b[0m\u001b[0;34m(\u001b[0m\u001b[0mrun_metadata_ptr\u001b[0m\u001b[0;34m)\u001b[0m\u001b[0;34m\u001b[0m\u001b[0m\n",
      "\u001b[0;32m~/anaconda3/envs/tensorflow_p36/lib/python3.6/site-packages/tensorflow/python/client/session.py\u001b[0m in \u001b[0;36m_run\u001b[0;34m(self, handle, fetches, feed_dict, options, run_metadata)\u001b[0m\n\u001b[1;32m   1108\u001b[0m     \u001b[0;32mif\u001b[0m \u001b[0mfinal_fetches\u001b[0m \u001b[0;32mor\u001b[0m \u001b[0mfinal_targets\u001b[0m \u001b[0;32mor\u001b[0m \u001b[0;34m(\u001b[0m\u001b[0mhandle\u001b[0m \u001b[0;32mand\u001b[0m \u001b[0mfeed_dict_tensor\u001b[0m\u001b[0;34m)\u001b[0m\u001b[0;34m:\u001b[0m\u001b[0;34m\u001b[0m\u001b[0m\n\u001b[1;32m   1109\u001b[0m       results = self._do_run(handle, final_targets, final_fetches,\n\u001b[0;32m-> 1110\u001b[0;31m                              feed_dict_tensor, options, run_metadata)\n\u001b[0m\u001b[1;32m   1111\u001b[0m     \u001b[0;32melse\u001b[0m\u001b[0;34m:\u001b[0m\u001b[0;34m\u001b[0m\u001b[0m\n\u001b[1;32m   1112\u001b[0m       \u001b[0mresults\u001b[0m \u001b[0;34m=\u001b[0m \u001b[0;34m[\u001b[0m\u001b[0;34m]\u001b[0m\u001b[0;34m\u001b[0m\u001b[0m\n",
      "\u001b[0;32m~/anaconda3/envs/tensorflow_p36/lib/python3.6/site-packages/tensorflow/python/client/session.py\u001b[0m in \u001b[0;36m_do_run\u001b[0;34m(self, handle, target_list, fetch_list, feed_dict, options, run_metadata)\u001b[0m\n\u001b[1;32m   1284\u001b[0m     \u001b[0;32mif\u001b[0m \u001b[0mhandle\u001b[0m \u001b[0;32mis\u001b[0m \u001b[0;32mNone\u001b[0m\u001b[0;34m:\u001b[0m\u001b[0;34m\u001b[0m\u001b[0m\n\u001b[1;32m   1285\u001b[0m       return self._do_call(_run_fn, feeds, fetches, targets, options,\n\u001b[0;32m-> 1286\u001b[0;31m                            run_metadata)\n\u001b[0m\u001b[1;32m   1287\u001b[0m     \u001b[0;32melse\u001b[0m\u001b[0;34m:\u001b[0m\u001b[0;34m\u001b[0m\u001b[0m\n\u001b[1;32m   1288\u001b[0m       \u001b[0;32mreturn\u001b[0m \u001b[0mself\u001b[0m\u001b[0;34m.\u001b[0m\u001b[0m_do_call\u001b[0m\u001b[0;34m(\u001b[0m\u001b[0m_prun_fn\u001b[0m\u001b[0;34m,\u001b[0m \u001b[0mhandle\u001b[0m\u001b[0;34m,\u001b[0m \u001b[0mfeeds\u001b[0m\u001b[0;34m,\u001b[0m \u001b[0mfetches\u001b[0m\u001b[0;34m)\u001b[0m\u001b[0;34m\u001b[0m\u001b[0m\n",
      "\u001b[0;32m~/anaconda3/envs/tensorflow_p36/lib/python3.6/site-packages/tensorflow/python/client/session.py\u001b[0m in \u001b[0;36m_do_call\u001b[0;34m(self, fn, *args)\u001b[0m\n\u001b[1;32m   1290\u001b[0m   \u001b[0;32mdef\u001b[0m \u001b[0m_do_call\u001b[0m\u001b[0;34m(\u001b[0m\u001b[0mself\u001b[0m\u001b[0;34m,\u001b[0m \u001b[0mfn\u001b[0m\u001b[0;34m,\u001b[0m \u001b[0;34m*\u001b[0m\u001b[0margs\u001b[0m\u001b[0;34m)\u001b[0m\u001b[0;34m:\u001b[0m\u001b[0;34m\u001b[0m\u001b[0m\n\u001b[1;32m   1291\u001b[0m     \u001b[0;32mtry\u001b[0m\u001b[0;34m:\u001b[0m\u001b[0;34m\u001b[0m\u001b[0m\n\u001b[0;32m-> 1292\u001b[0;31m       \u001b[0;32mreturn\u001b[0m \u001b[0mfn\u001b[0m\u001b[0;34m(\u001b[0m\u001b[0;34m*\u001b[0m\u001b[0margs\u001b[0m\u001b[0;34m)\u001b[0m\u001b[0;34m\u001b[0m\u001b[0m\n\u001b[0m\u001b[1;32m   1293\u001b[0m     \u001b[0;32mexcept\u001b[0m \u001b[0merrors\u001b[0m\u001b[0;34m.\u001b[0m\u001b[0mOpError\u001b[0m \u001b[0;32mas\u001b[0m \u001b[0me\u001b[0m\u001b[0;34m:\u001b[0m\u001b[0;34m\u001b[0m\u001b[0m\n\u001b[1;32m   1294\u001b[0m       \u001b[0mmessage\u001b[0m \u001b[0;34m=\u001b[0m \u001b[0mcompat\u001b[0m\u001b[0;34m.\u001b[0m\u001b[0mas_text\u001b[0m\u001b[0;34m(\u001b[0m\u001b[0me\u001b[0m\u001b[0;34m.\u001b[0m\u001b[0mmessage\u001b[0m\u001b[0;34m)\u001b[0m\u001b[0;34m\u001b[0m\u001b[0m\n",
      "\u001b[0;32m~/anaconda3/envs/tensorflow_p36/lib/python3.6/site-packages/tensorflow/python/client/session.py\u001b[0m in \u001b[0;36m_run_fn\u001b[0;34m(feed_dict, fetch_list, target_list, options, run_metadata)\u001b[0m\n\u001b[1;32m   1275\u001b[0m       \u001b[0mself\u001b[0m\u001b[0;34m.\u001b[0m\u001b[0m_extend_graph\u001b[0m\u001b[0;34m(\u001b[0m\u001b[0;34m)\u001b[0m\u001b[0;34m\u001b[0m\u001b[0m\n\u001b[1;32m   1276\u001b[0m       return self._call_tf_sessionrun(\n\u001b[0;32m-> 1277\u001b[0;31m           options, feed_dict, fetch_list, target_list, run_metadata)\n\u001b[0m\u001b[1;32m   1278\u001b[0m \u001b[0;34m\u001b[0m\u001b[0m\n\u001b[1;32m   1279\u001b[0m     \u001b[0;32mdef\u001b[0m \u001b[0m_prun_fn\u001b[0m\u001b[0;34m(\u001b[0m\u001b[0mhandle\u001b[0m\u001b[0;34m,\u001b[0m \u001b[0mfeed_dict\u001b[0m\u001b[0;34m,\u001b[0m \u001b[0mfetch_list\u001b[0m\u001b[0;34m)\u001b[0m\u001b[0;34m:\u001b[0m\u001b[0;34m\u001b[0m\u001b[0m\n",
      "\u001b[0;32m~/anaconda3/envs/tensorflow_p36/lib/python3.6/site-packages/tensorflow/python/client/session.py\u001b[0m in \u001b[0;36m_call_tf_sessionrun\u001b[0;34m(self, options, feed_dict, fetch_list, target_list, run_metadata)\u001b[0m\n\u001b[1;32m   1365\u001b[0m     return tf_session.TF_SessionRun_wrapper(\n\u001b[1;32m   1366\u001b[0m         \u001b[0mself\u001b[0m\u001b[0;34m.\u001b[0m\u001b[0m_session\u001b[0m\u001b[0;34m,\u001b[0m \u001b[0moptions\u001b[0m\u001b[0;34m,\u001b[0m \u001b[0mfeed_dict\u001b[0m\u001b[0;34m,\u001b[0m \u001b[0mfetch_list\u001b[0m\u001b[0;34m,\u001b[0m \u001b[0mtarget_list\u001b[0m\u001b[0;34m,\u001b[0m\u001b[0;34m\u001b[0m\u001b[0m\n\u001b[0;32m-> 1367\u001b[0;31m         run_metadata)\n\u001b[0m\u001b[1;32m   1368\u001b[0m \u001b[0;34m\u001b[0m\u001b[0m\n\u001b[1;32m   1369\u001b[0m   \u001b[0;32mdef\u001b[0m \u001b[0m_call_tf_sessionprun\u001b[0m\u001b[0;34m(\u001b[0m\u001b[0mself\u001b[0m\u001b[0;34m,\u001b[0m \u001b[0mhandle\u001b[0m\u001b[0;34m,\u001b[0m \u001b[0mfeed_dict\u001b[0m\u001b[0;34m,\u001b[0m \u001b[0mfetch_list\u001b[0m\u001b[0;34m)\u001b[0m\u001b[0;34m:\u001b[0m\u001b[0;34m\u001b[0m\u001b[0m\n",
      "\u001b[0;31mKeyboardInterrupt\u001b[0m: "
     ]
    }
   ],
   "source": [
    "# training hyperparameters\n",
    "\n",
    "n_epochs = 400\n",
    "batch_size = 100\n",
    "n_batches = int(mnist.train.num_examples / batch_size)\n",
    "\n",
    "n_epochs_print = 5\n",
    "\n",
    "with tf.Session() as tfs:\n",
    "    tfs.run(tf.global_variables_initializer())\n",
    "    for epoch in range(n_epochs+1):\n",
    "        epoch_d_loss = 0.0\n",
    "        epoch_g_loss = 0.0\n",
    "        for batch in range(n_batches):\n",
    "            x_batch, _ = mnist.train.next_batch(batch_size)\n",
    "            x_batch = norm(x_batch)\n",
    "            z_batch = np.random.uniform(-1.0,1.0,size=[batch_size,n_z])\n",
    "            feed_dict = {x_p: x_batch,z_p: z_batch}\n",
    "            _,batch_d_loss = tfs.run([d_train_op,d_loss], feed_dict=feed_dict)\n",
    "            \n",
    "            z_batch = np.random.uniform(-1.0,1.0,size=[batch_size,n_z])\n",
    "            feed_dict={z_p: z_batch}\n",
    "            _,batch_g_loss = tfs.run([g_train_op,g_loss], feed_dict=feed_dict)\n",
    "            \n",
    "            epoch_d_loss += batch_d_loss \n",
    "            epoch_g_loss += batch_g_loss\n",
    "            \n",
    "        if epoch % n_epochs_print == 0:\n",
    "            average_d_loss = epoch_d_loss / n_batches\n",
    "            average_g_loss = epoch_g_loss / n_batches\n",
    "            print('epoch: {0:04d}   d_loss = {1:0.6f}  g_loss = {2:0.6f}'\n",
    "                  .format(epoch,average_d_loss,average_g_loss))\n",
    "            # predict images using generator model trained            \n",
    "            x_pred = tfs.run(g_model,feed_dict={z_p:z_test})\n",
    "            display_images(x_pred.reshape(-1,pixel_size,pixel_size))   \n",
    "        "
   ]
  },
  {
   "cell_type": "markdown",
   "metadata": {
    "collapsed": true
   },
   "source": [
    "# Simple GAN in Keras"
   ]
  },
  {
   "cell_type": "code",
   "execution_count": 10,
   "metadata": {},
   "outputs": [],
   "source": [
    "import keras\n",
    "from keras.layers import Dense, Input, LeakyReLU, Dropout\n",
    "from keras.models import Sequential, Model"
   ]
  },
  {
   "cell_type": "code",
   "execution_count": 11,
   "metadata": {},
   "outputs": [],
   "source": [
    "tf.reset_default_graph()\n",
    "keras.backend.clear_session()"
   ]
  },
  {
   "cell_type": "code",
   "execution_count": 12,
   "metadata": {
    "scrolled": false
   },
   "outputs": [
    {
     "name": "stdout",
     "output_type": "stream",
     "text": [
      "Generator:\n",
      "_________________________________________________________________\n",
      "Layer (type)                 Output Shape              Param #   \n",
      "=================================================================\n",
      "g_0 (Dense)                  (None, 256)               65792     \n",
      "_________________________________________________________________\n",
      "leaky_re_lu_1 (LeakyReLU)    (None, 256)               0         \n",
      "_________________________________________________________________\n",
      "g_1 (Dense)                  (None, 512)               131584    \n",
      "_________________________________________________________________\n",
      "leaky_re_lu_2 (LeakyReLU)    (None, 512)               0         \n",
      "_________________________________________________________________\n",
      "g_2 (Dense)                  (None, 1024)              525312    \n",
      "_________________________________________________________________\n",
      "leaky_re_lu_3 (LeakyReLU)    (None, 1024)              0         \n",
      "_________________________________________________________________\n",
      "g_out (Dense)                (None, 784)               803600    \n",
      "=================================================================\n",
      "Total params: 1,526,288\n",
      "Trainable params: 1,526,288\n",
      "Non-trainable params: 0\n",
      "_________________________________________________________________\n",
      "Discriminator:\n",
      "_________________________________________________________________\n",
      "Layer (type)                 Output Shape              Param #   \n",
      "=================================================================\n",
      "d_0 (Dense)                  (None, 256)               200960    \n",
      "_________________________________________________________________\n",
      "leaky_re_lu_4 (LeakyReLU)    (None, 256)               0         \n",
      "_________________________________________________________________\n",
      "dropout_1 (Dropout)          (None, 256)               0         \n",
      "_________________________________________________________________\n",
      "d_out (Dense)                (None, 1)                 257       \n",
      "=================================================================\n",
      "Total params: 201,217\n",
      "Trainable params: 201,217\n",
      "Non-trainable params: 0\n",
      "_________________________________________________________________\n",
      "GAN:\n",
      "_________________________________________________________________\n",
      "Layer (type)                 Output Shape              Param #   \n",
      "=================================================================\n",
      "z_in (InputLayer)            (None, 256)               0         \n",
      "_________________________________________________________________\n",
      "sequential_1 (Sequential)    (None, 784)               1526288   \n",
      "_________________________________________________________________\n",
      "sequential_2 (Sequential)    (None, 1)                 201217    \n",
      "=================================================================\n",
      "Total params: 1,727,505\n",
      "Trainable params: 1,526,288\n",
      "Non-trainable params: 201,217\n",
      "_________________________________________________________________\n"
     ]
    }
   ],
   "source": [
    "# graph hyperparameters\n",
    "g_learning_rate = 0.00001\n",
    "d_learning_rate = 0.01\n",
    "\n",
    "n_x = 784  # number of pixels in the MNIST image as number of inputs\n",
    "\n",
    "# number of hidden layers for generator and discriminator\n",
    "g_n_layers = 3\n",
    "d_n_layers = 1\n",
    "# neurons in each hidden layer\n",
    "g_n_neurons = [256, 512, 1024]\n",
    "d_n_neurons = [256]\n",
    "\n",
    "# define generator\n",
    "\n",
    "g_model = Sequential()\n",
    "g_model.add(Dense(units=g_n_neurons[0], \n",
    "                  input_shape=(n_z,),\n",
    "                  name='g_0'))\n",
    "g_model.add(LeakyReLU())\n",
    "for i in range(1,g_n_layers):\n",
    "    g_model.add(Dense(units=g_n_neurons[i],\n",
    "                      name='g_{}'.format(i)\n",
    "                     ))\n",
    "    g_model.add(LeakyReLU())\n",
    "g_model.add(Dense(units=n_x, activation='tanh',name='g_out'))\n",
    "print('Generator:')\n",
    "g_model.summary()\n",
    "g_model.compile(loss='binary_crossentropy',\n",
    "              optimizer=keras.optimizers.Adam(lr=g_learning_rate)\n",
    "             )\n",
    "\n",
    "# define discriminator\n",
    "\n",
    "d_model = Sequential()\n",
    "d_model.add(Dense(units=d_n_neurons[0],  \n",
    "                  input_shape=(n_x,),\n",
    "                  name='d_0'\n",
    "                 ))\n",
    "d_model.add(LeakyReLU())\n",
    "d_model.add(Dropout(0.3))\n",
    "for i in range(1,d_n_layers):\n",
    "    d_model.add(Dense(units=d_n_neurons[i], \n",
    "                      name='d_{}'.format(i)\n",
    "                     ))\n",
    "    d_model.add(LeakyReLU())\n",
    "    d_model.add(Dropout(0.3))\n",
    "d_model.add(Dense(units=1, activation='sigmoid',name='d_out'))\n",
    "print('Discriminator:')\n",
    "d_model.summary()\n",
    "d_model.compile(loss='binary_crossentropy',\n",
    "              optimizer=keras.optimizers.SGD(lr=d_learning_rate)\n",
    "             )\n",
    "\n",
    "# define GAN network\n",
    "d_model.trainable=False\n",
    "z_in = Input(shape=(n_z,),name='z_in')\n",
    "x_in = g_model(z_in)\n",
    "gan_out = d_model(x_in)\n",
    "\n",
    "gan_model = Model(inputs=z_in,outputs=gan_out,name='gan')\n",
    "print('GAN:')\n",
    "gan_model.summary()\n",
    "gan_model.compile(loss='binary_crossentropy',\n",
    "              optimizer=keras.optimizers.Adam(lr=g_learning_rate)\n",
    "             )"
   ]
  },
  {
   "cell_type": "code",
   "execution_count": 15,
   "metadata": {
    "scrolled": false
   },
   "outputs": [
    {
     "name": "stdout",
     "output_type": "stream",
     "text": [
      "epoch: 0000   d_loss = 0.395235  g_loss = 1.703727\n"
     ]
    },
    {
     "data": {
      "image/png": "[encoded data removed]",
      "text/plain": [
       "<Figure size 432x288 with 8 Axes>"
      ]
     },
     "metadata": {},
     "output_type": "display_data"
    },
    {
     "name": "stdout",
     "output_type": "stream",
     "text": [
      "epoch: 0005   d_loss = 0.385199  g_loss = 1.847037\n"
     ]
    },
    {
     "data": {
      "image/png": "[encoded data removed]",
      "text/plain": [
       "<Figure size 432x288 with 8 Axes>"
      ]
     },
     "metadata": {},
     "output_type": "display_data"
    },
    {
     "name": "stdout",
     "output_type": "stream",
     "text": [
      "epoch: 0010   d_loss = 0.404570  g_loss = 1.786374\n"
     ]
    },
    {
     "data": {
      "image/png": "[encoded data removed]",
      "text/plain": [
       "<Figure size 432x288 with 8 Axes>"
      ]
     },
     "metadata": {},
     "output_type": "display_data"
    },
    {
     "ename": "KeyboardInterrupt",
     "evalue": "",
     "output_type": "error",
     "traceback": [
      "\u001b[0;31m---------------------------------------------------------------------------\u001b[0m",
      "\u001b[0;31mKeyboardInterrupt\u001b[0m                         Traceback (most recent call last)",
      "\u001b[0;32m<ipython-input-15-2a08545ac4bf>\u001b[0m in \u001b[0;36m<module>\u001b[0;34m()\u001b[0m\n\u001b[1;32m     24\u001b[0m         \u001b[0mbatch_d_loss\u001b[0m \u001b[0;34m=\u001b[0m \u001b[0md_model\u001b[0m\u001b[0;34m.\u001b[0m\u001b[0mtrain_on_batch\u001b[0m\u001b[0;34m(\u001b[0m\u001b[0mx_in\u001b[0m\u001b[0;34m,\u001b[0m\u001b[0my_out\u001b[0m\u001b[0;34m)\u001b[0m\u001b[0;34m\u001b[0m\u001b[0m\n\u001b[1;32m     25\u001b[0m \u001b[0;34m\u001b[0m\u001b[0m\n\u001b[0;32m---> 26\u001b[0;31m         \u001b[0mz_batch\u001b[0m \u001b[0;34m=\u001b[0m \u001b[0mnp\u001b[0m\u001b[0;34m.\u001b[0m\u001b[0mrandom\u001b[0m\u001b[0;34m.\u001b[0m\u001b[0muniform\u001b[0m\u001b[0;34m(\u001b[0m\u001b[0;34m-\u001b[0m\u001b[0;36m1.0\u001b[0m\u001b[0;34m,\u001b[0m\u001b[0;36m1.0\u001b[0m\u001b[0;34m,\u001b[0m\u001b[0msize\u001b[0m\u001b[0;34m=\u001b[0m\u001b[0;34m[\u001b[0m\u001b[0mbatch_size\u001b[0m\u001b[0;34m,\u001b[0m\u001b[0mn_z\u001b[0m\u001b[0;34m]\u001b[0m\u001b[0;34m)\u001b[0m\u001b[0;34m\u001b[0m\u001b[0m\n\u001b[0m\u001b[1;32m     27\u001b[0m         \u001b[0mx_in\u001b[0m\u001b[0;34m=\u001b[0m\u001b[0mz_batch\u001b[0m\u001b[0;34m\u001b[0m\u001b[0m\n\u001b[1;32m     28\u001b[0m \u001b[0;34m\u001b[0m\u001b[0m\n",
      "\u001b[0;31mKeyboardInterrupt\u001b[0m: "
     ]
    }
   ],
   "source": [
    "# training hyperparameters\n",
    "\n",
    "n_epochs = 400\n",
    "batch_size = 100\n",
    "n_batches = int(mnist.train.num_examples / batch_size)\n",
    "n_epochs_print = 5\n",
    "\n",
    "for epoch in range(n_epochs+1):\n",
    "    epoch_d_loss = 0.0\n",
    "    epoch_g_loss = 0.0\n",
    "    for batch in range(n_batches):\n",
    "        x_batch, _ = mnist.train.next_batch(batch_size)\n",
    "        x_batch = norm(x_batch)\n",
    "        z_batch = np.random.uniform(-1.0,1.0,size=[batch_size,n_z])\n",
    "        g_batch = g_model.predict(z_batch)\n",
    "        \n",
    "        x_in = np.concatenate([x_batch,g_batch])\n",
    "        \n",
    "        y_out = np.ones(batch_size*2)\n",
    "        y_out[:batch_size]=0.9\n",
    "        y_out[batch_size:]=0.1\n",
    "        \n",
    "        d_model.trainable=True\n",
    "        batch_d_loss = d_model.train_on_batch(x_in,y_out)\n",
    "\n",
    "        z_batch = np.random.uniform(-1.0,1.0,size=[batch_size,n_z])\n",
    "        x_in=z_batch\n",
    "        \n",
    "        y_out = np.ones(batch_size)\n",
    "            \n",
    "        d_model.trainable=False\n",
    "        batch_g_loss = gan_model.train_on_batch(x_in,y_out)\n",
    "        \n",
    "        epoch_d_loss += batch_d_loss \n",
    "        epoch_g_loss += batch_g_loss \n",
    "    if epoch % n_epochs_print == 0:\n",
    "        average_d_loss = epoch_d_loss / n_batches\n",
    "        average_g_loss = epoch_g_loss / n_batches\n",
    "        print('epoch: {0:04d}   d_loss = {1:0.6f}  g_loss = {2:0.6f}'\n",
    "              .format(epoch,average_d_loss,average_g_loss))\n",
    "        # predict images using generator model trained            \n",
    "        x_pred = g_model.predict(z_test)\n",
    "        display_images(x_pred.reshape(-1,pixel_size,pixel_size))   "
   ]
  },
  {
   "cell_type": "code",
   "execution_count": null,
   "metadata": {},
   "outputs": [],
   "source": []
  }
 ],
 "metadata": {
  "kernelspec": {
   "display_name": "Environment (conda_tensorflow_p36)",
   "language": "python",
   "name": "conda_tensorflow_p36"
  },
  "language_info": {
   "codemirror_mode": {
    "name": "ipython",
    "version": 3
   },
   "file_extension": ".py",
   "mimetype": "text/x-python",
   "name": "python",
   "nbconvert_exporter": "python",
   "pygments_lexer": "ipython3",
   "version": "3.6.5"
  },
  "toc": {
   "nav_menu": {},
   "number_sections": true,
   "sideBar": true,
   "skip_h1_title": true,
   "toc_cell": true,
   "toc_position": {},
   "toc_section_display": "block",
   "toc_window_display": true
  }
 },
 "nbformat": 4,
 "nbformat_minor": 2
}
