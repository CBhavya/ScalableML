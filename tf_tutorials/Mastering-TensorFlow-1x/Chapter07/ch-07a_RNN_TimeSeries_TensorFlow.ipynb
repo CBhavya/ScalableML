{
 "cells": [
  {
   "cell_type": "markdown",
   "metadata": {},
   "source": [
    "Notes from Fandango, Armando. Mastering TensorFlow 1.x: Advanced machine learning and deep learning concepts using TensorFlow 1.x and Keras (Kindle Locations 2674-2676). Packt Publishing. Kindle Edition. "
   ]
  },
  {
   "cell_type": "markdown",
   "metadata": {},
   "source": [
    "# RNN in TensorFlow - TimeSeries Data <a class=\"tocSkip\">"
   ]
  },
  {
   "cell_type": "code",
   "execution_count": 1,
   "metadata": {},
   "outputs": [
    {
     "name": "stdout",
     "output_type": "stream",
     "text": [
      "NumPy:1.14.5\n",
      "Pandas:0.22.0\n",
      "sklearn:0.19.1\n",
      "Matplotlib:2.2.2\n",
      "TensorFlow:1.11.0\n"
     ]
    }
   ],
   "source": [
    "import math\n",
    "import os\n",
    "\n",
    "import numpy as np\n",
    "np.random.seed(123)\n",
    "print(\"NumPy:{}\".format(np.__version__))\n",
    "\n",
    "import pandas as pd\n",
    "print(\"Pandas:{}\".format(pd.__version__))\n",
    "\n",
    "import sklearn as sk\n",
    "from sklearn import preprocessing as skpp\n",
    "print(\"sklearn:{}\".format(sk.__version__))\n",
    "\n",
    "import matplotlib as mpl\n",
    "import matplotlib.pyplot as plt\n",
    "mpl.rcParams.update({'font.size': 20,\n",
    "                     'figure.figsize': [15,10] \n",
    "                    })\n",
    "print(\"Matplotlib:{}\".format(mpl.__version__))\n",
    "\n",
    "import tensorflow as tf\n",
    "tf.set_random_seed(123)\n",
    "print(\"TensorFlow:{}\".format(tf.__version__))"
   ]
  },
  {
   "cell_type": "code",
   "execution_count": 2,
   "metadata": {},
   "outputs": [],
   "source": [
    "DATASETSLIB_HOME = '../datasetslib'\n",
    "import sys\n",
    "if not DATASETSLIB_HOME in sys.path:\n",
    "    sys.path.append(DATASETSLIB_HOME)\n",
    "%reload_ext autoreload\n",
    "%autoreload 2\n",
    "import datasetslib\n",
    "\n",
    "from datasetslib import util as dsu\n",
    "datasetslib.datasets_root = os.path.join(os.path.expanduser('~'),'datasets')"
   ]
  },
  {
   "cell_type": "markdown",
   "metadata": {},
   "source": [
    "# Read and pre-process the dataset"
   ]
  },
  {
   "cell_type": "code",
   "execution_count": 3,
   "metadata": {},
   "outputs": [],
   "source": [
    "#filepath = os.path.join(datasetslib.datasets_root,\n",
    "#                        'ts-data',\n",
    "#                        'international-airline-passengers-cleaned.csv'\n",
    "#                       ) \n",
    "\n",
    "filepath = '../data/international-airline-passengers.csv'\n",
    "dataframe = pd.read_csv(filepath,\n",
    "                        usecols=[1],\n",
    "                        header=0)\n",
    "dataset = dataframe.values\n",
    "dataset = dataset.astype(np.float32)"
   ]
  },
  {
   "cell_type": "code",
   "execution_count": 4,
   "metadata": {},
   "outputs": [
    {
     "data": {
      "image/png": "[encoded data removed]",
      "text/plain": [
       "<Figure size 432x288 with 1 Axes>"
      ]
     },
     "metadata": {},
     "output_type": "display_data"
    }
   ],
   "source": [
    "plt.plot(dataset,label='Original Data')\n",
    "plt.legend()\n",
    "plt.xlabel('Timesteps')\n",
    "plt.ylabel('Total Passengers')\n",
    "plt.show()"
   ]
  },
  {
   "cell_type": "code",
   "execution_count": 5,
   "metadata": {},
   "outputs": [],
   "source": [
    "# normalize the dataset\n",
    "scaler = skpp.MinMaxScaler(feature_range=(0, 1))\n"
   ]
  },
  {
   "cell_type": "code",
   "execution_count": 6,
   "metadata": {},
   "outputs": [
    {
     "data": {
      "text/plain": [
       "(145, 1)"
      ]
     },
     "execution_count": 6,
     "metadata": {},
     "output_type": "execute_result"
    }
   ],
   "source": [
    "dataset.shape"
   ]
  },
  {
   "cell_type": "code",
   "execution_count": 7,
   "metadata": {},
   "outputs": [],
   "source": [
    "dataset=dataset[:-1]"
   ]
  },
  {
   "cell_type": "code",
   "execution_count": 8,
   "metadata": {},
   "outputs": [
    {
     "data": {
      "text/plain": [
       "(144, 1)"
      ]
     },
     "execution_count": 8,
     "metadata": {},
     "output_type": "execute_result"
    }
   ],
   "source": [
    "dataset.shape"
   ]
  },
  {
   "cell_type": "markdown",
   "metadata": {},
   "source": [
    "In order to make it ready for the learning models, normalize the dataset by applying MinMax scaling that brings the dataset values between 0 and 1. You can try applying different scaling methods to the data depending on the nature of your data.\n"
   ]
  },
  {
   "cell_type": "code",
   "execution_count": 9,
   "metadata": {},
   "outputs": [],
   "source": [
    "normalized_dataset = scaler.fit_transform(dataset)"
   ]
  },
  {
   "cell_type": "code",
   "execution_count": 10,
   "metadata": {},
   "outputs": [],
   "source": [
    "# split into train and test sets\n",
    "# The data has to be split into training and test sets without shuffling the dataset \n",
    "#as shuffling the dataset breaks the sequence. \n",
    "#Maintaining the sequence of the data is important to train the time series models.\n",
    "\n",
    "train,test=dsu.train_test_split(normalized_dataset,train_size=0.67)"
   ]
  },
  {
   "cell_type": "markdown",
   "metadata": {},
   "source": [
    "* Set the number of past timesteps that are used to learn or predict the next timestep: n_x = 1 \n",
    "\n",
    "* Set the number of future time steps to learn or predict: n_y = 1 \n",
    "\n",
    "* Set the number of x variables that are used to learn; as the current example is univariate, this is set to 1: n_x_vars = 1 \n",
    "\n",
    "* Set the number of y variables that are to be predicted; as the current example is univariate, this is set to 1: n_y_vars = 1\n"
   ]
  },
  {
   "cell_type": "code",
   "execution_count": 11,
   "metadata": {},
   "outputs": [],
   "source": [
    "# convert into supervised learning set of input data and label\n",
    "# Goal predict the time seties x_t from x_{t-1}\n",
    "\n",
    "n_x=1\n",
    "n_y=1\n",
    "X_train, Y_train, X_test, Y_test = dsu.mvts_to_xy(train,test,n_x=n_x,n_y=n_y)"
   ]
  },
  {
   "cell_type": "code",
   "execution_count": 12,
   "metadata": {},
   "outputs": [],
   "source": [
    "n_x_vars = 1  # number of x variables\n",
    "n_y_vars = 1  # number of y variables"
   ]
  },
  {
   "cell_type": "markdown",
   "metadata": {},
   "source": [
    "# TensorFlow SimpleRNN for TimeSeries Data"
   ]
  },
  {
   "cell_type": "code",
   "execution_count": 13,
   "metadata": {},
   "outputs": [],
   "source": [
    "state_size = 4\n",
    "n_epochs = 100\n",
    "n_timesteps = n_x   # number of time steps\n",
    "learning_rate = 0.1"
   ]
  },
  {
   "cell_type": "code",
   "execution_count": 14,
   "metadata": {},
   "outputs": [],
   "source": [
    "tf.reset_default_graph()"
   ]
  },
  {
   "cell_type": "markdown",
   "metadata": {},
   "source": [
    "Define the placeholders for X and Y parameters for the model. \n",
    "\n",
    "The shape of X placeholder is (batch_size, number_of_input_timesteps, number_of_inputs) \n",
    "\n",
    "and the shape of Y placeholder is (batch_size, number_of_output_timesteps, number_of_outputs). \n",
    "\n",
    "For batch_size, we use None so that we can input the batch of any size later.\n"
   ]
  },
  {
   "cell_type": "code",
   "execution_count": 15,
   "metadata": {},
   "outputs": [],
   "source": [
    "X_p = tf.placeholder(tf.float32, [None, n_timesteps, n_x_vars], name='X_p') \n",
    "# (batch_size, n_steps, n_input)\n",
    "# n_steps tensors list of shape (batch_size, n_input)\n",
    "Y_p = tf.placeholder(tf.float32, [None, n_timesteps, n_y_vars], name='Y_p')"
   ]
  },
  {
   "cell_type": "code",
   "execution_count": 16,
   "metadata": {},
   "outputs": [],
   "source": [
    "#Transform the input placeholder X_p into a list of tensors of length equal to the number of time steps, \n",
    "#which is n_x or 1 in this example:\n",
    "\n",
    "# make a list of tensors of length n_x\n",
    "rnn_inputs = tf.unstack(X_p,axis=1)"
   ]
  },
  {
   "cell_type": "markdown",
   "metadata": {},
   "source": [
    "TensorFlow provides the static_rnn and dynamic_rnn convenience methods (among others) to create a static and dynamic RNN respectively.\n",
    "\n",
    "The static_rnn method takes the following parameters: \n",
    "\n",
    "* cell:  The basic RNN cell object or another kind of cell. \n",
    "\n",
    "* rnn_inputs: The list of Tensors of shape (batch_size, number_of_inputs). \n",
    "\n",
    "* dtype: The data type of initial state and expected outputs.\n",
    "\n",
    "\n",
    "Create a static RNN:"
   ]
  },
  {
   "cell_type": "code",
   "execution_count": 17,
   "metadata": {},
   "outputs": [],
   "source": [
    "cell = tf.nn.rnn_cell.BasicRNNCell(state_size)\n",
    "#Static RNN creates the cells, i.e. unrolls the loop, at the compile time. Dynamic RNN creates the cells, \n",
    "#namely unrolls the loop, at the runtime.\n",
    "\n",
    "rnn_outputs, final_state = tf.nn.static_rnn(cell, \n",
    "                                            rnn_inputs,\n",
    "                                            dtype=tf.float32\n",
    "                                           )"
   ]
  },
  {
   "cell_type": "code",
   "execution_count": 18,
   "metadata": {},
   "outputs": [],
   "source": [
    "#Define the weight and bias parameters for the predictions layer:\n",
    "\n",
    "W = tf.get_variable('W', [state_size, n_y_vars])\n",
    "b = tf.get_variable('b', [n_y_vars], initializer=tf.constant_initializer(0.0))"
   ]
  },
  {
   "cell_type": "code",
   "execution_count": 19,
   "metadata": {},
   "outputs": [
    {
     "name": "stdout",
     "output_type": "stream",
     "text": [
      "[<tf.Tensor 'add:0' shape=(?, 1) dtype=float32>]\n"
     ]
    }
   ],
   "source": [
    "#Define the predictions layer as a dense linear layer:\n",
    "\n",
    "predictions = [tf.matmul(rnn_output, W) + b for rnn_output in rnn_outputs]\n",
    "print(predictions)"
   ]
  },
  {
   "cell_type": "code",
   "execution_count": 20,
   "metadata": {},
   "outputs": [
    {
     "name": "stdout",
     "output_type": "stream",
     "text": [
      "[<tf.Tensor 'unstack_1:0' shape=(?, 1) dtype=float32>]\n"
     ]
    }
   ],
   "source": [
    "#The output Y is in the shape of Tensors; convert it to a list of tensors:\n",
    "   \n",
    "y_as_list = tf.unstack(Y_p, num=n_timesteps, axis=1)\n",
    "print(y_as_list)"
   ]
  },
  {
   "cell_type": "code",
   "execution_count": 21,
   "metadata": {},
   "outputs": [],
   "source": [
    "mse = tf.losses.mean_squared_error"
   ]
  },
  {
   "cell_type": "code",
   "execution_count": 22,
   "metadata": {},
   "outputs": [],
   "source": [
    "losses = [mse(labels=label, predictions=prediction) \n",
    "          for prediction, label in zip(predictions, y_as_list)\n",
    "         ]\n"
   ]
  },
  {
   "cell_type": "code",
   "execution_count": 23,
   "metadata": {},
   "outputs": [],
   "source": [
    "# Define the total loss as the average of losses of all the predicted time steps:\n",
    "\n",
    "total_loss = tf.reduce_mean(losses)"
   ]
  },
  {
   "cell_type": "code",
   "execution_count": 24,
   "metadata": {},
   "outputs": [],
   "source": [
    "#Define the optimizer to minimize the total_loss:\n",
    "\n",
    "optimizer = tf.train.AdagradOptimizer(learning_rate).minimize(total_loss)"
   ]
  },
  {
   "cell_type": "code",
   "execution_count": 25,
   "metadata": {},
   "outputs": [
    {
     "name": "stdout",
     "output_type": "stream",
     "text": [
      "train mse = 0.0026714333798736334\n",
      "test mse = 0.02208944782614708\n",
      "test rmse = 0.14862519243434835\n"
     ]
    }
   ],
   "source": [
    "# training\n",
    "with tf.Session() as tfs:\n",
    "    tfs.run(tf.global_variables_initializer())\n",
    "    epoch_loss = 0.0\n",
    "    for epoch in range(n_epochs):\n",
    "        feed_dict={X_p: X_train.reshape(-1, n_timesteps, \n",
    "                                        n_x_vars), \n",
    "                   Y_p: Y_train.reshape(-1, n_timesteps, \n",
    "                                        n_x_vars)\n",
    "                  }\n",
    "        epoch_loss,y_train_pred,_=tfs.run([total_loss,predictions,optimizer], \n",
    "                                            feed_dict=feed_dict\n",
    "                                           )\n",
    "    print(\"train mse = {}\".format(epoch_loss))\n",
    "    feed_dict={X_p: X_test.reshape(-1, n_timesteps, \n",
    "                                    n_x_vars), \n",
    "               Y_p: Y_test.reshape(-1, n_timesteps, \n",
    "                                    n_y_vars)\n",
    "              }\n",
    "    test_loss, y_test_pred = tfs.run([total_loss,predictions], \n",
    "                                     feed_dict=feed_dict\n",
    "                                    )\n",
    "    print('test mse = {}'.format(test_loss))\n",
    "    print('test rmse = {}'.format(math.sqrt(test_loss)))"
   ]
  },
  {
   "cell_type": "code",
   "execution_count": 26,
   "metadata": {},
   "outputs": [],
   "source": [
    "y_train_pred=y_train_pred[0]\n",
    "y_test_pred=y_test_pred[0]"
   ]
  },
  {
   "cell_type": "code",
   "execution_count": 27,
   "metadata": {},
   "outputs": [],
   "source": [
    "#invert predictions\n",
    "y_train_pred = scaler.inverse_transform(y_train_pred)\n",
    "y_test_pred = scaler.inverse_transform(y_test_pred)\n",
    "\n",
    "#invert originals\n",
    "y_train_orig = scaler.inverse_transform(Y_train)\n",
    "y_test_orig = scaler.inverse_transform(Y_test)"
   ]
  },
  {
   "cell_type": "code",
   "execution_count": 28,
   "metadata": {},
   "outputs": [
    {
     "data": {
      "image/png": "[encoded data removed]",
      "text/plain": [
       "<Figure size 432x288 with 1 Axes>"
      ]
     },
     "metadata": {},
     "output_type": "display_data"
    }
   ],
   "source": [
    "# shift train predictions for plotting\n",
    "trainPredictPlot = np.empty_like(dataset)\n",
    "trainPredictPlot[:, :] = np.nan\n",
    "trainPredictPlot[n_x-1:len(y_train_pred)+n_x-1, :] = y_train_pred\n",
    "# shift test predictions for plotting\n",
    "testPredictPlot = np.empty_like(dataset)\n",
    "testPredictPlot[:, :] = np.nan\n",
    "testPredictPlot[len(y_train_pred)+(n_x*2)-1:len(dataset)-1, :] = y_test_pred\n",
    "# plot baseline and predictions\n",
    "plt.plot(dataset,label='Original Data')\n",
    "plt.plot(trainPredictPlot,label='y_train_pred')\n",
    "plt.plot(testPredictPlot,label='y_test_pred')\n",
    "plt.legend()\n",
    "plt.xlabel('Timesteps')\n",
    "plt.ylabel('Total Passengers')\n",
    "plt.show()"
   ]
  },
  {
   "cell_type": "markdown",
   "metadata": {},
   "source": [
    "# TensorFlow LSTM for TimeSeries Data"
   ]
  },
  {
   "cell_type": "code",
   "execution_count": 29,
   "metadata": {},
   "outputs": [
    {
     "name": "stdout",
     "output_type": "stream",
     "text": [
      "train mse = 0.001958257984369993\n",
      "test mse = 0.010100001469254494\n",
      "test rmse = 0.10049876352102295\n"
     ]
    },
    {
     "data": {
      "image/png": "[encoded data removed]",
      "text/plain": [
       "<Figure size 432x288 with 1 Axes>"
      ]
     },
     "metadata": {},
     "output_type": "display_data"
    }
   ],
   "source": [
    "n_epochs = 600\n",
    "n_timesteps = n_x   # number of time steps\n",
    "n_x_vars = 1  # number of x variables\n",
    "n_y_vars = 1  # number of y variables\n",
    "learning_rate = 0.1\n",
    "\n",
    "tf.reset_default_graph()\n",
    "X_p = tf.placeholder(tf.float32, [None, n_timesteps, n_x_vars], name='X_p') \n",
    "Y_p = tf.placeholder(tf.float32, [None, n_timesteps, n_y_vars], name='Y_p')\n",
    "\n",
    "# make a list of tensors of length n_x\n",
    "rnn_inputs = tf.unstack(X_p,axis=1)\n",
    "\n",
    "cell = tf.nn.rnn_cell.LSTMCell(state_size)\n",
    "rnn_outputs, final_state = tf.nn.static_rnn(cell, rnn_inputs,dtype=tf.float32)\n",
    "\n",
    "W = tf.get_variable('W', [state_size, n_y_vars])\n",
    "b = tf.get_variable('b', [n_y_vars], initializer=tf.constant_initializer(0.0))\n",
    "\n",
    "predictions = [tf.matmul(rnn_output, W) + b for rnn_output in rnn_outputs]\n",
    "\n",
    "y_as_list = tf.unstack(Y_p, num=n_timesteps, axis=1)\n",
    "\n",
    "mse = tf.losses.mean_squared_error\n",
    "losses = [mse(labels=label, predictions=prediction) for \n",
    "          prediction, label in zip(predictions, y_as_list)\n",
    "         ]\n",
    "total_loss = tf.reduce_mean(losses)\n",
    "optimizer = tf.train.AdagradOptimizer(learning_rate).minimize(total_loss)\n",
    "\n",
    "with tf.Session() as tfs:\n",
    "    tfs.run(tf.global_variables_initializer())\n",
    "    epoch_loss = 0.0\n",
    "    for epoch in range(n_epochs):\n",
    "        feed_dict={X_p: X_train.reshape(-1, n_timesteps, \n",
    "                                        n_x_vars), \n",
    "                   Y_p: Y_train.reshape(-1, n_timesteps, \n",
    "                                        n_x_vars)\n",
    "                  }\n",
    "        epoch_loss,y_train_pred,_=tfs.run([total_loss,\n",
    "                                           predictions,\n",
    "                                           optimizer], \n",
    "                                          feed_dict=feed_dict\n",
    "                                         )\n",
    "    print(\"train mse = {}\".format(epoch_loss))\n",
    "    feed_dict={X_p: X_test.reshape(-1, n_timesteps, \n",
    "                                    n_x_vars), \n",
    "               Y_p: Y_test.reshape(-1, n_timesteps, \n",
    "                                    n_y_vars)\n",
    "              }\n",
    "    test_loss, y_test_pred = tfs.run([total_loss,predictions], \n",
    "                                feed_dict=feed_dict)\n",
    "    \n",
    "    print('test mse = {}'.format(test_loss))\n",
    "    print('test rmse = {}'.format(math.sqrt(test_loss)))\n",
    "\n",
    "y_train_pred=y_train_pred[0]\n",
    "y_test_pred=y_test_pred[0]\n",
    "\n",
    "#invert predictions\n",
    "y_train_pred = scaler.inverse_transform(y_train_pred)\n",
    "y_test_pred = scaler.inverse_transform(y_test_pred)\n",
    "\n",
    "#invert originals\n",
    "y_train_orig = scaler.inverse_transform(Y_train)\n",
    "y_test_orig = scaler.inverse_transform(Y_test)\n",
    "\n",
    "# shift train predictions for plotting\n",
    "trainPredictPlot = np.empty_like(dataset)\n",
    "trainPredictPlot[:, :] = np.nan\n",
    "trainPredictPlot[n_x-1:len(y_train_pred)+n_x-1, :] = y_train_pred\n",
    "# shift test predictions for plotting\n",
    "testPredictPlot = np.empty_like(dataset)\n",
    "testPredictPlot[:, :] = np.nan\n",
    "testPredictPlot[len(y_train_pred)+(n_x*2)-1:len(dataset)-1, :]=y_test_pred\n",
    "# plot baseline and predictions\n",
    "plt.plot(dataset,label='Original Data')\n",
    "plt.plot(trainPredictPlot,label='y_train_pred')\n",
    "plt.plot(testPredictPlot,label='y_test_pred')\n",
    "plt.legend()\n",
    "plt.xlabel('Timesteps')\n",
    "plt.ylabel('Total Passengers')\n",
    "plt.show()"
   ]
  },
  {
   "cell_type": "markdown",
   "metadata": {},
   "source": [
    "# TensorFlow GRU for TimeSeries Data"
   ]
  },
  {
   "cell_type": "code",
   "execution_count": 30,
   "metadata": {},
   "outputs": [
    {
     "name": "stdout",
     "output_type": "stream",
     "text": [
      "train mse = 0.001954400911927223\n",
      "test mse = 0.010653316974639893\n",
      "test rmse = 0.1032149067462636\n"
     ]
    },
    {
     "data": {
      "image/png": "[encoded data removed]",
      "text/plain": [
       "<Figure size 432x288 with 1 Axes>"
      ]
     },
     "metadata": {},
     "output_type": "display_data"
    }
   ],
   "source": [
    "state_size = 4\n",
    "n_epochs = 600\n",
    "n_timesteps = n_x   # number of time steps\n",
    "n_x_vars = 1  # number of x variables\n",
    "n_y_vars = 1  # number of y variables\n",
    "learning_rate = 0.1\n",
    "\n",
    "tf.reset_default_graph()\n",
    "X_p = tf.placeholder(tf.float32, [None, n_timesteps, n_x_vars], name='X_p') \n",
    "Y_p = tf.placeholder(tf.float32, [None, n_timesteps, n_y_vars], name='Y_p')\n",
    "\n",
    "# make a list of tensors of length n_x\n",
    "rnn_inputs = tf.unstack(X_p,axis=1)\n",
    "\n",
    "cell = tf.nn.rnn_cell.GRUCell(state_size)\n",
    "rnn_outputs, final_state = tf.nn.static_rnn(cell, rnn_inputs,dtype=tf.float32)\n",
    "\n",
    "W = tf.get_variable('W', [state_size, n_y_vars])\n",
    "b = tf.get_variable('b', [n_y_vars], initializer=tf.constant_initializer(0.0))\n",
    "\n",
    "predictions = [tf.matmul(rnn_output, W) + b for rnn_output in rnn_outputs]\n",
    "\n",
    "y_as_list = tf.unstack(Y_p, num=n_timesteps, axis=1)\n",
    "\n",
    "mse = tf.losses.mean_squared_error\n",
    "losses = [mse(labels=label, predictions=prediction) for \n",
    "          prediction, label in zip(predictions, y_as_list)\n",
    "         ]\n",
    "total_loss = tf.reduce_mean(losses)\n",
    "optimizer = tf.train.AdagradOptimizer(learning_rate).minimize(total_loss)\n",
    "\n",
    "with tf.Session() as tfs:\n",
    "    tfs.run(tf.global_variables_initializer())\n",
    "    epoch_loss = 0.0\n",
    "    for epoch in range(n_epochs):\n",
    "        feed_dict={X_p: X_train.reshape(-1, \n",
    "                               n_timesteps,\n",
    "                               n_x_vars\n",
    "                              ),\n",
    "                   Y_p: Y_train.reshape(-1, \n",
    "                               n_timesteps,\n",
    "                               n_y_vars\n",
    "                              )\n",
    "                  }\n",
    "        epoch_loss,y_train_pred,_ = tfs.run([total_loss,\n",
    "                                             predictions,\n",
    "                                             optimizer], \n",
    "                                            feed_dict=feed_dict\n",
    "                                           )\n",
    "    print(\"train mse = {}\".format(epoch_loss))\n",
    "    feed_dict={X_p: X_test.reshape(-1, \n",
    "                                   n_timesteps,\n",
    "                                   n_x_vars\n",
    "                                  ),\n",
    "               Y_p: Y_test.reshape(-1, \n",
    "                                   n_timesteps,\n",
    "                                   n_y_vars\n",
    "                                  )\n",
    "              }\n",
    "    test_loss, y_test_pred = tfs.run([total_loss,predictions], \n",
    "                                feed_dict=feed_dict)\n",
    "    \n",
    "    print('test mse = {}'.format(test_loss))\n",
    "    print('test rmse = {}'.format(math.sqrt(test_loss)))\n",
    "\n",
    "y_train_pred=y_train_pred[0]\n",
    "y_test_pred=y_test_pred[0]\n",
    "\n",
    "#invert predictions\n",
    "y_train_pred = scaler.inverse_transform(y_train_pred)\n",
    "y_test_pred = scaler.inverse_transform(y_test_pred)\n",
    "\n",
    "#invert originals\n",
    "y_train_orig = scaler.inverse_transform(Y_train)\n",
    "y_test_orig = scaler.inverse_transform(Y_test)\n",
    "\n",
    "# shift train predictions for plotting\n",
    "trainPredictPlot = np.empty_like(dataset)\n",
    "trainPredictPlot[:, :] = np.nan\n",
    "trainPredictPlot[n_x-1:len(y_train_pred)+n_x-1, :] = y_train_pred\n",
    "# shift test predictions for plotting\n",
    "testPredictPlot = np.empty_like(dataset)\n",
    "testPredictPlot[:, :] = np.nan\n",
    "testPredictPlot[len(y_train_pred)+(n_x*2)-1:len(dataset)-1, :]=y_test_pred\n",
    "# plot baseline and predictions\n",
    "plt.plot(dataset,label='Original Data')\n",
    "plt.plot(trainPredictPlot,label='y_train_pred')\n",
    "plt.plot(testPredictPlot,label='y_test_pred')\n",
    "plt.legend()\n",
    "plt.xlabel('Timesteps')\n",
    "plt.ylabel('Total Passengers')\n",
    "plt.show()"
   ]
  },
  {
   "cell_type": "code",
   "execution_count": null,
   "metadata": {},
   "outputs": [],
   "source": []
  },
  {
   "cell_type": "code",
   "execution_count": null,
   "metadata": {},
   "outputs": [],
   "source": []
  }
 ],
 "metadata": {
  "kernelspec": {
   "display_name": "Environment (conda_tensorflow_p36)",
   "language": "python",
   "name": "conda_tensorflow_p36"
  },
  "language_info": {
   "codemirror_mode": {
    "name": "ipython",
    "version": 3
   },
   "file_extension": ".py",
   "mimetype": "text/x-python",
   "name": "python",
   "nbconvert_exporter": "python",
   "pygments_lexer": "ipython3",
   "version": "3.6.5"
  },
  "toc": {
   "nav_menu": {},
   "number_sections": true,
   "sideBar": true,
   "skip_h1_title": true,
   "toc_cell": true,
   "toc_position": {},
   "toc_section_display": "block",
   "toc_window_display": true
  }
 },
 "nbformat": 4,
 "nbformat_minor": 2
}
