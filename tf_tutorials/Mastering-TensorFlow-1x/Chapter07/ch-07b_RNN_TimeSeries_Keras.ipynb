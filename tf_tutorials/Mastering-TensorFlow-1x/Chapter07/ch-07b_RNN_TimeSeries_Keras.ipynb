{
 "cells": [
  {
   "cell_type": "markdown",
   "metadata": {},
   "source": [
    "\n",
    "Notes are from Fandango, Armando. Mastering TensorFlow 1.x: Advanced machine learning and deep learning concepts using TensorFlow 1.x and Keras (Kindle Location 2809). Packt Publishing. Kindle Edition."
   ]
  },
  {
   "cell_type": "markdown",
   "metadata": {},
   "source": [
    "# RNN in TensorFlow Keras - TimeSeries Data <a class=\"tocSkip\">"
   ]
  },
  {
   "cell_type": "markdown",
   "metadata": {},
   "source": [
    "Building an RNN network in Keras is much simpler as compared to building using lower = level TensorFlow classes and methods.\n"
   ]
  },
  {
   "cell_type": "code",
   "execution_count": 1,
   "metadata": {},
   "outputs": [
    {
     "name": "stdout",
     "output_type": "stream",
     "text": [
      "NumPy:1.14.5\n",
      "Pandas:0.22.0\n",
      "sklearn:0.19.1\n",
      "Matplotlib:2.2.2\n",
      "TensorFlow:1.11.0\n",
      "Keras:2.2.4\n"
     ]
    },
    {
     "name": "stderr",
     "output_type": "stream",
     "text": [
      "Using TensorFlow backend.\n"
     ]
    }
   ],
   "source": [
    "import math\n",
    "import os\n",
    "\n",
    "import numpy as np\n",
    "np.random.seed(123)\n",
    "print(\"NumPy:{}\".format(np.__version__))\n",
    "\n",
    "import pandas as pd\n",
    "print(\"Pandas:{}\".format(pd.__version__))\n",
    "\n",
    "import sklearn as sk\n",
    "from sklearn import preprocessing as skpp\n",
    "print(\"sklearn:{}\".format(sk.__version__))\n",
    "\n",
    "import matplotlib as mpl\n",
    "import matplotlib.pyplot as plt\n",
    "mpl.rcParams.update({'font.size': 20,\n",
    "                     'figure.figsize': [15,10] \n",
    "                    }\n",
    "                   )\n",
    "print(\"Matplotlib:{}\".format(mpl.__version__))\n",
    "\n",
    "import tensorflow as tf\n",
    "tf.set_random_seed(123)\n",
    "print(\"TensorFlow:{}\".format(tf.__version__))\n",
    "\n",
    "from keras.models import Sequential\n",
    "from keras.layers import Dense\n",
    "from keras.layers import LSTM, SimpleRNN, GRU\n",
    "from keras.losses import mean_squared_error as k_mse\n",
    "from keras.backend import sqrt as k_sqrt\n",
    "import keras.backend as K\n",
    "\n",
    "import keras\n",
    "print(\"Keras:{}\".format(keras.__version__))"
   ]
  },
  {
   "cell_type": "code",
   "execution_count": 2,
   "metadata": {},
   "outputs": [],
   "source": [
    "DATASETSLIB_HOME = '../datasetslib'\n",
    "import sys\n",
    "if not DATASETSLIB_HOME in sys.path:\n",
    "    sys.path.append(DATASETSLIB_HOME)\n",
    "%reload_ext autoreload\n",
    "%autoreload 2\n",
    "import datasetslib\n",
    "\n",
    "from datasetslib import util as dsu\n",
    "datasetslib.datasets_root = os.path.join(os.path.expanduser('~'),'datasets')"
   ]
  },
  {
   "cell_type": "markdown",
   "metadata": {},
   "source": [
    "# Read and pre-process the dataset"
   ]
  },
  {
   "cell_type": "code",
   "execution_count": 3,
   "metadata": {},
   "outputs": [],
   "source": [
    "#filepath = os.path.join(datasetslib.datasets_root,\n",
    "#                        'ts-data',\n",
    "#                        'international-airline-passengers-cleaned.csv'\n",
    "#                       ) \n",
    "\n",
    "filepath = '../data/international-airline-passengers.csv'\n",
    "dataframe = pd.read_csv(filepath,\n",
    "                        usecols=[1],\n",
    "                        header=0)\n",
    "dataset = dataframe.values\n",
    "dataset = dataset.astype(np.float32)\n",
    "dataset=dataset[:-1]\n"
   ]
  },
  {
   "cell_type": "code",
   "execution_count": 4,
   "metadata": {},
   "outputs": [],
   "source": [
    "# normalize the dataset\n",
    "scaler = skpp.MinMaxScaler(feature_range=(0, 1))\n",
    "normalized_dataset = scaler.fit_transform(dataset)"
   ]
  },
  {
   "cell_type": "code",
   "execution_count": 8,
   "metadata": {},
   "outputs": [],
   "source": [
    "# split into train and test sets\n",
    "train,test=dsu.train_test_split(normalized_dataset,train_size=0.67)\n",
    "n_x=1\n",
    "X_train, Y_train, X_test, Y_test = dsu.mvts_to_xy(train,test,n_x=n_x,n_y=1)"
   ]
  },
  {
   "cell_type": "markdown",
   "metadata": {},
   "source": [
    "# Keras SimpleRNN for TimeSeries Data"
   ]
  },
  {
   "cell_type": "code",
   "execution_count": 9,
   "metadata": {},
   "outputs": [],
   "source": [
    "tf.reset_default_graph()\n",
    "keras.backend.clear_session()"
   ]
  },
  {
   "cell_type": "markdown",
   "metadata": {},
   "source": [
    "From here onwards, the preprocessing differs. \n",
    "\n",
    "For Keras, the input has to be in the shape (samples, time steps, features). \n",
    "\n",
    "As we converted our data to the supervised machine learning format, while reshaping the data, we can either set the time steps to 1, thus feeding all input time steps as features, or we can set the time steps to the actual number of time steps, thus feeding the feature set for each time step. \n",
    "\n",
    "In other words, the X_train and X_test datasets that we obtained earlier could be reshaped as one of the following methods: \n",
    "\n",
    "* Method 1 : n timesteps with 1 feature: X_train.reshape( X_train.shape[ 0], X_train.shape[ 1], 1) \n",
    "\n",
    "* Method 2 : 1 timestep with n features: X_train.reshape( X_train.shape[ 0], 1, X_train.shape[ 1])\n",
    "\n"
   ]
  },
  {
   "cell_type": "markdown",
   "metadata": {},
   "source": [
    "Here we will shape the datasets with a feature size of 1 because we are using only one variable as input:"
   ]
  },
  {
   "cell_type": "code",
   "execution_count": 10,
   "metadata": {},
   "outputs": [
    {
     "name": "stdout",
     "output_type": "stream",
     "text": [
      "(95, 1, 1) (47, 1, 1)\n"
     ]
    }
   ],
   "source": [
    "\n",
    "# reshape input to be [samples, time steps, features]\n",
    "X_train = X_train.reshape(X_train.shape[0], X_train.shape[1],1)\n",
    "X_test = X_test.reshape(X_test.shape[0], X_train.shape[1], 1)\n",
    "print(X_train.shape,X_test.shape)"
   ]
  },
  {
   "cell_type": "code",
   "execution_count": 11,
   "metadata": {},
   "outputs": [
    {
     "name": "stdout",
     "output_type": "stream",
     "text": [
      "_________________________________________________________________\n",
      "Layer (type)                 Output Shape              Param #   \n",
      "=================================================================\n",
      "simple_rnn_1 (SimpleRNN)     (None, 4)                 24        \n",
      "_________________________________________________________________\n",
      "dense_1 (Dense)              (None, 1)                 5         \n",
      "=================================================================\n",
      "Total params: 29\n",
      "Trainable params: 29\n",
      "Non-trainable params: 0\n",
      "_________________________________________________________________\n"
     ]
    }
   ],
   "source": [
    "# create and fit the SimpleRNN model\n",
    "model = Sequential()\n",
    "model.add(SimpleRNN(units=4, input_shape=(X_train.shape[1], X_train.shape[2])))\n",
    "model.add(Dense(1))\n",
    "model.summary()"
   ]
  },
  {
   "cell_type": "code",
   "execution_count": 12,
   "metadata": {
    "scrolled": false
   },
   "outputs": [],
   "source": [
    "model.compile(loss='mean_squared_error', optimizer='adam')\n",
    "\n"
   ]
  },
  {
   "cell_type": "code",
   "execution_count": 14,
   "metadata": {},
   "outputs": [
    {
     "name": "stdout",
     "output_type": "stream",
     "text": [
      "Epoch 1/20\n",
      "95/95 [==============================] - 0s 3ms/step - loss: 0.0020\n",
      "Epoch 2/20\n",
      "95/95 [==============================] - 0s 3ms/step - loss: 0.0020\n",
      "Epoch 3/20\n",
      "95/95 [==============================] - 0s 3ms/step - loss: 0.0021\n",
      "Epoch 4/20\n",
      "95/95 [==============================] - 0s 3ms/step - loss: 0.0020\n",
      "Epoch 5/20\n",
      "95/95 [==============================] - 0s 3ms/step - loss: 0.0020\n",
      "Epoch 6/20\n",
      "95/95 [==============================] - 0s 3ms/step - loss: 0.0020\n",
      "Epoch 7/20\n",
      "95/95 [==============================] - 0s 3ms/step - loss: 0.0020\n",
      "Epoch 8/20\n",
      "95/95 [==============================] - 0s 3ms/step - loss: 0.0021\n",
      "Epoch 9/20\n",
      "95/95 [==============================] - 0s 3ms/step - loss: 0.0020\n",
      "Epoch 10/20\n",
      "95/95 [==============================] - 0s 3ms/step - loss: 0.0020\n",
      "Epoch 11/20\n",
      "95/95 [==============================] - 0s 3ms/step - loss: 0.0021\n",
      "Epoch 12/20\n",
      "95/95 [==============================] - 0s 3ms/step - loss: 0.0020\n",
      "Epoch 13/20\n",
      "95/95 [==============================] - 0s 3ms/step - loss: 0.0020\n",
      "Epoch 14/20\n",
      "95/95 [==============================] - 0s 3ms/step - loss: 0.0021\n",
      "Epoch 15/20\n",
      "95/95 [==============================] - 0s 3ms/step - loss: 0.0020\n",
      "Epoch 16/20\n",
      "95/95 [==============================] - 0s 3ms/step - loss: 0.0021\n",
      "Epoch 17/20\n",
      "95/95 [==============================] - 0s 3ms/step - loss: 0.0020\n",
      "Epoch 18/20\n",
      "95/95 [==============================] - 0s 3ms/step - loss: 0.0020\n",
      "Epoch 19/20\n",
      "95/95 [==============================] - 0s 3ms/step - loss: 0.0020\n",
      "Epoch 20/20\n",
      "95/95 [==============================] - 0s 3ms/step - loss: 0.0020\n"
     ]
    },
    {
     "data": {
      "text/plain": [
       "<keras.callbacks.History at 0x7feffbb5c4a8>"
      ]
     },
     "execution_count": 14,
     "metadata": {},
     "output_type": "execute_result"
    }
   ],
   "source": [
    "#As our dataset is small, we use a batch_size of 1 and train for 20 iterations, \n",
    "#but for larger datasets, you would need to tune the value of these and other hyper-parameters.\n",
    "\n",
    "model.fit(X_train, Y_train, epochs=20, batch_size=1)"
   ]
  },
  {
   "cell_type": "code",
   "execution_count": 15,
   "metadata": {},
   "outputs": [],
   "source": [
    "# make predictions\n",
    "y_train_pred = model.predict(X_train)\n",
    "y_test_pred = model.predict(X_test)\n",
    "\n",
    "# invert predictions\n",
    "y_train_pred = scaler.inverse_transform(y_train_pred)\n",
    "y_test_pred = scaler.inverse_transform(y_test_pred)\n",
    "\n",
    "#invert originals\n",
    "y_train_orig = scaler.inverse_transform(Y_train)\n",
    "y_test_orig = scaler.inverse_transform(Y_test)\n",
    "\n"
   ]
  },
  {
   "cell_type": "code",
   "execution_count": 16,
   "metadata": {},
   "outputs": [
    {
     "name": "stdout",
     "output_type": "stream",
     "text": [
      "Train Score: 22.78 RMSE\n",
      "Test Score: 51.47 RMSE\n"
     ]
    }
   ],
   "source": [
    "# calculate root mean squared error\n",
    "trainScore = k_sqrt(k_mse(y_train_orig[:,0],\n",
    "                          y_train_pred[:,0])\n",
    "                   ).eval(session=K.get_session())\n",
    "print('Train Score: {0:.2f} RMSE'.format(trainScore))\n",
    "testScore = k_sqrt(k_mse(y_test_orig[:,0],\n",
    "                         y_test_pred[:,0])\n",
    "                  ).eval(session=K.get_session())\n",
    "print('Test Score: {0:.2f} RMSE'.format(testScore))"
   ]
  },
  {
   "cell_type": "code",
   "execution_count": 17,
   "metadata": {
    "scrolled": true
   },
   "outputs": [
    {
     "data": {
      "image/png": "[encoded data removed]",
      "text/plain": [
       "<Figure size 432x288 with 1 Axes>"
      ]
     },
     "metadata": {},
     "output_type": "display_data"
    }
   ],
   "source": [
    "# shift train predictions for plotting\n",
    "trainPredictPlot = np.empty_like(normalized_dataset)\n",
    "trainPredictPlot[:, :] = np.nan\n",
    "trainPredictPlot[n_x:len(y_train_pred)+n_x, :] = y_train_pred\n",
    "# shift test predictions for plotting\n",
    "testPredictPlot = np.empty_like(normalized_dataset)\n",
    "testPredictPlot[:, :] = np.nan\n",
    "testPredictPlot[len(y_train_pred)+(n_x*2):len(normalized_dataset),:]=y_test_pred\n",
    "# plot baseline and predictions\n",
    "plt.plot(scaler.inverse_transform(normalized_dataset),label='Original Data')\n",
    "plt.plot(trainPredictPlot,label='y_train_pred')\n",
    "plt.plot(testPredictPlot,label='y_test_pred')\n",
    "plt.legend()\n",
    "plt.xlabel('Timesteps')\n",
    "plt.ylabel('Total Passengers')\n",
    "plt.show()"
   ]
  },
  {
   "cell_type": "markdown",
   "metadata": {},
   "source": [
    "# Keras LSTM for TimeSeries Data"
   ]
  },
  {
   "cell_type": "code",
   "execution_count": 18,
   "metadata": {},
   "outputs": [],
   "source": [
    "tf.reset_default_graph()\n",
    "keras.backend.clear_session()\n"
   ]
  },
  {
   "cell_type": "code",
   "execution_count": 19,
   "metadata": {},
   "outputs": [],
   "source": [
    "# reshape input to be [samples, time steps, features]\n",
    "X_train = X_train.reshape(X_train.shape[0], X_train.shape[1],1)\n",
    "X_test = X_test.reshape(X_test.shape[0], X_train.shape[1], 1)\n"
   ]
  },
  {
   "cell_type": "code",
   "execution_count": 20,
   "metadata": {},
   "outputs": [
    {
     "name": "stdout",
     "output_type": "stream",
     "text": [
      "_________________________________________________________________\n",
      "Layer (type)                 Output Shape              Param #   \n",
      "=================================================================\n",
      "lstm_1 (LSTM)                (None, 4)                 96        \n",
      "_________________________________________________________________\n",
      "dense_1 (Dense)              (None, 1)                 5         \n",
      "=================================================================\n",
      "Total params: 101\n",
      "Trainable params: 101\n",
      "Non-trainable params: 0\n",
      "_________________________________________________________________\n",
      "Epoch 1/20\n",
      "95/95 [==============================] - 1s 12ms/step - loss: 0.0502\n",
      "Epoch 2/20\n",
      "95/95 [==============================] - 0s 5ms/step - loss: 0.0252\n",
      "Epoch 3/20\n",
      "95/95 [==============================] - 0s 5ms/step - loss: 0.0190\n",
      "Epoch 4/20\n",
      "95/95 [==============================] - 0s 5ms/step - loss: 0.0177\n",
      "Epoch 5/20\n",
      "95/95 [==============================] - 0s 5ms/step - loss: 0.0166\n",
      "Epoch 6/20\n",
      "95/95 [==============================] - 0s 5ms/step - loss: 0.0157\n",
      "Epoch 7/20\n",
      "95/95 [==============================] - 0s 5ms/step - loss: 0.0148\n",
      "Epoch 8/20\n",
      "95/95 [==============================] - 0s 5ms/step - loss: 0.0139\n",
      "Epoch 9/20\n",
      "95/95 [==============================] - 0s 5ms/step - loss: 0.0131\n",
      "Epoch 10/20\n",
      "95/95 [==============================] - 0s 5ms/step - loss: 0.0121\n",
      "Epoch 11/20\n",
      "95/95 [==============================] - 0s 5ms/step - loss: 0.0112\n",
      "Epoch 12/20\n",
      "95/95 [==============================] - 0s 5ms/step - loss: 0.0104\n",
      "Epoch 13/20\n",
      "95/95 [==============================] - 0s 5ms/step - loss: 0.0094\n",
      "Epoch 14/20\n",
      "95/95 [==============================] - 0s 5ms/step - loss: 0.0084\n",
      "Epoch 15/20\n",
      "95/95 [==============================] - 0s 5ms/step - loss: 0.0076\n",
      "Epoch 16/20\n",
      "95/95 [==============================] - 0s 5ms/step - loss: 0.0069\n",
      "Epoch 17/20\n",
      "95/95 [==============================] - 0s 5ms/step - loss: 0.0061\n",
      "Epoch 18/20\n",
      "95/95 [==============================] - 0s 5ms/step - loss: 0.0054\n",
      "Epoch 19/20\n",
      "95/95 [==============================] - 0s 5ms/step - loss: 0.0047\n",
      "Epoch 20/20\n",
      "95/95 [==============================] - 0s 5ms/step - loss: 0.0042\n"
     ]
    },
    {
     "data": {
      "text/plain": [
       "<keras.callbacks.History at 0x7fefe8077e48>"
      ]
     },
     "execution_count": 20,
     "metadata": {},
     "output_type": "execute_result"
    }
   ],
   "source": [
    "# create and fit the LSTM model\n",
    "model = Sequential()\n",
    "model.add(LSTM(units=4, input_shape=(X_train.shape[1], X_train.shape[2])))\n",
    "model.add(Dense(1))\n",
    "model.compile(loss='mean_squared_error', optimizer='adam')\n",
    "model.summary()\n",
    "model.fit(X_train, Y_train, epochs=20, batch_size=1)\n"
   ]
  },
  {
   "cell_type": "code",
   "execution_count": 21,
   "metadata": {},
   "outputs": [
    {
     "name": "stdout",
     "output_type": "stream",
     "text": [
      "Train Score: 32.09 RMSE\n",
      "Test Score: 75.85 RMSE\n"
     ]
    },
    {
     "data": {
      "image/png": "[encoded data removed]",
      "text/plain": [
       "<Figure size 432x288 with 1 Axes>"
      ]
     },
     "metadata": {},
     "output_type": "display_data"
    }
   ],
   "source": [
    "\n",
    "\n",
    "# make predictions\n",
    "y_train_pred = model.predict(X_train)\n",
    "y_test_pred = model.predict(X_test)\n",
    "\n",
    "# invert predictions\n",
    "y_train_pred = scaler.inverse_transform(y_train_pred)\n",
    "y_test_pred = scaler.inverse_transform(y_test_pred)\n",
    "\n",
    "# invert originals\n",
    "y_train_orig = scaler.inverse_transform(Y_train)\n",
    "y_test_orig = scaler.inverse_transform(Y_test)\n",
    "\n",
    "# calculate root mean squared error\n",
    "trainScore = k_sqrt(k_mse(y_train_orig[:,0],\n",
    "                          y_train_pred[:,0])\n",
    "                   ).eval(session=K.get_session())\n",
    "print('Train Score: {0:.2f} RMSE'.format(trainScore))\n",
    "testScore = k_sqrt(k_mse(y_test_orig[:,0],\n",
    "                         y_test_pred[:,0])\n",
    "                  ).eval(session=K.get_session())\n",
    "print('Test Score: {0:.2f} RMSE'.format(testScore))\n",
    "\n",
    "# shift train predictions for plotting\n",
    "trainPredictPlot = np.empty_like(normalized_dataset)\n",
    "trainPredictPlot[:, :] = np.nan\n",
    "trainPredictPlot[n_x:len(y_train_pred)+n_x, :] = y_train_pred\n",
    "\n",
    "# shift test predictions for plotting\n",
    "testPredictPlot = np.empty_like(normalized_dataset)\n",
    "testPredictPlot[:, :] = np.nan\n",
    "testPredictPlot[len(y_train_pred)+(n_x*2):len(normalized_dataset), :] = y_test_pred\n",
    "\n",
    "# plot baseline and predictions\n",
    "plt.plot(scaler.inverse_transform(normalized_dataset),label='Original Data')\n",
    "plt.plot(trainPredictPlot,label='y_train_pred')\n",
    "plt.plot(testPredictPlot,label='y_test_pred')\n",
    "plt.legend()\n",
    "plt.xlabel('Timesteps')\n",
    "plt.ylabel('Total Passengers')\n",
    "plt.show()"
   ]
  },
  {
   "cell_type": "markdown",
   "metadata": {},
   "source": [
    "# Keras GRU for TimeSeries Data"
   ]
  },
  {
   "cell_type": "code",
   "execution_count": 22,
   "metadata": {},
   "outputs": [
    {
     "name": "stdout",
     "output_type": "stream",
     "text": [
      "_________________________________________________________________\n",
      "Layer (type)                 Output Shape              Param #   \n",
      "=================================================================\n",
      "gru_1 (GRU)                  (None, 4)                 72        \n",
      "_________________________________________________________________\n",
      "dense_1 (Dense)              (None, 1)                 5         \n",
      "=================================================================\n",
      "Total params: 77\n",
      "Trainable params: 77\n",
      "Non-trainable params: 0\n",
      "_________________________________________________________________\n",
      "Epoch 1/20\n",
      "95/95 [==============================] - 1s 10ms/step - loss: 0.0257\n",
      "Epoch 2/20\n",
      "95/95 [==============================] - 0s 5ms/step - loss: 0.0118\n",
      "Epoch 3/20\n",
      "95/95 [==============================] - 0s 5ms/step - loss: 0.0098\n",
      "Epoch 4/20\n",
      "95/95 [==============================] - 0s 5ms/step - loss: 0.0086\n",
      "Epoch 5/20\n",
      "95/95 [==============================] - 0s 4ms/step - loss: 0.0076\n",
      "Epoch 6/20\n",
      "95/95 [==============================] - 0s 5ms/step - loss: 0.0067\n",
      "Epoch 7/20\n",
      "95/95 [==============================] - 0s 5ms/step - loss: 0.0058\n",
      "Epoch 8/20\n",
      "95/95 [==============================] - 0s 5ms/step - loss: 0.0049\n",
      "Epoch 9/20\n",
      "95/95 [==============================] - 0s 5ms/step - loss: 0.0043\n",
      "Epoch 10/20\n",
      "95/95 [==============================] - 0s 5ms/step - loss: 0.0038\n",
      "Epoch 11/20\n",
      "95/95 [==============================] - 0s 5ms/step - loss: 0.0033\n",
      "Epoch 12/20\n",
      "95/95 [==============================] - 0s 5ms/step - loss: 0.0029\n",
      "Epoch 13/20\n",
      "95/95 [==============================] - 0s 5ms/step - loss: 0.0026\n",
      "Epoch 14/20\n",
      "95/95 [==============================] - 0s 5ms/step - loss: 0.0024\n",
      "Epoch 15/20\n",
      "95/95 [==============================] - 0s 5ms/step - loss: 0.0022\n",
      "Epoch 16/20\n",
      "95/95 [==============================] - 0s 5ms/step - loss: 0.0021\n",
      "Epoch 17/20\n",
      "95/95 [==============================] - 0s 5ms/step - loss: 0.0021\n",
      "Epoch 18/20\n",
      "95/95 [==============================] - 0s 5ms/step - loss: 0.0021\n",
      "Epoch 19/20\n",
      "95/95 [==============================] - 0s 4ms/step - loss: 0.0020\n",
      "Epoch 20/20\n",
      "95/95 [==============================] - 0s 5ms/step - loss: 0.0020\n",
      "Train Score: 22.99 RMSE\n",
      "Test Score: 52.23 RMSE\n"
     ]
    },
    {
     "data": {
      "image/png": "[encoded data removed]",
      "text/plain": [
       "<Figure size 432x288 with 1 Axes>"
      ]
     },
     "metadata": {},
     "output_type": "display_data"
    }
   ],
   "source": [
    "tf.reset_default_graph()\n",
    "keras.backend.clear_session()\n",
    "\n",
    "# reshape input to be [samples, time steps, features]\n",
    "X_train = X_train.reshape(X_train.shape[0], X_train.shape[1],1)\n",
    "X_test = X_test.reshape(X_test.shape[0], X_train.shape[1], 1)\n",
    "\n",
    "# create and fit the GRU Model\n",
    "model = Sequential()\n",
    "model.add(GRU(units=4, input_shape=(X_train.shape[1], X_train.shape[2])))\n",
    "model.add(Dense(1))\n",
    "model.compile(loss='mean_squared_error', optimizer='adam')\n",
    "model.summary()\n",
    "model.fit(X_train, Y_train, epochs=20, batch_size=1)\n",
    "\n",
    "# make predictions\n",
    "y_train_pred = model.predict(X_train)\n",
    "y_test_pred = model.predict(X_test)\n",
    "# invert predictions\n",
    "y_train_pred = scaler.inverse_transform(y_train_pred)\n",
    "y_test_pred = scaler.inverse_transform(y_test_pred)\n",
    "\n",
    "#invert originals\n",
    "y_train_orig = scaler.inverse_transform(Y_train)\n",
    "y_test_orig = scaler.inverse_transform(Y_test)\n",
    "\n",
    "# calculate root mean squared error\n",
    "trainScore = k_sqrt(k_mse(y_train_orig[:,0],\n",
    "                          y_train_pred[:,0])\n",
    "                   ).eval(session=K.get_session())\n",
    "print('Train Score: {0:.2f} RMSE'.format(trainScore))\n",
    "testScore = k_sqrt(k_mse(y_test_orig[:,0],\n",
    "                         y_test_pred[:,0])\n",
    "                  ).eval(session=K.get_session())\n",
    "print('Test Score: {0:.2f} RMSE'.format(testScore))\n",
    "\n",
    "# shift train predictions for plotting\n",
    "trainPredictPlot = np.empty_like(normalized_dataset)\n",
    "trainPredictPlot[:, :] = np.nan\n",
    "trainPredictPlot[n_x:len(y_train_pred)+n_x, :] = y_train_pred\n",
    "\n",
    "# shift test predictions for plotting\n",
    "testPredictPlot = np.empty_like(normalized_dataset)\n",
    "testPredictPlot[:, :] = np.nan\n",
    "testPredictPlot[len(y_train_pred)+(n_x*2):len(normalized_dataset), :] = y_test_pred\n",
    "\n",
    "# plot baseline and predictions\n",
    "plt.plot(scaler.inverse_transform(normalized_dataset),label='Original Data')\n",
    "plt.plot(trainPredictPlot,label='y_train_pred')\n",
    "plt.plot(testPredictPlot,label='y_test_pred')\n",
    "plt.legend()\n",
    "plt.xlabel('Timesteps')\n",
    "plt.ylabel('Total Passengers')\n",
    "plt.show()"
   ]
  },
  {
   "cell_type": "code",
   "execution_count": null,
   "metadata": {},
   "outputs": [],
   "source": []
  }
 ],
 "metadata": {
  "kernelspec": {
   "display_name": "Environment (conda_tensorflow_p36)",
   "language": "python",
   "name": "conda_tensorflow_p36"
  },
  "language_info": {
   "codemirror_mode": {
    "name": "ipython",
    "version": 3
   },
   "file_extension": ".py",
   "mimetype": "text/x-python",
   "name": "python",
   "nbconvert_exporter": "python",
   "pygments_lexer": "ipython3",
   "version": "3.6.5"
  },
  "toc": {
   "nav_menu": {},
   "number_sections": true,
   "sideBar": true,
   "skip_h1_title": true,
   "toc_cell": true,
   "toc_position": {},
   "toc_section_display": "block",
   "toc_window_display": true
  }
 },
 "nbformat": 4,
 "nbformat_minor": 2
}
