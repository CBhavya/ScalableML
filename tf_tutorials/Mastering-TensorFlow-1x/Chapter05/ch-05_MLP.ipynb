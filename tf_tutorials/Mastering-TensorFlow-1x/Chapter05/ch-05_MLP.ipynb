{
 "cells": [
  {
   "cell_type": "markdown",
   "metadata": {},
   "source": [
    "Notes are from Fandango, Armando. Mastering TensorFlow 1.x: Advanced machine learning and deep learning concepts using TensorFlow 1.x and Keras (Kindle Locations 2090-2095). Packt Publishing. Kindle Edition. "
   ]
  },
  {
   "cell_type": "markdown",
   "metadata": {
    "toc": true
   },
   "source": [
    "<h1>Table of Contents<span class=\"tocSkip\"></span></h1>\n",
    "<div class=\"toc\" style=\"margin-top: 1em;\"><ul class=\"toc-item\"><li><span><a href=\"#MNIST-Dataset\" data-toc-modified-id=\"MNIST-Dataset-1\"><span class=\"toc-item-num\">1&nbsp;&nbsp;</span>MNIST Dataset</a></span><ul class=\"toc-item\"><li><span><a href=\"#Get-the-MNIST-data\" data-toc-modified-id=\"Get-the-MNIST-data-1.1\"><span class=\"toc-item-num\">1.1&nbsp;&nbsp;</span>Get the MNIST data</a></span></li><li><span><a href=\"#MLP-in-TensorFlow\" data-toc-modified-id=\"MLP-in-TensorFlow-1.2\"><span class=\"toc-item-num\">1.2&nbsp;&nbsp;</span>MLP in TensorFlow</a></span></li><li><span><a href=\"#MLP-in-Keras\" data-toc-modified-id=\"MLP-in-Keras-1.3\"><span class=\"toc-item-num\">1.3&nbsp;&nbsp;</span>MLP in Keras</a></span></li><li><span><a href=\"#MLP-in-TFLearn\" data-toc-modified-id=\"MLP-in-TFLearn-1.4\"><span class=\"toc-item-num\">1.4&nbsp;&nbsp;</span>MLP in TFLearn</a></span></li></ul></li><li><span><a href=\"#TimeSeries-Data---MLP---Keras\" data-toc-modified-id=\"TimeSeries-Data---MLP---Keras-2\"><span class=\"toc-item-num\">2&nbsp;&nbsp;</span>TimeSeries Data - MLP - Keras</a></span><ul class=\"toc-item\"><li><span><a href=\"#Prepare-the-data\" data-toc-modified-id=\"Prepare-the-data-2.1\"><span class=\"toc-item-num\">2.1&nbsp;&nbsp;</span>Prepare the data</a></span></li><li><span><a href=\"#Build,-Train-and-Evaluate-the-Model\" data-toc-modified-id=\"Build,-Train-and-Evaluate-the-Model-2.2\"><span class=\"toc-item-num\">2.2&nbsp;&nbsp;</span>Build, Train and Evaluate the Model</a></span></li></ul></li></ul></div>"
   ]
  },
  {
   "cell_type": "markdown",
   "metadata": {},
   "source": [
    "# MultiLayer Perceptron <a class=\"tocSkip\">"
   ]
  },
  {
   "cell_type": "code",
   "execution_count": 1,
   "metadata": {},
   "outputs": [
    {
     "name": "stdout",
     "output_type": "stream",
     "text": [
      "NumPy:1.14.5\n",
      "Pandas:0.22.0\n",
      "Matplotlib:2.2.2\n",
      "TensorFlow:1.11.0\n"
     ]
    },
    {
     "name": "stderr",
     "output_type": "stream",
     "text": [
      "Using TensorFlow backend.\n"
     ]
    },
    {
     "name": "stdout",
     "output_type": "stream",
     "text": [
      "Keras:2.2.4\n"
     ]
    }
   ],
   "source": [
    "import numpy as np\n",
    "np.random.seed(123)\n",
    "print(\"NumPy:{}\".format(np.__version__))\n",
    "\n",
    "import pandas as pd\n",
    "print(\"Pandas:{}\".format(pd.__version__))\n",
    "\n",
    "import math\n",
    "import os\n",
    "\n",
    "import matplotlib as mpl\n",
    "import matplotlib.pyplot as plt\n",
    "from matplotlib.pylab import rcParams\n",
    "rcParams['figure.figsize'] = 15, 10\n",
    "print(\"Matplotlib:{}\".format(mpl.__version__))\n",
    "\n",
    "import tensorflow as tf\n",
    "tf.set_random_seed(123)\n",
    "print(\"TensorFlow:{}\".format(tf.__version__))\n",
    "\n",
    "import keras\n",
    "print(\"Keras:{}\".format(keras.__version__))"
   ]
  },
  {
   "cell_type": "code",
   "execution_count": 2,
   "metadata": {},
   "outputs": [],
   "source": [
    "DATASETSLIB_HOME = '../datasetslib'\n",
    "import sys\n",
    "if not DATASETSLIB_HOME in sys.path:\n",
    "    sys.path.append(DATASETSLIB_HOME)\n",
    "%reload_ext autoreload\n",
    "%autoreload 2\n",
    "import datasetslib\n",
    "\n",
    "from datasetslib import util as dsu"
   ]
  },
  {
   "cell_type": "code",
   "execution_count": 3,
   "metadata": {},
   "outputs": [],
   "source": [
    "datasetslib.datasets_root = os.path.join(os.path.expanduser('~'),'datasets')"
   ]
  },
  {
   "cell_type": "markdown",
   "metadata": {},
   "source": [
    "# MNIST Dataset"
   ]
  },
  {
   "cell_type": "markdown",
   "metadata": {},
   "source": [
    "## Get the MNIST data"
   ]
  },
  {
   "cell_type": "code",
   "execution_count": 4,
   "metadata": {},
   "outputs": [
    {
     "name": "stdout",
     "output_type": "stream",
     "text": [
      "WARNING:tensorflow:From <ipython-input-4-625c004abe30>:3: read_data_sets (from tensorflow.contrib.learn.python.learn.datasets.mnist) is deprecated and will be removed in a future version.\n",
      "Instructions for updating:\n",
      "Please use alternatives such as official/mnist/dataset.py from tensorflow/models.\n",
      "WARNING:tensorflow:From /home/ubuntu/anaconda3/envs/tensorflow_p36/lib/python3.6/site-packages/tensorflow/contrib/learn/python/learn/datasets/mnist.py:260: maybe_download (from tensorflow.contrib.learn.python.learn.datasets.base) is deprecated and will be removed in a future version.\n",
      "Instructions for updating:\n",
      "Please write your own downloading logic.\n",
      "WARNING:tensorflow:From /home/ubuntu/anaconda3/envs/tensorflow_p36/lib/python3.6/site-packages/tensorflow/contrib/learn/python/learn/datasets/mnist.py:262: extract_images (from tensorflow.contrib.learn.python.learn.datasets.mnist) is deprecated and will be removed in a future version.\n",
      "Instructions for updating:\n",
      "Please use tf.data to implement this functionality.\n",
      "Extracting /home/ubuntu/datasets/mnist/train-images-idx3-ubyte.gz\n",
      "WARNING:tensorflow:From /home/ubuntu/anaconda3/envs/tensorflow_p36/lib/python3.6/site-packages/tensorflow/contrib/learn/python/learn/datasets/mnist.py:267: extract_labels (from tensorflow.contrib.learn.python.learn.datasets.mnist) is deprecated and will be removed in a future version.\n",
      "Instructions for updating:\n",
      "Please use tf.data to implement this functionality.\n",
      "Extracting /home/ubuntu/datasets/mnist/train-labels-idx1-ubyte.gz\n",
      "WARNING:tensorflow:From /home/ubuntu/anaconda3/envs/tensorflow_p36/lib/python3.6/site-packages/tensorflow/contrib/learn/python/learn/datasets/mnist.py:110: dense_to_one_hot (from tensorflow.contrib.learn.python.learn.datasets.mnist) is deprecated and will be removed in a future version.\n",
      "Instructions for updating:\n",
      "Please use tf.one_hot on tensors.\n",
      "Extracting /home/ubuntu/datasets/mnist/t10k-images-idx3-ubyte.gz\n",
      "Extracting /home/ubuntu/datasets/mnist/t10k-labels-idx1-ubyte.gz\n",
      "WARNING:tensorflow:From /home/ubuntu/anaconda3/envs/tensorflow_p36/lib/python3.6/site-packages/tensorflow/contrib/learn/python/learn/datasets/mnist.py:290: DataSet.__init__ (from tensorflow.contrib.learn.python.learn.datasets.mnist) is deprecated and will be removed in a future version.\n",
      "Instructions for updating:\n",
      "Please use alternatives such as official/mnist/dataset.py from tensorflow/models.\n"
     ]
    }
   ],
   "source": [
    "from tensorflow.examples.tutorials.mnist import input_data\n",
    "mnist = input_data.read_data_sets(os.path.join(datasetslib.datasets_root, 'mnist'),\n",
    "                                  one_hot=True)"
   ]
  },
  {
   "cell_type": "code",
   "execution_count": 5,
   "metadata": {},
   "outputs": [
    {
     "name": "stdout",
     "output_type": "stream",
     "text": [
      "(55000, 784) (55000, 10)\n"
     ]
    }
   ],
   "source": [
    "\n",
    "X_train = mnist.train.images\n",
    "X_test = mnist.test.images\n",
    "Y_train = mnist.train.labels\n",
    "Y_test = mnist.test.labels\n",
    "print(X_train.shape,Y_train.shape)\n",
    "\n",
    "num_outputs = 10  # 0-9 digits\n",
    "num_inputs = 784  # total pixels"
   ]
  },
  {
   "cell_type": "markdown",
   "metadata": {},
   "source": [
    "## MLP in TensorFlow"
   ]
  },
  {
   "cell_type": "code",
   "execution_count": 6,
   "metadata": {},
   "outputs": [],
   "source": [
    "tf.reset_default_graph()"
   ]
  },
  {
   "cell_type": "markdown",
   "metadata": {},
   "source": [
    "The mlp() function builds the network layers with the following logic: \n",
    "\n",
    "The mlp() function takes five inputs: \n",
    "\n",
    "x is the input features tensor    \n",
    "num_inputs is the number of input features    \n",
    "num_outputs is the number of output targets    \n",
    "num_layers is the number of hidden layers required    \n",
    "num_neurons is the list containing the number of neurons for each layer   "
   ]
  },
  {
   "cell_type": "markdown",
   "metadata": {},
   "source": [
    " \n",
    "\n"
   ]
  },
  {
   "cell_type": "code",
   "execution_count": 8,
   "metadata": {},
   "outputs": [],
   "source": [
    "def mlp(x, num_inputs, num_outputs, num_layers, num_neurons):\n",
    "    w = []\n",
    "    b = []\n",
    "    #Run a loop for the number of hidden layers to create weights and bias tensors and append them to their respective lists:\n",
    "    #    The first dimension of the weight tensor is the number of inputs from the previous layer. \n",
    "    #    For the first hidden layer, the first dimension is num_inputs. \n",
    "    #    The second dimension of the weights tensor is the number of neurons in the current layer. \n",
    "    for i in range(num_layers):\n",
    "        # weights\n",
    "        #The tensors are given the names w_ < layer_num > and b_ < layer_num > respectively.\n",
    "        #The tensors are initialized with normal distribution using tf.random_normal(). \n",
    "        w.append(tf.Variable(tf.random_normal(\n",
    "            [num_inputs if i == 0 else num_neurons[i - 1],\n",
    "             num_neurons[i]]),\n",
    "            name=\"w_{0:04d}\".format(i)\n",
    "        ))\n",
    "        # biases\n",
    "        #    The biases are all one-dimensional tensors, where the dimension equals the number of neurons in the current layer.\n",
    "        b.append(tf.Variable(tf.random_normal(\n",
    "            [num_neurons[i]]),\n",
    "            name=\"b_{0:04d}\".format(i)\n",
    "        ))\n",
    "    # Create the weights and biases for the last hidden layer. \n",
    "    # The dimensions of the weights tensor are equal to the \n",
    "    # number of neurons in the last hidden layer and the number of output targets. \n",
    "    w.append(tf.Variable(tf.random_normal(\n",
    "        [num_neurons[num_layers - 1] if num_layers > 0 else num_inputs,\n",
    "         num_outputs]), name=\"w_out\"))\n",
    "    #The bias would be a tensor having a single dimension of the size of the number of output features:\n",
    "    b.append(tf.Variable(tf.random_normal([num_outputs]), name=\"b_out\"))\n",
    "\n",
    "    # Now start defining the layers. First, treat x as the first most visible input layer:\n",
    "    # x is input layer\n",
    "    layer = x\n",
    "    \n",
    "    #Add the hidden layers in a loop. \n",
    "    # Each hidden layer represents the linear function \n",
    "    # tf.matmul( layer, w[ i]) + b[ i] being made nonlinear by the activation function tf.nn.relu():\n",
    "    # add hidden layers\n",
    "    for i in range(num_layers):\n",
    "        layer = tf.nn.relu(tf.matmul(layer, w[i]) + b[i])\n",
    "    \n",
    "    # add output layer\n",
    "    # The one difference between the output layer and the hidden layer is the \n",
    "    # absence of activation function in the output layer:\n",
    "    layer = tf.matmul(layer, w[num_layers]) + b[num_layers]\n",
    "\n",
    "    return layer\n"
   ]
  },
  {
   "cell_type": "code",
   "execution_count": 10,
   "metadata": {},
   "outputs": [],
   "source": [
    "#The helper function mnist_batch_func() wraps the TensorFlow's batch function for the MNIST dataset \n",
    "#  to provide the next batch of images:\n",
    "#TensorFlow provides this function for the MNIST dataset; \n",
    "#  however, for other datasets, we may have to write our own batch function.\n",
    "\n",
    "def mnist_batch_func(batch_size=100):\n",
    "    X_batch, Y_batch = mnist.train.next_batch(batch_size)\n",
    "    return [X_batch, Y_batch]\n"
   ]
  },
  {
   "cell_type": "markdown",
   "metadata": {},
   "source": [
    "The helper function, tensorflow_classification(), trains and evaluates the model. \n",
    "\n",
    "The tensorflow_classification() function takes several inputs: \n",
    "\n",
    "* n_epochs is the number of training loops to run \n",
    "* n_batches is the number of randomly sampled batches for which the training in each cycle should be run \n",
    "* batch_size is the number of samples in each batch \n",
    "* batch_func is the function that takes the batch_size and returns the sample batch of X and Y \n",
    "* model is the actual neural network or layers with neurons \n",
    "* optimizer is the optimization function defined using TensorFlow \n",
    "* loss is the loss of cost function that the optimizer would optimize the parameters for \n",
    "* accuracy_function is the function that calculates the accuracy score \n",
    "* X_test and Y_test are the datasets for the testing\n"
   ]
  },
  {
   "cell_type": "code",
   "execution_count": 11,
   "metadata": {},
   "outputs": [],
   "source": [
    "def tensorflow_classification(n_epochs, n_batches,\n",
    "                              batch_size, batch_func,\n",
    "                              model, optimizer, loss, accuracy_function,\n",
    "                              X_test, Y_test):\n",
    "    with tf.Session() as tfs:\n",
    "        tfs.run(tf.global_variables_initializer())\n",
    "        #Run the training for n_epoch cycles:\n",
    "        for epoch in range(n_epochs):\n",
    "            #In each cycle, take the n_batches number of sample sets and train the model, \n",
    "            #calculate the loss for each batch, calculate the average loss for each epoch:\n",
    "            epoch_loss = 0.0\n",
    "            for batch in range(n_batches):\n",
    "                X_batch, Y_batch = batch_func(batch_size)\n",
    "                feed_dict = {x: X_batch, y: Y_batch}\n",
    "                _, batch_loss = tfs.run([optimizer, loss], feed_dict)\n",
    "                epoch_loss += batch_loss\n",
    "            average_loss = epoch_loss / n_batches\n",
    "            print(\"epoch: {0:04d}   loss = {1:0.6f}\".format(\n",
    "                epoch, average_loss))\n",
    "        #When all the epoch cycles are finished, calculate and print the accuracy score calculated with the accuracy_function:\n",
    "        feed_dict = {x: X_test, y: Y_test}\n",
    "        accuracy_score = tfs.run(accuracy_function, feed_dict=feed_dict)\n",
    "        print(\"accuracy={0:.8f}\".format(accuracy_score))"
   ]
  },
  {
   "cell_type": "code",
   "execution_count": 12,
   "metadata": {},
   "outputs": [],
   "source": [
    "tf.reset_default_graph()"
   ]
  },
  {
   "cell_type": "markdown",
   "metadata": {},
   "source": [
    "The parameters are described below: \n",
    "\n",
    "* num_layers is the number of hidden layers. We first practice with no hidden layer, only the input, and output layers. \n",
    "\n",
    "* num_neurons is the empty list because there are no hidden layers. \n",
    "* learning_rate is 0.01, a randomly selected small number. \n",
    "\n",
    "* num_epochs represents the 50 iterations to learn the parameters for the only neuron that connects the inputs to the output. \n",
    "\n",
    "* batch_size is kept at 100, again a matter of choice. Larger batch size does not necessarily offer higher benefits. You might have to explore different batch sizes to find the optimum batch size for your neural networks. \n",
    "\n",
    "* n_batches: Number of batches is calculated approximately to be the number of examples divided by the number of samples in a batch.\n"
   ]
  },
  {
   "cell_type": "code",
   "execution_count": 15,
   "metadata": {},
   "outputs": [],
   "source": [
    "num_layers = 0\n",
    "num_neurons = []\n",
    "learning_rate = 0.01\n",
    "n_epochs = 50\n",
    "batch_size = 100\n",
    "n_batches = int(mnist.train.num_examples / batch_size)"
   ]
  },
  {
   "cell_type": "code",
   "execution_count": 14,
   "metadata": {},
   "outputs": [],
   "source": [
    "# input images\n",
    "x = tf.placeholder(dtype=tf.float32, name=\"x\", shape=[None, num_inputs])\n",
    "# target output\n",
    "y = tf.placeholder(dtype=tf.float32, name=\"y\", shape=[None, num_outputs])\n"
   ]
  },
  {
   "cell_type": "code",
   "execution_count": 16,
   "metadata": {},
   "outputs": [],
   "source": [
    "model = mlp(x=x,\n",
    "            num_inputs=num_inputs,\n",
    "            num_outputs=num_outputs,\n",
    "            num_layers=num_layers,\n",
    "            num_neurons=num_neurons)\n"
   ]
  },
  {
   "cell_type": "markdown",
   "metadata": {},
   "source": [
    "When the softmax_cross_entropy_with_logits() function is used, make sure that the output is unscaled and has not been passed through the softmax activation function. This function internally uses softmax to scale the output.\n"
   ]
  },
  {
   "cell_type": "code",
   "execution_count": 17,
   "metadata": {},
   "outputs": [
    {
     "name": "stdout",
     "output_type": "stream",
     "text": [
      "WARNING:tensorflow:From <ipython-input-17-d0a8587a25df>:3: softmax_cross_entropy_with_logits (from tensorflow.python.ops.nn_ops) is deprecated and will be removed in a future version.\n",
      "Instructions for updating:\n",
      "\n",
      "Future major versions of TensorFlow will allow gradients to flow\n",
      "into the labels input on backprop by default.\n",
      "\n",
      "See `tf.nn.softmax_cross_entropy_with_logits_v2`.\n",
      "\n"
     ]
    }
   ],
   "source": [
    "# loss function\n",
    "loss = tf.reduce_mean(\n",
    "    tf.nn.softmax_cross_entropy_with_logits(logits=model, labels=y))\n"
   ]
  },
  {
   "cell_type": "markdown",
   "metadata": {},
   "source": [
    "This function computes the softmax entropy between the model (the estimated value y) and the actual value of y. \n",
    "\n",
    "The entropy function is used when the output belongs to one class and not more than one class. \n",
    "\n",
    "As in our example, the image can only belong to one of the digits. \n",
    "\n",
    "More information on this entropy function can be found at https://www.tensorflow.org/api_docs/python/tf/nn/softmax_cross_entropy_with_logits.\n"
   ]
  },
  {
   "cell_type": "code",
   "execution_count": 18,
   "metadata": {},
   "outputs": [],
   "source": [
    "# optimizer function\n",
    "optimizer = tf.train.GradientDescentOptimizer(\n",
    "    learning_rate=learning_rate).minimize(loss)"
   ]
  },
  {
   "cell_type": "code",
   "execution_count": 19,
   "metadata": {},
   "outputs": [],
   "source": [
    "predictions_check = tf.equal(tf.argmax(model, 1), tf.argmax(y, 1))\n",
    "accuracy_function = tf.reduce_mean(tf.cast(predictions_check, tf.float32))"
   ]
  },
  {
   "cell_type": "markdown",
   "metadata": {},
   "source": [
    "### The below code might run for a few minutes"
   ]
  },
  {
   "cell_type": "code",
   "execution_count": 20,
   "metadata": {
    "scrolled": false
   },
   "outputs": [
    {
     "name": "stdout",
     "output_type": "stream",
     "text": [
      "epoch: 0000   loss = 8.473080\n",
      "epoch: 0001   loss = 4.390884\n",
      "epoch: 0002   loss = 3.030011\n",
      "epoch: 0003   loss = 2.392622\n",
      "epoch: 0004   loss = 2.023636\n",
      "epoch: 0005   loss = 1.782972\n",
      "epoch: 0006   loss = 1.613726\n",
      "epoch: 0007   loss = 1.487805\n",
      "epoch: 0008   loss = 1.390011\n",
      "epoch: 0009   loss = 1.311847\n",
      "epoch: 0010   loss = 1.247507\n",
      "epoch: 0011   loss = 1.193481\n",
      "epoch: 0012   loss = 1.147407\n",
      "epoch: 0013   loss = 1.107349\n",
      "epoch: 0014   loss = 1.072285\n",
      "epoch: 0015   loss = 1.041205\n",
      "epoch: 0016   loss = 1.013279\n",
      "epoch: 0017   loss = 0.988314\n",
      "epoch: 0018   loss = 0.965635\n",
      "epoch: 0019   loss = 0.944805\n",
      "epoch: 0020   loss = 0.925856\n",
      "epoch: 0021   loss = 0.908260\n",
      "epoch: 0022   loss = 0.891954\n",
      "epoch: 0023   loss = 0.876993\n",
      "epoch: 0024   loss = 0.862779\n",
      "epoch: 0025   loss = 0.849480\n",
      "epoch: 0026   loss = 0.837104\n",
      "epoch: 0027   loss = 0.825333\n",
      "epoch: 0028   loss = 0.814350\n",
      "epoch: 0029   loss = 0.803741\n",
      "epoch: 0030   loss = 0.793860\n",
      "epoch: 0031   loss = 0.784387\n",
      "epoch: 0032   loss = 0.775280\n",
      "epoch: 0033   loss = 0.766651\n",
      "epoch: 0034   loss = 0.758485\n",
      "epoch: 0035   loss = 0.750555\n",
      "epoch: 0036   loss = 0.743002\n",
      "epoch: 0037   loss = 0.735639\n",
      "epoch: 0038   loss = 0.728810\n",
      "epoch: 0039   loss = 0.722074\n",
      "epoch: 0040   loss = 0.715607\n",
      "epoch: 0041   loss = 0.709368\n",
      "epoch: 0042   loss = 0.703364\n",
      "epoch: 0043   loss = 0.697576\n",
      "epoch: 0044   loss = 0.691993\n",
      "epoch: 0045   loss = 0.686521\n",
      "epoch: 0046   loss = 0.681212\n",
      "epoch: 0047   loss = 0.676204\n",
      "epoch: 0048   loss = 0.671218\n",
      "epoch: 0049   loss = 0.666440\n",
      "accuracy=0.85869998\n"
     ]
    }
   ],
   "source": [
    "tensorflow_classification(n_epochs=n_epochs,\n",
    "                          n_batches=n_batches,\n",
    "                          batch_size=batch_size,\n",
    "                          batch_func=mnist_batch_func,\n",
    "                          model=model,\n",
    "                          optimizer=optimizer,\n",
    "                          loss=loss,\n",
    "                          accuracy_function=accuracy_function,\n",
    "                          X_test=mnist.test.images,\n",
    "                          Y_test=mnist.test.labels\n",
    "                          )"
   ]
  },
  {
   "cell_type": "markdown",
   "metadata": {},
   "source": [
    "We see that the single neuron network slowly reduces the loss from 8.47 to 0.66 over 50 iterations, finally getting an accuracy of almost 85 percent. This is pretty bad accuracy for this specific example because this was only a demonstration of using TensorFlow for classification using MLP.\n"
   ]
  },
  {
   "cell_type": "code",
   "execution_count": 10,
   "metadata": {},
   "outputs": [],
   "source": [
    "tf.reset_default_graph()"
   ]
  },
  {
   "cell_type": "code",
   "execution_count": 11,
   "metadata": {},
   "outputs": [
    {
     "name": "stdout",
     "output_type": "stream",
     "text": [
      "epoch: 0000   loss = 4.013396\n",
      "epoch: 0001   loss = 2.302745\n",
      "epoch: 0002   loss = 2.156557\n",
      "epoch: 0003   loss = 2.079378\n",
      "epoch: 0004   loss = 2.026683\n",
      "epoch: 0005   loss = 1.987903\n",
      "epoch: 0006   loss = 1.958130\n",
      "epoch: 0007   loss = 1.932892\n",
      "epoch: 0008   loss = 1.909715\n",
      "epoch: 0009   loss = 1.887257\n",
      "epoch: 0010   loss = 1.865864\n",
      "epoch: 0011   loss = 1.844288\n",
      "epoch: 0012   loss = 1.823081\n",
      "epoch: 0013   loss = 1.801307\n",
      "epoch: 0014   loss = 1.778486\n",
      "epoch: 0015   loss = 1.754043\n",
      "epoch: 0016   loss = 1.726848\n",
      "epoch: 0017   loss = 1.695823\n",
      "epoch: 0018   loss = 1.662781\n",
      "epoch: 0019   loss = 1.630441\n",
      "epoch: 0020   loss = 1.598397\n",
      "epoch: 0021   loss = 1.568061\n",
      "epoch: 0022   loss = 1.537702\n",
      "epoch: 0023   loss = 1.508838\n",
      "epoch: 0024   loss = 1.480578\n",
      "epoch: 0025   loss = 1.452838\n",
      "epoch: 0026   loss = 1.426458\n",
      "epoch: 0027   loss = 1.400067\n",
      "epoch: 0028   loss = 1.375169\n",
      "epoch: 0029   loss = 1.351013\n",
      "epoch: 0030   loss = 1.326956\n",
      "epoch: 0031   loss = 1.303237\n",
      "epoch: 0032   loss = 1.281651\n",
      "epoch: 0033   loss = 1.259432\n",
      "epoch: 0034   loss = 1.238814\n",
      "epoch: 0035   loss = 1.218468\n",
      "epoch: 0036   loss = 1.198567\n",
      "epoch: 0037   loss = 1.179669\n",
      "epoch: 0038   loss = 1.161184\n",
      "epoch: 0039   loss = 1.145037\n",
      "epoch: 0040   loss = 1.129737\n",
      "epoch: 0041   loss = 1.114725\n",
      "epoch: 0042   loss = 1.101283\n",
      "epoch: 0043   loss = 1.088011\n",
      "epoch: 0044   loss = 1.076294\n",
      "epoch: 0045   loss = 1.065239\n",
      "epoch: 0046   loss = 1.054565\n",
      "epoch: 0047   loss = 1.045264\n",
      "epoch: 0048   loss = 1.035671\n",
      "epoch: 0049   loss = 1.027042\n",
      "accuracy=0.65469998\n"
     ]
    }
   ],
   "source": [
    "num_layers = 1 \n",
    "num_neurons = []\n",
    "for i in range(num_layers):\n",
    "    num_neurons.append(8)\n",
    "    \n",
    "learning_rate = 0.01\n",
    "n_epochs = 50\n",
    "batch_size = 100\n",
    "n_batches = int(mnist.train.num_examples/batch_size)\n",
    "\n",
    "# input images\n",
    "x = tf.placeholder(dtype=tf.float32, name=\"x\", shape=[None, num_inputs]) \n",
    "# target output\n",
    "y = tf.placeholder(dtype=tf.float32, name=\"y\", shape=[None, num_outputs]) \n",
    "\n",
    "model = mlp(x=x, \n",
    "            num_inputs=num_inputs, \n",
    "            num_outputs=num_outputs, \n",
    "            num_layers=num_layers, \n",
    "            num_neurons=num_neurons)\n",
    "\n",
    "# loss function\n",
    "#loss = tf.reduce_mean(-tf.reduce_sum(y * tf.log(model), axis=1))\n",
    "loss = tf.reduce_mean(tf.nn.softmax_cross_entropy_with_logits(logits=model, labels=y))\n",
    "# optimizer function\n",
    "optimizer = tf.train.GradientDescentOptimizer(learning_rate=learning_rate).minimize(loss)\n",
    "predictions_check = tf.equal(tf.argmax(model,1), tf.argmax(y,1))\n",
    "accuracy_function = tf.reduce_mean(tf.cast(predictions_check, tf.float32))\n",
    "\n",
    "tensorflow_classification(n_epochs=n_epochs, \n",
    "                          n_batches=n_batches, \n",
    "                          batch_size=batch_size, \n",
    "                          batch_func=mnist_batch_func, \n",
    "                          model = model, \n",
    "                          optimizer = optimizer, \n",
    "                          loss = loss, \n",
    "                          accuracy_function = accuracy_function, \n",
    "                          X_test = mnist.test.images, \n",
    "                          Y_test = mnist.test.labels\n",
    "                         )"
   ]
  },
  {
   "cell_type": "markdown",
   "metadata": {},
   "source": [
    "Let us run the same code again by adding 256 more hidden neurons"
   ]
  },
  {
   "cell_type": "code",
   "execution_count": 22,
   "metadata": {},
   "outputs": [],
   "source": [
    "tf.reset_default_graph()"
   ]
  },
  {
   "cell_type": "code",
   "execution_count": 23,
   "metadata": {},
   "outputs": [],
   "source": [
    "num_layers = 2\n",
    "num_neurons = []\n",
    "for i in range(num_layers):\n",
    "    num_neurons.append(256)\n",
    "    \n",
    "learning_rate = 0.01\n",
    "n_epochs = 50\n",
    "batch_size = 100\n",
    "n_batches = int(mnist.train.num_examples/batch_size)\n",
    "\n",
    "# input images\n",
    "x = tf.placeholder(dtype=tf.float32, name=\"x\", shape=[None, num_inputs]) \n",
    "# target output\n",
    "y = tf.placeholder(dtype=tf.float32, name=\"y\", shape=[None, num_outputs]) \n"
   ]
  },
  {
   "cell_type": "code",
   "execution_count": 24,
   "metadata": {},
   "outputs": [],
   "source": [
    "model = mlp(x=x, \n",
    "            num_inputs=num_inputs, \n",
    "            num_outputs=num_outputs, \n",
    "            num_layers=num_layers, \n",
    "            num_neurons=num_neurons)\n",
    "\n",
    "# loss function\n",
    "#loss = tf.reduce_mean(-tf.reduce_sum(y * tf.log(model), axis=1))\n",
    "loss = tf.reduce_mean(tf.nn.softmax_cross_entropy_with_logits(logits=model, \n",
    "                                                              labels=y))\n",
    "# optimizer function\n",
    "optimizer = tf.train.GradientDescentOptimizer(learning_rate=learning_rate).minimize(loss)\n",
    "\n",
    "predictions_check = tf.equal(tf.argmax(model,1), tf.argmax(y,1))\n",
    "accuracy_function = tf.reduce_mean(tf.cast(predictions_check, tf.float32))\n",
    "\n"
   ]
  },
  {
   "cell_type": "markdown",
   "metadata": {},
   "source": [
    "### The below code might take a few minutes to run"
   ]
  },
  {
   "cell_type": "code",
   "execution_count": 25,
   "metadata": {},
   "outputs": [
    {
     "name": "stdout",
     "output_type": "stream",
     "text": [
      "epoch: 0000   loss = 58.754058\n",
      "epoch: 0001   loss = 14.521847\n",
      "epoch: 0002   loss = 8.922171\n",
      "epoch: 0003   loss = 6.241642\n",
      "epoch: 0004   loss = 4.599127\n",
      "epoch: 0005   loss = 3.614644\n",
      "epoch: 0006   loss = 2.846957\n",
      "epoch: 0007   loss = 2.325747\n",
      "epoch: 0008   loss = 1.888454\n",
      "epoch: 0009   loss = 1.571295\n",
      "epoch: 0010   loss = 1.307724\n",
      "epoch: 0011   loss = 1.085919\n",
      "epoch: 0012   loss = 0.910493\n",
      "epoch: 0013   loss = 0.756905\n",
      "epoch: 0014   loss = 0.661583\n",
      "epoch: 0015   loss = 0.557197\n",
      "epoch: 0016   loss = 0.463660\n",
      "epoch: 0017   loss = 0.398142\n",
      "epoch: 0018   loss = 0.337610\n",
      "epoch: 0019   loss = 0.281566\n",
      "epoch: 0020   loss = 0.236837\n",
      "epoch: 0021   loss = 0.207340\n",
      "epoch: 0022   loss = 0.166393\n",
      "epoch: 0023   loss = 0.147394\n",
      "epoch: 0024   loss = 0.126139\n",
      "epoch: 0025   loss = 0.107418\n",
      "epoch: 0026   loss = 0.088536\n",
      "epoch: 0027   loss = 0.066566\n",
      "epoch: 0028   loss = 0.055672\n",
      "epoch: 0029   loss = 0.056304\n",
      "epoch: 0030   loss = 0.042222\n",
      "epoch: 0031   loss = 0.032222\n",
      "epoch: 0032   loss = 0.028842\n",
      "epoch: 0033   loss = 0.028369\n",
      "epoch: 0034   loss = 0.023477\n",
      "epoch: 0035   loss = 0.012445\n",
      "epoch: 0036   loss = 0.011120\n",
      "epoch: 0037   loss = 0.010939\n",
      "epoch: 0038   loss = 0.008139\n",
      "epoch: 0039   loss = 0.006357\n",
      "epoch: 0040   loss = 0.003564\n",
      "epoch: 0041   loss = 0.004040\n",
      "epoch: 0042   loss = 0.002573\n",
      "epoch: 0043   loss = 0.002124\n",
      "epoch: 0044   loss = 0.001201\n",
      "epoch: 0045   loss = 0.001176\n",
      "epoch: 0046   loss = 0.000473\n",
      "epoch: 0047   loss = 0.000041\n",
      "epoch: 0048   loss = 0.000006\n",
      "epoch: 0049   loss = 0.000005\n",
      "accuracy=0.93510002\n"
     ]
    }
   ],
   "source": [
    "\n",
    "tensorflow_classification(n_epochs=n_epochs, \n",
    "                          n_batches=n_batches, \n",
    "                          batch_size=batch_size, \n",
    "                          batch_func=mnist_batch_func, \n",
    "                          model = model, \n",
    "                          optimizer = optimizer, \n",
    "                          loss = loss, \n",
    "                          accuracy_function = accuracy_function, \n",
    "                          X_test = mnist.test.images, \n",
    "                          Y_test = mnist.test.labels\n",
    "                         )"
   ]
  },
  {
   "cell_type": "markdown",
   "metadata": {},
   "source": [
    "Thus, by adding two rows and 256 neurons to each layer, we brought the accuracy up to 0.936. You are encouraged to try the code with different values of variables to observe how it affects the loss and accuracy.\n",
    "\n"
   ]
  },
  {
   "cell_type": "markdown",
   "metadata": {},
   "source": [
    "## MLP in Keras\n"
   ]
  },
  {
   "cell_type": "markdown",
   "metadata": {},
   "source": [
    "Now let's build the same MLP network with Keras, a high-level library for TensorFlow. We keep all the parameters the same as we used for the TensorFlow example in this chapter, for example, the activation function for the hidden layers is kept as the ReLU function.\n"
   ]
  },
  {
   "cell_type": "code",
   "execution_count": 26,
   "metadata": {},
   "outputs": [],
   "source": [
    "import keras\n",
    "from keras.models import Sequential\n",
    "from keras.layers import Dense\n",
    "from keras.optimizers import SGD"
   ]
  },
  {
   "cell_type": "code",
   "execution_count": 27,
   "metadata": {},
   "outputs": [],
   "source": [
    "tf.reset_default_graph()\n",
    "keras.backend.clear_session()"
   ]
  },
  {
   "cell_type": "code",
   "execution_count": 29,
   "metadata": {},
   "outputs": [],
   "source": [
    "# Set up parameters\n",
    "num_layers = 2\n",
    "num_neurons = []\n",
    "for i in range(num_layers):\n",
    "    num_neurons.append(256)\n",
    "    \n",
    "learning_rate = 0.01\n",
    "n_epochs = 50\n",
    "batch_size = 100\n",
    "\n"
   ]
  },
  {
   "cell_type": "code",
   "execution_count": 31,
   "metadata": {},
   "outputs": [
    {
     "name": "stdout",
     "output_type": "stream",
     "text": [
      "_________________________________________________________________\n",
      "Layer (type)                 Output Shape              Param #   \n",
      "=================================================================\n",
      "dense_4 (Dense)              (None, 256)               200960    \n",
      "_________________________________________________________________\n",
      "dense_5 (Dense)              (None, 256)               65792     \n",
      "_________________________________________________________________\n",
      "dense_6 (Dense)              (None, 10)                2570      \n",
      "=================================================================\n",
      "Total params: 269,322\n",
      "Trainable params: 269,322\n",
      "Non-trainable params: 0\n",
      "_________________________________________________________________\n"
     ]
    }
   ],
   "source": [
    "# Create a sequential model\n",
    "model = Sequential()\n",
    "\n",
    "# Add the first hidden layer. Only in the first hidden layer, we have to specify the shape of the input tensor:\n",
    "model.add(Dense(units=num_neurons[0], activation='relu', \n",
    "                input_shape=(num_inputs,)))\n",
    "\n",
    "# Add the second layer\n",
    "model.add(Dense(units=num_neurons[1], activation='relu'))\n",
    "\n",
    "# Add the output layer with the activation function softmax:\n",
    "model.add(Dense(units=num_outputs, activation='softmax'))\n",
    "model.summary()\n"
   ]
  },
  {
   "cell_type": "code",
   "execution_count": 32,
   "metadata": {},
   "outputs": [],
   "source": [
    "#Compile the model with an SGD optimizer:\n",
    "model.compile(loss='categorical_crossentropy',\n",
    "              optimizer=SGD(lr=learning_rate),\n",
    "              metrics=['accuracy'])\n"
   ]
  },
  {
   "cell_type": "code",
   "execution_count": 33,
   "metadata": {},
   "outputs": [
    {
     "name": "stdout",
     "output_type": "stream",
     "text": [
      "Epoch 1/50\n",
      "55000/55000 [==============================] - 2s 36us/step - loss: 1.1228 - acc: 0.7337\n",
      "Epoch 2/50\n",
      "55000/55000 [==============================] - 2s 29us/step - loss: 0.4494 - acc: 0.8800\n",
      "Epoch 3/50\n",
      "55000/55000 [==============================] - 2s 29us/step - loss: 0.3570 - acc: 0.9002\n",
      "Epoch 4/50\n",
      "55000/55000 [==============================] - 2s 29us/step - loss: 0.3158 - acc: 0.9106\n",
      "Epoch 5/50\n",
      "55000/55000 [==============================] - 2s 29us/step - loss: 0.2892 - acc: 0.9182\n",
      "Epoch 6/50\n",
      "55000/55000 [==============================] - 2s 29us/step - loss: 0.2693 - acc: 0.9230\n",
      "Epoch 7/50\n",
      "55000/55000 [==============================] - 2s 29us/step - loss: 0.2533 - acc: 0.9276\n",
      "Epoch 8/50\n",
      "55000/55000 [==============================] - 2s 29us/step - loss: 0.2392 - acc: 0.9324\n",
      "Epoch 9/50\n",
      "55000/55000 [==============================] - 2s 29us/step - loss: 0.2270 - acc: 0.9357\n",
      "Epoch 10/50\n",
      "55000/55000 [==============================] - 2s 29us/step - loss: 0.2164 - acc: 0.9383\n",
      "Epoch 11/50\n",
      "55000/55000 [==============================] - 2s 29us/step - loss: 0.2063 - acc: 0.9418\n",
      "Epoch 12/50\n",
      "55000/55000 [==============================] - 2s 29us/step - loss: 0.1973 - acc: 0.9437\n",
      "Epoch 13/50\n",
      "55000/55000 [==============================] - 2s 29us/step - loss: 0.1892 - acc: 0.9468\n",
      "Epoch 14/50\n",
      "55000/55000 [==============================] - 2s 29us/step - loss: 0.1814 - acc: 0.9488\n",
      "Epoch 15/50\n",
      "55000/55000 [==============================] - 2s 29us/step - loss: 0.1744 - acc: 0.9507\n",
      "Epoch 16/50\n",
      "55000/55000 [==============================] - 2s 29us/step - loss: 0.1678 - acc: 0.9528\n",
      "Epoch 17/50\n",
      "55000/55000 [==============================] - 2s 29us/step - loss: 0.1616 - acc: 0.9540\n",
      "Epoch 18/50\n",
      "55000/55000 [==============================] - 2s 29us/step - loss: 0.1559 - acc: 0.9564\n",
      "Epoch 19/50\n",
      "55000/55000 [==============================] - 2s 29us/step - loss: 0.1506 - acc: 0.9580\n",
      "Epoch 20/50\n",
      "55000/55000 [==============================] - 2s 29us/step - loss: 0.1454 - acc: 0.9593\n",
      "Epoch 21/50\n",
      "55000/55000 [==============================] - 2s 29us/step - loss: 0.1408 - acc: 0.9606\n",
      "Epoch 22/50\n",
      "55000/55000 [==============================] - 2s 29us/step - loss: 0.1362 - acc: 0.9618\n",
      "Epoch 23/50\n",
      "55000/55000 [==============================] - 2s 30us/step - loss: 0.1321 - acc: 0.9628\n",
      "Epoch 24/50\n",
      "55000/55000 [==============================] - 2s 29us/step - loss: 0.1280 - acc: 0.9640\n",
      "Epoch 25/50\n",
      "55000/55000 [==============================] - 2s 29us/step - loss: 0.1243 - acc: 0.9656\n",
      "Epoch 26/50\n",
      "55000/55000 [==============================] - 2s 29us/step - loss: 0.1205 - acc: 0.9664\n",
      "Epoch 27/50\n",
      "55000/55000 [==============================] - 2s 29us/step - loss: 0.1173 - acc: 0.9673\n",
      "Epoch 28/50\n",
      "55000/55000 [==============================] - 2s 29us/step - loss: 0.1140 - acc: 0.9683\n",
      "Epoch 29/50\n",
      "55000/55000 [==============================] - 2s 29us/step - loss: 0.1107 - acc: 0.9694\n",
      "Epoch 30/50\n",
      "55000/55000 [==============================] - 2s 29us/step - loss: 0.1079 - acc: 0.9702\n",
      "Epoch 31/50\n",
      "55000/55000 [==============================] - 2s 29us/step - loss: 0.1049 - acc: 0.9708\n",
      "Epoch 32/50\n",
      "55000/55000 [==============================] - 2s 29us/step - loss: 0.1022 - acc: 0.9721\n",
      "Epoch 33/50\n",
      "55000/55000 [==============================] - 2s 29us/step - loss: 0.0997 - acc: 0.9729\n",
      "Epoch 34/50\n",
      "55000/55000 [==============================] - 2s 29us/step - loss: 0.0972 - acc: 0.9733\n",
      "Epoch 35/50\n",
      "55000/55000 [==============================] - 2s 29us/step - loss: 0.0949 - acc: 0.9740\n",
      "Epoch 36/50\n",
      "55000/55000 [==============================] - 2s 29us/step - loss: 0.0923 - acc: 0.9746\n",
      "Epoch 37/50\n",
      "55000/55000 [==============================] - 2s 29us/step - loss: 0.0903 - acc: 0.9751\n",
      "Epoch 38/50\n",
      "55000/55000 [==============================] - 2s 29us/step - loss: 0.0880 - acc: 0.9759\n",
      "Epoch 39/50\n",
      "55000/55000 [==============================] - 2s 29us/step - loss: 0.0858 - acc: 0.9767\n",
      "Epoch 40/50\n",
      "55000/55000 [==============================] - 2s 29us/step - loss: 0.0839 - acc: 0.9774\n",
      "Epoch 41/50\n",
      "55000/55000 [==============================] - 2s 29us/step - loss: 0.0821 - acc: 0.9777\n",
      "Epoch 42/50\n",
      "55000/55000 [==============================] - 2s 29us/step - loss: 0.0801 - acc: 0.9782\n",
      "Epoch 43/50\n",
      "55000/55000 [==============================] - 2s 29us/step - loss: 0.0787 - acc: 0.9784\n",
      "Epoch 44/50\n",
      "55000/55000 [==============================] - 2s 29us/step - loss: 0.0767 - acc: 0.9794\n",
      "Epoch 45/50\n",
      "55000/55000 [==============================] - 2s 29us/step - loss: 0.0752 - acc: 0.9794\n",
      "Epoch 46/50\n",
      "55000/55000 [==============================] - 2s 29us/step - loss: 0.0735 - acc: 0.9802\n",
      "Epoch 47/50\n",
      "55000/55000 [==============================] - 2s 29us/step - loss: 0.0721 - acc: 0.9807\n",
      "Epoch 48/50\n",
      "55000/55000 [==============================] - 2s 30us/step - loss: 0.0705 - acc: 0.9810\n",
      "Epoch 49/50\n",
      "55000/55000 [==============================] - 2s 29us/step - loss: 0.0688 - acc: 0.9818\n",
      "Epoch 50/50\n",
      "55000/55000 [==============================] - 2s 30us/step - loss: 0.0675 - acc: 0.9822\n",
      "10000/10000 [==============================] - 0s 40us/step\n",
      "\n",
      "Test loss: 0.09095124787967653\n",
      "Test accuracy: 0.9733\n"
     ]
    }
   ],
   "source": [
    "# Train the model:\n",
    "model.fit(X_train, Y_train,\n",
    "                    batch_size=batch_size,\n",
    "                    epochs=n_epochs)\n",
    "\n",
    "score = model.evaluate(X_test, Y_test)\n",
    "print('\\nTest loss:', score[0])\n",
    "print('Test accuracy:', score[1])"
   ]
  },
  {
   "cell_type": "markdown",
   "metadata": {},
   "source": [
    "## MLP in TFLearn"
   ]
  },
  {
   "cell_type": "markdown",
   "metadata": {},
   "source": [
    "Now let's see how to implement the same MLP using TFLearn"
   ]
  },
  {
   "cell_type": "code",
   "execution_count": 34,
   "metadata": {},
   "outputs": [],
   "source": [
    "import tflearn"
   ]
  },
  {
   "cell_type": "code",
   "execution_count": 18,
   "metadata": {},
   "outputs": [],
   "source": [
    "tf.reset_default_graph()"
   ]
  },
  {
   "cell_type": "code",
   "execution_count": 35,
   "metadata": {},
   "outputs": [],
   "source": [
    "# Set up parameters\n",
    "num_layers = 2\n",
    "num_neurons = []\n",
    "for i in range(num_layers):\n",
    "    num_neurons.append(256)\n",
    "    \n",
    "learning_rate = 0.01\n",
    "n_epochs = 50\n",
    "batch_size = 100\n"
   ]
  },
  {
   "cell_type": "code",
   "execution_count": 36,
   "metadata": {},
   "outputs": [],
   "source": [
    "# Build deep neural network\n",
    "# input layer, two hidden layers, and the output layer \n",
    "# (the same architecture as examples in TensorFlow and Keras sections):\n",
    "\n",
    "input_layer = tflearn.input_data(shape=[None, num_inputs])\n",
    "dense1 = tflearn.fully_connected(input_layer, num_neurons[0], activation='relu')\n",
    "dense2 = tflearn.fully_connected(dense1, num_neurons[1], activation='relu')\n",
    "softmax = tflearn.fully_connected(dense2, num_outputs, activation='softmax')\n"
   ]
  },
  {
   "cell_type": "code",
   "execution_count": 37,
   "metadata": {},
   "outputs": [],
   "source": [
    "optimizer = tflearn.SGD(learning_rate=learning_rate)"
   ]
  },
  {
   "cell_type": "code",
   "execution_count": 38,
   "metadata": {},
   "outputs": [
    {
     "name": "stdout",
     "output_type": "stream",
     "text": [
      "WARNING:tensorflow:From /home/ubuntu/anaconda3/envs/tensorflow_p36/lib/python3.6/site-packages/tflearn/objectives.py:66: calling reduce_sum (from tensorflow.python.ops.math_ops) with keep_dims is deprecated and will be removed in a future version.\n",
      "Instructions for updating:\n",
      "keep_dims is deprecated, use keepdims instead\n"
     ]
    }
   ],
   "source": [
    "net = tflearn.regression(softmax, optimizer=optimizer, \n",
    "                         metric=tflearn.metrics.Accuracy(), \n",
    "                         loss='categorical_crossentropy')"
   ]
  },
  {
   "cell_type": "code",
   "execution_count": 39,
   "metadata": {},
   "outputs": [],
   "source": [
    "# The MLP model is known as DNN in TFLearn\n",
    "model = tflearn.DNN(net)"
   ]
  },
  {
   "cell_type": "code",
   "execution_count": 40,
   "metadata": {},
   "outputs": [
    {
     "name": "stdout",
     "output_type": "stream",
     "text": [
      "Training Step: 27499  | total loss: \u001b[1m\u001b[32m0.12371\u001b[0m\u001b[0m | time: 2.771s\n",
      "| SGD | epoch: 050 | loss: 0.12371 - acc: 0.9628 -- iter: 54900/55000\n",
      "Training Step: 27500  | total loss: \u001b[1m\u001b[32m0.11805\u001b[0m\u001b[0m | time: 2.777s\n",
      "| SGD | epoch: 050 | loss: 0.11805 - acc: 0.9655 -- iter: 55000/55000\n",
      "--\n"
     ]
    }
   ],
   "source": [
    "# Training\n",
    "model.fit(X_train, Y_train, \n",
    "          n_epoch=n_epochs, batch_size=batch_size, \n",
    "          show_metric=True, run_id='dense_model')\n"
   ]
  },
  {
   "cell_type": "code",
   "execution_count": 41,
   "metadata": {},
   "outputs": [
    {
     "name": "stdout",
     "output_type": "stream",
     "text": [
      "Test accuracy: 0.9647\n"
     ]
    }
   ],
   "source": [
    "score = model.evaluate(X_test, Y_test)\n",
    "print('Test accuracy:', score[0])"
   ]
  },
  {
   "cell_type": "markdown",
   "metadata": {},
   "source": [
    "# TimeSeries Data - MLP - Keras"
   ]
  },
  {
   "cell_type": "markdown",
   "metadata": {},
   "source": [
    "## Prepare the data"
   ]
  },
  {
   "cell_type": "code",
   "execution_count": 22,
   "metadata": {},
   "outputs": [
    {
     "data": {
      "text/plain": [
       "'/home/ubuntu/datasets'"
      ]
     },
     "execution_count": 22,
     "metadata": {},
     "output_type": "execute_result"
    }
   ],
   "source": [
    "datasetslib.datasets_root"
   ]
  },
  {
   "cell_type": "code",
   "execution_count": 42,
   "metadata": {},
   "outputs": [],
   "source": [
    "import os\n",
    "\n",
    "#dataframe = pd.read_csv(os.path.join(datasetslib.datasets_root, \n",
    "#                                     'ts-data', \n",
    "#                                     '../data/international-airline-passengers.csv'), \n",
    "#                        usecols=[1],header=0)\n",
    "\n",
    "# Let us use panda to read the data into a dataframe\n",
    "dataframe = pd.read_csv('../data/international-airline-passengers.csv', \n",
    "                        usecols=[1],header=0)\n",
    "dataset = dataframe.values\n",
    "dataset = dataset.astype('float32')"
   ]
  },
  {
   "cell_type": "code",
   "execution_count": 43,
   "metadata": {},
   "outputs": [
    {
     "name": "stdout",
     "output_type": "stream",
     "text": [
      "97 48\n"
     ]
    }
   ],
   "source": [
    "# split into train and test sets\n",
    "# For time series datasets, we have a separate function that does not shuffle the observations because \n",
    "# for time series regression we need to maintain the order of the observations. \n",
    "# We use 67 percent data for training and 33 percent for testing.\n",
    "\n",
    "train,test=dsu.train_test_split(dataset,train_size=0.67)\n",
    "print(len(train), len(test))"
   ]
  },
  {
   "cell_type": "markdown",
   "metadata": {},
   "source": [
    "For time series regression, we convert the dataset to build a supervised data set. \n",
    "\n",
    "We use a lag of two time steps in this example. \n",
    "\n",
    "We set n_x to 2 and the mvts_to_xy() function returns the input and output (X and Y) train and test sets such that X has values for time {t-1, t} in two columns and Y has values for time {t + 1} in one column. \n",
    "\n",
    "Our learning algorithm assumes that values at time t + 1 can be learned by finding the relationship between values for time {t-1, t, t + 1}.\n"
   ]
  },
  {
   "cell_type": "code",
   "execution_count": 44,
   "metadata": {},
   "outputs": [],
   "source": [
    "# reshape into X=t-1,t and Y=t+1\n",
    "# TimeSeries to XY\n",
    "n_x=2\n",
    "n_y=1\n",
    "\n",
    "X_train, Y_train, X_test, Y_test = dsu.mvts_to_xy(train,test,n_x=n_x,n_y=n_y)"
   ]
  },
  {
   "cell_type": "markdown",
   "metadata": {},
   "source": [
    "More information on converting time series datasets as supervised learning problems can be found at the following link: \n",
    "http://machinelearningmastery.com/convert-time-series-supervised-learning-problem-python/.\n"
   ]
  },
  {
   "cell_type": "markdown",
   "metadata": {},
   "source": [
    "## Build, Train and Evaluate the Model"
   ]
  },
  {
   "cell_type": "code",
   "execution_count": 45,
   "metadata": {},
   "outputs": [],
   "source": [
    "from keras.models import Sequential\n",
    "from keras.layers import Dense\n",
    "from keras.optimizers import SGD"
   ]
  },
  {
   "cell_type": "code",
   "execution_count": 46,
   "metadata": {},
   "outputs": [],
   "source": [
    "tf.reset_default_graph()\n",
    "keras.backend.clear_session()"
   ]
  },
  {
   "cell_type": "code",
   "execution_count": 47,
   "metadata": {},
   "outputs": [
    {
     "name": "stdout",
     "output_type": "stream",
     "text": [
      "(95, 2) (95, 1)\n"
     ]
    }
   ],
   "source": [
    "print(X_train.shape, Y_train.shape)"
   ]
  },
  {
   "cell_type": "code",
   "execution_count": 48,
   "metadata": {},
   "outputs": [],
   "source": [
    "num_layers = 2\n",
    "num_neurons = [8,8]\n",
    "n_epochs = 50\n",
    "batch_size = 2\n"
   ]
  },
  {
   "cell_type": "code",
   "execution_count": 49,
   "metadata": {},
   "outputs": [
    {
     "name": "stdout",
     "output_type": "stream",
     "text": [
      "_________________________________________________________________\n",
      "Layer (type)                 Output Shape              Param #   \n",
      "=================================================================\n",
      "dense_1 (Dense)              (None, 8)                 24        \n",
      "_________________________________________________________________\n",
      "dense_2 (Dense)              (None, 8)                 72        \n",
      "_________________________________________________________________\n",
      "dense_3 (Dense)              (None, 1)                 9         \n",
      "=================================================================\n",
      "Total params: 105\n",
      "Trainable params: 105\n",
      "Non-trainable params: 0\n",
      "_________________________________________________________________\n"
     ]
    }
   ],
   "source": [
    "model = Sequential()\n",
    "model.add(Dense(num_neurons[0], activation='relu', input_shape=(n_x,)))\n",
    "model.add(Dense(num_neurons[1], activation='relu'))\n",
    "model.add(Dense(units=1))\n",
    "model.summary()\n"
   ]
  },
  {
   "cell_type": "code",
   "execution_count": 51,
   "metadata": {},
   "outputs": [],
   "source": [
    "# Compile with MSE loss and Adam optimizer\n",
    "model.compile(loss='mse', optimizer='adam')\n"
   ]
  },
  {
   "cell_type": "code",
   "execution_count": 52,
   "metadata": {},
   "outputs": [
    {
     "name": "stdout",
     "output_type": "stream",
     "text": [
      "Epoch 1/50\n",
      "95/95 [==============================] - 0s 4ms/step - loss: 89630.0523\n",
      "Epoch 2/50\n",
      "95/95 [==============================] - 0s 1ms/step - loss: 65499.0244\n",
      "Epoch 3/50\n",
      "95/95 [==============================] - 0s 1ms/step - loss: 52652.4532\n",
      "Epoch 4/50\n",
      "95/95 [==============================] - 0s 1ms/step - loss: 49833.5211\n",
      "Epoch 5/50\n",
      "95/95 [==============================] - 0s 1ms/step - loss: 46130.1543\n",
      "Epoch 6/50\n",
      "95/95 [==============================] - 0s 1ms/step - loss: 38998.8676\n",
      "Epoch 7/50\n",
      "95/95 [==============================] - 0s 1ms/step - loss: 28291.7857\n",
      "Epoch 8/50\n",
      "95/95 [==============================] - 0s 1ms/step - loss: 16052.6664\n",
      "Epoch 9/50\n",
      "95/95 [==============================] - 0s 1ms/step - loss: 6496.2310\n",
      "Epoch 10/50\n",
      "95/95 [==============================] - 0s 1ms/step - loss: 2046.9626\n",
      "Epoch 11/50\n",
      "95/95 [==============================] - 0s 1ms/step - loss: 967.6489\n",
      "Epoch 12/50\n",
      "95/95 [==============================] - 0s 1ms/step - loss: 825.5313\n",
      "Epoch 13/50\n",
      "95/95 [==============================] - 0s 1ms/step - loss: 826.3555\n",
      "Epoch 14/50\n",
      "95/95 [==============================] - 0s 1ms/step - loss: 816.2632\n",
      "Epoch 15/50\n",
      "95/95 [==============================] - 0s 1ms/step - loss: 832.3412\n",
      "Epoch 16/50\n",
      "95/95 [==============================] - 0s 1ms/step - loss: 814.3739\n",
      "Epoch 17/50\n",
      "95/95 [==============================] - 0s 1ms/step - loss: 831.2007\n",
      "Epoch 18/50\n",
      "95/95 [==============================] - 0s 1ms/step - loss: 816.4391\n",
      "Epoch 19/50\n",
      "95/95 [==============================] - 0s 1ms/step - loss: 820.1573\n",
      "Epoch 20/50\n",
      "95/95 [==============================] - 0s 1ms/step - loss: 819.5567\n",
      "Epoch 21/50\n",
      "95/95 [==============================] - 0s 1ms/step - loss: 812.5090\n",
      "Epoch 22/50\n",
      "95/95 [==============================] - 0s 1ms/step - loss: 810.1774\n",
      "Epoch 23/50\n",
      "95/95 [==============================] - 0s 1ms/step - loss: 814.7811\n",
      "Epoch 24/50\n",
      "95/95 [==============================] - 0s 1ms/step - loss: 810.3038\n",
      "Epoch 25/50\n",
      "95/95 [==============================] - 0s 1ms/step - loss: 808.7533\n",
      "Epoch 26/50\n",
      "95/95 [==============================] - 0s 1ms/step - loss: 810.5137\n",
      "Epoch 27/50\n",
      "95/95 [==============================] - 0s 1ms/step - loss: 821.3369\n",
      "Epoch 28/50\n",
      "95/95 [==============================] - 0s 1ms/step - loss: 818.5457\n",
      "Epoch 29/50\n",
      "95/95 [==============================] - 0s 1ms/step - loss: 806.7286\n",
      "Epoch 30/50\n",
      "95/95 [==============================] - 0s 1ms/step - loss: 819.1024\n",
      "Epoch 31/50\n",
      "95/95 [==============================] - 0s 1ms/step - loss: 809.2894\n",
      "Epoch 32/50\n",
      "95/95 [==============================] - 0s 1ms/step - loss: 816.4314\n",
      "Epoch 33/50\n",
      "95/95 [==============================] - 0s 1ms/step - loss: 811.5708\n",
      "Epoch 34/50\n",
      "95/95 [==============================] - 0s 1ms/step - loss: 809.9102\n",
      "Epoch 35/50\n",
      "95/95 [==============================] - 0s 1ms/step - loss: 828.6766\n",
      "Epoch 36/50\n",
      "95/95 [==============================] - 0s 1ms/step - loss: 818.9131\n",
      "Epoch 37/50\n",
      "95/95 [==============================] - 0s 1ms/step - loss: 805.5200\n",
      "Epoch 38/50\n",
      "95/95 [==============================] - 0s 1ms/step - loss: 808.1772\n",
      "Epoch 39/50\n",
      "95/95 [==============================] - 0s 1ms/step - loss: 810.4909\n",
      "Epoch 40/50\n",
      "95/95 [==============================] - 0s 1ms/step - loss: 801.1624\n",
      "Epoch 41/50\n",
      "95/95 [==============================] - 0s 1ms/step - loss: 802.1038\n",
      "Epoch 42/50\n",
      "95/95 [==============================] - 0s 1ms/step - loss: 805.8681\n",
      "Epoch 43/50\n",
      "95/95 [==============================] - 0s 1ms/step - loss: 809.9543\n",
      "Epoch 44/50\n",
      "95/95 [==============================] - 0s 1ms/step - loss: 798.9935\n",
      "Epoch 45/50\n",
      "95/95 [==============================] - 0s 1ms/step - loss: 800.5617\n",
      "Epoch 46/50\n",
      "95/95 [==============================] - 0s 1ms/step - loss: 815.1320\n",
      "Epoch 47/50\n",
      "95/95 [==============================] - 0s 1ms/step - loss: 828.0239\n",
      "Epoch 48/50\n",
      "95/95 [==============================] - 0s 1ms/step - loss: 826.5135\n",
      "Epoch 49/50\n",
      "95/95 [==============================] - 0s 1ms/step - loss: 807.7745\n",
      "Epoch 50/50\n",
      "95/95 [==============================] - 0s 1ms/step - loss: 793.9005\n"
     ]
    },
    {
     "data": {
      "text/plain": [
       "<keras.callbacks.History at 0x7f93ad3d7eb8>"
      ]
     },
     "execution_count": 52,
     "metadata": {},
     "output_type": "execute_result"
    }
   ],
   "source": [
    "# Training\n",
    "model.fit(X_train, Y_train,\n",
    "                    batch_size=batch_size,\n",
    "                    epochs=n_epochs)\n",
    "\n"
   ]
  },
  {
   "cell_type": "code",
   "execution_count": 53,
   "metadata": {},
   "outputs": [
    {
     "name": "stdout",
     "output_type": "stream",
     "text": [
      "(46, 2) (46, 1)\n"
     ]
    }
   ],
   "source": [
    "print(X_test.shape, Y_test.shape)"
   ]
  },
  {
   "cell_type": "code",
   "execution_count": 54,
   "metadata": {},
   "outputs": [],
   "source": [
    "# make predictions on the training set and test set\n",
    "Y_train_pred = model.predict(X_train)\n",
    "Y_test_pred = model.predict(X_test)\n"
   ]
  },
  {
   "cell_type": "code",
   "execution_count": 55,
   "metadata": {},
   "outputs": [],
   "source": [
    "# shift train predictions for plotting\n",
    "Y_train_pred_plot = np.empty_like(dataset)\n",
    "Y_train_pred_plot[:, :] = np.nan\n",
    "Y_train_pred_plot[n_x-1:len(Y_train_pred)+n_x-1, :] = Y_train_pred\n"
   ]
  },
  {
   "cell_type": "code",
   "execution_count": 56,
   "metadata": {},
   "outputs": [],
   "source": [
    "# shift test predictions for plotting\n",
    "Y_test_pred_plot = np.empty_like(dataset)\n",
    "Y_test_pred_plot[:, :] = np.nan\n",
    "Y_test_pred_plot[len(Y_train_pred)+(n_x*2)-1:len(dataset)-1, :] = Y_test_pred\n"
   ]
  },
  {
   "cell_type": "code",
   "execution_count": 57,
   "metadata": {},
   "outputs": [
    {
     "data": {
      "image/png": "[encoded data removed]",
      "text/plain": [
       "<Figure size 432x288 with 1 Axes>"
      ]
     },
     "metadata": {},
     "output_type": "display_data"
    }
   ],
   "source": [
    "# plot baseline and predictions\n",
    "plt.plot(dataset,label='Original Data')\n",
    "plt.plot(Y_train_pred_plot,label='Y_train_pred')\n",
    "plt.plot(Y_test_pred_plot,label='Y_test_pred')\n",
    "plt.legend()\n",
    "plt.show()"
   ]
  },
  {
   "cell_type": "code",
   "execution_count": null,
   "metadata": {},
   "outputs": [],
   "source": []
  }
 ],
 "metadata": {
  "kernelspec": {
   "display_name": "Environment (conda_tensorflow_p36)",
   "language": "python",
   "name": "conda_tensorflow_p36"
  },
  "language_info": {
   "codemirror_mode": {
    "name": "ipython",
    "version": 3
   },
   "file_extension": ".py",
   "mimetype": "text/x-python",
   "name": "python",
   "nbconvert_exporter": "python",
   "pygments_lexer": "ipython3",
   "version": "3.6.5"
  },
  "toc": {
   "nav_menu": {},
   "number_sections": true,
   "sideBar": true,
   "skip_h1_title": false,
   "toc_cell": true,
   "toc_position": {},
   "toc_section_display": "block",
   "toc_window_display": true
  }
 },
 "nbformat": 4,
 "nbformat_minor": 2
}
