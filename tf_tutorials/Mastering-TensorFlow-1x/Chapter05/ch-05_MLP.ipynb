{
 "cells": [
  {
   "cell_type": "markdown",
   "metadata": {
    "toc": true
   },
   "source": [
    "<h1>Table of Contents<span class=\"tocSkip\"></span></h1>\n",
    "<div class=\"toc\" style=\"margin-top: 1em;\"><ul class=\"toc-item\"><li><span><a href=\"#MNIST-Dataset\" data-toc-modified-id=\"MNIST-Dataset-1\"><span class=\"toc-item-num\">1&nbsp;&nbsp;</span>MNIST Dataset</a></span><ul class=\"toc-item\"><li><span><a href=\"#Get-the-MNIST-data\" data-toc-modified-id=\"Get-the-MNIST-data-1.1\"><span class=\"toc-item-num\">1.1&nbsp;&nbsp;</span>Get the MNIST data</a></span></li><li><span><a href=\"#MLP-in-TensorFlow\" data-toc-modified-id=\"MLP-in-TensorFlow-1.2\"><span class=\"toc-item-num\">1.2&nbsp;&nbsp;</span>MLP in TensorFlow</a></span></li><li><span><a href=\"#MLP-in-Keras\" data-toc-modified-id=\"MLP-in-Keras-1.3\"><span class=\"toc-item-num\">1.3&nbsp;&nbsp;</span>MLP in Keras</a></span></li><li><span><a href=\"#MLP-in-TFLearn\" data-toc-modified-id=\"MLP-in-TFLearn-1.4\"><span class=\"toc-item-num\">1.4&nbsp;&nbsp;</span>MLP in TFLearn</a></span></li></ul></li><li><span><a href=\"#TimeSeries-Data---MLP---Keras\" data-toc-modified-id=\"TimeSeries-Data---MLP---Keras-2\"><span class=\"toc-item-num\">2&nbsp;&nbsp;</span>TimeSeries Data - MLP - Keras</a></span><ul class=\"toc-item\"><li><span><a href=\"#Prepare-the-data\" data-toc-modified-id=\"Prepare-the-data-2.1\"><span class=\"toc-item-num\">2.1&nbsp;&nbsp;</span>Prepare the data</a></span></li><li><span><a href=\"#Build,-Train-and-Evaluate-the-Model\" data-toc-modified-id=\"Build,-Train-and-Evaluate-the-Model-2.2\"><span class=\"toc-item-num\">2.2&nbsp;&nbsp;</span>Build, Train and Evaluate the Model</a></span></li></ul></li></ul></div>"
   ]
  },
  {
   "cell_type": "markdown",
   "metadata": {},
   "source": [
    "# MultiLayer Perceptron <a class=\"tocSkip\">"
   ]
  },
  {
   "cell_type": "code",
   "execution_count": 2,
   "metadata": {},
   "outputs": [
    {
     "name": "stdout",
     "output_type": "stream",
     "text": [
      "NumPy:1.14.5\n",
      "Pandas:0.22.0\n",
      "Matplotlib:2.2.2\n",
      "TensorFlow:1.11.0\n",
      "Keras:2.2.4\n"
     ]
    },
    {
     "name": "stderr",
     "output_type": "stream",
     "text": [
      "Using TensorFlow backend.\n"
     ]
    }
   ],
   "source": [
    "import numpy as np\n",
    "np.random.seed(123)\n",
    "print(\"NumPy:{}\".format(np.__version__))\n",
    "\n",
    "import pandas as pd\n",
    "print(\"Pandas:{}\".format(pd.__version__))\n",
    "\n",
    "import math\n",
    "import os\n",
    "\n",
    "import matplotlib as mpl\n",
    "import matplotlib.pyplot as plt\n",
    "from matplotlib.pylab import rcParams\n",
    "rcParams['figure.figsize'] = 15, 10\n",
    "print(\"Matplotlib:{}\".format(mpl.__version__))\n",
    "\n",
    "import tensorflow as tf\n",
    "tf.set_random_seed(123)\n",
    "print(\"TensorFlow:{}\".format(tf.__version__))\n",
    "\n",
    "import keras\n",
    "print(\"Keras:{}\".format(keras.__version__))"
   ]
  },
  {
   "cell_type": "code",
   "execution_count": 3,
   "metadata": {},
   "outputs": [],
   "source": [
    "DATASETSLIB_HOME = '../datasetslib'\n",
    "import sys\n",
    "if not DATASETSLIB_HOME in sys.path:\n",
    "    sys.path.append(DATASETSLIB_HOME)\n",
    "%reload_ext autoreload\n",
    "%autoreload 2\n",
    "import datasetslib\n",
    "\n",
    "from datasetslib import util as dsu"
   ]
  },
  {
   "cell_type": "code",
   "execution_count": 4,
   "metadata": {},
   "outputs": [],
   "source": [
    "datasetslib.datasets_root = os.path.join(os.path.expanduser('~'),'datasets')"
   ]
  },
  {
   "cell_type": "markdown",
   "metadata": {},
   "source": [
    "# MNIST Dataset"
   ]
  },
  {
   "cell_type": "markdown",
   "metadata": {},
   "source": [
    "## Get the MNIST data"
   ]
  },
  {
   "cell_type": "code",
   "execution_count": 5,
   "metadata": {},
   "outputs": [
    {
     "name": "stdout",
     "output_type": "stream",
     "text": [
      "WARNING:tensorflow:From <ipython-input-5-0d8b9aad8e53>:3: read_data_sets (from tensorflow.contrib.learn.python.learn.datasets.mnist) is deprecated and will be removed in a future version.\n",
      "Instructions for updating:\n",
      "Please use alternatives such as official/mnist/dataset.py from tensorflow/models.\n",
      "WARNING:tensorflow:From /home/ubuntu/anaconda3/envs/tensorflow_p36/lib/python3.6/site-packages/tensorflow/contrib/learn/python/learn/datasets/mnist.py:260: maybe_download (from tensorflow.contrib.learn.python.learn.datasets.base) is deprecated and will be removed in a future version.\n",
      "Instructions for updating:\n",
      "Please write your own downloading logic.\n",
      "WARNING:tensorflow:From /home/ubuntu/anaconda3/envs/tensorflow_p36/lib/python3.6/site-packages/tensorflow/contrib/learn/python/learn/datasets/mnist.py:262: extract_images (from tensorflow.contrib.learn.python.learn.datasets.mnist) is deprecated and will be removed in a future version.\n",
      "Instructions for updating:\n",
      "Please use tf.data to implement this functionality.\n",
      "Extracting /home/ubuntu/datasets/mnist/train-images-idx3-ubyte.gz\n",
      "WARNING:tensorflow:From /home/ubuntu/anaconda3/envs/tensorflow_p36/lib/python3.6/site-packages/tensorflow/contrib/learn/python/learn/datasets/mnist.py:267: extract_labels (from tensorflow.contrib.learn.python.learn.datasets.mnist) is deprecated and will be removed in a future version.\n",
      "Instructions for updating:\n",
      "Please use tf.data to implement this functionality.\n",
      "Extracting /home/ubuntu/datasets/mnist/train-labels-idx1-ubyte.gz\n",
      "WARNING:tensorflow:From /home/ubuntu/anaconda3/envs/tensorflow_p36/lib/python3.6/site-packages/tensorflow/contrib/learn/python/learn/datasets/mnist.py:110: dense_to_one_hot (from tensorflow.contrib.learn.python.learn.datasets.mnist) is deprecated and will be removed in a future version.\n",
      "Instructions for updating:\n",
      "Please use tf.one_hot on tensors.\n",
      "Extracting /home/ubuntu/datasets/mnist/t10k-images-idx3-ubyte.gz\n",
      "Extracting /home/ubuntu/datasets/mnist/t10k-labels-idx1-ubyte.gz\n",
      "WARNING:tensorflow:From /home/ubuntu/anaconda3/envs/tensorflow_p36/lib/python3.6/site-packages/tensorflow/contrib/learn/python/learn/datasets/mnist.py:290: DataSet.__init__ (from tensorflow.contrib.learn.python.learn.datasets.mnist) is deprecated and will be removed in a future version.\n",
      "Instructions for updating:\n",
      "Please use alternatives such as official/mnist/dataset.py from tensorflow/models.\n"
     ]
    }
   ],
   "source": [
    "from tensorflow.examples.tutorials.mnist import input_data\n",
    "mnist = input_data.read_data_sets(os.path.join(datasetslib.datasets_root, 'mnist'),\n",
    "                                  one_hot=True)\n",
    "\n",
    "X_train = mnist.train.images\n",
    "X_test = mnist.test.images\n",
    "Y_train = mnist.train.labels\n",
    "Y_test = mnist.test.labels\n",
    "\n",
    "num_outputs = 10  # 0-9 digits\n",
    "num_inputs = 784  # total pixels"
   ]
  },
  {
   "cell_type": "markdown",
   "metadata": {},
   "source": [
    "## MLP in TensorFlow"
   ]
  },
  {
   "cell_type": "code",
   "execution_count": 6,
   "metadata": {},
   "outputs": [],
   "source": [
    "tf.reset_default_graph()"
   ]
  },
  {
   "cell_type": "code",
   "execution_count": 7,
   "metadata": {},
   "outputs": [],
   "source": [
    "def mlp(x, num_inputs, num_outputs, num_layers, num_neurons):\n",
    "    w = []\n",
    "    b = []\n",
    "    for i in range(num_layers):\n",
    "        # weights\n",
    "        w.append(tf.Variable(tf.random_normal(\n",
    "            [num_inputs if i == 0 else num_neurons[i - 1],\n",
    "             num_neurons[i]]),\n",
    "            name=\"w_{0:04d}\".format(i)\n",
    "        ))\n",
    "        # biases\n",
    "        b.append(tf.Variable(tf.random_normal(\n",
    "            [num_neurons[i]]),\n",
    "            name=\"b_{0:04d}\".format(i)\n",
    "        ))\n",
    "    w.append(tf.Variable(tf.random_normal(\n",
    "        [num_neurons[num_layers - 1] if num_layers > 0 else num_inputs,\n",
    "         num_outputs]), name=\"w_out\"))\n",
    "    b.append(tf.Variable(tf.random_normal([num_outputs]), name=\"b_out\"))\n",
    "\n",
    "    # x is input layer\n",
    "    layer = x\n",
    "    # add hidden layers\n",
    "    for i in range(num_layers):\n",
    "        layer = tf.nn.relu(tf.matmul(layer, w[i]) + b[i])\n",
    "    # add output layer\n",
    "    layer = tf.matmul(layer, w[num_layers]) + b[num_layers]\n",
    "\n",
    "    return layer\n",
    "\n",
    "\n",
    "def mnist_batch_func(batch_size=100):\n",
    "    X_batch, Y_batch = mnist.train.next_batch(batch_size)\n",
    "    return [X_batch, Y_batch]\n",
    "\n",
    "\n",
    "def tensorflow_classification(n_epochs, n_batches,\n",
    "                              batch_size, batch_func,\n",
    "                              model, optimizer, loss, accuracy_function,\n",
    "                              X_test, Y_test):\n",
    "    with tf.Session() as tfs:\n",
    "        tfs.run(tf.global_variables_initializer())\n",
    "        for epoch in range(n_epochs):\n",
    "            epoch_loss = 0.0\n",
    "            for batch in range(n_batches):\n",
    "                X_batch, Y_batch = batch_func(batch_size)\n",
    "                feed_dict = {x: X_batch, y: Y_batch}\n",
    "                _, batch_loss = tfs.run([optimizer, loss], feed_dict)\n",
    "                epoch_loss += batch_loss\n",
    "            average_loss = epoch_loss / n_batches\n",
    "            print(\"epoch: {0:04d}   loss = {1:0.6f}\".format(\n",
    "                epoch, average_loss))\n",
    "        feed_dict = {x: X_test, y: Y_test}\n",
    "        accuracy_score = tfs.run(accuracy_function, feed_dict=feed_dict)\n",
    "        print(\"accuracy={0:.8f}\".format(accuracy_score))"
   ]
  },
  {
   "cell_type": "code",
   "execution_count": 8,
   "metadata": {},
   "outputs": [],
   "source": [
    "tf.reset_default_graph()"
   ]
  },
  {
   "cell_type": "code",
   "execution_count": 9,
   "metadata": {
    "scrolled": false
   },
   "outputs": [
    {
     "name": "stdout",
     "output_type": "stream",
     "text": [
      "WARNING:tensorflow:From <ipython-input-9-d531aa8ea8fb>:21: softmax_cross_entropy_with_logits (from tensorflow.python.ops.nn_ops) is deprecated and will be removed in a future version.\n",
      "Instructions for updating:\n",
      "\n",
      "Future major versions of TensorFlow will allow gradients to flow\n",
      "into the labels input on backprop by default.\n",
      "\n",
      "See `tf.nn.softmax_cross_entropy_with_logits_v2`.\n",
      "\n",
      "epoch: 0000   loss = 11.048409\n",
      "epoch: 0001   loss = 5.183520\n",
      "epoch: 0002   loss = 3.439295\n",
      "epoch: 0003   loss = 2.640733\n",
      "epoch: 0004   loss = 2.193117\n",
      "epoch: 0005   loss = 1.906528\n",
      "epoch: 0006   loss = 1.706867\n",
      "epoch: 0007   loss = 1.560023\n",
      "epoch: 0008   loss = 1.446863\n",
      "epoch: 0009   loss = 1.357087\n",
      "epoch: 0010   loss = 1.284131\n",
      "epoch: 0011   loss = 1.223282\n",
      "epoch: 0012   loss = 1.171786\n",
      "epoch: 0013   loss = 1.127435\n",
      "epoch: 0014   loss = 1.088694\n",
      "epoch: 0015   loss = 1.054394\n",
      "epoch: 0016   loss = 1.024117\n",
      "epoch: 0017   loss = 0.996739\n",
      "epoch: 0018   loss = 0.972155\n",
      "epoch: 0019   loss = 0.949581\n",
      "epoch: 0020   loss = 0.929112\n",
      "epoch: 0021   loss = 0.910026\n",
      "epoch: 0022   loss = 0.892642\n",
      "epoch: 0023   loss = 0.876412\n",
      "epoch: 0024   loss = 0.861330\n",
      "epoch: 0025   loss = 0.847167\n",
      "epoch: 0026   loss = 0.834127\n",
      "epoch: 0027   loss = 0.821620\n",
      "epoch: 0028   loss = 0.810050\n",
      "epoch: 0029   loss = 0.799005\n",
      "epoch: 0030   loss = 0.788582\n",
      "epoch: 0031   loss = 0.778803\n",
      "epoch: 0032   loss = 0.769376\n",
      "epoch: 0033   loss = 0.760458\n",
      "epoch: 0034   loss = 0.752036\n",
      "epoch: 0035   loss = 0.743902\n",
      "epoch: 0036   loss = 0.736161\n",
      "epoch: 0037   loss = 0.728811\n",
      "epoch: 0038   loss = 0.721776\n",
      "epoch: 0039   loss = 0.714909\n",
      "epoch: 0040   loss = 0.708429\n",
      "epoch: 0041   loss = 0.702066\n",
      "epoch: 0042   loss = 0.696057\n",
      "epoch: 0043   loss = 0.690321\n",
      "epoch: 0044   loss = 0.684684\n",
      "epoch: 0045   loss = 0.679243\n",
      "epoch: 0046   loss = 0.673887\n",
      "epoch: 0047   loss = 0.668985\n",
      "epoch: 0048   loss = 0.664044\n",
      "epoch: 0049   loss = 0.659250\n",
      "accuracy=0.85650003\n"
     ]
    }
   ],
   "source": [
    "num_layers = 0\n",
    "num_neurons = []\n",
    "learning_rate = 0.01\n",
    "n_epochs = 50\n",
    "batch_size = 100\n",
    "n_batches = int(mnist.train.num_examples / batch_size)\n",
    "\n",
    "# input images\n",
    "x = tf.placeholder(dtype=tf.float32, name=\"x\", shape=[None, num_inputs])\n",
    "# target output\n",
    "y = tf.placeholder(dtype=tf.float32, name=\"y\", shape=[None, num_outputs])\n",
    "\n",
    "model = mlp(x=x,\n",
    "            num_inputs=num_inputs,\n",
    "            num_outputs=num_outputs,\n",
    "            num_layers=num_layers,\n",
    "            num_neurons=num_neurons)\n",
    "\n",
    "# loss function\n",
    "loss = tf.reduce_mean(\n",
    "    tf.nn.softmax_cross_entropy_with_logits(logits=model, labels=y))\n",
    "# optimizer function\n",
    "optimizer = tf.train.GradientDescentOptimizer(\n",
    "    learning_rate=learning_rate).minimize(loss)\n",
    "\n",
    "predictions_check = tf.equal(tf.argmax(model, 1), tf.argmax(y, 1))\n",
    "accuracy_function = tf.reduce_mean(tf.cast(predictions_check, tf.float32))\n",
    "\n",
    "tensorflow_classification(n_epochs=n_epochs,\n",
    "                          n_batches=n_batches,\n",
    "                          batch_size=batch_size,\n",
    "                          batch_func=mnist_batch_func,\n",
    "                          model=model,\n",
    "                          optimizer=optimizer,\n",
    "                          loss=loss,\n",
    "                          accuracy_function=accuracy_function,\n",
    "                          X_test=mnist.test.images,\n",
    "                          Y_test=mnist.test.labels\n",
    "                          )"
   ]
  },
  {
   "cell_type": "code",
   "execution_count": 10,
   "metadata": {},
   "outputs": [],
   "source": [
    "tf.reset_default_graph()"
   ]
  },
  {
   "cell_type": "code",
   "execution_count": 11,
   "metadata": {},
   "outputs": [
    {
     "name": "stdout",
     "output_type": "stream",
     "text": [
      "epoch: 0000   loss = 4.013396\n",
      "epoch: 0001   loss = 2.302745\n",
      "epoch: 0002   loss = 2.156557\n",
      "epoch: 0003   loss = 2.079378\n",
      "epoch: 0004   loss = 2.026683\n",
      "epoch: 0005   loss = 1.987903\n",
      "epoch: 0006   loss = 1.958130\n",
      "epoch: 0007   loss = 1.932892\n",
      "epoch: 0008   loss = 1.909715\n",
      "epoch: 0009   loss = 1.887257\n",
      "epoch: 0010   loss = 1.865864\n",
      "epoch: 0011   loss = 1.844288\n",
      "epoch: 0012   loss = 1.823081\n",
      "epoch: 0013   loss = 1.801307\n",
      "epoch: 0014   loss = 1.778486\n",
      "epoch: 0015   loss = 1.754043\n",
      "epoch: 0016   loss = 1.726848\n",
      "epoch: 0017   loss = 1.695823\n",
      "epoch: 0018   loss = 1.662781\n",
      "epoch: 0019   loss = 1.630441\n",
      "epoch: 0020   loss = 1.598397\n",
      "epoch: 0021   loss = 1.568061\n",
      "epoch: 0022   loss = 1.537702\n",
      "epoch: 0023   loss = 1.508838\n",
      "epoch: 0024   loss = 1.480578\n",
      "epoch: 0025   loss = 1.452838\n",
      "epoch: 0026   loss = 1.426458\n",
      "epoch: 0027   loss = 1.400067\n",
      "epoch: 0028   loss = 1.375169\n",
      "epoch: 0029   loss = 1.351013\n",
      "epoch: 0030   loss = 1.326956\n",
      "epoch: 0031   loss = 1.303237\n",
      "epoch: 0032   loss = 1.281651\n",
      "epoch: 0033   loss = 1.259432\n",
      "epoch: 0034   loss = 1.238814\n",
      "epoch: 0035   loss = 1.218468\n",
      "epoch: 0036   loss = 1.198567\n",
      "epoch: 0037   loss = 1.179669\n",
      "epoch: 0038   loss = 1.161184\n",
      "epoch: 0039   loss = 1.145037\n",
      "epoch: 0040   loss = 1.129737\n",
      "epoch: 0041   loss = 1.114725\n",
      "epoch: 0042   loss = 1.101283\n",
      "epoch: 0043   loss = 1.088011\n",
      "epoch: 0044   loss = 1.076294\n",
      "epoch: 0045   loss = 1.065239\n",
      "epoch: 0046   loss = 1.054565\n",
      "epoch: 0047   loss = 1.045264\n",
      "epoch: 0048   loss = 1.035671\n",
      "epoch: 0049   loss = 1.027042\n",
      "accuracy=0.65469998\n"
     ]
    }
   ],
   "source": [
    "num_layers = 1 \n",
    "num_neurons = []\n",
    "for i in range(num_layers):\n",
    "    num_neurons.append(8)\n",
    "    \n",
    "learning_rate = 0.01\n",
    "n_epochs = 50\n",
    "batch_size = 100\n",
    "n_batches = int(mnist.train.num_examples/batch_size)\n",
    "\n",
    "# input images\n",
    "x = tf.placeholder(dtype=tf.float32, name=\"x\", shape=[None, num_inputs]) \n",
    "# target output\n",
    "y = tf.placeholder(dtype=tf.float32, name=\"y\", shape=[None, num_outputs]) \n",
    "\n",
    "model = mlp(x=x, \n",
    "            num_inputs=num_inputs, \n",
    "            num_outputs=num_outputs, \n",
    "            num_layers=num_layers, \n",
    "            num_neurons=num_neurons)\n",
    "\n",
    "# loss function\n",
    "#loss = tf.reduce_mean(-tf.reduce_sum(y * tf.log(model), axis=1))\n",
    "loss = tf.reduce_mean(tf.nn.softmax_cross_entropy_with_logits(logits=model, labels=y))\n",
    "# optimizer function\n",
    "optimizer = tf.train.GradientDescentOptimizer(learning_rate=learning_rate).minimize(loss)\n",
    "predictions_check = tf.equal(tf.argmax(model,1), tf.argmax(y,1))\n",
    "accuracy_function = tf.reduce_mean(tf.cast(predictions_check, tf.float32))\n",
    "\n",
    "tensorflow_classification(n_epochs=n_epochs, \n",
    "                          n_batches=n_batches, \n",
    "                          batch_size=batch_size, \n",
    "                          batch_func=mnist_batch_func, \n",
    "                          model = model, \n",
    "                          optimizer = optimizer, \n",
    "                          loss = loss, \n",
    "                          accuracy_function = accuracy_function, \n",
    "                          X_test = mnist.test.images, \n",
    "                          Y_test = mnist.test.labels\n",
    "                         )"
   ]
  },
  {
   "cell_type": "code",
   "execution_count": 12,
   "metadata": {},
   "outputs": [],
   "source": [
    "tf.reset_default_graph()"
   ]
  },
  {
   "cell_type": "code",
   "execution_count": 13,
   "metadata": {},
   "outputs": [
    {
     "name": "stdout",
     "output_type": "stream",
     "text": [
      "epoch: 0000   loss = 60.361289\n",
      "epoch: 0001   loss = 13.019150\n",
      "epoch: 0002   loss = 8.053316\n",
      "epoch: 0003   loss = 5.666510\n",
      "epoch: 0004   loss = 4.276411\n",
      "epoch: 0005   loss = 3.376717\n",
      "epoch: 0006   loss = 2.715352\n",
      "epoch: 0007   loss = 2.202647\n",
      "epoch: 0008   loss = 1.851583\n",
      "epoch: 0009   loss = 1.539788\n",
      "epoch: 0010   loss = 1.315987\n",
      "epoch: 0011   loss = 1.089433\n",
      "epoch: 0012   loss = 0.937370\n",
      "epoch: 0013   loss = 0.807009\n",
      "epoch: 0014   loss = 0.703406\n",
      "epoch: 0015   loss = 0.614633\n",
      "epoch: 0016   loss = 0.519920\n",
      "epoch: 0017   loss = 0.460075\n",
      "epoch: 0018   loss = 0.402827\n",
      "epoch: 0019   loss = 0.347191\n",
      "epoch: 0020   loss = 0.291785\n",
      "epoch: 0021   loss = 0.259045\n",
      "epoch: 0022   loss = 0.223607\n",
      "epoch: 0023   loss = 0.195840\n",
      "epoch: 0024   loss = 0.165532\n",
      "epoch: 0025   loss = 0.147145\n",
      "epoch: 0026   loss = 0.121334\n",
      "epoch: 0027   loss = 0.107570\n",
      "epoch: 0028   loss = 0.095601\n",
      "epoch: 0029   loss = 0.080596\n",
      "epoch: 0030   loss = 0.067154\n",
      "epoch: 0031   loss = 0.059556\n",
      "epoch: 0032   loss = 0.045005\n",
      "epoch: 0033   loss = 0.043968\n",
      "epoch: 0034   loss = 0.029505\n",
      "epoch: 0035   loss = 0.027806\n",
      "epoch: 0036   loss = 0.022059\n",
      "epoch: 0037   loss = 0.017570\n",
      "epoch: 0038   loss = 0.014728\n",
      "epoch: 0039   loss = 0.009909\n",
      "epoch: 0040   loss = 0.009120\n",
      "epoch: 0041   loss = 0.006349\n",
      "epoch: 0042   loss = 0.005095\n",
      "epoch: 0043   loss = 0.004169\n",
      "epoch: 0044   loss = 0.003566\n",
      "epoch: 0045   loss = 0.002653\n",
      "epoch: 0046   loss = 0.001833\n",
      "epoch: 0047   loss = 0.001530\n",
      "epoch: 0048   loss = 0.001023\n",
      "epoch: 0049   loss = 0.000331\n",
      "accuracy=0.93010002\n"
     ]
    }
   ],
   "source": [
    "num_layers = 2\n",
    "num_neurons = []\n",
    "for i in range(num_layers):\n",
    "    num_neurons.append(256)\n",
    "    \n",
    "learning_rate = 0.01\n",
    "n_epochs = 50\n",
    "batch_size = 100\n",
    "n_batches = int(mnist.train.num_examples/batch_size)\n",
    "\n",
    "# input images\n",
    "x = tf.placeholder(dtype=tf.float32, name=\"x\", shape=[None, num_inputs]) \n",
    "# target output\n",
    "y = tf.placeholder(dtype=tf.float32, name=\"y\", shape=[None, num_outputs]) \n",
    "\n",
    "model = mlp(x=x, \n",
    "            num_inputs=num_inputs, \n",
    "            num_outputs=num_outputs, \n",
    "            num_layers=num_layers, \n",
    "            num_neurons=num_neurons)\n",
    "\n",
    "# loss function\n",
    "#loss = tf.reduce_mean(-tf.reduce_sum(y * tf.log(model), axis=1))\n",
    "loss = tf.reduce_mean(tf.nn.softmax_cross_entropy_with_logits(logits=model, \n",
    "                                                              labels=y))\n",
    "# optimizer function\n",
    "optimizer = tf.train.GradientDescentOptimizer(learning_rate=learning_rate).minimize(loss)\n",
    "\n",
    "predictions_check = tf.equal(tf.argmax(model,1), tf.argmax(y,1))\n",
    "accuracy_function = tf.reduce_mean(tf.cast(predictions_check, tf.float32))\n",
    "\n",
    "tensorflow_classification(n_epochs=n_epochs, \n",
    "                          n_batches=n_batches, \n",
    "                          batch_size=batch_size, \n",
    "                          batch_func=mnist_batch_func, \n",
    "                          model = model, \n",
    "                          optimizer = optimizer, \n",
    "                          loss = loss, \n",
    "                          accuracy_function = accuracy_function, \n",
    "                          X_test = mnist.test.images, \n",
    "                          Y_test = mnist.test.labels\n",
    "                         )"
   ]
  },
  {
   "cell_type": "markdown",
   "metadata": {},
   "source": [
    "## MLP in Keras\n"
   ]
  },
  {
   "cell_type": "code",
   "execution_count": 14,
   "metadata": {},
   "outputs": [],
   "source": [
    "import keras\n",
    "from keras.models import Sequential\n",
    "from keras.layers import Dense\n",
    "from keras.optimizers import SGD"
   ]
  },
  {
   "cell_type": "code",
   "execution_count": 15,
   "metadata": {},
   "outputs": [],
   "source": [
    "tf.reset_default_graph()\n",
    "keras.backend.clear_session()"
   ]
  },
  {
   "cell_type": "code",
   "execution_count": 16,
   "metadata": {},
   "outputs": [
    {
     "name": "stdout",
     "output_type": "stream",
     "text": [
      "_________________________________________________________________\n",
      "Layer (type)                 Output Shape              Param #   \n",
      "=================================================================\n",
      "dense_1 (Dense)              (None, 256)               200960    \n",
      "_________________________________________________________________\n",
      "dense_2 (Dense)              (None, 256)               65792     \n",
      "_________________________________________________________________\n",
      "dense_3 (Dense)              (None, 10)                2570      \n",
      "=================================================================\n",
      "Total params: 269,322\n",
      "Trainable params: 269,322\n",
      "Non-trainable params: 0\n",
      "_________________________________________________________________\n",
      "Epoch 1/50\n",
      "55000/55000 [==============================] - 2s 33us/step - loss: 1.0688 - acc: 0.7467\n",
      "Epoch 2/50\n",
      "55000/55000 [==============================] - 2s 29us/step - loss: 0.4358 - acc: 0.8813\n",
      "Epoch 3/50\n",
      "55000/55000 [==============================] - 2s 29us/step - loss: 0.3535 - acc: 0.9003\n",
      "Epoch 4/50\n",
      "55000/55000 [==============================] - 2s 29us/step - loss: 0.3147 - acc: 0.9103\n",
      "Epoch 5/50\n",
      "55000/55000 [==============================] - 2s 29us/step - loss: 0.2888 - acc: 0.9180\n",
      "Epoch 6/50\n",
      "55000/55000 [==============================] - 2s 29us/step - loss: 0.2689 - acc: 0.9238\n",
      "Epoch 7/50\n",
      "55000/55000 [==============================] - 2s 29us/step - loss: 0.2526 - acc: 0.9279\n",
      "Epoch 8/50\n",
      "55000/55000 [==============================] - 2s 29us/step - loss: 0.2385 - acc: 0.9323\n",
      "Epoch 9/50\n",
      "55000/55000 [==============================] - 2s 29us/step - loss: 0.2255 - acc: 0.9355\n",
      "Epoch 10/50\n",
      "55000/55000 [==============================] - 2s 29us/step - loss: 0.2142 - acc: 0.9391\n",
      "Epoch 11/50\n",
      "55000/55000 [==============================] - 2s 29us/step - loss: 0.2039 - acc: 0.9419\n",
      "Epoch 12/50\n",
      "55000/55000 [==============================] - 2s 29us/step - loss: 0.1946 - acc: 0.9452\n",
      "Epoch 13/50\n",
      "55000/55000 [==============================] - 2s 29us/step - loss: 0.1857 - acc: 0.9474\n",
      "Epoch 14/50\n",
      "55000/55000 [==============================] - 2s 29us/step - loss: 0.1780 - acc: 0.9498\n",
      "Epoch 15/50\n",
      "55000/55000 [==============================] - 2s 29us/step - loss: 0.1705 - acc: 0.9516\n",
      "Epoch 16/50\n",
      "55000/55000 [==============================] - 2s 29us/step - loss: 0.1635 - acc: 0.9537\n",
      "Epoch 17/50\n",
      "55000/55000 [==============================] - 2s 29us/step - loss: 0.1570 - acc: 0.9551\n",
      "Epoch 18/50\n",
      "55000/55000 [==============================] - 2s 29us/step - loss: 0.1511 - acc: 0.9572\n",
      "Epoch 19/50\n",
      "55000/55000 [==============================] - 2s 29us/step - loss: 0.1455 - acc: 0.9588\n",
      "Epoch 20/50\n",
      "55000/55000 [==============================] - 2s 29us/step - loss: 0.1401 - acc: 0.9604\n",
      "Epoch 21/50\n",
      "55000/55000 [==============================] - 2s 29us/step - loss: 0.1351 - acc: 0.9615\n",
      "Epoch 22/50\n",
      "55000/55000 [==============================] - 2s 29us/step - loss: 0.1306 - acc: 0.9632\n",
      "Epoch 23/50\n",
      "55000/55000 [==============================] - 2s 29us/step - loss: 0.1265 - acc: 0.9647\n",
      "Epoch 24/50\n",
      "55000/55000 [==============================] - 2s 29us/step - loss: 0.1220 - acc: 0.9663\n",
      "Epoch 25/50\n",
      "55000/55000 [==============================] - 2s 29us/step - loss: 0.1183 - acc: 0.9673\n",
      "Epoch 26/50\n",
      "55000/55000 [==============================] - 2s 29us/step - loss: 0.1145 - acc: 0.9683\n",
      "Epoch 27/50\n",
      "55000/55000 [==============================] - 2s 29us/step - loss: 0.1110 - acc: 0.9692\n",
      "Epoch 28/50\n",
      "55000/55000 [==============================] - 2s 29us/step - loss: 0.1077 - acc: 0.9697\n",
      "Epoch 29/50\n",
      "55000/55000 [==============================] - 2s 29us/step - loss: 0.1046 - acc: 0.9711\n",
      "Epoch 30/50\n",
      "55000/55000 [==============================] - 2s 29us/step - loss: 0.1014 - acc: 0.9720\n",
      "Epoch 31/50\n",
      "55000/55000 [==============================] - 2s 29us/step - loss: 0.0986 - acc: 0.9726\n",
      "Epoch 32/50\n",
      "55000/55000 [==============================] - 2s 29us/step - loss: 0.0960 - acc: 0.9734\n",
      "Epoch 33/50\n",
      "55000/55000 [==============================] - 2s 29us/step - loss: 0.0932 - acc: 0.9742\n",
      "Epoch 34/50\n",
      "55000/55000 [==============================] - 2s 29us/step - loss: 0.0907 - acc: 0.9746\n",
      "Epoch 35/50\n",
      "55000/55000 [==============================] - 2s 29us/step - loss: 0.0883 - acc: 0.9755\n",
      "Epoch 36/50\n",
      "55000/55000 [==============================] - 2s 29us/step - loss: 0.0860 - acc: 0.9760\n",
      "Epoch 37/50\n",
      "55000/55000 [==============================] - 2s 29us/step - loss: 0.0837 - acc: 0.9770\n",
      "Epoch 38/50\n",
      "55000/55000 [==============================] - 2s 29us/step - loss: 0.0816 - acc: 0.9775\n",
      "Epoch 39/50\n",
      "55000/55000 [==============================] - 2s 29us/step - loss: 0.0795 - acc: 0.9781\n",
      "Epoch 40/50\n",
      "55000/55000 [==============================] - 2s 29us/step - loss: 0.0776 - acc: 0.9787\n",
      "Epoch 41/50\n",
      "55000/55000 [==============================] - 2s 29us/step - loss: 0.0756 - acc: 0.9793\n",
      "Epoch 42/50\n",
      "55000/55000 [==============================] - 2s 29us/step - loss: 0.0736 - acc: 0.9803\n",
      "Epoch 43/50\n",
      "55000/55000 [==============================] - 2s 29us/step - loss: 0.0719 - acc: 0.9804\n",
      "Epoch 44/50\n",
      "55000/55000 [==============================] - 2s 29us/step - loss: 0.0704 - acc: 0.9809\n",
      "Epoch 45/50\n",
      "55000/55000 [==============================] - 2s 29us/step - loss: 0.0687 - acc: 0.9813\n",
      "Epoch 46/50\n",
      "55000/55000 [==============================] - 2s 29us/step - loss: 0.0671 - acc: 0.9820\n",
      "Epoch 47/50\n",
      "55000/55000 [==============================] - 2s 29us/step - loss: 0.0656 - acc: 0.9824\n",
      "Epoch 48/50\n",
      "55000/55000 [==============================] - 2s 29us/step - loss: 0.0642 - acc: 0.9829\n",
      "Epoch 49/50\n",
      "55000/55000 [==============================] - 2s 29us/step - loss: 0.0626 - acc: 0.9836\n",
      "Epoch 50/50\n",
      "55000/55000 [==============================] - 2s 29us/step - loss: 0.0613 - acc: 0.9837\n",
      "10000/10000 [==============================] - 0s 39us/step\n",
      "\n",
      "Test loss: 0.08513145596710965\n",
      "Test accuracy: 0.9732\n"
     ]
    }
   ],
   "source": [
    "num_layers = 2\n",
    "num_neurons = []\n",
    "for i in range(num_layers):\n",
    "    num_neurons.append(256)\n",
    "    \n",
    "learning_rate = 0.01\n",
    "n_epochs = 50\n",
    "batch_size = 100\n",
    "\n",
    "model = Sequential()\n",
    "model.add(Dense(units=num_neurons[0], activation='relu', \n",
    "                input_shape=(num_inputs,)))\n",
    "model.add(Dense(units=num_neurons[1], activation='relu'))\n",
    "model.add(Dense(units=num_outputs, activation='softmax'))\n",
    "model.summary()\n",
    "\n",
    "model.compile(loss='categorical_crossentropy',\n",
    "              optimizer=SGD(lr=learning_rate),\n",
    "              metrics=['accuracy'])\n",
    "\n",
    "model.fit(X_train, Y_train,\n",
    "                    batch_size=batch_size,\n",
    "                    epochs=n_epochs)\n",
    "\n",
    "score = model.evaluate(X_test, Y_test)\n",
    "print('\\nTest loss:', score[0])\n",
    "print('Test accuracy:', score[1])"
   ]
  },
  {
   "cell_type": "markdown",
   "metadata": {},
   "source": [
    "## MLP in TFLearn"
   ]
  },
  {
   "cell_type": "code",
   "execution_count": 17,
   "metadata": {},
   "outputs": [],
   "source": [
    "import tflearn"
   ]
  },
  {
   "cell_type": "code",
   "execution_count": 18,
   "metadata": {},
   "outputs": [],
   "source": [
    "tf.reset_default_graph()"
   ]
  },
  {
   "cell_type": "code",
   "execution_count": 19,
   "metadata": {},
   "outputs": [
    {
     "name": "stdout",
     "output_type": "stream",
     "text": [
      "Training Step: 27499  | total loss: \u001b[1m\u001b[32m0.10560\u001b[0m\u001b[0m | time: 2.677s\n",
      "| SGD | epoch: 050 | loss: 0.10560 - acc: 0.9730 -- iter: 54900/55000\n",
      "Training Step: 27500  | total loss: \u001b[1m\u001b[32m0.10170\u001b[0m\u001b[0m | time: 2.682s\n",
      "| SGD | epoch: 050 | loss: 0.10170 - acc: 0.9737 -- iter: 55000/55000\n",
      "--\n",
      "Test accuracy: 0.966\n"
     ]
    }
   ],
   "source": [
    "num_layers = 2\n",
    "num_neurons = []\n",
    "for i in range(num_layers):\n",
    "    num_neurons.append(256)\n",
    "    \n",
    "learning_rate = 0.01\n",
    "n_epochs = 50\n",
    "batch_size = 100\n",
    "\n",
    "# Build deep neural network\n",
    "input_layer = tflearn.input_data(shape=[None, num_inputs])\n",
    "dense1 = tflearn.fully_connected(input_layer, num_neurons[0], activation='relu')\n",
    "dense2 = tflearn.fully_connected(dense1, num_neurons[1], activation='relu')\n",
    "softmax = tflearn.fully_connected(dense2, num_outputs, activation='softmax')\n",
    "\n",
    "optimizer = tflearn.SGD(learning_rate=learning_rate)\n",
    "net = tflearn.regression(softmax, optimizer=optimizer, \n",
    "                         metric=tflearn.metrics.Accuracy(), \n",
    "                         loss='categorical_crossentropy')\n",
    "model = tflearn.DNN(net)\n",
    "\n",
    "model.fit(X_train, Y_train, \n",
    "          n_epoch=n_epochs, batch_size=batch_size, \n",
    "          show_metric=True, run_id='dense_model')\n",
    "\n",
    "score = model.evaluate(X_test, Y_test)\n",
    "print('Test accuracy:', score[0])"
   ]
  },
  {
   "cell_type": "markdown",
   "metadata": {},
   "source": [
    "# TimeSeries Data - MLP - Keras"
   ]
  },
  {
   "cell_type": "markdown",
   "metadata": {},
   "source": [
    "## Prepare the data"
   ]
  },
  {
   "cell_type": "code",
   "execution_count": 22,
   "metadata": {},
   "outputs": [
    {
     "data": {
      "text/plain": [
       "'/home/ubuntu/datasets'"
      ]
     },
     "execution_count": 22,
     "metadata": {},
     "output_type": "execute_result"
    }
   ],
   "source": [
    "datasetslib.datasets_root"
   ]
  },
  {
   "cell_type": "code",
   "execution_count": 23,
   "metadata": {},
   "outputs": [],
   "source": [
    "import os\n",
    "\n",
    "#dataframe = pd.read_csv(os.path.join(datasetslib.datasets_root, \n",
    "#                                     'ts-data', \n",
    "#                                     '../data/international-airline-passengers.csv'), \n",
    "#                        usecols=[1],header=0)\n",
    "\n",
    "dataframe = pd.read_csv('../data/international-airline-passengers.csv', \n",
    "                        usecols=[1],header=0)\n",
    "dataset = dataframe.values\n",
    "dataset = dataset.astype('float32')"
   ]
  },
  {
   "cell_type": "code",
   "execution_count": 24,
   "metadata": {},
   "outputs": [],
   "source": [
    "# normalize the dataset\n",
    "#scaler = skpp.MinMaxScaler(feature_range=(0, 1))\n",
    "#normalized_dataset = scaler.fit_transform(dataset)"
   ]
  },
  {
   "cell_type": "code",
   "execution_count": 25,
   "metadata": {},
   "outputs": [
    {
     "name": "stdout",
     "output_type": "stream",
     "text": [
      "97 48\n"
     ]
    }
   ],
   "source": [
    "# split into train and test sets\n",
    "train,test=dsu.train_test_split(dataset,train_size=0.67)\n",
    "print(len(train), len(test))"
   ]
  },
  {
   "cell_type": "code",
   "execution_count": 26,
   "metadata": {},
   "outputs": [],
   "source": [
    "# reshape into X=t-1,t and Y=t+1\n",
    "n_x=2\n",
    "n_y=1\n",
    "\n",
    "X_train, Y_train, X_test, Y_test = dsu.mvts_to_xy(train,test,n_x=n_x,n_y=n_y)"
   ]
  },
  {
   "cell_type": "markdown",
   "metadata": {},
   "source": [
    "## Build, Train and Evaluate the Model"
   ]
  },
  {
   "cell_type": "code",
   "execution_count": 27,
   "metadata": {},
   "outputs": [],
   "source": [
    "from keras.models import Sequential\n",
    "from keras.layers import Dense\n",
    "from keras.optimizers import SGD"
   ]
  },
  {
   "cell_type": "code",
   "execution_count": 30,
   "metadata": {},
   "outputs": [],
   "source": [
    "tf.reset_default_graph()\n",
    "keras.backend.clear_session()"
   ]
  },
  {
   "cell_type": "code",
   "execution_count": 34,
   "metadata": {},
   "outputs": [
    {
     "name": "stdout",
     "output_type": "stream",
     "text": [
      "(95, 2) (95, 1)\n"
     ]
    }
   ],
   "source": [
    "print(X_train.shape, Y_train.shape)"
   ]
  },
  {
   "cell_type": "code",
   "execution_count": 35,
   "metadata": {},
   "outputs": [],
   "source": [
    "num_layers = 2\n",
    "num_neurons = [8,8]\n",
    "n_epochs = 50\n",
    "batch_size = 2\n"
   ]
  },
  {
   "cell_type": "code",
   "execution_count": 36,
   "metadata": {},
   "outputs": [
    {
     "name": "stdout",
     "output_type": "stream",
     "text": [
      "_________________________________________________________________\n",
      "Layer (type)                 Output Shape              Param #   \n",
      "=================================================================\n",
      "dense_1 (Dense)              (None, 8)                 24        \n",
      "_________________________________________________________________\n",
      "dense_2 (Dense)              (None, 8)                 72        \n",
      "_________________________________________________________________\n",
      "dense_3 (Dense)              (None, 1)                 9         \n",
      "=================================================================\n",
      "Total params: 105\n",
      "Trainable params: 105\n",
      "Non-trainable params: 0\n",
      "_________________________________________________________________\n"
     ]
    }
   ],
   "source": [
    "model = Sequential()\n",
    "model.add(Dense(num_neurons[0], activation='relu', input_shape=(n_x,)))\n",
    "model.add(Dense(num_neurons[1], activation='relu'))\n",
    "model.add(Dense(units=1))\n",
    "model.summary()\n"
   ]
  },
  {
   "cell_type": "code",
   "execution_count": 37,
   "metadata": {},
   "outputs": [],
   "source": [
    "model.compile(loss='mse', optimizer='adam')\n"
   ]
  },
  {
   "cell_type": "code",
   "execution_count": 38,
   "metadata": {},
   "outputs": [
    {
     "name": "stdout",
     "output_type": "stream",
     "text": [
      "Epoch 1/50\n",
      "95/95 [==============================] - 0s 3ms/step - loss: 4577.3356\n",
      "Epoch 2/50\n",
      "95/95 [==============================] - 0s 1ms/step - loss: 1058.4142\n",
      "Epoch 3/50\n",
      "95/95 [==============================] - 0s 1ms/step - loss: 875.4335\n",
      "Epoch 4/50\n",
      "95/95 [==============================] - 0s 1ms/step - loss: 881.2437\n",
      "Epoch 5/50\n",
      "95/95 [==============================] - 0s 1ms/step - loss: 874.9052\n",
      "Epoch 6/50\n",
      "95/95 [==============================] - 0s 1ms/step - loss: 903.3823\n",
      "Epoch 7/50\n",
      "95/95 [==============================] - 0s 1ms/step - loss: 883.6966\n",
      "Epoch 8/50\n",
      "95/95 [==============================] - 0s 1ms/step - loss: 873.8367\n",
      "Epoch 9/50\n",
      "95/95 [==============================] - 0s 1ms/step - loss: 879.8582\n",
      "Epoch 10/50\n",
      "95/95 [==============================] - 0s 1ms/step - loss: 901.9072\n",
      "Epoch 11/50\n",
      "95/95 [==============================] - 0s 1ms/step - loss: 869.9791\n",
      "Epoch 12/50\n",
      "95/95 [==============================] - 0s 1ms/step - loss: 866.9299\n",
      "Epoch 13/50\n",
      "95/95 [==============================] - 0s 1ms/step - loss: 874.7663\n",
      "Epoch 14/50\n",
      "95/95 [==============================] - 0s 1ms/step - loss: 870.6680\n",
      "Epoch 15/50\n",
      "95/95 [==============================] - 0s 1ms/step - loss: 894.5557\n",
      "Epoch 16/50\n",
      "95/95 [==============================] - 0s 1ms/step - loss: 891.0526\n",
      "Epoch 17/50\n",
      "95/95 [==============================] - 0s 1ms/step - loss: 875.4671\n",
      "Epoch 18/50\n",
      "95/95 [==============================] - 0s 1ms/step - loss: 874.2580\n",
      "Epoch 19/50\n",
      "95/95 [==============================] - 0s 1ms/step - loss: 870.3371\n",
      "Epoch 20/50\n",
      "95/95 [==============================] - 0s 1ms/step - loss: 870.8474\n",
      "Epoch 21/50\n",
      "95/95 [==============================] - 0s 1ms/step - loss: 874.6894\n",
      "Epoch 22/50\n",
      "95/95 [==============================] - 0s 1ms/step - loss: 858.4862\n",
      "Epoch 23/50\n",
      "95/95 [==============================] - 0s 1ms/step - loss: 862.6190\n",
      "Epoch 24/50\n",
      "95/95 [==============================] - 0s 1ms/step - loss: 862.6613\n",
      "Epoch 25/50\n",
      "95/95 [==============================] - 0s 1ms/step - loss: 858.5857\n",
      "Epoch 26/50\n",
      "95/95 [==============================] - 0s 1ms/step - loss: 863.1449\n",
      "Epoch 27/50\n",
      "95/95 [==============================] - 0s 1ms/step - loss: 858.4270\n",
      "Epoch 28/50\n",
      "95/95 [==============================] - 0s 1ms/step - loss: 869.8944\n",
      "Epoch 29/50\n",
      "95/95 [==============================] - 0s 1ms/step - loss: 853.8085\n",
      "Epoch 30/50\n",
      "95/95 [==============================] - 0s 1ms/step - loss: 860.9571\n",
      "Epoch 31/50\n",
      "95/95 [==============================] - 0s 1ms/step - loss: 869.3100\n",
      "Epoch 32/50\n",
      "95/95 [==============================] - 0s 1ms/step - loss: 872.9801\n",
      "Epoch 33/50\n",
      "95/95 [==============================] - 0s 1ms/step - loss: 901.4173\n",
      "Epoch 34/50\n",
      "95/95 [==============================] - 0s 1ms/step - loss: 860.4810\n",
      "Epoch 35/50\n",
      "95/95 [==============================] - 0s 1ms/step - loss: 850.3086\n",
      "Epoch 36/50\n",
      "95/95 [==============================] - 0s 1ms/step - loss: 865.7914\n",
      "Epoch 37/50\n",
      "95/95 [==============================] - 0s 1ms/step - loss: 846.0098\n",
      "Epoch 38/50\n",
      "95/95 [==============================] - 0s 1ms/step - loss: 854.5768\n",
      "Epoch 39/50\n",
      "95/95 [==============================] - 0s 1ms/step - loss: 838.5475\n",
      "Epoch 40/50\n",
      "95/95 [==============================] - 0s 1ms/step - loss: 830.6143\n",
      "Epoch 41/50\n",
      "95/95 [==============================] - 0s 1ms/step - loss: 837.1533\n",
      "Epoch 42/50\n",
      "95/95 [==============================] - 0s 1ms/step - loss: 862.4028\n",
      "Epoch 43/50\n",
      "95/95 [==============================] - 0s 1ms/step - loss: 854.3760\n",
      "Epoch 44/50\n",
      "95/95 [==============================] - 0s 1ms/step - loss: 877.2154\n",
      "Epoch 45/50\n",
      "95/95 [==============================] - 0s 1ms/step - loss: 815.1968\n",
      "Epoch 46/50\n",
      "95/95 [==============================] - 0s 1ms/step - loss: 870.8316\n",
      "Epoch 47/50\n",
      "95/95 [==============================] - 0s 1ms/step - loss: 840.3366\n",
      "Epoch 48/50\n",
      "95/95 [==============================] - 0s 1ms/step - loss: 820.6991\n",
      "Epoch 49/50\n",
      "95/95 [==============================] - 0s 1ms/step - loss: 857.0484\n",
      "Epoch 50/50\n",
      "95/95 [==============================] - 0s 1ms/step - loss: 826.2052\n"
     ]
    },
    {
     "data": {
      "text/plain": [
       "<keras.callbacks.History at 0x7f71453fed68>"
      ]
     },
     "execution_count": 38,
     "metadata": {},
     "output_type": "execute_result"
    }
   ],
   "source": [
    "model.fit(X_train, Y_train,\n",
    "                    batch_size=batch_size,\n",
    "                    epochs=n_epochs)\n",
    "\n"
   ]
  },
  {
   "cell_type": "code",
   "execution_count": 39,
   "metadata": {},
   "outputs": [
    {
     "name": "stdout",
     "output_type": "stream",
     "text": [
      "(46, 2) (46, 1)\n"
     ]
    }
   ],
   "source": [
    "print(X_test.shape, Y_test.shape)"
   ]
  },
  {
   "cell_type": "code",
   "execution_count": 47,
   "metadata": {},
   "outputs": [],
   "source": [
    "# make predictions\n",
    "Y_train_pred = model.predict(X_train)\n",
    "Y_test_pred = model.predict(X_test)\n"
   ]
  },
  {
   "cell_type": "code",
   "execution_count": 48,
   "metadata": {},
   "outputs": [],
   "source": [
    "# shift train predictions for plotting\n",
    "Y_train_pred_plot = np.empty_like(dataset)\n",
    "Y_train_pred_plot[:, :] = np.nan\n",
    "Y_train_pred_plot[n_x-1:len(Y_train_pred)+n_x-1, :] = Y_train_pred\n"
   ]
  },
  {
   "cell_type": "code",
   "execution_count": 49,
   "metadata": {},
   "outputs": [],
   "source": [
    "# shift test predictions for plotting\n",
    "Y_test_pred_plot = np.empty_like(dataset)\n",
    "Y_test_pred_plot[:, :] = np.nan\n",
    "Y_test_pred_plot[len(Y_train_pred)+(n_x*2)-1:len(dataset)-1, :] = Y_test_pred\n"
   ]
  },
  {
   "cell_type": "code",
   "execution_count": 50,
   "metadata": {},
   "outputs": [
    {
     "data": {
      "image/png": "[encoded data removed]",
      "text/plain": [
       "<Figure size 432x288 with 1 Axes>"
      ]
     },
     "metadata": {},
     "output_type": "display_data"
    }
   ],
   "source": [
    "# plot baseline and predictions\n",
    "plt.plot(dataset,label='Original Data')\n",
    "plt.plot(Y_train_pred_plot,label='Y_train_pred')\n",
    "plt.plot(Y_test_pred_plot,label='Y_test_pred')\n",
    "plt.legend()\n",
    "plt.show()"
   ]
  },
  {
   "cell_type": "code",
   "execution_count": null,
   "metadata": {},
   "outputs": [],
   "source": []
  }
 ],
 "metadata": {
  "kernelspec": {
   "display_name": "Environment (conda_tensorflow_p36)",
   "language": "python",
   "name": "conda_tensorflow_p36"
  },
  "language_info": {
   "codemirror_mode": {
    "name": "ipython",
    "version": 3
   },
   "file_extension": ".py",
   "mimetype": "text/x-python",
   "name": "python",
   "nbconvert_exporter": "python",
   "pygments_lexer": "ipython3",
   "version": "3.6.5"
  },
  "toc": {
   "nav_menu": {},
   "number_sections": true,
   "sideBar": true,
   "skip_h1_title": false,
   "toc_cell": true,
   "toc_position": {},
   "toc_section_display": "block",
   "toc_window_display": true
  }
 },
 "nbformat": 4,
 "nbformat_minor": 2
}
