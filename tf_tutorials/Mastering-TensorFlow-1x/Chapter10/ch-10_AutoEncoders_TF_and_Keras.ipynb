{
 "cells": [
  {
   "cell_type": "markdown",
   "metadata": {
    "toc": true
   },
   "source": [
    "<h1>Table of Contents<span class=\"tocSkip\"></span></h1>\n",
    "<div class=\"toc\" style=\"margin-top: 1em;\"><ul class=\"toc-item\"></ul></div>"
   ]
  },
  {
   "cell_type": "markdown",
   "metadata": {},
   "source": [
    "# AutoEncoders <a class=\"tocSkip\">"
   ]
  },
  {
   "cell_type": "code",
   "execution_count": 1,
   "metadata": {},
   "outputs": [
    {
     "name": "stdout",
     "output_type": "stream",
     "text": [
      "NumPy:1.14.5\n",
      "Matplotlib:2.2.2\n",
      "TensorFlow:1.11.0\n",
      "Keras:2.2.4\n"
     ]
    },
    {
     "name": "stderr",
     "output_type": "stream",
     "text": [
      "Using TensorFlow backend.\n"
     ]
    }
   ],
   "source": [
    "import os\n",
    "\n",
    "import numpy as np\n",
    "np.random.seed(123)\n",
    "print(\"NumPy:{}\".format(np.__version__))\n",
    "\n",
    "import matplotlib as mpl\n",
    "import matplotlib.pyplot as plt\n",
    "from matplotlib.pylab import rcParams\n",
    "rcParams['figure.figsize']=15,10\n",
    "print(\"Matplotlib:{}\".format(mpl.__version__))\n",
    "\n",
    "import tensorflow as tf\n",
    "tf.set_random_seed(123)\n",
    "print(\"TensorFlow:{}\".format(tf.__version__))\n",
    "\n",
    "import keras\n",
    "print(\"Keras:{}\".format(keras.__version__))"
   ]
  },
  {
   "cell_type": "code",
   "execution_count": 2,
   "metadata": {},
   "outputs": [],
   "source": [
    "DATASETSLIB_HOME = '../datasetslib'\n",
    "import sys\n",
    "if not DATASETSLIB_HOME in sys.path:\n",
    "    sys.path.append(DATASETSLIB_HOME)\n",
    "%reload_ext autoreload\n",
    "%autoreload 2\n",
    "import datasetslib\n",
    "\n",
    "datasetslib.datasets_root = os.path.join(os.path.expanduser('~'),'datasets')"
   ]
  },
  {
   "cell_type": "markdown",
   "metadata": {},
   "source": [
    "# Get the MNIST data"
   ]
  },
  {
   "cell_type": "code",
   "execution_count": 3,
   "metadata": {},
   "outputs": [
    {
     "name": "stdout",
     "output_type": "stream",
     "text": [
      "WARNING:tensorflow:From <ipython-input-3-1e2d0f0cf4c9>:3: read_data_sets (from tensorflow.contrib.learn.python.learn.datasets.mnist) is deprecated and will be removed in a future version.\n",
      "Instructions for updating:\n",
      "Please use alternatives such as official/mnist/dataset.py from tensorflow/models.\n",
      "WARNING:tensorflow:From /home/ubuntu/anaconda3/envs/tensorflow_p36/lib/python3.6/site-packages/tensorflow/contrib/learn/python/learn/datasets/mnist.py:260: maybe_download (from tensorflow.contrib.learn.python.learn.datasets.base) is deprecated and will be removed in a future version.\n",
      "Instructions for updating:\n",
      "Please write your own downloading logic.\n",
      "WARNING:tensorflow:From /home/ubuntu/anaconda3/envs/tensorflow_p36/lib/python3.6/site-packages/tensorflow/contrib/learn/python/learn/datasets/mnist.py:262: extract_images (from tensorflow.contrib.learn.python.learn.datasets.mnist) is deprecated and will be removed in a future version.\n",
      "Instructions for updating:\n",
      "Please use tf.data to implement this functionality.\n",
      "Extracting /home/ubuntu/datasets/mnist/train-images-idx3-ubyte.gz\n",
      "WARNING:tensorflow:From /home/ubuntu/anaconda3/envs/tensorflow_p36/lib/python3.6/site-packages/tensorflow/contrib/learn/python/learn/datasets/mnist.py:267: extract_labels (from tensorflow.contrib.learn.python.learn.datasets.mnist) is deprecated and will be removed in a future version.\n",
      "Instructions for updating:\n",
      "Please use tf.data to implement this functionality.\n",
      "Extracting /home/ubuntu/datasets/mnist/train-labels-idx1-ubyte.gz\n",
      "Extracting /home/ubuntu/datasets/mnist/t10k-images-idx3-ubyte.gz\n",
      "Extracting /home/ubuntu/datasets/mnist/t10k-labels-idx1-ubyte.gz\n",
      "WARNING:tensorflow:From /home/ubuntu/anaconda3/envs/tensorflow_p36/lib/python3.6/site-packages/tensorflow/contrib/learn/python/learn/datasets/mnist.py:290: DataSet.__init__ (from tensorflow.contrib.learn.python.learn.datasets.mnist) is deprecated and will be removed in a future version.\n",
      "Instructions for updating:\n",
      "Please use alternatives such as official/mnist/dataset.py from tensorflow/models.\n"
     ]
    }
   ],
   "source": [
    "from tensorflow.examples.tutorials.mnist import input_data\n",
    "dataset_home = os.path.join(datasetslib.datasets_root,'mnist') \n",
    "mnist = input_data.read_data_sets(dataset_home,one_hot=False)\n",
    "\n",
    "X_train = mnist.train.images\n",
    "X_test = mnist.test.images\n",
    "Y_train = mnist.train.labels\n",
    "Y_test = mnist.test.labels\n",
    "\n",
    "pixel_size = 28 "
   ]
  },
  {
   "cell_type": "code",
   "execution_count": 4,
   "metadata": {},
   "outputs": [],
   "source": [
    "# Get four distinct images and labels from train and test data\n",
    "while True:\n",
    "    train_images,train_labels = mnist.train.next_batch(4)\n",
    "    if len(set(train_labels))==4:\n",
    "        break\n",
    "while True:\n",
    "    test_images,test_labels = mnist.test.next_batch(4)\n",
    "    if len(set(test_labels))==4:\n",
    "        break"
   ]
  },
  {
   "cell_type": "code",
   "execution_count": 5,
   "metadata": {},
   "outputs": [],
   "source": [
    "import random\n",
    "\n",
    "# Function to display the images and labels\n",
    "# images should be in NHW or NHWC format\n",
    "def display_images(images, labels, count=0, one_hot=False):\n",
    "    # if number of images to display is not provided, then display all the images\n",
    "    if (count==0):\n",
    "        count = images.shape[0]\n",
    "        \n",
    "    idx_list = random.sample(range(len(labels)),count)\n",
    "    for i in range(count):\n",
    "        plt.subplot(4, 4, i+1)\n",
    "        plt.title(labels[i])\n",
    "        plt.imshow(images[i])\n",
    "        plt.axis('off')\n",
    "    plt.tight_layout()\n",
    "    plt.show()"
   ]
  },
  {
   "cell_type": "markdown",
   "metadata": {},
   "source": [
    "# Simple AutoEncoder in TensorFlow"
   ]
  },
  {
   "cell_type": "code",
   "execution_count": 6,
   "metadata": {},
   "outputs": [],
   "source": [
    "# hyperparameters\n",
    "learning_rate = 0.001\n",
    "n_epochs = 20\n",
    "batch_size = 100\n",
    "n_batches = int(mnist.train.num_examples/batch_size)\n",
    "\n",
    "# number of pixels in the MNIST image as number of inputs\n",
    "n_inputs = 784\n",
    "n_outputs = n_inputs\n",
    "\n",
    "# input images\n",
    "x = tf.placeholder(dtype=tf.float32, name=\"x\", shape=[None, n_inputs]) \n",
    "# output images\n",
    "y = tf.placeholder(dtype=tf.float32, name=\"y\", shape=[None, n_outputs]) \n",
    "\n",
    "# number of hidden layers\n",
    "n_layers = 2\n",
    "# neurons in each hidden layer\n",
    "n_neurons = [512,256]\n",
    "# add decoder layers:\n",
    "n_neurons.extend(list(reversed(n_neurons)))\n",
    "n_layers = n_layers * 2\n",
    "\n",
    "# definew and b parameters\n",
    "w=[]\n",
    "b=[]\n",
    "\n",
    "for i in range(n_layers):\n",
    "    w.append(tf.Variable(tf.random_normal([n_inputs if i==0 else n_neurons[i-1],\n",
    "                                           n_neurons[i]]),\n",
    "                         name=\"w_{0:04d}\".format(i) \n",
    "                        )\n",
    "            ) \n",
    "    b.append(tf.Variable(tf.zeros([n_neurons[i]]),\n",
    "                         name=\"b_{0:04d}\".format(i) \n",
    "                        )\n",
    "            )                   \n",
    "w.append(tf.Variable(tf.random_normal([n_neurons[n_layers-1] if n_layers > 0 else n_inputs,\n",
    "                                       n_outputs]),\n",
    "                     name=\"w_out\"\n",
    "                    )\n",
    "        )\n",
    "b.append(tf.Variable(tf.zeros([n_outputs]),name=\"b_out\"))\n",
    "\n",
    "# x is input layer\n",
    "layer = x\n",
    "\n",
    "# add hidden layers\n",
    "for i in range(n_layers):\n",
    "    layer = tf.nn.sigmoid(tf.matmul(layer, w[i]) + b[i]) \n",
    "\n",
    "# add output layer\n",
    "layer = tf.nn.sigmoid(tf.matmul(layer, w[n_layers]) + b[n_layers])\n",
    "    \n",
    "model = layer\n",
    "\n",
    "mse = tf.losses.mean_squared_error\n",
    "loss = mse(predictions=model, labels=y)\n",
    "optimizer = tf.train.AdamOptimizer(learning_rate=learning_rate)\n",
    "optimizer = optimizer.minimize(loss)"
   ]
  },
  {
   "cell_type": "code",
   "execution_count": 7,
   "metadata": {},
   "outputs": [
    {
     "name": "stdout",
     "output_type": "stream",
     "text": [
      "epoch: 0000   loss = 0.156697\n",
      "epoch: 0009   loss = 0.091571\n",
      "epoch: 0019   loss = 0.079321\n"
     ]
    }
   ],
   "source": [
    "with tf.Session() as tfs:\n",
    "    tf.global_variables_initializer().run()\n",
    "    for epoch in range(n_epochs):\n",
    "        epoch_loss = 0.0\n",
    "        for batch in range(n_batches):\n",
    "            X_batch, _ = mnist.train.next_batch(batch_size)\n",
    "            feed_dict={x: X_batch,y: X_batch}\n",
    "            _,batch_loss = tfs.run([optimizer,loss], feed_dict)\n",
    "            epoch_loss += batch_loss \n",
    "        if (epoch%10==9) or (epoch==0):\n",
    "            average_loss = epoch_loss / n_batches\n",
    "            print('epoch: {0:04d}   loss = {1:0.6f}'\n",
    "                  .format(epoch,\n",
    "                          average_loss))\n",
    "\n",
    "    # predict images using trained autoencoder model            \n",
    "    Y_train_pred = tfs.run(model, feed_dict={x: train_images})\n",
    "    Y_test_pred = tfs.run(model, feed_dict={x: test_images})"
   ]
  },
  {
   "cell_type": "code",
   "execution_count": 8,
   "metadata": {
    "scrolled": true
   },
   "outputs": [
    {
     "data": {
      "image/png": "[encoded data removed]",
      "text/plain": [
       "<Figure size 432x288 with 4 Axes>"
      ]
     },
     "metadata": {},
     "output_type": "display_data"
    },
    {
     "data": {
      "image/png": "[encoded data removed]",
      "text/plain": [
       "<Figure size 432x288 with 4 Axes>"
      ]
     },
     "metadata": {},
     "output_type": "display_data"
    }
   ],
   "source": [
    "display_images(train_images.reshape(-1,pixel_size,pixel_size),train_labels)\n",
    "display_images(Y_train_pred.reshape(-1,pixel_size,pixel_size),train_labels)"
   ]
  },
  {
   "cell_type": "code",
   "execution_count": 9,
   "metadata": {},
   "outputs": [
    {
     "data": {
      "image/png": "[encoded data removed]",
      "text/plain": [
       "<Figure size 432x288 with 4 Axes>"
      ]
     },
     "metadata": {},
     "output_type": "display_data"
    },
    {
     "data": {
      "image/png": "[encoded data removed]",
      "text/plain": [
       "<Figure size 432x288 with 4 Axes>"
      ]
     },
     "metadata": {},
     "output_type": "display_data"
    }
   ],
   "source": [
    "display_images(test_images.reshape(-1,pixel_size,pixel_size),test_labels)\n",
    "display_images(Y_test_pred.reshape(-1,pixel_size,pixel_size),test_labels)"
   ]
  },
  {
   "cell_type": "markdown",
   "metadata": {
    "collapsed": true
   },
   "source": [
    "# Stacked AutoEncoder in Keras"
   ]
  },
  {
   "cell_type": "code",
   "execution_count": 10,
   "metadata": {},
   "outputs": [],
   "source": [
    "tf.reset_default_graph()\n",
    "keras.backend.clear_session()"
   ]
  },
  {
   "cell_type": "code",
   "execution_count": 11,
   "metadata": {},
   "outputs": [
    {
     "name": "stdout",
     "output_type": "stream",
     "text": [
      "_________________________________________________________________\n",
      "Layer (type)                 Output Shape              Param #   \n",
      "=================================================================\n",
      "dense_1 (Dense)              (None, 512)               401920    \n",
      "_________________________________________________________________\n",
      "dense_2 (Dense)              (None, 256)               131328    \n",
      "_________________________________________________________________\n",
      "dense_3 (Dense)              (None, 256)               65792     \n",
      "_________________________________________________________________\n",
      "dense_4 (Dense)              (None, 512)               131584    \n",
      "_________________________________________________________________\n",
      "dense_5 (Dense)              (None, 784)               402192    \n",
      "=================================================================\n",
      "Total params: 1,132,816\n",
      "Trainable params: 1,132,816\n",
      "Non-trainable params: 0\n",
      "_________________________________________________________________\n",
      "Epoch 1/20\n",
      "55000/55000 [==============================] - 4s 64us/step - loss: 0.0196 - acc: 0.0122\n",
      "Epoch 2/20\n",
      "55000/55000 [==============================] - 3s 56us/step - loss: 0.0087 - acc: 0.0133\n",
      "Epoch 3/20\n",
      "55000/55000 [==============================] - 3s 56us/step - loss: 0.0072 - acc: 0.0145\n",
      "Epoch 4/20\n",
      "55000/55000 [==============================] - 3s 56us/step - loss: 0.0063 - acc: 0.0144\n",
      "Epoch 5/20\n",
      "55000/55000 [==============================] - 3s 55us/step - loss: 0.0059 - acc: 0.0146\n",
      "Epoch 6/20\n",
      "55000/55000 [==============================] - 3s 55us/step - loss: 0.0055 - acc: 0.0155\n",
      "Epoch 7/20\n",
      "55000/55000 [==============================] - 3s 55us/step - loss: 0.0054 - acc: 0.0153\n",
      "Epoch 8/20\n",
      "55000/55000 [==============================] - 3s 55us/step - loss: 0.0051 - acc: 0.0160\n",
      "Epoch 9/20\n",
      "55000/55000 [==============================] - 3s 55us/step - loss: 0.0050 - acc: 0.0157\n",
      "Epoch 10/20\n",
      "55000/55000 [==============================] - 3s 55us/step - loss: 0.0049 - acc: 0.0153\n",
      "Epoch 11/20\n",
      "55000/55000 [==============================] - 3s 55us/step - loss: 0.0048 - acc: 0.0157\n",
      "Epoch 12/20\n",
      "55000/55000 [==============================] - 3s 55us/step - loss: 0.0047 - acc: 0.0158\n",
      "Epoch 13/20\n",
      "55000/55000 [==============================] - 3s 55us/step - loss: 0.0047 - acc: 0.0168\n",
      "Epoch 14/20\n",
      "55000/55000 [==============================] - 3s 55us/step - loss: 0.0045 - acc: 0.0163\n",
      "Epoch 15/20\n",
      "55000/55000 [==============================] - 3s 55us/step - loss: 0.0045 - acc: 0.0165\n",
      "Epoch 16/20\n",
      "55000/55000 [==============================] - 3s 55us/step - loss: 0.0045 - acc: 0.0167\n",
      "Epoch 17/20\n",
      "55000/55000 [==============================] - 3s 55us/step - loss: 0.0044 - acc: 0.0168\n",
      "Epoch 18/20\n",
      "55000/55000 [==============================] - 3s 55us/step - loss: 0.0044 - acc: 0.0163\n",
      "Epoch 19/20\n",
      "55000/55000 [==============================] - 3s 55us/step - loss: 0.0044 - acc: 0.0169\n",
      "Epoch 20/20\n",
      "55000/55000 [==============================] - 3s 55us/step - loss: 0.0043 - acc: 0.0171\n"
     ]
    }
   ],
   "source": [
    "import keras\n",
    "from keras.layers import Dense\n",
    "from keras.models import Sequential\n",
    "\n",
    "# hyperparameters\n",
    "learning_rate = 0.001\n",
    "n_epochs = 20\n",
    "batch_size = 100\n",
    "n_batches = int(mnist.train.num_examples/batch_size)\n",
    "\n",
    "# number of pixels in the MNIST image as number of inputs\n",
    "n_inputs = 784\n",
    "n_outputs = n_inputs\n",
    "\n",
    "# number of hidden layers\n",
    "n_layers = 2\n",
    "# neurons in each hidden layer\n",
    "n_neurons = [512,256]\n",
    "# add decoder layers:\n",
    "n_neurons.extend(list(reversed(n_neurons)))\n",
    "n_layers = n_layers * 2\n",
    "\n",
    "model = Sequential()\n",
    "\n",
    "# add input to first layer\n",
    "model.add(Dense(units=n_neurons[0], activation='relu', \n",
    "                input_shape=(n_inputs,)))\n",
    "\n",
    "for i in range(1,n_layers):\n",
    "    model.add(Dense(units=n_neurons[i], activation='relu'))\n",
    "    \n",
    "# add last layer as output layer\n",
    "model.add(Dense(units=n_outputs, activation='linear'))\n",
    "model.summary()\n",
    "\n",
    "model.compile(loss='mse',\n",
    "              optimizer=keras.optimizers.Adam(lr=learning_rate),\n",
    "              metrics=['accuracy'])\n",
    "\n",
    "model.fit(X_train, X_train,\n",
    "                    batch_size=batch_size,\n",
    "                    epochs=n_epochs)\n",
    "\n",
    "Y_train_pred = model.predict(train_images)\n",
    "Y_test_pred = model.predict(test_images)"
   ]
  },
  {
   "cell_type": "code",
   "execution_count": 12,
   "metadata": {},
   "outputs": [
    {
     "data": {
      "image/png": "[encoded data removed]",
      "text/plain": [
       "<Figure size 432x288 with 4 Axes>"
      ]
     },
     "metadata": {},
     "output_type": "display_data"
    },
    {
     "data": {
      "image/png": "[encoded data removed]",
      "text/plain": [
       "<Figure size 432x288 with 4 Axes>"
      ]
     },
     "metadata": {},
     "output_type": "display_data"
    }
   ],
   "source": [
    "display_images(train_images.reshape(-1,pixel_size,pixel_size),train_labels)\n",
    "display_images(Y_train_pred.reshape(-1,pixel_size,pixel_size),train_labels)"
   ]
  },
  {
   "cell_type": "code",
   "execution_count": 13,
   "metadata": {},
   "outputs": [
    {
     "data": {
      "image/png": "[encoded data removed]",
      "text/plain": [
       "<Figure size 432x288 with 4 Axes>"
      ]
     },
     "metadata": {},
     "output_type": "display_data"
    },
    {
     "data": {
      "image/png": "[encoded data removed]",
      "text/plain": [
       "<Figure size 432x288 with 4 Axes>"
      ]
     },
     "metadata": {},
     "output_type": "display_data"
    }
   ],
   "source": [
    "display_images(test_images.reshape(-1,pixel_size,pixel_size),test_labels)\n",
    "display_images(Y_test_pred.reshape(-1,pixel_size,pixel_size),test_labels)"
   ]
  },
  {
   "cell_type": "markdown",
   "metadata": {},
   "source": [
    "# Add noise to test images"
   ]
  },
  {
   "cell_type": "code",
   "execution_count": 14,
   "metadata": {},
   "outputs": [],
   "source": [
    "def add_noise(X):\n",
    "    return X + 0.5 * np.random.randn(X.shape[0],X.shape[1])"
   ]
  },
  {
   "cell_type": "code",
   "execution_count": 15,
   "metadata": {},
   "outputs": [],
   "source": [
    "test_images_noisy = add_noise(test_images)"
   ]
  },
  {
   "cell_type": "markdown",
   "metadata": {},
   "source": [
    "# Denoising AutoEncoder in TensorFlow"
   ]
  },
  {
   "cell_type": "code",
   "execution_count": 16,
   "metadata": {},
   "outputs": [],
   "source": [
    "tf.reset_default_graph()\n",
    "keras.backend.clear_session()"
   ]
  },
  {
   "cell_type": "code",
   "execution_count": 17,
   "metadata": {},
   "outputs": [],
   "source": [
    "# hyperparameters\n",
    "learning_rate = 0.001\n",
    "n_epochs = 20\n",
    "batch_size = 100\n",
    "n_batches = int(mnist.train.num_examples/batch_size)\n",
    "\n",
    "# number of pixels in the MNIST image as number of inputs\n",
    "n_inputs = 784\n",
    "n_outputs = n_inputs\n",
    "\n",
    "# input images\n",
    "x = tf.placeholder(dtype=tf.float32, name=\"x\", shape=[None, n_inputs]) \n",
    "\n",
    "# output images\n",
    "y = tf.placeholder(dtype=tf.float32, name=\"y\", shape=[None, n_outputs]) \n",
    "\n",
    "# number of hidden layers\n",
    "n_layers = 2\n",
    "# neurons in each hidden layer\n",
    "n_neurons = [512,256]\n",
    "\n",
    "# add decoder layers:\n",
    "n_neurons.extend(list(reversed(n_neurons)))\n",
    "n_layers = n_layers * 2\n",
    "\n",
    "w=[]\n",
    "b=[]\n",
    "\n",
    "for i in range(n_layers):\n",
    "    # weights\n",
    "    w.append(tf.Variable(tf.random_normal([n_inputs if i==0 else n_neurons[i-1],\n",
    "                                           n_neurons[i]]),\n",
    "                         name=\"w_{0:04d}\".format(i) \n",
    "                        )\n",
    "            ) \n",
    "    # biases\n",
    "    b.append(tf.Variable(tf.zeros([n_neurons[i]]),\n",
    "                         name=\"b_{0:04d}\".format(i) \n",
    "                        )\n",
    "            )                   \n",
    "w.append(tf.Variable(tf.random_normal([n_neurons[n_layers-1] if n_layers > 0 else n_inputs,\n",
    "                                       n_outputs]),\n",
    "                     name=\"w_out\"\n",
    "                    )\n",
    "        )\n",
    "b.append(tf.Variable(tf.zeros([n_outputs]),name=\"b_out\"))\n",
    "\n",
    "# x is input layer\n",
    "layer = x\n",
    "\n",
    "# add hidden layers\n",
    "for i in range(n_layers):\n",
    "    layer = tf.nn.sigmoid(tf.matmul(layer, w[i]) + b[i]) \n",
    "\n",
    "# add output layer\n",
    "layer = tf.nn.sigmoid(tf.matmul(layer, w[n_layers]) + b[n_layers])\n",
    "    \n",
    "model = layer\n",
    "\n",
    "mse=tf.losses.mean_squared_error\n",
    "loss = mse(predictions=model, labels=y)\n",
    "optimizer = tf.train.AdamOptimizer(learning_rate=learning_rate)\n",
    "optimizer = optimizer.minimize(loss)"
   ]
  },
  {
   "cell_type": "code",
   "execution_count": 18,
   "metadata": {},
   "outputs": [
    {
     "name": "stdout",
     "output_type": "stream",
     "text": [
      "epoch: 0000   loss = 0.153730\n",
      "epoch: 0009   loss = 0.109822\n",
      "epoch: 0019   loss = 0.098240\n",
      "epoch: 0029   loss = 0.092542\n",
      "epoch: 0039   loss = 0.087252\n",
      "epoch: 0049   loss = 0.084541\n",
      "epoch: 0059   loss = 0.082834\n",
      "epoch: 0069   loss = 0.081462\n",
      "epoch: 0079   loss = 0.080509\n",
      "epoch: 0089   loss = 0.079025\n",
      "epoch: 0099   loss = 0.078124\n"
     ]
    }
   ],
   "source": [
    "n_epochs = 100\n",
    "\n",
    "with tf.Session() as tfs:\n",
    "    tf.global_variables_initializer().run()\n",
    "    for epoch in range(n_epochs):\n",
    "        epoch_loss = 0.0\n",
    "        for batch in range(n_batches):\n",
    "            X_batch, _ = mnist.train.next_batch(batch_size)\n",
    "            X_batch_noisy = add_noise(X_batch)\n",
    "            feed_dict={x: X_batch_noisy, y: X_batch}\n",
    "            _,batch_loss = tfs.run([optimizer,loss], feed_dict=feed_dict)\n",
    "            epoch_loss += batch_loss \n",
    "        if (epoch%10==9) or (epoch==0):\n",
    "            average_loss = epoch_loss / n_batches\n",
    "            print('epoch: {0:04d}   loss = {1:0.6f}'\n",
    "                  .format(epoch,average_loss))\n",
    "            \n",
    "    Y_test_pred1 = tfs.run(model, feed_dict={x: test_images})\n",
    "    Y_test_pred2 = tfs.run(model, feed_dict={x: test_images_noisy})"
   ]
  },
  {
   "cell_type": "code",
   "execution_count": 19,
   "metadata": {},
   "outputs": [
    {
     "data": {
      "image/png": "[encoded data removed]",
      "text/plain": [
       "<Figure size 432x288 with 4 Axes>"
      ]
     },
     "metadata": {},
     "output_type": "display_data"
    },
    {
     "data": {
      "image/png": "[encoded data removed]",
      "text/plain": [
       "<Figure size 432x288 with 4 Axes>"
      ]
     },
     "metadata": {},
     "output_type": "display_data"
    }
   ],
   "source": [
    "display_images(test_images.reshape(-1,pixel_size,pixel_size),test_labels)\n",
    "display_images(Y_test_pred1.reshape(-1,pixel_size,pixel_size),test_labels)"
   ]
  },
  {
   "cell_type": "code",
   "execution_count": 20,
   "metadata": {},
   "outputs": [
    {
     "data": {
      "image/png": "[encoded data removed]",
      "text/plain": [
       "<Figure size 432x288 with 4 Axes>"
      ]
     },
     "metadata": {},
     "output_type": "display_data"
    },
    {
     "data": {
      "image/png": "[encoded data removed]",
      "text/plain": [
       "<Figure size 432x288 with 4 Axes>"
      ]
     },
     "metadata": {},
     "output_type": "display_data"
    }
   ],
   "source": [
    "display_images(test_images_noisy.reshape(-1,pixel_size,pixel_size),test_labels)\n",
    "display_images(Y_test_pred2.reshape(-1,pixel_size,pixel_size),test_labels)"
   ]
  },
  {
   "cell_type": "markdown",
   "metadata": {},
   "source": [
    "# Denoising AutoEncoder in Keras"
   ]
  },
  {
   "cell_type": "code",
   "execution_count": 21,
   "metadata": {},
   "outputs": [],
   "source": [
    "X_train_noisy = add_noise(X_train)"
   ]
  },
  {
   "cell_type": "code",
   "execution_count": 22,
   "metadata": {},
   "outputs": [],
   "source": [
    "tf.reset_default_graph()\n",
    "keras.backend.clear_session()"
   ]
  },
  {
   "cell_type": "code",
   "execution_count": 23,
   "metadata": {
    "scrolled": true
   },
   "outputs": [
    {
     "name": "stdout",
     "output_type": "stream",
     "text": [
      "_________________________________________________________________\n",
      "Layer (type)                 Output Shape              Param #   \n",
      "=================================================================\n",
      "dense_1 (Dense)              (None, 512)               401920    \n",
      "_________________________________________________________________\n",
      "dense_2 (Dense)              (None, 256)               131328    \n",
      "_________________________________________________________________\n",
      "dense_3 (Dense)              (None, 256)               65792     \n",
      "_________________________________________________________________\n",
      "dense_4 (Dense)              (None, 512)               131584    \n",
      "_________________________________________________________________\n",
      "dense_5 (Dense)              (None, 784)               402192    \n",
      "=================================================================\n",
      "Total params: 1,132,816\n",
      "Trainable params: 1,132,816\n",
      "Non-trainable params: 0\n",
      "_________________________________________________________________\n"
     ]
    }
   ],
   "source": [
    "import keras\n",
    "from keras.layers import Dense\n",
    "from keras.models import Sequential\n",
    "\n",
    "# hyperparameters\n",
    "learning_rate = 0.001\n",
    "batch_size = 100\n",
    "n_batches = int(mnist.train.num_examples/batch_size)\n",
    "\n",
    "# number of pixels in the MNIST image as number of inputs\n",
    "n_inputs = 784\n",
    "n_outputs = n_inputs\n",
    "\n",
    "# number of hidden layers\n",
    "n_layers = 2\n",
    "# neurons in each hidden layer\n",
    "n_neurons = [512,256]\n",
    "\n",
    "# add decoder layers:\n",
    "n_neurons.extend(list(reversed(n_neurons)))\n",
    "\n",
    "n_layers = n_layers * 2\n",
    "\n",
    "model = Sequential()\n",
    "\n",
    "# add input to first layer\n",
    "model.add(Dense(units=n_neurons[0], activation='relu', \n",
    "                input_shape=(n_inputs,)))\n",
    "\n",
    "for i in range(1,n_layers):\n",
    "    model.add(Dense(units=n_neurons[i], activation='relu'))\n",
    "    \n",
    "# add last layer to output layer\n",
    "model.add(Dense(units=n_outputs, activation='linear'))\n",
    "model.summary()\n",
    "\n",
    "model.compile(loss='mse',\n",
    "              optimizer=keras.optimizers.Adam(lr=learning_rate)\n",
    "             )"
   ]
  },
  {
   "cell_type": "code",
   "execution_count": 26,
   "metadata": {},
   "outputs": [
    {
     "name": "stdout",
     "output_type": "stream",
     "text": [
      "Epoch 1/10\n",
      "55000/55000 [==============================] - 3s 55us/step - loss: 0.0111\n",
      "Epoch 2/10\n",
      "55000/55000 [==============================] - 3s 55us/step - loss: 0.0111\n",
      "Epoch 3/10\n",
      "55000/55000 [==============================] - 3s 55us/step - loss: 0.0110\n",
      "Epoch 4/10\n",
      "55000/55000 [==============================] - 3s 54us/step - loss: 0.0110\n",
      "Epoch 5/10\n",
      "55000/55000 [==============================] - 3s 54us/step - loss: 0.0110\n",
      "Epoch 6/10\n",
      "55000/55000 [==============================] - 3s 54us/step - loss: 0.0109\n",
      "Epoch 7/10\n",
      "55000/55000 [==============================] - 3s 55us/step - loss: 0.0109\n",
      "Epoch 8/10\n",
      "55000/55000 [==============================] - 3s 54us/step - loss: 0.0109\n",
      "Epoch 9/10\n",
      "55000/55000 [==============================] - 3s 54us/step - loss: 0.0109\n",
      "Epoch 10/10\n",
      "55000/55000 [==============================] - 3s 54us/step - loss: 0.0108\n"
     ]
    },
    {
     "data": {
      "text/plain": [
       "<keras.callbacks.History at 0x7f0a02b07080>"
      ]
     },
     "execution_count": 26,
     "metadata": {},
     "output_type": "execute_result"
    }
   ],
   "source": [
    "n_epochs=10\n",
    "\n",
    "model.fit(x=X_train_noisy, y=X_train,\n",
    "                batch_size=batch_size,\n",
    "                epochs=n_epochs,\n",
    "                verbose=1)"
   ]
  },
  {
   "cell_type": "code",
   "execution_count": 27,
   "metadata": {},
   "outputs": [],
   "source": [
    "Y_test_pred1 = model.predict(test_images)\n",
    "Y_test_pred2 = model.predict(test_images_noisy)"
   ]
  },
  {
   "cell_type": "code",
   "execution_count": 28,
   "metadata": {},
   "outputs": [
    {
     "data": {
      "image/png": "[encoded data removed]",
      "text/plain": [
       "<Figure size 432x288 with 4 Axes>"
      ]
     },
     "metadata": {},
     "output_type": "display_data"
    },
    {
     "data": {
      "image/png": "[encoded data removed]",
      "text/plain": [
       "<Figure size 432x288 with 4 Axes>"
      ]
     },
     "metadata": {},
     "output_type": "display_data"
    }
   ],
   "source": [
    "display_images(test_images.reshape(-1,pixel_size,pixel_size),test_labels)\n",
    "display_images(Y_test_pred1.reshape(-1,pixel_size,pixel_size),test_labels)"
   ]
  },
  {
   "cell_type": "code",
   "execution_count": 29,
   "metadata": {},
   "outputs": [
    {
     "data": {
      "image/png": "[encoded data removed]",
      "text/plain": [
       "<Figure size 432x288 with 4 Axes>"
      ]
     },
     "metadata": {},
     "output_type": "display_data"
    },
    {
     "data": {
      "image/png": "[encoded data removed]",
      "text/plain": [
       "<Figure size 432x288 with 4 Axes>"
      ]
     },
     "metadata": {},
     "output_type": "display_data"
    }
   ],
   "source": [
    "display_images(test_images_noisy.reshape(-1,pixel_size,pixel_size),test_labels)\n",
    "display_images(Y_test_pred2.reshape(-1,pixel_size,pixel_size),test_labels)"
   ]
  },
  {
   "cell_type": "markdown",
   "metadata": {},
   "source": [
    "# Variational Autoencoder in TensorFlow"
   ]
  },
  {
   "cell_type": "code",
   "execution_count": 30,
   "metadata": {},
   "outputs": [],
   "source": [
    "tf.reset_default_graph()\n",
    "keras.backend.clear_session()"
   ]
  },
  {
   "cell_type": "code",
   "execution_count": 31,
   "metadata": {},
   "outputs": [],
   "source": [
    "# hyperparameters\n",
    "learning_rate = 0.001\n",
    "n_epochs = 20\n",
    "batch_size = 100\n",
    "n_batches = int(mnist.train.num_examples/batch_size)\n",
    "\n",
    "# number of pixels in the MNIST image as number of inputs\n",
    "n_inputs = 784\n",
    "n_outputs = n_inputs\n",
    "\n",
    "\n",
    "# define parameter ditionary\n",
    "params={}\n",
    "\n",
    "# number of hidden layers\n",
    "n_layers = 2\n",
    "# neurons in each hidden layer\n",
    "n_neurons = [512,256]  \n",
    "\n",
    "n_neurons_z = 128 # the dimensions of latent variables\n",
    "\n",
    "activation = tf.nn.tanh\n",
    "\n",
    "# input images\n",
    "x = tf.placeholder(dtype=tf.float32, name='x', shape=[None, n_inputs]) \n",
    "# output images\n",
    "y = tf.placeholder(dtype=tf.float32, name='y', shape=[None, n_outputs]) \n",
    "\n",
    "# x is input layer\n",
    "layer = x\n",
    "\n",
    "# add recognition / inference / probablistic encoder network weights, biases and layers\n",
    "\n",
    "for i in range(0,n_layers):\n",
    "    name='w_e_{0:04d}'.format(i)\n",
    "    params[name] = tf.get_variable(name=name, \n",
    "                                   shape=[n_inputs if i==0 else n_neurons[i-1],\n",
    "                                          n_neurons[i]], \n",
    "                                   initializer=tf.glorot_uniform_initializer()\n",
    "                                  )\n",
    "    name='b_e_{0:04d}'.format(i)\n",
    "    params[name] = tf.Variable(tf.zeros([n_neurons[i]]),\n",
    "                               name=name\n",
    "                              )\n",
    "\n",
    "    layer = activation(tf.matmul(layer,\n",
    "                                 params['w_e_{0:04d}'.format(i)]\n",
    "                                ) + params['b_e_{0:04d}'.format(i)]\n",
    "                      )\n",
    "\n",
    "name='w_e_z_mean'\n",
    "params[name] = tf.get_variable(name=name,\n",
    "                               shape=[n_neurons[n_layers-1], n_neurons_z],\n",
    "                               initializer=tf.glorot_uniform_initializer()\n",
    "                              )\n",
    "name='b_e_z_mean'\n",
    "params[name] = tf.Variable(tf.zeros([n_neurons_z]),\n",
    "                           name=name\n",
    "                          )\n",
    "z_mean = tf.matmul(layer, params['w_e_z_mean']) + params['b_e_z_mean']\n",
    "\n",
    "name='w_e_z_log_var'\n",
    "params[name] = tf.get_variable(name=name,\n",
    "                               shape=[n_neurons[n_layers-1], n_neurons_z],\n",
    "                               initializer=tf.glorot_uniform_initializer()\n",
    "                              )\n",
    "name='b_e_z_log_var'\n",
    "params[name] = tf.Variable(tf.zeros([n_neurons_z]),\n",
    "                     name='b_e_z_log_var'\n",
    "                    )\n",
    "\n",
    "z_log_var = tf.matmul(layer, params['w_e_z_log_var']) + params['b_e_z_log_var']\n",
    "\n",
    "# noise distribution\n",
    "epsilon = tf.random_normal(tf.shape(z_log_var), \n",
    "                           mean=0, \n",
    "                           stddev=1.0,\n",
    "                           dtype=tf.float32, \n",
    "                           name='epsilon'\n",
    "                          )\n",
    "# posterior distribution\n",
    "z = z_mean + tf.exp(z_log_var * 0.5) * epsilon     \n",
    "\n",
    "\n",
    "# add generator / probablistic decoder network weights, biases and layers\n",
    "layer = z\n",
    "\n",
    "for i in range(n_layers-1,-1,-1):\n",
    "    name='w_d_{0:04d}'.format(i)\n",
    "    params[name] = tf.get_variable(name=name, \n",
    "                                   shape=[n_neurons_z if i==n_layers-1 else n_neurons[i+1],\n",
    "                                          n_neurons[i]], \n",
    "                                   initializer=tf.glorot_uniform_initializer()\n",
    "                                  )\n",
    "    name='b_d_{0:04d}'.format(i)\n",
    "    params[name] = tf.Variable(tf.zeros([n_neurons[i]]),\n",
    "                         name=name \n",
    "                        )\n",
    "    layer = activation(tf.matmul(layer, params['w_d_{0:04d}'.format(i)]) + \n",
    "                          params['b_d_{0:04d}'.format(i)])    \n",
    "    \n",
    "    \n",
    "name='w_d_z_mean'\n",
    "params[name] = tf.get_variable(name=name,\n",
    "                               shape=[n_neurons[0],n_outputs],\n",
    "                               initializer=tf.glorot_uniform_initializer()\n",
    "                              )\n",
    "name='b_d_z_mean'\n",
    "params[name] = tf.Variable(tf.zeros([n_outputs]),\n",
    "                     name=name\n",
    "                    )\n",
    "name='w_d_z_log_var'    \n",
    "params[name] = tf.Variable(tf.random_normal([n_neurons[0],\n",
    "                                             n_outputs]),\n",
    "                           name=name\n",
    "                          )\n",
    "name='b_d_z_log_var'\n",
    "params[name] = tf.Variable(tf.zeros([n_outputs]),\n",
    "                           name=name\n",
    "                          )\n",
    "\n",
    "layer = tf.nn.sigmoid(tf.matmul(layer, params['w_d_z_mean']) + \n",
    "                          params['b_d_z_mean'])\n",
    "                        \n",
    "model = layer\n",
    "\n",
    "# loss function\n",
    "rec_loss = -tf.reduce_sum(y \n",
    "                          * tf.log(1e-10 + model) \n",
    "                          + (1-y) \n",
    "                          * tf.log(1e-10 + 1 - model),\n",
    "                          1\n",
    "                         )\n",
    "reg_loss = -0.5 * tf.reduce_sum(1 \n",
    "                                + z_log_var \n",
    "                                - tf.square(z_mean) \n",
    "                                - tf.exp(z_log_var), \n",
    "                                1\n",
    "                               )            \n",
    "loss = tf.reduce_mean(rec_loss+reg_loss)\n",
    "# optimizer function\n",
    "optimizer = tf.train.AdamOptimizer(learning_rate=learning_rate)\n",
    "optimizer = optimizer.minimize(loss)"
   ]
  },
  {
   "cell_type": "code",
   "execution_count": 32,
   "metadata": {},
   "outputs": [
    {
     "name": "stdout",
     "output_type": "stream",
     "text": [
      "epoch: 0000   loss = 178.876638\n",
      "epoch: 0009   loss = 106.966720\n",
      "epoch: 0019   loss = 103.031956\n"
     ]
    }
   ],
   "source": [
    "with tf.Session() as tfs:\n",
    "    tf.global_variables_initializer().run()\n",
    "    for epoch in range(n_epochs):\n",
    "        epoch_loss = 0.0\n",
    "        for batch in range(n_batches):\n",
    "            X_batch, _ = mnist.train.next_batch(batch_size)\n",
    "            feed_dict={x: X_batch,y: X_batch}\n",
    "            _,batch_loss = tfs.run([optimizer,loss], feed_dict=feed_dict)\n",
    "            epoch_loss += batch_loss \n",
    "        if (epoch%10==9) or (epoch==0):\n",
    "            average_loss = epoch_loss / n_batches\n",
    "            print('epoch: {0:04d}   loss = {1:0.6f}'\n",
    "                  .format(epoch,average_loss))\n",
    "\n",
    "    # predict images using autoencoder model trained            \n",
    "    Y_test_pred1 = tfs.run(model, feed_dict={x: test_images})\n",
    "    Y_test_pred2 = tfs.run(model, feed_dict={x: test_images_noisy})"
   ]
  },
  {
   "cell_type": "code",
   "execution_count": 33,
   "metadata": {},
   "outputs": [
    {
     "data": {
      "image/png": "[encoded data removed]",
      "text/plain": [
       "<Figure size 432x288 with 4 Axes>"
      ]
     },
     "metadata": {},
     "output_type": "display_data"
    },
    {
     "data": {
      "image/png": "[encoded data removed]",
      "text/plain": [
       "<Figure size 432x288 with 4 Axes>"
      ]
     },
     "metadata": {},
     "output_type": "display_data"
    }
   ],
   "source": [
    "display_images(test_images.reshape(-1,pixel_size,pixel_size),test_labels)\n",
    "display_images(Y_test_pred1.reshape(-1,pixel_size,pixel_size),test_labels)"
   ]
  },
  {
   "cell_type": "code",
   "execution_count": 34,
   "metadata": {},
   "outputs": [
    {
     "data": {
      "image/png": "[encoded data removed]",
      "text/plain": [
       "<Figure size 432x288 with 4 Axes>"
      ]
     },
     "metadata": {},
     "output_type": "display_data"
    },
    {
     "data": {
      "image/png": "[encoded data removed]",
      "text/plain": [
       "<Figure size 432x288 with 4 Axes>"
      ]
     },
     "metadata": {},
     "output_type": "display_data"
    }
   ],
   "source": [
    "display_images(test_images_noisy.reshape(-1,pixel_size,pixel_size),test_labels)\n",
    "display_images(Y_test_pred2.reshape(-1,pixel_size,pixel_size),test_labels)"
   ]
  },
  {
   "cell_type": "markdown",
   "metadata": {},
   "source": [
    "# Variational Autoencoder in Keras"
   ]
  },
  {
   "cell_type": "code",
   "execution_count": 35,
   "metadata": {},
   "outputs": [],
   "source": [
    "tf.reset_default_graph()\n",
    "keras.backend.clear_session()"
   ]
  },
  {
   "cell_type": "code",
   "execution_count": 36,
   "metadata": {},
   "outputs": [
    {
     "name": "stdout",
     "output_type": "stream",
     "text": [
      "__________________________________________________________________________________________________\n",
      "Layer (type)                    Output Shape         Param #     Connected to                     \n",
      "==================================================================================================\n",
      "input (InputLayer)              (None, 784)          0                                            \n",
      "__________________________________________________________________________________________________\n",
      "enc_0 (Dense)                   (None, 512)          401920      input[0][0]                      \n",
      "__________________________________________________________________________________________________\n",
      "enc_1 (Dense)                   (None, 256)          131328      enc_0[0][0]                      \n",
      "__________________________________________________________________________________________________\n",
      "z_mean (Dense)                  (None, 128)          32896       enc_1[0][0]                      \n",
      "__________________________________________________________________________________________________\n",
      "z_log_v (Dense)                 (None, 128)          32896       enc_1[0][0]                      \n",
      "__________________________________________________________________________________________________\n",
      "z (Lambda)                      (None, 128)          0           z_mean[0][0]                     \n",
      "                                                                 z_log_v[0][0]                    \n",
      "__________________________________________________________________________________________________\n",
      "dec_1 (Dense)                   (None, 256)          33024       z[0][0]                          \n",
      "__________________________________________________________________________________________________\n",
      "dec_0 (Dense)                   (None, 512)          131584      dec_1[0][0]                      \n",
      "__________________________________________________________________________________________________\n",
      "output (Dense)                  (None, 784)          402192      dec_0[0][0]                      \n",
      "==================================================================================================\n",
      "Total params: 1,165,840\n",
      "Trainable params: 1,165,840\n",
      "Non-trainable params: 0\n",
      "__________________________________________________________________________________________________\n"
     ]
    }
   ],
   "source": [
    "import keras\n",
    "from keras.layers import Lambda, Dense, Input, Layer\n",
    "from keras.models import Model\n",
    "from keras import backend as K\n",
    "    \n",
    "# hyperparameters\n",
    "learning_rate = 0.001\n",
    "batch_size = 100\n",
    "n_batches = int(mnist.train.num_examples/batch_size)\n",
    "\n",
    "# number of pixels in the MNIST image as number of inputs\n",
    "n_inputs = 784\n",
    "n_outputs = n_inputs\n",
    "\n",
    "# number of hidden layers\n",
    "n_layers = 2\n",
    "# neurons in each hidden layer\n",
    "n_neurons = [512,256]\n",
    "# the dimensions of latent variables\n",
    "n_neurons_z = 128 \n",
    "\n",
    "x = Input(shape=(n_inputs,), name='input')\n",
    "\n",
    "layer = x\n",
    "\n",
    "# build encoder\n",
    "for i in range(n_layers):\n",
    "    layer = Dense(units=n_neurons[i], activation='relu',name='enc_{0}'.format(i))(layer)\n",
    "\n",
    "z_mean = Dense(units=n_neurons_z,name='z_mean')(layer)\n",
    "z_log_var = Dense(units=n_neurons_z,name='z_log_v')(layer)\n",
    "\n",
    "\n",
    "# noise distribution\n",
    "epsilon = K.random_normal(shape=K.shape(z_log_var), \n",
    "                           mean=0, \n",
    "                           stddev=1.0\n",
    "                         )\n",
    "\n",
    "# posterior distribution\n",
    "#z = Lambda(z_mean + K.exp(z_log_var * 0.5) * epsilon,\n",
    "z = Lambda(lambda zargs: zargs[0] + K.exp(zargs[1] * 0.5) * epsilon,\n",
    "           name='z'\n",
    "          )([z_mean,z_log_var])\n",
    "\n",
    "# add generator / probablistic decoder network layers\n",
    "layer = z\n",
    "\n",
    "for i in range(n_layers-1,-1,-1):\n",
    "    layer = Dense(units=n_neurons[i], activation='relu',name='dec_{0}'.format(i))(layer)\n",
    "\n",
    "y_hat = Dense(units=n_outputs, activation='sigmoid',name='output')(layer)\n",
    "\n",
    "#y_hat = VAELossLayer()([x,layer])\n",
    "                        \n",
    "model = Model(x,y_hat)\n",
    "model.summary()\n",
    "\n",
    "def vae_loss(y, y_hat):\n",
    "        rec_loss = -K.sum(y * K.log(1e-10 + y_hat) + (1-y) * K.log(1e-10 + 1 - y_hat), \n",
    "                          axis=-1)\n",
    "        reg_loss = -0.5 * K.sum(1 + z_log_var - K.square(z_mean) - K.exp(z_log_var), axis=-1) \n",
    "         \n",
    "        loss = K.mean(rec_loss+reg_loss)\n",
    "        return loss\n",
    "\n",
    "model.compile(loss=vae_loss,\n",
    "              optimizer=keras.optimizers.Adam(lr=learning_rate)\n",
    "             )"
   ]
  },
  {
   "cell_type": "code",
   "execution_count": 37,
   "metadata": {},
   "outputs": [
    {
     "name": "stdout",
     "output_type": "stream",
     "text": [
      "Epoch 1/20\n",
      "55000/55000 [==============================] - 4s 82us/step - loss: 192.8264\n",
      "Epoch 2/20\n",
      "55000/55000 [==============================] - 4s 72us/step - loss: 154.7554\n",
      "Epoch 3/20\n",
      "55000/55000 [==============================] - 4s 72us/step - loss: 139.3709\n",
      "Epoch 4/20\n",
      "55000/55000 [==============================] - 4s 71us/step - loss: 131.2813\n",
      "Epoch 5/20\n",
      "55000/55000 [==============================] - 4s 71us/step - loss: 126.8474\n",
      "Epoch 6/20\n",
      "55000/55000 [==============================] - 4s 71us/step - loss: 123.7065\n",
      "Epoch 7/20\n",
      "55000/55000 [==============================] - 4s 72us/step - loss: 121.3538\n",
      "Epoch 8/20\n",
      "55000/55000 [==============================] - 4s 71us/step - loss: 119.7065\n",
      "Epoch 9/20\n",
      "55000/55000 [==============================] - 4s 71us/step - loss: 118.3558\n",
      "Epoch 10/20\n",
      "55000/55000 [==============================] - 4s 72us/step - loss: 117.2352\n",
      "Epoch 11/20\n",
      "55000/55000 [==============================] - 4s 71us/step - loss: 116.0927\n",
      "Epoch 12/20\n",
      "55000/55000 [==============================] - 4s 71us/step - loss: 115.2053\n",
      "Epoch 13/20\n",
      "55000/55000 [==============================] - 4s 71us/step - loss: 114.4673\n",
      "Epoch 14/20\n",
      "55000/55000 [==============================] - 4s 71us/step - loss: 113.7341\n",
      "Epoch 15/20\n",
      "55000/55000 [==============================] - 4s 73us/step - loss: 113.0923\n",
      "Epoch 16/20\n",
      "55000/55000 [==============================] - 4s 71us/step - loss: 112.5982\n",
      "Epoch 17/20\n",
      "55000/55000 [==============================] - 4s 71us/step - loss: 112.1181\n",
      "Epoch 18/20\n",
      "55000/55000 [==============================] - 4s 71us/step - loss: 111.6516\n",
      "Epoch 19/20\n",
      "55000/55000 [==============================] - 4s 71us/step - loss: 111.2728\n",
      "Epoch 20/20\n",
      "55000/55000 [==============================] - 4s 71us/step - loss: 110.8445\n"
     ]
    }
   ],
   "source": [
    "n_epochs=20\n",
    "\n",
    "model.fit(x=X_train_noisy, y=X_train,\n",
    "                batch_size=batch_size,\n",
    "                epochs=n_epochs,\n",
    "                verbose=1)\n",
    "\n",
    "Y_test_pred1 = model.predict(test_images)\n",
    "Y_test_pred2 = model.predict(test_images_noisy)"
   ]
  },
  {
   "cell_type": "code",
   "execution_count": 38,
   "metadata": {},
   "outputs": [
    {
     "data": {
      "image/png": "[encoded data removed]",
      "text/plain": [
       "<Figure size 432x288 with 4 Axes>"
      ]
     },
     "metadata": {},
     "output_type": "display_data"
    },
    {
     "data": {
      "image/png": "[encoded data removed]",
      "text/plain": [
       "<Figure size 432x288 with 4 Axes>"
      ]
     },
     "metadata": {},
     "output_type": "display_data"
    }
   ],
   "source": [
    "display_images(test_images.reshape(-1,pixel_size,pixel_size),test_labels)\n",
    "display_images(Y_test_pred1.reshape(-1,pixel_size,pixel_size),test_labels)"
   ]
  },
  {
   "cell_type": "code",
   "execution_count": 39,
   "metadata": {},
   "outputs": [
    {
     "data": {
      "image/png": "[encoded data removed]",
      "text/plain": [
       "<Figure size 432x288 with 4 Axes>"
      ]
     },
     "metadata": {},
     "output_type": "display_data"
    },
    {
     "data": {
      "image/png": "[encoded data removed]",
      "text/plain": [
       "<Figure size 432x288 with 4 Axes>"
      ]
     },
     "metadata": {},
     "output_type": "display_data"
    }
   ],
   "source": [
    "display_images(test_images_noisy.reshape(-1,pixel_size,pixel_size),test_labels)\n",
    "display_images(Y_test_pred2.reshape(-1,pixel_size,pixel_size),test_labels)"
   ]
  },
  {
   "cell_type": "code",
   "execution_count": 40,
   "metadata": {},
   "outputs": [],
   "source": [
    "encoder=Model(x,z_mean)\n",
    "decoder_input = Input(shape=(n_neurons_z,))\n",
    "decoder_layer = decoder_input\n",
    "for i in range(n_layers-1,-1,-1):\n",
    "    decoder_layer = model.get_layer('dec_{0}'.format(i))(decoder_layer)\n",
    "\n",
    "y_decoded = model.get_layer('output')(decoder_layer)\n",
    "generator = Model(decoder_input,y_decoded)"
   ]
  },
  {
   "cell_type": "code",
   "execution_count": null,
   "metadata": {},
   "outputs": [],
   "source": []
  }
 ],
 "metadata": {
  "kernelspec": {
   "display_name": "Environment (conda_tensorflow_p36)",
   "language": "python",
   "name": "conda_tensorflow_p36"
  },
  "language_info": {
   "codemirror_mode": {
    "name": "ipython",
    "version": 3
   },
   "file_extension": ".py",
   "mimetype": "text/x-python",
   "name": "python",
   "nbconvert_exporter": "python",
   "pygments_lexer": "ipython3",
   "version": "3.6.5"
  },
  "toc": {
   "nav_menu": {},
   "number_sections": true,
   "sideBar": true,
   "skip_h1_title": true,
   "toc_cell": true,
   "toc_position": {},
   "toc_section_display": "block",
   "toc_window_display": true
  }
 },
 "nbformat": 4,
 "nbformat_minor": 2
}
