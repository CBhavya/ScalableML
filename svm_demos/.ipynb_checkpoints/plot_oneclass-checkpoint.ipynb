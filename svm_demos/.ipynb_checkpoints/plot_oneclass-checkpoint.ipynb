{
 "cells": [
  {
   "cell_type": "code",
   "execution_count": 1,
   "metadata": {},
   "outputs": [
    {
     "name": "stdout",
     "output_type": "stream",
     "text": [
      "\n",
      "==========================================\n",
      "One-class SVM with non-linear kernel (RBF)\n",
      "==========================================\n",
      "An example using a one-class SVM for novelty detection.\n",
      ":ref:`One-class SVM <svm_outlier_detection>` is an unsupervised\n",
      "algorithm that learns a decision function for novelty detection:\n",
      "classifying new data as similar or different to the training set.\n",
      "\n"
     ]
    }
   ],
   "source": [
    "\"\"\"\n",
    "==========================================\n",
    "One-class SVM with non-linear kernel (RBF)\n",
    "==========================================\n",
    "An example using a one-class SVM for novelty detection.\n",
    ":ref:`One-class SVM <svm_outlier_detection>` is an unsupervised\n",
    "algorithm that learns a decision function for novelty detection:\n",
    "classifying new data as similar or different to the training set.\n",
    "\"\"\"\n",
    "print(__doc__)\n",
    "\n"
   ]
  },
  {
   "cell_type": "code",
   "execution_count": null,
   "metadata": {},
   "outputs": [],
   "source": []
  }
 ],
 "metadata": {
  "kernelspec": {
   "display_name": "Environment (conda_python3)",
   "language": "python",
   "name": "conda_python3"
  },
  "language_info": {
   "codemirror_mode": {
    "name": "ipython",
    "version": 3
   },
   "file_extension": ".py",
   "mimetype": "text/x-python",
   "name": "python",
   "nbconvert_exporter": "python",
   "pygments_lexer": "ipython3",
   "version": "3.6.5"
  }
 },
 "nbformat": 4,
 "nbformat_minor": 2
}
